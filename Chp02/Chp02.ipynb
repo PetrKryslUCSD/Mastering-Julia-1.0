{
 "cells": [
  {
   "cell_type": "code",
   "execution_count": 1,
   "metadata": {},
   "outputs": [
    {
     "data": {
      "text/html": [
       "<link href='http://fonts.googleapis.com/css?family=Alegreya+Sans:100,300,400,500,700,800,900,100italic,300italic,400italic,500italic,700italic,800italic,900italic' rel='stylesheet' type='text/css'>\r\n",
       "<link href='http://fonts.googleapis.com/css?family=Arvo:400,700,400italic' rel='stylesheet' type='text/css'>\r\n",
       "<link href='http://fonts.googleapis.com/css?family=PT+Mono' rel='stylesheet' type='text/css'>\r\n",
       "<link href='http://fonts.googleapis.com/css?family=Shadows+Into+Light' rel='stylesheet' type='text/css'>\r\n",
       "<link href='http://fonts.googleapis.com/css?family=Philosopher:400,700,400italic,700italic' rel='stylesheet' type='text/css'>\r\n",
       "\r\n",
       "<style>\r\n",
       "\r\n",
       "@font-face {\r\n",
       "    font-family: \"Computer Modern\";\r\n",
       "    src: url('http://mirrors.ctan.org/fonts/cm-unicode/fonts/otf/cmunss.otf');\r\n",
       "}\r\n",
       "\r\n",
       "\r\n",
       "\r\n",
       "/* Formatting for header cells */\r\n",
       ".text_cell_render h1 {\r\n",
       "    font-family: 'Philosopher', sans-serif;\r\n",
       "    font-weight: 400;\r\n",
       "    font-size: 2.4em;\r\n",
       "    line-height: 100%;\r\n",
       "    color: rgb(160, 20 80);\r\n",
       "    margin-bottom: 0.1em;\r\n",
       "    margin-top: 0.1em;\r\n",
       "    display: block;\r\n",
       "}\t\r\n",
       ".text_cell_render h2 {\r\n",
       "    font-family: 'Philosopher', serif;\r\n",
       "    font-weight: 400;\r\n",
       "    font-size: 1.9em;\r\n",
       "    line-height: 100%;\r\n",
       "    color: rgb(200,100,0);\r\n",
       "    margin-bottom: 0.1em;\r\n",
       "    margin-top: 0.1em;\r\n",
       "    display: block;\r\n",
       "}\t\r\n",
       "\r\n",
       ".text_cell_render h3 {\r\n",
       "    font-family: 'Philosopher', serif;\r\n",
       "    margin-top:12px;\r\n",
       "    margin-bottom: 3px;\r\n",
       "    font-size: 1.6em;\r\n",
       "    font-style: italic;\r\n",
       "    color: rgb(94,127,192);\r\n",
       "}\r\n",
       "\r\n",
       ".text_cell_render h4 {\r\n",
       "    font-family: 'Philosopher', serif;\r\n",
       "}\r\n",
       "\r\n",
       ".text_cell_render h5 {\r\n",
       "    font-family: 'Alegreya Sans', sans-serif;\r\n",
       "    font-weight: 300;\r\n",
       "    font-size: 16pt;\r\n",
       "    color: grey;\r\n",
       "    font-style: italic;\r\n",
       "    margin-bottom: .1em;\r\n",
       "    margin-top: 0.1em;\r\n",
       "    display: block;\r\n",
       "}\r\n",
       "\r\n",
       ".text_cell_render h6 {\r\n",
       "    font-family: 'PT Mono', sans-serif;\r\n",
       "    font-weight: 300;\r\n",
       "    font-size: 10pt;\r\n",
       "    color: grey;\r\n",
       "    margin-bottom: 1px;\r\n",
       "    margin-top: 1px;\r\n",
       "}\r\n",
       "\r\n",
       ".CodeMirror{\r\n",
       "        font-family: \"PT Mono\";\r\n",
       "        font-size: 100%;\r\n",
       "}\r\n",
       "\r\n",
       "body, p, li {\r\n",
       "    font-size: 1.3em;\r\n",
       "  }\r\n",
       "</style>\r\n",
       "\r\n"
      ],
      "text/plain": [
       "HTML{String}(\"<link href='http://fonts.googleapis.com/css?family=Alegreya+Sans:100,300,400,500,700,800,900,100italic,300italic,400italic,500italic,700italic,800italic,900italic' rel='stylesheet' type='text/css'>\\r\\n<link href='http://fonts.googleapis.com/css?family=Arvo:400,700,400italic' rel='stylesheet' type='text/css'>\\r\\n<link href='http://fonts.googleapis.com/css?family=PT+Mono' rel='stylesheet' type='text/css'>\\r\\n<link href='http://fonts.googleapis.com/css?family=Shadows+Into+Light' rel='stylesheet' type='text/css'>\\r\\n<link href='http://fonts.googleapis.com/css?family=Philosopher:400,700,400italic,700italic' rel='stylesheet' type='text/css'>\\r\\n\\r\\n<style>\\r\\n\\r\\n@font-face {\\r\\n    font-family: \\\"Computer Modern\\\";\\r\\n    src: url('http://mirrors.ctan.org/fonts/cm-unicode/fonts/otf/cmunss.otf');\\r\\n}\\r\\n\\r\\n\\r\\n\\r\\n/* Formatting for header cells */\\r\\n.text_cell_render h1 {\\r\\n    font-family: 'Philosopher', sans-serif;\\r\\n    font-weight: 400;\\r\\n    font-size: 2.4em;\\r\\n    line-height: 100%;\\r\\n    color: rgb(160, 20 80);\\r\\n    margin-bottom: 0.1em;\\r\\n    margin-top: 0.1em;\\r\\n    display: block;\\r\\n}\\t\\r\\n.text_cell_render h2 {\\r\\n    font-family: 'Philosopher', serif;\\r\\n    font-weight: 400;\\r\\n    font-size: 1.9em;\\r\\n    line-height: 100%;\\r\\n    color: rgb(200,100,0);\\r\\n    margin-bottom: 0.1em;\\r\\n    margin-top: 0.1em;\\r\\n    display: block;\\r\\n}\\t\\r\\n\\r\\n.text_cell_render h3 {\\r\\n    font-family: 'Philosopher', serif;\\r\\n    margin-top:12px;\\r\\n    margin-bottom: 3px;\\r\\n    font-size: 1.6em;\\r\\n    font-style: italic;\\r\\n    color: rgb(94,127,192);\\r\\n}\\r\\n\\r\\n.text_cell_render h4 {\\r\\n    font-family: 'Philosopher', serif;\\r\\n}\\r\\n\\r\\n.text_cell_render h5 {\\r\\n    font-family: 'Alegreya Sans', sans-serif;\\r\\n    font-weight: 300;\\r\\n    font-size: 16pt;\\r\\n    color: grey;\\r\\n    font-style: italic;\\r\\n    margin-bottom: .1em;\\r\\n    margin-top: 0.1em;\\r\\n    display: block;\\r\\n}\\r\\n\\r\\n.text_cell_render h6 {\\r\\n    font-family: 'PT Mono', sans-serif;\\r\\n    font-weight: 300;\\r\\n    font-size: 10pt;\\r\\n    color: grey;\\r\\n    margin-bottom: 1px;\\r\\n    margin-top: 1px;\\r\\n}\\r\\n\\r\\n.CodeMirror{\\r\\n        font-family: \\\"PT Mono\\\";\\r\\n        font-size: 100%;\\r\\n}\\r\\n\\r\\nbody, p, li {\\r\\n    font-size: 1.3em;\\r\\n  }\\r\\n</style>\\r\\n\\r\\n\")"
      ]
     },
     "execution_count": 1,
     "metadata": {},
     "output_type": "execute_result"
    }
   ],
   "source": [
    "HTML(\"$styl\")"
   ]
  },
  {
   "cell_type": "markdown",
   "metadata": {},
   "source": [
    "# Chapter 2"
   ]
  },
  {
   "cell_type": "code",
   "execution_count": 1,
   "metadata": {
    "collapsed": true
   },
   "outputs": [],
   "source": [
    "# We need these as some functions have moved from Base to Stdlib\n",
    "#\n",
    "using Printf, SpecialFunctions, LinearAlgebra"
   ]
  },
  {
   "cell_type": "markdown",
   "metadata": {},
   "source": [
    "### Arithmetic data types"
   ]
  },
  {
   "cell_type": "code",
   "execution_count": 2,
   "metadata": {},
   "outputs": [
    {
     "data": {
      "text/plain": [
       "Int64"
      ]
     },
     "execution_count": 2,
     "metadata": {},
     "output_type": "execute_result"
    }
   ],
   "source": [
    "x = 2;   typeof(x)"
   ]
  },
  {
   "cell_type": "code",
   "execution_count": 3,
   "metadata": {},
   "outputs": [
    {
     "data": {
      "text/plain": [
       "Float64"
      ]
     },
     "execution_count": 3,
     "metadata": {},
     "output_type": "execute_result"
    }
   ],
   "source": [
    "x = 2.0;  typeof(x)"
   ]
  },
  {
   "cell_type": "code",
   "execution_count": 4,
   "metadata": {},
   "outputs": [
    {
     "ename": "AssertionError",
     "evalue": "AssertionError: x0 == x1",
     "output_type": "error",
     "traceback": [
      "AssertionError: x0 == x1",
      "",
      "Stacktrace:",
      " [1] top-level scope at In[4]:3"
     ]
    }
   ],
   "source": [
    "x0 = 2^65\n",
    "x1 = big(2)^65\n",
    "@assert x0 == x1"
   ]
  },
  {
   "cell_type": "code",
   "execution_count": 5,
   "metadata": {},
   "outputs": [
    {
     "name": "stdout",
     "output_type": "stream",
     "text": [
      "   Int8: [-128,127]\n",
      "  Int16: [-32768,32767]\n",
      "  Int32: [-2147483648,2147483647]\n",
      "  Int64: [-9223372036854775808,9223372036854775807]\n",
      " Int128: [-170141183460469231731687303715884105728,170141183460469231731687303715884105727]\n",
      "  UInt8: [0,255]\n",
      " UInt16: [0,65535]\n",
      " UInt32: [0,4294967295]\n",
      " UInt64: [0,18446744073709551615]\n",
      "UInt128: [0,340282366920938463463374607431768211455]\n"
     ]
    }
   ],
   "source": [
    "for T = Any[Int8,Int16,Int32,Int64,Int128,UInt8,UInt16,UInt32,UInt64,UInt128]\n",
    "    println(\"$(lpad(T,7)): [$(typemin(T)),$(typemax(T))]\")\n",
    "end"
   ]
  },
  {
   "cell_type": "markdown",
   "metadata": {},
   "source": [
    "### Logical and Bit datatypes"
   ]
  },
  {
   "cell_type": "code",
   "execution_count": 6,
   "metadata": {},
   "outputs": [
    {
     "data": {
      "text/plain": [
       "0x116e"
      ]
     },
     "execution_count": 6,
     "metadata": {},
     "output_type": "execute_result"
    }
   ],
   "source": [
    "x = 0xbb31; y = 0xaa5f;  xor(x,y)"
   ]
  },
  {
   "cell_type": "code",
   "execution_count": 7,
   "metadata": {},
   "outputs": [
    {
     "data": {
      "text/plain": [
       "0x3100"
      ]
     },
     "execution_count": 7,
     "metadata": {},
     "output_type": "execute_result"
    }
   ],
   "source": [
    "x = 0xbb31;  x << 8"
   ]
  },
  {
   "cell_type": "code",
   "execution_count": 8,
   "metadata": {},
   "outputs": [
    {
     "data": {
      "text/plain": [
       "0xbb32"
      ]
     },
     "execution_count": 8,
     "metadata": {},
     "output_type": "execute_result"
    }
   ],
   "source": [
    "x = 0xbb31; p = (2 < 3); x + p"
   ]
  },
  {
   "cell_type": "markdown",
   "metadata": {},
   "source": [
    "### Arrays"
   ]
  },
  {
   "cell_type": "code",
   "execution_count": 9,
   "metadata": {},
   "outputs": [
    {
     "data": {
      "text/plain": [
       "50.53333333333333"
      ]
     },
     "execution_count": 9,
     "metadata": {},
     "output_type": "execute_result"
    }
   ],
   "source": [
    "# v1.0 requires the Statistics module for mean(), std() etc.\n",
    "#\n",
    "using Statistics\n",
    "\n",
    "# Mean of 15 random numbers in range 0:100\n",
    "#\n",
    "A = rand(0:100,15)\n",
    "mean(A)"
   ]
  },
  {
   "cell_type": "code",
   "execution_count": 10,
   "metadata": {},
   "outputs": [
    {
     "data": {
      "text/plain": [
       "(Int64, (15,))"
      ]
     },
     "execution_count": 10,
     "metadata": {},
     "output_type": "execute_result"
    }
   ],
   "source": [
    "# Create an empty array, note new syntax\n",
    "# 'undef' will not initialise the elements\n",
    "#\n",
    "A = Array{Int64,1}(undef, 15)\n",
    "\n",
    "# Verify: Tuple of the element type and the dimension sizes\n",
    "#\n",
    "(eltype(A),size(A))"
   ]
  },
  {
   "cell_type": "code",
   "execution_count": 11,
   "metadata": {},
   "outputs": [
    {
     "data": {
      "text/plain": [
       "13-element Array{Int64,1}:\n",
       "   2\n",
       "   3\n",
       "   5\n",
       "   8\n",
       "  13\n",
       "  21\n",
       "  34\n",
       "  55\n",
       "  89\n",
       " 144\n",
       " 233\n",
       " 377\n",
       " 610"
      ]
     },
     "execution_count": 11,
     "metadata": {},
     "output_type": "execute_result"
    }
   ],
   "source": [
    "# Fill array A with the first 15 Fibonnaci series\n",
    "#\n",
    "A[1] = 1\n",
    "A[2] = 1\n",
    "[A[i] = A[i-1] + A[i-2] for i = 3:length(A)]"
   ]
  },
  {
   "cell_type": "markdown",
   "metadata": {},
   "source": [
    "### Factorials"
   ]
  },
  {
   "cell_type": "code",
   "execution_count": 12,
   "metadata": {},
   "outputs": [
    {
     "data": {
      "text/plain": [
       "fac (generic function with 1 method)"
      ]
     },
     "execution_count": 12,
     "metadata": {},
     "output_type": "execute_result"
    }
   ],
   "source": [
    "# The 'recursive' definition of factorial function\n",
    "# A simple loop is much quicker\n",
    "#\n",
    "function fac(n::Integer)\n",
    "  @assert n > 0\n",
    "  (n == 1) ? 1 : n*fac(n-1)\n",
    "end"
   ]
  },
  {
   "cell_type": "code",
   "execution_count": 13,
   "metadata": {},
   "outputs": [
    {
     "name": "stdout",
     "output_type": "stream",
     "text": [
      "  1 : 1 \n",
      "  2 : 2 \n",
      "  3 : 6 \n",
      "  4 : 24 \n",
      "  5 : 120 \n",
      "  6 : 720 \n",
      "  7 : 5040 \n",
      "  8 : 40320 \n",
      "  9 : 362880 \n",
      " 10 : 3628800 \n",
      " 11 : 39916800 \n",
      " 12 : 479001600 \n",
      " 13 : 6227020800 \n",
      " 14 : 87178291200 \n",
      " 15 : 1307674368000 \n",
      " 16 : 20922789888000 \n",
      " 17 : 355687428096000 \n",
      " 18 : 6402373705728000 \n",
      " 19 : 121645100408832000 \n",
      " 20 : 2432902008176640000 \n",
      " 21 : -4249290049419214848 \n",
      " 22 : -1250660718674968576 \n",
      " 23 : 8128291617894825984 \n",
      " 24 : -7835185981329244160 \n",
      " 25 : 7034535277573963776 \n",
      " 26 : -1569523520172457984 \n",
      " 27 : -5483646897237262336 \n",
      " 28 : -5968160532966932480 \n",
      " 29 : -7055958792655077376 \n",
      " 30 : -8764578968847253504 \n"
     ]
    }
   ],
   "source": [
    "# This has difficulties with integer overflow\n",
    "# We now need the Printf module to use the @printf macro\n",
    "#\n",
    "using Printf\n",
    "for i = 1:30\n",
    "  @printf \"%3d : %d \\n\" i fac(i)\n",
    "end"
   ]
  },
  {
   "cell_type": "code",
   "execution_count": 14,
   "metadata": {},
   "outputs": [
    {
     "data": {
      "text/plain": [
       "265252859812191058636308480000000"
      ]
     },
     "execution_count": 14,
     "metadata": {},
     "output_type": "execute_result"
    }
   ],
   "source": [
    "# But since a BigInt <: Integer if we pass a BigInt the reoutine returns one\n",
    "#\n",
    "fac(big(30))\n"
   ]
  },
  {
   "cell_type": "code",
   "execution_count": 15,
   "metadata": {},
   "outputs": [
    {
     "data": {
      "text/plain": [
       "\"/Applications/Julia-1.0.app/Contents/Resources/julia/share/julia/stdlib/v1.0\""
      ]
     },
     "execution_count": 15,
     "metadata": {},
     "output_type": "execute_result"
    }
   ],
   "source": [
    "# Find stdlib, location is O/S dependent\n",
    "\n",
    "cd(Sys.BINDIR)\n",
    "cd(\"../share/julia/stdlib/v1.0\")\n",
    "pwd()"
   ]
  },
  {
   "cell_type": "code",
   "execution_count": 16,
   "metadata": {},
   "outputs": [
    {
     "data": {
      "text/plain": [
       "2.6525285981219107e32"
      ]
     },
     "execution_count": 16,
     "metadata": {},
     "output_type": "execute_result"
    }
   ],
   "source": [
    "# We can check this using the gamma function\n",
    "# Again we need a module (SpecialFunctions)\n",
    "#\n",
    "using SpecialFunctions\n",
    "gamma(31)     # Γ(n+1)  <=>  n!"
   ]
  },
  {
   "cell_type": "code",
   "execution_count": 17,
   "metadata": {},
   "outputs": [
    {
     "name": "stdout",
     "output_type": "stream",
     "text": [
      "  0.130347 seconds (275.74 k allocations: 14.057 MiB)\n"
     ]
    },
    {
     "data": {
      "text/plain": [
       "10322493151921465164081017511444523549144957788957729070658850054871632028467255601190963314928373192348001901396930189622367360453148777593779130493841936873495349332423413459470518031076600468677681086479354644916620480632630350145970538235260826120203515476630017152557002993632050731959317164706296917171625287200618560036028326143938282329483693985566225033103398611546364400484246579470387915281737632989645795534475998050620039413447425490893877731061666015468384131920640823824733578473025588407103553854530737735183050931478983505845362197959913863770041359352031682005647007823330600995250982455385703739491695583970372977196372367980241040180516191489137558020294105537577853569647066137370488100581103217089054291400441697731894590238418118698720784367447615471616000000000000000000000000000000000000000000000000000000000000000000000000000000000000000000000000000"
      ]
     },
     "execution_count": 17,
     "metadata": {},
     "output_type": "execute_result"
    }
   ],
   "source": [
    "# This non-recursive one liner works!\n",
    "# Note that this returns a BigInt regardless of the input\n",
    "#\n",
    "fac(N::Integer) = \n",
    "  (N < 1) ? throw(ArgumentError(\"N must be positive\")) : reduce(*,big.(collect(1:N)))\n",
    "\n",
    "@time(fac(402))"
   ]
  },
  {
   "cell_type": "code",
   "execution_count": 18,
   "metadata": {},
   "outputs": [
    {
     "data": {
      "text/plain": [
       "1.032249315192146516408101751144452354914495778895772907065885005487163202846731e+874"
      ]
     },
     "execution_count": 18,
     "metadata": {},
     "output_type": "execute_result"
    }
   ],
   "source": [
    "gamma(big(403.0))"
   ]
  },
  {
   "cell_type": "markdown",
   "metadata": {},
   "source": [
    "---"
   ]
  },
  {
   "cell_type": "markdown",
   "metadata": {},
   "source": [
    "### Other methods for generating Fibonacci numbers"
   ]
  },
  {
   "cell_type": "code",
   "execution_count": 19,
   "metadata": {},
   "outputs": [
    {
     "name": "stdout",
     "output_type": "stream",
     "text": [
      "  0.008928 seconds (6.32 k allocations: 352.054 KiB)\n"
     ]
    },
    {
     "data": {
      "text/plain": [
       "610"
      ]
     },
     "execution_count": 19,
     "metadata": {},
     "output_type": "execute_result"
    }
   ],
   "source": [
    "# The 'standard' recursive definition\n",
    "\n",
    "function fib(k::Integer)\n",
    "  @assert k > 0\n",
    "  (k < 3) ? 1 : fib(k-1) + fib(k-2)\n",
    "end\n",
    "\n",
    "@time fib(15)"
   ]
  },
  {
   "cell_type": "code",
   "execution_count": 20,
   "metadata": {},
   "outputs": [
    {
     "name": "stdout",
     "output_type": "stream",
     "text": [
      "  0.070079 seconds (115.29 k allocations: 5.722 MiB)\n"
     ]
    },
    {
     "data": {
      "text/plain": [
       "284812298108489611757988937681460995615380088782304890986477195645969271404032323901"
      ]
     },
     "execution_count": 20,
     "metadata": {},
     "output_type": "execute_result"
    }
   ],
   "source": [
    "# A better version\n",
    "\n",
    "function fib(n::Integer)\n",
    "  @assert n > 0\n",
    "  a = Array{typeof(n),1}(undef,n)\n",
    "  a[1] = 0\n",
    "  a[2] = 1\n",
    "  for i = 3:n\n",
    "    a[i] = a[i-1] + a[i-2]\n",
    "  end\n",
    "  return a[n]\n",
    "end\n",
    "\n",
    "@time(fib(big(402)))\n"
   ]
  },
  {
   "cell_type": "code",
   "execution_count": 21,
   "metadata": {},
   "outputs": [
    {
     "data": {
      "text/plain": [
       "fib (generic function with 1 method)"
      ]
     },
     "execution_count": 21,
     "metadata": {},
     "output_type": "execute_result"
    }
   ],
   "source": [
    "# A still better version\n",
    "# This requires no array storage\n",
    "\n",
    "function fib(n::Integer)\n",
    "  @assert n > 0\n",
    "  (a, b) = (big(0), big(1))\n",
    "  while n > 0\n",
    "    (a, b) = (b, a+b)\n",
    "    n -= 1\n",
    "  end\n",
    "  return a\n",
    "end\n"
   ]
  },
  {
   "cell_type": "code",
   "execution_count": 22,
   "metadata": {},
   "outputs": [
    {
     "name": "stdout",
     "output_type": "stream",
     "text": [
      "1.618033988749895"
     ]
    }
   ],
   "source": [
    "# Golden ratio\n",
    "\n",
    "@printf \"%.15f\" fib(101)/fib(100)\n"
   ]
  },
  {
   "cell_type": "code",
   "execution_count": 23,
   "metadata": {},
   "outputs": [
    {
     "data": {
      "text/plain": [
       "1.618033988749895"
      ]
     },
     "execution_count": 23,
     "metadata": {},
     "output_type": "execute_result"
    }
   ],
   "source": [
    "# Check with the actual value\n",
    "\n",
    "γ = (1.0 + sqrt(5.0))/2.0"
   ]
  },
  {
   "cell_type": "markdown",
   "metadata": {},
   "source": [
    "### Bulls and Cows\n",
    "\n",
    "- This takes input from Standard Input (stdin)\n",
    "- It does not run well within a Jupyter cell\n",
    "- Better to cut-n-paste it into a terminal running a Julia REPL"
   ]
  },
  {
   "cell_type": "code",
   "execution_count": null,
   "metadata": {
    "collapsed": true
   },
   "outputs": [],
   "source": [
    "using Random # stdlib module needed for srand() => seed!()\n",
    "#\n",
    "tm = round(time());\n",
    "seed = convert(Int64,tm);\n",
    "Random.seed!(seed);"
   ]
  },
  {
   "cell_type": "code",
   "execution_count": null,
   "metadata": {
    "collapsed": true
   },
   "outputs": [],
   "source": [
    "function bacs()\n",
    "         bulls = cows = turns = 0\n",
    "         a = Any[]\n",
    "         while length(unique(a)) < 4 \n",
    "           push!(a,rand('0':'9'))\n",
    "         end\n",
    "         my_guess = unique(a)\n",
    "         println(\"Bulls and Cows\")\n",
    "         while (bulls != 4)\n",
    "           print(\"Guess? > \")\n",
    "           s = chomp(readline(stdin))\n",
    "           if (s == \"q\")\n",
    "             print(\"My guess was \"); [print(my_guess[i]) for i=1:4]\n",
    "             return\n",
    "           end\n",
    "           guess = collect(s)\n",
    "           if !(length(unique(guess)) == length(guess) == 4 && all(isdigit,guess))\n",
    "             print(\"\\nEnter four distinct digits or q to quit: \")\n",
    "             continue\n",
    "           end\n",
    "           bulls = sum(map(==, guess, my_guess))\n",
    "           cows = length(intersect(guess,my_guess)) - bulls\n",
    "           println(\"$bulls bulls and $cows cows!\")\n",
    "           turns += 1\n",
    "         end\n",
    "         println(\"\\nYou guessed my number in $turns turns.\")\n",
    "       end"
   ]
  },
  {
   "cell_type": "code",
   "execution_count": null,
   "metadata": {
    "collapsed": true
   },
   "outputs": [],
   "source": [
    "bacs()\n"
   ]
  },
  {
   "cell_type": "markdown",
   "metadata": {},
   "source": [
    "---"
   ]
  },
  {
   "cell_type": "markdown",
   "metadata": {},
   "source": [
    "### Cat and Mouse "
   ]
  },
  {
   "cell_type": "code",
   "execution_count": 31,
   "metadata": {},
   "outputs": [
    {
     "data": {
      "text/plain": [
       "\"/Users/malcolm\""
      ]
     },
     "execution_count": 31,
     "metadata": {},
     "output_type": "execute_result"
    }
   ],
   "source": [
    "# The matrix file is in Files subdirectory\n",
    "# Check we are at the correct location\n",
    "#\n",
    "cd() # Change as needed\n",
    "pwd()"
   ]
  },
  {
   "cell_type": "code",
   "execution_count": 32,
   "metadata": {},
   "outputs": [
    {
     "data": {
      "text/plain": [
       "16"
      ]
     },
     "execution_count": 32,
     "metadata": {},
     "output_type": "execute_result"
    }
   ],
   "source": [
    "#http://en.wikipedia.org/wiki/Stochastic_matrix\n",
    "#\n",
    "# Create stochastic matrix and write to disk\n",
    "#\n",
    "open(\"./cm3.txt\",\"w\") do f\n",
    "  write(f,\"0.0,0.0,0.5,0.0\\n\")\n",
    "  write(f,\"0.0,0.0,1.0,0.0\\n\")\n",
    "  write(f,\"0.25,0.25,0.0,0.25\\n\")\n",
    "  write(f,\"0.0,0.0,0.5,0.0\\n\")\n",
    "end"
   ]
  },
  {
   "cell_type": "code",
   "execution_count": 33,
   "metadata": {
    "collapsed": true
   },
   "outputs": [],
   "source": [
    "using DelimitedFiles\n",
    "\n",
    "I = zeros(4,4);\n",
    "[I[i,i] = 1 for i in 1:4];"
   ]
  },
  {
   "cell_type": "code",
   "execution_count": 34,
   "metadata": {},
   "outputs": [
    {
     "data": {
      "text/plain": [
       "4×4 Array{Float64,2}:\n",
       " 0.0   0.0   0.5  0.0 \n",
       " 0.0   0.0   1.0  0.0 \n",
       " 0.25  0.25  0.0  0.25\n",
       " 0.0   0.0   0.5  0.0 "
      ]
     },
     "execution_count": 34,
     "metadata": {},
     "output_type": "execute_result"
    }
   ],
   "source": [
    "f = open(\"./cm3.txt\",\"r\")\n",
    "T = readdlm(f,',');\n",
    "close(f);\n",
    "\n",
    "T"
   ]
  },
  {
   "cell_type": "code",
   "execution_count": 35,
   "metadata": {},
   "outputs": [
    {
     "name": "stdout",
     "output_type": "stream",
     "text": [
      "Expected lifetime for the mouse is 4.5 hops.\n"
     ]
    }
   ],
   "source": [
    "Ep = [0 1 0 0]*inv(I - T)*[1,1,1,1];\n",
    "\n",
    "println(\"Expected lifetime for the mouse is $(Ep[1]) hops.\")"
   ]
  },
  {
   "cell_type": "markdown",
   "metadata": {
    "collapsed": true
   },
   "source": [
    "---"
   ]
  },
  {
   "cell_type": "markdown",
   "metadata": {},
   "source": [
    "### Norms\n",
    "\n",
    "_There is more than one way to skin a cat_ "
   ]
  },
  {
   "cell_type": "code",
   "execution_count": 37,
   "metadata": {},
   "outputs": [
    {
     "name": "stdout",
     "output_type": "stream",
     "text": [
      "  1.915907 seconds (7 allocations: 762.940 MiB, 9.47% gc time)\n"
     ]
    },
    {
     "data": {
      "text/plain": [
       "10000.005742266525"
      ]
     },
     "execution_count": 37,
     "metadata": {},
     "output_type": "execute_result"
    }
   ],
   "source": [
    "# Look at different definitions of the norm function\n",
    "# For a Gaussian distribution of size N we should expect the answer ~= √N\n",
    "# The first call f1(1) is to run in the function and not affect the timing\n",
    "# This version uses the function in the stdlib LinearAlgebra module\n",
    "\n",
    "using LinearAlgebra\n",
    "\n",
    "f1(n) = norm(randn(n))\n",
    "f1(10);\n",
    "@time f1(100_000_000)\n"
   ]
  },
  {
   "cell_type": "code",
   "execution_count": 38,
   "metadata": {},
   "outputs": [
    {
     "name": "stdout",
     "output_type": "stream",
     "text": [
      "  1.588672 seconds (7 allocations: 762.940 MiB, 8.36% gc time)\n"
     ]
    },
    {
     "data": {
      "text/plain": [
       "9999.231985665401"
      ]
     },
     "execution_count": 38,
     "metadata": {},
     "output_type": "execute_result"
    }
   ],
   "source": [
    "# We can get the same result using a mapreduce procedure\n",
    "# Note that it is a new set of random number, so the answer is slightly different\n",
    "# The time is about the same\n",
    "\n",
    "f2(n) = sqrt(mapreduce(x -> x*x, +, randn(n)))\n",
    "f2(10);\n",
    "@time f2(100_000_000)\n"
   ]
  },
  {
   "cell_type": "code",
   "execution_count": 39,
   "metadata": {},
   "outputs": [
    {
     "name": "stdout",
     "output_type": "stream",
     "text": [
      "  4.166604 seconds (10 allocations: 1.490 GiB, 2.13% gc time)\n"
     ]
    },
    {
     "data": {
      "text/plain": [
       "10000.857223275278"
      ]
     },
     "execution_count": 39,
     "metadata": {},
     "output_type": "execute_result"
    }
   ],
   "source": [
    "# Using a conventional mapping we need to pipe the result to sum it \n",
    "# and then take the square root\n",
    "# This takes a little longer tha the previous 2\n",
    "\n",
    "f3(n) = map(x -> x*x,randn(n)) |> sum |> sqrt\n",
    "f3(10);\n",
    "@time f3(100_000_000)\n"
   ]
  },
  {
   "cell_type": "code",
   "execution_count": 40,
   "metadata": {},
   "outputs": [
    {
     "name": "stdout",
     "output_type": "stream",
     "text": [
      "  0.918841 seconds (5 allocations: 176 bytes)\n"
     ]
    },
    {
     "data": {
      "text/plain": [
       "10001.872766118942"
      ]
     },
     "execution_count": 40,
     "metadata": {},
     "output_type": "execute_result"
    }
   ],
   "source": [
    "# Finally we can non-vectorize the code, which is much quicker,\n",
    "# In Julia non-vectorized (i.e loopy) code is invariably faster\n",
    "# than the vectorized equivalent.\n",
    "\n",
    "function f4(n)\n",
    "    t = 0.0\n",
    "    for i = 1:n\n",
    "        t += randn()^2\n",
    "    end\n",
    "    return sqrt(t)\n",
    "end\n",
    "\n",
    "f4(10);\n",
    "@time f4(100_000_000)\n"
   ]
  },
  {
   "cell_type": "markdown",
   "metadata": {},
   "source": [
    "### Pointy Norms"
   ]
  },
  {
   "cell_type": "code",
   "execution_count": 41,
   "metadata": {
    "collapsed": true
   },
   "outputs": [],
   "source": [
    "# Define a very simple type to represent a 2-D point\n",
    "\n",
    "struct Point\n",
    "  x::Real\n",
    "  y::Real\n",
    "end\n"
   ]
  },
  {
   "cell_type": "code",
   "execution_count": 42,
   "metadata": {},
   "outputs": [
    {
     "data": {
      "text/plain": [
       "* (generic function with 345 methods)"
      ]
     },
     "execution_count": 42,
     "metadata": {},
     "output_type": "execute_result"
    }
   ],
   "source": [
    "# We can define how to add and scale points\n",
    "# This needs importing the + and * function from Base\n",
    "\n",
    "import Base: +,*\n",
    "+(u::Point,v::Point) = Point(u.x + v.x, u.y + v.y )\n",
    "*(a::Real,u::Point)  = Point(a*u.x, a*u.y)\n",
    "*(u::Point,a::Real)  = a*u\n"
   ]
  },
  {
   "cell_type": "code",
   "execution_count": 43,
   "metadata": {},
   "outputs": [
    {
     "data": {
      "text/plain": [
       "Point(1.3076923076923077, 3.0076923076923077)"
      ]
     },
     "execution_count": 43,
     "metadata": {},
     "output_type": "execute_result"
    }
   ],
   "source": [
    "# Just test the type structure\n",
    "\n",
    "u1 = Point(1.0,2.3)\n",
    "u1*(17//13)\n"
   ]
  },
  {
   "cell_type": "code",
   "execution_count": 44,
   "metadata": {},
   "outputs": [
    {
     "data": {
      "text/plain": [
       "10×10 Array{Point,2}:\n",
       " Point(1.16102, 0.64263)      …  Point(0.612268, -0.135021) \n",
       " Point(0.969071, 1.59223)        Point(-1.07492, 0.541885)  \n",
       " Point(1.22185, 1.02944)         Point(0.578437, -0.640169) \n",
       " Point(0.0372754, 0.122166)      Point(1.0265, -2.4505)     \n",
       " Point(-0.638027, 0.331628)      Point(-0.675265, 0.346689) \n",
       " Point(0.770861, 0.527865)    …  Point(-0.662478, -1.02791) \n",
       " Point(-1.27127, 0.435981)       Point(0.933004, -0.288166) \n",
       " Point(-0.915662, -0.668763)     Point(0.697046, 0.182766)  \n",
       " Point(-1.46013, -0.0123037)     Point(-0.00662324, -1.6352)\n",
       " Point(0.279587, 0.37764)        Point(-2.11835, 0.627948)  "
      ]
     },
     "execution_count": 44,
     "metadata": {},
     "output_type": "execute_result"
    }
   ],
   "source": [
    "# Using Julia's aggregate object model this type \"knows\" all about arrays\n",
    "# Note: I'll deal with the object model in greater detail the next two chapters\n",
    "#\n",
    "aa = [Point(randn(),randn()) for i = 1:100];\n",
    "ab = reshape(aa,10,10)\n"
   ]
  },
  {
   "cell_type": "code",
   "execution_count": 45,
   "metadata": {},
   "outputs": [
    {
     "data": {
      "text/plain": [
       "zero (generic function with 1 method)"
      ]
     },
     "execution_count": 45,
     "metadata": {},
     "output_type": "execute_result"
    }
   ],
   "source": [
    "# It is useful to define a zero function (not sure about a one())\n",
    "\n",
    "zero(Point) = Point(0.0,0.0)\n"
   ]
  },
  {
   "cell_type": "code",
   "execution_count": 46,
   "metadata": {},
   "outputs": [
    {
     "data": {
      "text/plain": [
       "0.5566749083272329"
      ]
     },
     "execution_count": 46,
     "metadata": {},
     "output_type": "execute_result"
    }
   ],
   "source": [
    "# The dot product is the sum of the product of the x and y coordinates\n",
    "\n",
    "dot(u::Point)::Real = u.x^2 * u.y^2\n",
    "dot(u::Point,v::Point)::Real = u.x*v.x * u.y*v.y\n",
    "dot(ab[1])"
   ]
  },
  {
   "cell_type": "code",
   "execution_count": 47,
   "metadata": {},
   "outputs": [
    {
     "data": {
      "text/plain": [
       "1.2719412157632237"
      ]
     },
     "execution_count": 47,
     "metadata": {},
     "output_type": "execute_result"
    }
   ],
   "source": [
    "# The distance between two points is determined by Pythagoras's rule\n",
    "\n",
    "dist(u::Point,v::Point)::Real = sqrt((u.x - v.x)^2 + (u.y - v.y)^2)\n",
    "dist(ab[4,1],ab[2,7])"
   ]
  },
  {
   "cell_type": "code",
   "execution_count": 48,
   "metadata": {},
   "outputs": [
    {
     "data": {
      "text/plain": [
       "1.5665699626798038"
      ]
     },
     "execution_count": 48,
     "metadata": {},
     "output_type": "execute_result"
    }
   ],
   "source": [
    "# The distance of the point from the origin is equivalent to it's norm \n",
    "# We need to import the 'norm' function\n",
    "\n",
    "import LinearAlgebra.norm\n",
    "\n",
    "norm(u::Point)::Real = sqrt(u.x^2 + u.y^2)\n",
    "norm(aa[17])\n"
   ]
  },
  {
   "cell_type": "code",
   "execution_count": 49,
   "metadata": {
    "collapsed": true
   },
   "outputs": [],
   "source": [
    "# It is also possible to define this as:\n",
    "\n",
    "dist(u::Point)::Real = dist(u::Point,zero(Point))\n",
    "\n",
    "# Although this requires slightly more work to compute and it may be\n",
    "# better just to define it as dist(u::Point) = norm(u)\n",
    "\n",
    "@assert(dist(aa[17]) == norm(aa[17]))  ## Should produce NO output if it is TRUE\n"
   ]
  },
  {
   "cell_type": "code",
   "execution_count": 50,
   "metadata": {
    "collapsed": true
   },
   "outputs": [],
   "source": [
    "typeof(aa)  # Note that this is an array of points\n",
    "            # So norm will not work on this yet\n"
   ]
  },
  {
   "cell_type": "code",
   "execution_count": 51,
   "metadata": {},
   "outputs": [
    {
     "data": {
      "text/plain": [
       "norm (generic function with 14 methods)"
      ]
     },
     "execution_count": 51,
     "metadata": {},
     "output_type": "execute_result"
    }
   ],
   "source": [
    "# One way is to overload the norm function using the mapreduce function above\n",
    "# (or write a non-vectorized one)\n",
    "\n",
    "norm(a::Array{Point,1}) = sqrt(mapreduce(x -> dist(x), +, a))\n"
   ]
  },
  {
   "cell_type": "code",
   "execution_count": 52,
   "metadata": {},
   "outputs": [
    {
     "data": {
      "text/plain": [
       "3.144244"
      ]
     },
     "execution_count": 52,
     "metadata": {},
     "output_type": "execute_result"
    }
   ],
   "source": [
    "# And now we can estimate PI (as in the previous chapter)\n",
    "\n",
    "N = 1000000; ac = [Point(rand(),rand()) for i = 1:N];\n",
    "\n",
    "# We need the let/end because of the scoping rules\n",
    "let\n",
    "  count = 0\n",
    "  for i = 1:N\n",
    "    (dist(ac[i]) < 1.0) && (count += 1)\n",
    "  end\n",
    "  4.0*(count/N)\n",
    "end"
   ]
  },
  {
   "cell_type": "code",
   "execution_count": 53,
   "metadata": {},
   "outputs": [
    {
     "data": {
      "text/plain": [
       "13.174774379267253"
      ]
     },
     "execution_count": 53,
     "metadata": {},
     "output_type": "execute_result"
    }
   ],
   "source": [
    "# Note as yet norm(ab) will not work so we need to be a little more imaginative\n",
    "# with the function definition. \n",
    "\n",
    "# In the next chapter we will generalise this type definition to 3-Vector and N-vector\n",
    "# and revisit the quiestion then\n",
    "\n",
    "norm(ab)\n"
   ]
  },
  {
   "cell_type": "markdown",
   "metadata": {},
   "source": [
    "---"
   ]
  },
  {
   "cell_type": "markdown",
   "metadata": {},
   "source": [
    "### Generate a *Julia* set"
   ]
  },
  {
   "cell_type": "code",
   "execution_count": 54,
   "metadata": {},
   "outputs": [
    {
     "data": {
      "text/plain": [
       "juliaset (generic function with 1 method)"
      ]
     },
     "execution_count": 54,
     "metadata": {},
     "output_type": "execute_result"
    }
   ],
   "source": [
    "function juliaset(z, z0, nmax::Int64)\n",
    "    for n = 1:nmax\n",
    "        if abs(z) > 2 (return n-1) end\n",
    "        z = z^2 + z0\n",
    "    end\n",
    "    return nmax\n",
    "end\n"
   ]
  },
  {
   "cell_type": "code",
   "execution_count": 55,
   "metadata": {},
   "outputs": [
    {
     "data": {
      "text/plain": [
       "create_pgmfile (generic function with 1 method)"
      ]
     },
     "execution_count": 55,
     "metadata": {},
     "output_type": "execute_result"
    }
   ],
   "source": [
    "function create_pgmfile(img, outf::String)\n",
    "    s = open(outf, \"w\")\n",
    "    write(s, \"P5\\n\")    \n",
    "    n, m = size(img)\n",
    "    write(s, \"$m $n 255\\n\")\n",
    "    for i=1:n, j=1:m\n",
    "        p = min(img[i,j],255)\n",
    "        write(s, UInt8(p))\n",
    "    end\n",
    "    close(s)\n",
    "end\n"
   ]
  },
  {
   "cell_type": "code",
   "execution_count": 56,
   "metadata": {
    "collapsed": true
   },
   "outputs": [],
   "source": [
    "h = 400; \n",
    "w = 800; \n",
    "m = Array{Int64,2}(undef,h,w);\n",
    "\n",
    "c0 = -0.8 + 0.16im;\n",
    "pgm_name = \"jset.pgm\";\n",
    "\n",
    "t0 = time();\n",
    "for y=1:h, x=1:w\n",
    "    c = complex((x-w/2)/(w/2), (y-h/2)/(w/2))\n",
    "    m[y,x] = juliaset(c, c0, 256)\n",
    "end\n",
    "t1 = time();\n"
   ]
  },
  {
   "cell_type": "code",
   "execution_count": 57,
   "metadata": {},
   "outputs": [
    {
     "name": "stdout",
     "output_type": "stream",
     "text": [
      "Written jset.pgm\n",
      "Finished in 0.4617 seconds.\n"
     ]
    }
   ],
   "source": [
    "# You should find the file in the same chapter as the notebook\n",
    "\n",
    "create_pgmfile(m, pgm_name);\n",
    "@printf \"Written %s\\nFinished in %.4f seconds.\\n\" pgm_name (t1-t0);\n"
   ]
  },
  {
   "cell_type": "code",
   "execution_count": 60,
   "metadata": {},
   "outputs": [
    {
     "data": {
      "text/plain": [
       "Process(`\u001b[4mdisplay\u001b[24m \u001b[4m/Users/malcolm/jset.pgm\u001b[24m`, ProcessExited(0))"
      ]
     },
     "execution_count": 60,
     "metadata": {},
     "output_type": "execute_result"
    }
   ],
   "source": [
    "# Display the image using Imagemagick's display command\n",
    "# Clicking the file may display it (OSX/XQuartz and Centos/Gnome certainly does)\n",
    "# On OSX use:  brew reinstall imagemagick --with-x11\n",
    "#\n",
    "# Otherwise you make be able to click onit (OSX or Linux)\n",
    "# or on WIndows use an image processing program such as Irfanview\n",
    "# We will be looking at how to do this in Julia later.\n",
    "\n",
    "here = pwd()\n",
    "run(`display $here/$pgm_name`)"
   ]
  },
  {
   "cell_type": "markdown",
   "metadata": {},
   "source": [
    "---"
   ]
  }
 ],
 "metadata": {
  "kernelspec": {
   "display_name": "Julia 1.0.3",
   "language": "julia",
   "name": "julia-1.0"
  },
  "language_info": {
   "file_extension": ".jl",
   "mimetype": "application/julia",
   "name": "julia",
   "version": "1.0.3"
  }
 },
 "nbformat": 4,
 "nbformat_minor": 2
}
