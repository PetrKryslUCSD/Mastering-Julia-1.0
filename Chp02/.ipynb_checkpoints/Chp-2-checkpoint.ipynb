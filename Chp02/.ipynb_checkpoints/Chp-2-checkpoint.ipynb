{
 "cells": [
  {
   "cell_type": "markdown",
   "metadata": {},
   "source": [
    "## Chapter 2"
   ]
  },
  {
   "cell_type": "code",
   "execution_count": null,
   "metadata": {
    "collapsed": true
   },
   "outputs": [],
   "source": []
  },
  {
   "cell_type": "code",
   "execution_count": null,
   "metadata": {
    "collapsed": true
   },
   "outputs": [],
   "source": []
  },
  {
   "cell_type": "markdown",
   "metadata": {},
   "source": [
    "### Bulls and Cows\n",
    "\n",
    "- This takes input from STDIN and will *NOT* run within a Jupyter cell\n",
    "- Cut-n-paste it into a terminal running a Julia REPL"
   ]
  },
  {
   "cell_type": "code",
   "execution_count": null,
   "metadata": {
    "collapsed": true
   },
   "outputs": [],
   "source": [
    "tm = round(time());\n",
    "seed = convert(Int64,tm);\n",
    "srand(seed);"
   ]
  },
  {
   "cell_type": "code",
   "execution_count": 36,
   "metadata": {},
   "outputs": [
    {
     "data": {
      "text/plain": [
       "bacs (generic function with 1 method)"
      ]
     },
     "execution_count": 36,
     "metadata": {},
     "output_type": "execute_result"
    }
   ],
   "source": [
    "function bacs()\n",
    "  bulls = cows = turns = 0\n",
    "  a = Any[]\n",
    "  while length(unique(a)) < 4 \n",
    "    push!(a,rand('0':'9'))\n",
    "    end\n",
    "  my_guess = unique(a)\n",
    "  println(\"Bulls and Cows\")\n",
    "  while (bulls != 4)\n",
    "    readline(\"Guess?> \")\n",
    "\tif eof(STDIN)\n",
    "      s = \"q\"\n",
    "    else\n",
    "      s = chomp(readline(\"Guess?> \"))\n",
    "    end \n",
    "    if (s == \"q\")\n",
    "      print(\"My guess was \"); [print(my_guess[i]) for i=1:4]\n",
    "      return\n",
    "    end\n",
    "    guess = collect(s)\n",
    "    if !(length(unique(guess)) == length(guess) == 4 && all(isdigit,guess))\n",
    "      print(\"\\nEnter four distinct digits or q to quit: \")\n",
    "      continue\n",
    "    end\n",
    "    bulls = sum(map(==, guess, my_guess))\n",
    "    cows = length(intersect(guess,my_guess)) - bulls\n",
    "    println(\"$bulls bulls and $cows cows!\")\n",
    "    turns += 1\n",
    "  end\n",
    "  println(\"\\nYou guessed my number in $turns turns.\")\n",
    "end"
   ]
  },
  {
   "cell_type": "code",
   "execution_count": 37,
   "metadata": {},
   "outputs": [
    {
     "name": "stdout",
     "output_type": "stream",
     "text": [
      "Bulls and Cows\n",
      "Guess?> 1234\n",
      "My guess was 5906"
     ]
    }
   ],
   "source": [
    "bacs()"
   ]
  },
  {
   "cell_type": "markdown",
   "metadata": {
    "collapsed": true
   },
   "source": [
    "---"
   ]
  },
  {
   "cell_type": "code",
   "execution_count": 16,
   "metadata": {},
   "outputs": [
    {
     "name": "stdout",
     "output_type": "stream",
     "text": [
      "Expected lifetime for the mouse is [4.5]\n"
     ]
    }
   ],
   "source": [
    "#http://en.wikipedia.org/wiki/Stochastic_matrix\n",
    "\n",
    "I = zeros(4,4);\n",
    "[I[i,i] = 1 for i in 1:4];\n",
    "\n",
    "f = open(\"./m3.txt\",\"r\")\n",
    "T = readdlm(f,',');\n",
    "close(f);\n",
    "\n",
    "Ep = [0 1 0 0]*inv(I - T)*[1,1,1,1];\n",
    "\n",
    "println(\"Expected lifetime for the mouse is $Ep\")"
   ]
  },
  {
   "cell_type": "markdown",
   "metadata": {},
   "source": [
    "---"
   ]
  },
  {
   "cell_type": "code",
   "execution_count": 17,
   "metadata": {},
   "outputs": [
    {
     "data": {
      "text/plain": [
       "juliaset (generic function with 1 method)"
      ]
     },
     "execution_count": 17,
     "metadata": {},
     "output_type": "execute_result"
    }
   ],
   "source": [
    "function juliaset(z, z0, nmax::Int64)\n",
    "    for n = 1:nmax\n",
    "        if abs(z) > 2 (return n-1) end\n",
    "        z = z^2 + z0\n",
    "    end\n",
    "    return nmax\n",
    "end"
   ]
  },
  {
   "cell_type": "code",
   "execution_count": 43,
   "metadata": {},
   "outputs": [
    {
     "data": {
      "text/plain": [
       "create_pgmfile (generic function with 1 method)"
      ]
     },
     "execution_count": 43,
     "metadata": {},
     "output_type": "execute_result"
    }
   ],
   "source": [
    "function create_pgmfile(img, outf::String)\n",
    "    s = open(outf, \"w\")\n",
    "    write(s, \"P5\\n\")    \n",
    "    n, m = size(img)\n",
    "    write(s, \"$m $n 255\\n\")\n",
    "    for i=1:n, j=1:m\n",
    "        p = min(img[i,j],255)\n",
    "        write(s, UInt8(p))\n",
    "    end\n",
    "    close(s)\n",
    "end"
   ]
  },
  {
   "cell_type": "code",
   "execution_count": 54,
   "metadata": {
    "collapsed": true
   },
   "outputs": [],
   "source": [
    "h = 400; \n",
    "w = 800; \n",
    "m = Array{Int64}(h,w);\n",
    "\n",
    "c0 = -0.8 + 0.16im;\n",
    "pgm_name = \"jset.pgm\";\n",
    "\n",
    "t0 = time();\n",
    "for y=1:h, x=1:w\n",
    "    c = complex((x-w/2)/(w/2), (y-h/2)/(w/2))\n",
    "    m[y,x] = juliaset(c, c0, 256)\n",
    "end\n",
    "t1 = time();"
   ]
  },
  {
   "cell_type": "code",
   "execution_count": 55,
   "metadata": {},
   "outputs": [
    {
     "name": "stdout",
     "output_type": "stream",
     "text": [
      "Written jset.pgm\n",
      "Finished in 0.6596 seconds.\n"
     ]
    }
   ],
   "source": [
    "create_pgmfile(m, pgm_name);\n",
    "@printf \"Written %s\\nFinished in %.4f seconds.\\n\" pgm_name (t1-t0);"
   ]
  },
  {
   "cell_type": "code",
   "execution_count": 56,
   "metadata": {},
   "outputs": [],
   "source": [
    "# Display the image using Imagemagick's display command\n",
    "\n",
    "run(`display $pgm_name`)"
   ]
  },
  {
   "cell_type": "code",
   "execution_count": null,
   "metadata": {
    "collapsed": true
   },
   "outputs": [],
   "source": []
  }
 ],
 "metadata": {
  "kernelspec": {
   "display_name": "Julia 0.6.0",
   "language": "julia",
   "name": "julia-0.6"
  },
  "language_info": {
   "file_extension": ".jl",
   "mimetype": "application/julia",
   "name": "julia",
   "version": "0.6.0"
  }
 },
 "nbformat": 4,
 "nbformat_minor": 2
}
