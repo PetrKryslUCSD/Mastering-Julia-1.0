{
 "cells": [
  {
   "cell_type": "code",
   "execution_count": 1,
   "metadata": {
    "collapsed": true
   },
   "outputs": [],
   "source": [
    "using JuliaDB, IndexedTables, OnlineStats"
   ]
  },
  {
   "cell_type": "code",
   "execution_count": 3,
   "metadata": {},
   "outputs": [
    {
     "data": {
      "text/plain": [
       "\"/Users/malcolm/PacktPub/Chp09/Files/Stocks\""
      ]
     },
     "execution_count": 3,
     "metadata": {},
     "output_type": "execute_result"
    }
   ],
   "source": [
    "path =  joinpath(homedir(), \"PacktPub\",\"Chp09\",\"Files\",\"Stocks\")"
   ]
  },
  {
   "cell_type": "code",
   "execution_count": 4,
   "metadata": {},
   "outputs": [
    {
     "data": {
      "text/plain": [
       "2-d NDSparse with 288 values (5 field named tuples):\n",
       "date        ticker  │ open     high     low      close   volume\n",
       "────────────────────┼─────────────────────────────────────────────\n",
       "2010-01-01  \"GOOGL\" │ 626.95   629.51   540.99   626.75  1.78022e8\n",
       "2010-01-01  \"GS\"    │ 170.05   178.75   154.88   173.08  2.81862e8\n",
       "2010-01-01  \"KO\"    │ 57.16    57.4301  54.94    57.04   1.92693e8\n",
       "2010-01-01  \"XRX\"   │ 8.54     9.48     8.91     8.63    3.00838e8\n",
       "2010-02-01  \"GOOGL\" │ 534.602  547.5    531.75   533.02  1.03964e8\n",
       "2010-02-01  \"GS\"    │ 149.82   160.21   156.99   153.13  2.3197e8\n",
       "2010-02-01  \"KO\"    │ 54.51    55.92    53.09    54.38   2.28993e8\n",
       "2010-02-01  \"XRX\"   │ 8.75     9.4      9.31     8.97    3.10746e8\n",
       "2010-03-01  \"GOOGL\" │ 529.2    588.275  569.74   532.69  1.67381e8\n",
       "2010-03-01  \"GS\"    │ 156.51   178.73   171.66   156.54  2.40365e8\n",
       "2010-03-01  \"KO\"    │ 53.22    55.36    55.29    53.27   2.67852e8\n",
       "2010-03-01  \"XRX\"   │ 9.38     10.17    9.78     9.55    2.84334e8\n",
       "                    ⋮\n",
       "2015-10-01  \"GS\"    │ 174.4    191.96   190.09   176.02  6.87162e7\n",
       "2015-10-01  \"KO\"    │ 40.22    43.85    42.86    39.8    3.66559e8\n",
       "2015-10-01  \"XRX\"   │ 9.71     10.64    9.49     9.64    3.21783e8\n",
       "2015-11-01  \"GOOGL\" │ 737.88   782.9    775.03   747.74  3.75742e7\n",
       "2015-11-01  \"GS\"    │ 188.32   199.9    191.08   189.68  5.06942e7\n",
       "2015-11-01  \"KO\"    │ 42.32    43.6     43.15    42.24   2.52117e8\n",
       "2015-11-01  \"XRX\"   │ 9.43     11.02    10.68    9.69    2.45964e8\n",
       "2015-12-01  \"GOOGL\" │ 766.94   798.69   788.33   783.79  4.36505e7\n",
       "2015-12-01  \"GS\"    │ 191.22   193.84   182.885  193.07  6.54523e7\n",
       "2015-12-01  \"KO\"    │ 42.73    43.91    43.34    42.89   2.86571e8\n",
       "2015-12-01  \"XRX\"   │ 10.58    10.93    10.7037  10.69   2.05488e8"
      ]
     },
     "execution_count": 4,
     "metadata": {},
     "output_type": "execute_result"
    }
   ],
   "source": [
    "tickdata = loadndsparse(path, indexcols=[\"date\", \"ticker\"])"
   ]
  },
  {
   "cell_type": "code",
   "execution_count": 6,
   "metadata": {},
   "outputs": [
    {
     "data": {
      "text/plain": [
       "(open = 480.43, high = 509.25, low = 457.83, close = 482.37, volume = 1.196056e8)"
      ]
     },
     "execution_count": 6,
     "metadata": {},
     "output_type": "execute_result"
    }
   ],
   "source": [
    "using Dates\n",
    "tickdata[Date(\"2010-06-01\"), \"GOOGL\"] "
   ]
  },
  {
   "cell_type": "code",
   "execution_count": 7,
   "metadata": {},
   "outputs": [
    {
     "data": {
      "text/plain": [
       "2-d NDSparse with 72 values (5 field named tuples):\n",
       "date        ticker  │ open     high     low      close   volume\n",
       "────────────────────┼─────────────────────────────────────────────\n",
       "2012-01-01  \"GOOGL\" │ 652.94   670.25   584.0    665.41  1.47137e8\n",
       "2012-01-01  \"KO\"    │ 70.15    70.71    67.98    70.14   1.50116e8\n",
       "2012-02-01  \"GOOGL\" │ 584.94   625.6    619.77   580.83  9.46335e7\n",
       "2012-02-01  \"KO\"    │ 67.88    69.98    69.5     67.85   1.43833e8\n",
       "2012-03-01  \"GOOGL\" │ 622.26   658.589  653.49   622.4   9.45647e7\n",
       "2012-03-01  \"KO\"    │ 69.87    74.39    74.14    69.6    2.05125e8\n",
       "2012-04-01  \"GOOGL\" │ 640.77   653.14   616.082  646.92  1.17637e8\n",
       "2012-04-01  \"KO\"    │ 73.83    77.82    76.9     74.14   1.46185e8\n",
       "2012-05-01  \"GOOGL\" │ 603.79   637.85   590.0    604.43  1.17228e8\n",
       "2012-05-01  \"KO\"    │ 76.54    77.74    75.22    76.93   1.67695e8\n",
       "2012-06-01  \"GOOGL\" │ 571.79   587.89   580.13   570.98  9.29145e7\n",
       "2012-06-01  \"KO\"    │ 73.99    78.19    76.67    73.09   1.39787e8\n",
       "                    ⋮\n",
       "2014-07-01  \"KO\"    │ 42.39    42.57    39.73    42.29   2.82905e8\n",
       "2014-08-01  \"GOOGL\" │ 578.555  597.81   582.9    573.6   2.90466e7\n",
       "2014-08-01  \"KO\"    │ 39.41    41.75    41.71    39.4    2.47873e8\n",
       "2014-09-01  \"GOOGL\" │ 582.95   605.4    591.0    588.63  3.54137e7\n",
       "2014-09-01  \"KO\"    │ 41.52    42.81    42.345   41.64   3.14736e8\n",
       "2014-10-01  \"GOOGL\" │ 586.8    592.4    568.73   579.63  5.5503e7\n",
       "2014-10-01  \"KO\"    │ 42.55    44.87    41.89    42.74   5.2988e8\n",
       "2014-11-01  \"GOOGL\" │ 563.53   567.15   549.6    563.77  2.97753e7\n",
       "2014-11-01  \"KO\"    │ 41.79    45.0     44.78    41.81   2.54107e8\n",
       "2014-12-01  \"GOOGL\" │ 545.09   548.79   538.4    539.65  5.44696e7\n",
       "2014-12-01  \"KO\"    │ 44.18    44.765   42.94    44.55   3.26856e8"
      ]
     },
     "execution_count": 7,
     "metadata": {},
     "output_type": "execute_result"
    }
   ],
   "source": [
    "tickdata[Date(\"2012-01\"):Dates.Month(1):Date(\"2014-12\"), [\"GOOGL\", \"KO\"]]"
   ]
  },
  {
   "cell_type": "code",
   "execution_count": 8,
   "metadata": {},
   "outputs": [
    {
     "data": {
      "text/plain": [
       "2-d NDSparse with 40 values (5 field named tuples):\n",
       "date        ticker  │ open     high     low     close   volume\n",
       "────────────────────┼────────────────────────────────────────────\n",
       "2010-02-01  \"GOOGL\" │ 534.602  547.5    531.75  533.02  1.03964e8\n",
       "2010-02-01  \"GS\"    │ 149.82   160.21   156.99  153.13  2.3197e8\n",
       "2010-02-01  \"KO\"    │ 54.51    55.92    53.09   54.38   2.28993e8\n",
       "2010-02-01  \"XRX\"   │ 8.75     9.4      9.31    8.97    3.10746e8\n",
       "2010-03-01  \"GOOGL\" │ 529.2    588.275  569.74  532.69  1.67381e8\n",
       "2010-03-01  \"GS\"    │ 156.51   178.73   171.66  156.54  2.40365e8\n",
       "2010-03-01  \"KO\"    │ 53.22    55.36    55.29   53.27   2.67852e8\n",
       "2010-03-01  \"XRX\"   │ 9.38     10.17    9.78    9.55    2.84334e8\n",
       "2010-11-01  \"GOOGL\" │ 615.73   630.85   574.32  615.0   1.16766e8\n",
       "2010-11-01  \"GS\"    │ 161.77   171.61   159.33  161.57  1.19779e8\n",
       "2010-11-01  \"KO\"    │ 61.37    64.63    63.58   61.71   2.20185e8\n",
       "2010-11-01  \"XRX\"   │ 11.74    11.96    11.59   11.61   2.16493e8\n",
       "                    ⋮\n",
       "2014-09-01  \"GS\"    │ 179.26   188.58   184.99  179.77  5.22315e7\n",
       "2014-09-01  \"KO\"    │ 41.52    42.81    42.345  41.64   3.14736e8\n",
       "2014-09-01  \"XRX\"   │ 13.86    14.15    13.31   13.84   1.7041e8\n",
       "2014-12-01  \"GOOGL\" │ 545.09   548.79   538.4   539.65  5.44696e7\n",
       "2014-12-01  \"GS\"    │ 188.0    198.06   196.83  188.2   7.02718e7\n",
       "2014-12-01  \"KO\"    │ 44.18    44.765   42.94   44.55   3.26856e8\n",
       "2014-12-01  \"XRX\"   │ 13.9     14.36    14.1    13.83   1.3832e8\n",
       "2015-06-01  \"GOOGL\" │ 548.73   565.61   545.9   549.21  3.52182e7\n",
       "2015-06-01  \"GS\"    │ 207.32   218.77   210.79  207.81  5.79002e7\n",
       "2015-06-01  \"KO\"    │ 41.36    41.405   39.61   40.94   2.88244e8\n",
       "2015-06-01  \"XRX\"   │ 11.44    11.615   10.9    11.46   1.64635e8"
      ]
     },
     "execution_count": 8,
     "metadata": {},
     "output_type": "execute_result"
    }
   ],
   "source": [
    "filter(:date=>Dates.ismonday, tickdata)"
   ]
  },
  {
   "cell_type": "code",
   "execution_count": 9,
   "metadata": {},
   "outputs": [
    {
     "data": {
      "text/plain": [
       "2-d NDSparse with 20 values (5 field named tuples):\n",
       "date        ticker  │ open     high     low      close   volume\n",
       "────────────────────┼─────────────────────────────────────────────\n",
       "2010-02-01  \"GOOGL\" │ 534.602  547.5    531.75   533.02  1.03964e8\n",
       "2010-02-01  \"GS\"    │ 149.82   160.21   156.99   153.13  2.3197e8\n",
       "2010-03-01  \"GOOGL\" │ 529.2    588.275  569.74   532.69  1.67381e8\n",
       "2010-03-01  \"GS\"    │ 156.51   178.73   171.66   156.54  2.40365e8\n",
       "2010-11-01  \"GOOGL\" │ 615.73   630.85   574.32   615.0   1.16766e8\n",
       "2010-11-01  \"GS\"    │ 161.77   171.61   159.33   161.57  1.19779e8\n",
       "2011-08-01  \"GOOGL\" │ 611.22   615.5    546.3    606.77  2.13337e8\n",
       "2011-08-01  \"GS\"    │ 136.92   137.34   117.8    134.15  2.3048e8\n",
       "2012-10-01  \"GOOGL\" │ 759.05   774.38   681.0    761.78  1.43453e8\n",
       "2012-10-01  \"GS\"    │ 116.67   126.48   122.6    116.86  9.61152e7\n",
       "2013-04-01  \"GOOGL\" │ 795.01   827.64   822.7    801.19  1.06996e8\n",
       "2013-04-01  \"GS\"    │ 146.67   151.45   146.54   146.04  8.18167e7\n",
       "2013-07-01  \"GOOGL\" │ 886.45   928.0    896.509  887.88  1.02387e8\n",
       "2013-07-01  \"GS\"    │ 152.78   167.41   165.97   151.75  6.52959e7\n",
       "2014-09-01  \"GOOGL\" │ 582.95   605.4    591.0    588.63  3.54137e7\n",
       "2014-09-01  \"GS\"    │ 179.26   188.58   184.99   179.77  5.22315e7\n",
       "2014-12-01  \"GOOGL\" │ 545.09   548.79   538.4    539.65  5.44696e7\n",
       "2014-12-01  \"GS\"    │ 188.0    198.06   196.83   188.2   7.02718e7\n",
       "2015-06-01  \"GOOGL\" │ 548.73   565.61   545.9    549.21  3.52182e7\n",
       "2015-06-01  \"GS\"    │ 207.32   218.77   210.79   207.81  5.79002e7"
      ]
     },
     "execution_count": 9,
     "metadata": {},
     "output_type": "execute_result"
    }
   ],
   "source": [
    "filter((1=>Dates.ismonday, 2=>x->startswith(x, \"G\")), tickdata)"
   ]
  },
  {
   "cell_type": "code",
   "execution_count": 10,
   "metadata": {},
   "outputs": [
    {
     "data": {
      "text/plain": [
       "2-d NDSparse with 254 values (5 field named tuples):\n",
       "date        ticker  │ open     high     low      close   volume\n",
       "────────────────────┼─────────────────────────────────────────────\n",
       "2010-01-01  \"GOOGL\" │ 626.95   629.51   540.99   626.75  1.78022e8\n",
       "2010-01-01  \"GS\"    │ 170.05   178.75   154.88   173.08  2.81862e8\n",
       "2010-01-01  \"KO\"    │ 57.16    57.4301  54.94    57.04   1.92693e8\n",
       "2010-02-01  \"GOOGL\" │ 534.602  547.5    531.75   533.02  1.03964e8\n",
       "2010-02-01  \"GS\"    │ 149.82   160.21   156.99   153.13  2.3197e8\n",
       "2010-02-01  \"KO\"    │ 54.51    55.92    53.09    54.38   2.28993e8\n",
       "2010-03-01  \"GOOGL\" │ 529.2    588.275  569.74   532.69  1.67381e8\n",
       "2010-03-01  \"GS\"    │ 156.51   178.73   171.66   156.54  2.40365e8\n",
       "2010-03-01  \"KO\"    │ 53.22    55.36    55.29    53.27   2.67852e8\n",
       "2010-04-01  \"GOOGL\" │ 571.35   597.84   537.68   568.8   1.45975e8\n",
       "2010-04-01  \"GS\"    │ 171.72   186.41   152.5    170.22  5.33265e8\n",
       "2010-04-01  \"KO\"    │ 55.36    55.56    53.96    55.3    2.21916e8\n",
       "                    ⋮\n",
       "2015-10-01  \"GOOGL\" │ 637.94   752.5    746.31   642.0   5.02938e7\n",
       "2015-10-01  \"GS\"    │ 174.4    191.96   190.09   176.02  6.87162e7\n",
       "2015-10-01  \"KO\"    │ 40.22    43.85    42.86    39.8    3.66559e8\n",
       "2015-11-01  \"GOOGL\" │ 737.88   782.9    775.03   747.74  3.75742e7\n",
       "2015-11-01  \"GS\"    │ 188.32   199.9    191.08   189.68  5.06942e7\n",
       "2015-11-01  \"KO\"    │ 42.32    43.6     43.15    42.24   2.52117e8\n",
       "2015-11-01  \"XRX\"   │ 9.43     11.02    10.68    9.69    2.45964e8\n",
       "2015-12-01  \"GOOGL\" │ 766.94   798.69   788.33   783.79  4.36505e7\n",
       "2015-12-01  \"GS\"    │ 191.22   193.84   182.885  193.07  6.54523e7\n",
       "2015-12-01  \"KO\"    │ 42.73    43.91    43.34    42.89   2.86571e8\n",
       "2015-12-01  \"XRX\"   │ 10.58    10.93    10.7037  10.69   2.05488e8"
      ]
     },
     "execution_count": 10,
     "metadata": {},
     "output_type": "execute_result"
    }
   ],
   "source": [
    "filter(x -> x.low > 10.0, tickdata)"
   ]
  },
  {
   "cell_type": "code",
   "execution_count": 11,
   "metadata": {},
   "outputs": [
    {
     "data": {
      "text/plain": [
       "2-d NDSparse with 288 values (Float64):\n",
       "date        ticker  │\n",
       "────────────────────┼───────\n",
       "2010-01-01  \"GOOGL\" │ 88.52\n",
       "2010-01-01  \"GS\"    │ 23.87\n",
       "2010-01-01  \"KO\"    │ 2.4901\n",
       "2010-01-01  \"XRX\"   │ 0.57\n",
       "2010-02-01  \"GOOGL\" │ 15.75\n",
       "2010-02-01  \"GS\"    │ 3.22\n",
       "2010-02-01  \"KO\"    │ 2.83\n",
       "2010-02-01  \"XRX\"   │ 0.09\n",
       "2010-03-01  \"GOOGL\" │ 18.535\n",
       "2010-03-01  \"GS\"    │ 7.07\n",
       "2010-03-01  \"KO\"    │ 0.07\n",
       "2010-03-01  \"XRX\"   │ 0.39\n",
       "                    ⋮\n",
       "2015-10-01  \"GS\"    │ 1.87\n",
       "2015-10-01  \"KO\"    │ 0.99\n",
       "2015-10-01  \"XRX\"   │ 1.15\n",
       "2015-11-01  \"GOOGL\" │ 7.87\n",
       "2015-11-01  \"GS\"    │ 8.82\n",
       "2015-11-01  \"KO\"    │ 0.45\n",
       "2015-11-01  \"XRX\"   │ 0.34\n",
       "2015-12-01  \"GOOGL\" │ 10.36\n",
       "2015-12-01  \"GS\"    │ 10.955\n",
       "2015-12-01  \"KO\"    │ 0.57\n",
       "2015-12-01  \"XRX\"   │ 0.2263"
      ]
     },
     "execution_count": 11,
     "metadata": {},
     "output_type": "execute_result"
    }
   ],
   "source": [
    "diffs = map(x -> x.high - x.low, tickdata)"
   ]
  },
  {
   "cell_type": "code",
   "execution_count": 27,
   "metadata": {},
   "outputs": [
    {
     "data": {
      "text/plain": [
       "2-d NDSparse with 288 values (Float64):\n",
       "date        ticker  │\n",
       "────────────────────┼──────────\n",
       "2010-01-01  \"GOOGL\" │ 1.78022e8\n",
       "2010-01-01  \"GS\"    │ 2.81862e8\n",
       "2010-01-01  \"KO\"    │ 1.92693e8\n",
       "2010-01-01  \"XRX\"   │ 3.00838e8\n",
       "2010-02-01  \"GOOGL\" │ 1.03964e8\n",
       "2010-02-01  \"GS\"    │ 2.3197e8\n",
       "2010-02-01  \"KO\"    │ 2.28993e8\n",
       "2010-02-01  \"XRX\"   │ 3.10746e8\n",
       "2010-03-01  \"GOOGL\" │ 1.67381e8\n",
       "2010-03-01  \"GS\"    │ 2.40365e8\n",
       "2010-03-01  \"KO\"    │ 2.67852e8\n",
       "2010-03-01  \"XRX\"   │ 2.84334e8\n",
       "                    ⋮\n",
       "2015-10-01  \"GS\"    │ 6.87162e7\n",
       "2015-10-01  \"KO\"    │ 3.66559e8\n",
       "2015-10-01  \"XRX\"   │ 3.21783e8\n",
       "2015-11-01  \"GOOGL\" │ 3.75742e7\n",
       "2015-11-01  \"GS\"    │ 5.06942e7\n",
       "2015-11-01  \"KO\"    │ 2.52117e8\n",
       "2015-11-01  \"XRX\"   │ 2.45964e8\n",
       "2015-12-01  \"GOOGL\" │ 4.36505e7\n",
       "2015-12-01  \"GS\"    │ 6.54523e7\n",
       "2015-12-01  \"KO\"    │ 2.86571e8\n",
       "2015-12-01  \"XRX\"   │ 2.05488e8"
      ]
     },
     "execution_count": 27,
     "metadata": {},
     "output_type": "execute_result"
    }
   ],
   "source": [
    "volumes = map(x -> x.volume, tickdata)"
   ]
  },
  {
   "cell_type": "code",
   "execution_count": 32,
   "metadata": {},
   "outputs": [
    {
     "data": {
      "text/plain": [
       "50983127744"
      ]
     },
     "execution_count": 32,
     "metadata": {},
     "output_type": "execute_result"
    }
   ],
   "source": [
    "BigInt(reduce(+, map(x -> x.volume, tickdata)))"
   ]
  },
  {
   "cell_type": "markdown",
   "metadata": {},
   "source": [
    "---"
   ]
  },
  {
   "cell_type": "code",
   "execution_count": 34,
   "metadata": {
    "collapsed": true
   },
   "outputs": [],
   "source": [
    "using MySQL, IndexedTables"
   ]
  },
  {
   "cell_type": "code",
   "execution_count": 36,
   "metadata": {},
   "outputs": [
    {
     "name": "stderr",
     "output_type": "stream",
     "text": [
      "┌ Warning: `MySQL.query(conn, sql)` will return a MySQL.Query in the future; to materialize the result, use `MySQL.query(conn, sql) |> columntable` or `MySQL.query(conn, sql) |> DataFrame` instead\n",
      "│   caller = ip:0x0\n",
      "└ @ Core :-1\n"
     ]
    },
    {
     "data": {
      "text/plain": [
       "Table with 59 rows, 3 columns:\n",
       "FirstName    LastName               TotalSpent\n",
       "──────────────────────────────────────────────\n",
       "\"Aaron\"      \"Mitchell\"             37.62\n",
       "\"Alexandre\"  \"Rocha\"                37.62\n",
       "\"Astrid\"     \"Gruber\"               42.62\n",
       "\"Bj\\xf8rn\"   \"Hansen\"               39.62\n",
       "\"Camille\"    \"Bernard\"              38.62\n",
       "\"Daan\"       \"Peeters\"              37.62\n",
       "\"Dan\"        \"Miller\"               39.62\n",
       "\"Diego\"      \"Guti\\xe9rrez\"         37.62\n",
       "\"Dominique\"  \"Lefebvre\"             38.62\n",
       "\"Eduardo\"    \"Martins\"              37.62\n",
       "\"Edward\"     \"Francis\"              37.62\n",
       "\"Ellie\"      \"Sullivan\"             37.62\n",
       "⋮\n",
       "\"Phil\"       \"Hughes\"               37.62\n",
       "\"Puja\"       \"Srivastava\"           36.64\n",
       "\"Richard\"    \"Cunningham\"           47.62\n",
       "\"Robert\"     \"Brown\"                37.62\n",
       "\"Roberto\"    \"Almeida\"              37.62\n",
       "\"Stanis?aw\"  \"W\\xf3jcik\"            37.62\n",
       "\"Steve\"      \"Murray\"               37.62\n",
       "\"Terhi\"      \"H\\xe4m\\xe4l\\xe4inen\"  41.62\n",
       "\"Tim\"        \"Goyer\"                38.62\n",
       "\"Victor\"     \"Stevens\"              42.62\n",
       "\"Wyatt\"      \"Girard\"               39.62"
      ]
     },
     "execution_count": 36,
     "metadata": {},
     "output_type": "execute_result"
    }
   ],
   "source": [
    "conn = MySQL.connect(\"localhost\", \"root\", \"LQaLxxy6\",db=\"Chinook\", \n",
    "            unix_socket=\"/Applications/MAMP/tmp/mysql/mysql.sock\");\n",
    "            \n",
    "sql = \"\"\"select a.FirstName,a.LastName, sum(b.Total) as TotalSpent \n",
    " from Customer a\n",
    " join Invoice b on a.CustomerId = b.CustomerId\n",
    " group by a.FirstName, a.LastName\"\"\";\n",
    "\n",
    "tbl = MySQL.query(conn,sql) |> table"
   ]
  },
  {
   "cell_type": "code",
   "execution_count": 51,
   "metadata": {},
   "outputs": [
    {
     "data": {
      "text/plain": [
       "(:FirstName, :LastName, :TotalSpent)"
      ]
     },
     "execution_count": 51,
     "metadata": {},
     "output_type": "execute_result"
    }
   ],
   "source": [
    "using Tables\n",
    "rows = Tables.rows(tbl)\n",
    "sch = Tables.schema(rows)\n",
    "names = sch.names"
   ]
  },
  {
   "cell_type": "code",
   "execution_count": 54,
   "metadata": {},
   "outputs": [
    {
     "name": "stdout",
     "output_type": "stream",
     "text": [
      "1 :: FirstName\n",
      "2 :: LastName\n",
      "3 :: TotalSpent\n",
      "1 :: FirstName\n",
      "2 :: LastName\n",
      "3 :: TotalSpent\n",
      "1 :: FirstName\n",
      "2 :: LastName\n",
      "3 :: TotalSpent\n",
      "1 :: FirstName\n",
      "2 :: LastName\n",
      "3 :: TotalSpent\n",
      "1 :: FirstName\n",
      "2 :: LastName\n",
      "3 :: TotalSpent\n",
      "1 :: FirstName\n",
      "2 :: LastName\n",
      "3 :: TotalSpent\n",
      "1 :: FirstName\n",
      "2 :: LastName\n",
      "3 :: TotalSpent\n",
      "1 :: FirstName\n",
      "2 :: LastName\n",
      "3 :: TotalSpent\n",
      "1 :: FirstName\n",
      "2 :: LastName\n",
      "3 :: TotalSpent\n",
      "1 :: FirstName\n",
      "2 :: LastName\n",
      "3 :: TotalSpent\n",
      "1 :: FirstName\n",
      "2 :: LastName\n",
      "3 :: TotalSpent\n",
      "1 :: FirstName\n",
      "2 :: LastName\n",
      "3 :: TotalSpent\n",
      "1 :: FirstName\n",
      "2 :: LastName\n",
      "3 :: TotalSpent\n",
      "1 :: FirstName\n",
      "2 :: LastName\n",
      "3 :: TotalSpent\n",
      "1 :: FirstName\n",
      "2 :: LastName\n",
      "3 :: TotalSpent\n",
      "1 :: FirstName\n",
      "2 :: LastName\n",
      "3 :: TotalSpent\n",
      "1 :: FirstName\n",
      "2 :: LastName\n",
      "3 :: TotalSpent\n",
      "1 :: FirstName\n",
      "2 :: LastName\n",
      "3 :: TotalSpent\n",
      "1 :: FirstName\n",
      "2 :: LastName\n",
      "3 :: TotalSpent\n",
      "1 :: FirstName\n",
      "2 :: LastName\n",
      "3 :: TotalSpent\n",
      "1 :: FirstName\n",
      "2 :: LastName\n",
      "3 :: TotalSpent\n",
      "1 :: FirstName\n",
      "2 :: LastName\n",
      "3 :: TotalSpent\n",
      "1 :: FirstName\n",
      "2 :: LastName\n",
      "3 :: TotalSpent\n",
      "1 :: FirstName\n",
      "2 :: LastName\n",
      "3 :: TotalSpent\n",
      "1 :: FirstName\n",
      "2 :: LastName\n",
      "3 :: TotalSpent\n",
      "1 :: FirstName\n",
      "2 :: LastName\n",
      "3 :: TotalSpent\n",
      "1 :: FirstName\n",
      "2 :: LastName\n",
      "3 :: TotalSpent\n",
      "1 :: FirstName\n",
      "2 :: LastName\n",
      "3 :: TotalSpent\n",
      "1 :: FirstName\n",
      "2 :: LastName\n",
      "3 :: TotalSpent\n",
      "1 :: FirstName\n",
      "2 :: LastName\n",
      "3 :: TotalSpent\n",
      "1 :: FirstName\n",
      "2 :: LastName\n",
      "3 :: TotalSpent\n",
      "1 :: FirstName\n",
      "2 :: LastName\n",
      "3 :: TotalSpent\n",
      "1 :: FirstName\n",
      "2 :: LastName\n",
      "3 :: TotalSpent\n",
      "1 :: FirstName\n",
      "2 :: LastName\n",
      "3 :: TotalSpent\n",
      "1 :: FirstName\n",
      "2 :: LastName\n",
      "3 :: TotalSpent\n",
      "1 :: FirstName\n",
      "2 :: LastName\n",
      "3 :: TotalSpent\n",
      "1 :: FirstName\n",
      "2 :: LastName\n",
      "3 :: TotalSpent\n",
      "1 :: FirstName\n",
      "2 :: LastName\n",
      "3 :: TotalSpent\n",
      "1 :: FirstName\n",
      "2 :: LastName\n",
      "3 :: TotalSpent\n",
      "1 :: FirstName\n",
      "2 :: LastName\n",
      "3 :: TotalSpent\n",
      "1 :: FirstName\n",
      "2 :: LastName\n",
      "3 :: TotalSpent\n",
      "1 :: FirstName\n",
      "2 :: LastName\n",
      "3 :: TotalSpent\n",
      "1 :: FirstName\n",
      "2 :: LastName\n",
      "3 :: TotalSpent\n",
      "1 :: FirstName\n",
      "2 :: LastName\n",
      "3 :: TotalSpent\n",
      "1 :: FirstName\n",
      "2 :: LastName\n",
      "3 :: TotalSpent\n",
      "1 :: FirstName\n",
      "2 :: LastName\n",
      "3 :: TotalSpent\n",
      "1 :: FirstName\n",
      "2 :: LastName\n",
      "3 :: TotalSpent\n",
      "1 :: FirstName\n",
      "2 :: LastName\n",
      "3 :: TotalSpent\n",
      "1 :: FirstName\n",
      "2 :: LastName\n",
      "3 :: TotalSpent\n",
      "1 :: FirstName\n",
      "2 :: LastName\n",
      "3 :: TotalSpent\n",
      "1 :: FirstName\n",
      "2 :: LastName\n",
      "3 :: TotalSpent\n",
      "1 :: FirstName\n",
      "2 :: LastName\n",
      "3 :: TotalSpent\n",
      "1 :: FirstName\n",
      "2 :: LastName\n",
      "3 :: TotalSpent\n",
      "1 :: FirstName\n",
      "2 :: LastName\n",
      "3 :: TotalSpent\n",
      "1 :: FirstName\n",
      "2 :: LastName\n",
      "3 :: TotalSpent\n",
      "1 :: FirstName\n",
      "2 :: LastName\n",
      "3 :: TotalSpent\n",
      "1 :: FirstName\n",
      "2 :: LastName\n",
      "3 :: TotalSpent\n",
      "1 :: FirstName\n",
      "2 :: LastName\n",
      "3 :: TotalSpent\n",
      "1 :: FirstName\n",
      "2 :: LastName\n",
      "3 :: TotalSpent\n"
     ]
    }
   ],
   "source": [
    "for row in rows\n",
    "    Tables.eachcolumn(sch, row) do val, col, name\n",
    "        println(col,\" :: \",name)\n",
    "    end\n",
    "end"
   ]
  },
  {
   "cell_type": "code",
   "execution_count": null,
   "metadata": {
    "collapsed": true
   },
   "outputs": [],
   "source": []
  }
 ],
 "metadata": {
  "kernelspec": {
   "display_name": "Julia 1.0.2",
   "language": "julia",
   "name": "julia-1.0"
  },
  "language_info": {
   "file_extension": ".jl",
   "mimetype": "application/julia",
   "name": "julia",
   "version": "1.0.2"
  }
 },
 "nbformat": 4,
 "nbformat_minor": 2
}
