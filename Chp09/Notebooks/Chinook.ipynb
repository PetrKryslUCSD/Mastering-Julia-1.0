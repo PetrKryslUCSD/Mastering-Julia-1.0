{
 "cells": [
  {
   "cell_type": "code",
   "execution_count": 21,
   "metadata": {
    "collapsed": true
   },
   "outputs": [],
   "source": [
    "using SQLite"
   ]
  },
  {
   "cell_type": "code",
   "execution_count": 22,
   "metadata": {},
   "outputs": [
    {
     "data": {
      "text/html": [
       "<table class=\"data-frame\"><thead><tr><th></th><th>name</th></tr><tr><th></th><th>String⍰</th></tr></thead><tbody><p>11 rows × 1 columns</p><tr><th>1</th><td>Album</td></tr><tr><th>2</th><td>Artist</td></tr><tr><th>3</th><td>Customer</td></tr><tr><th>4</th><td>Employee</td></tr><tr><th>5</th><td>Genre</td></tr><tr><th>6</th><td>Invoice</td></tr><tr><th>7</th><td>InvoiceLine</td></tr><tr><th>8</th><td>MediaType</td></tr><tr><th>9</th><td>Playlist</td></tr><tr><th>10</th><td>PlaylistTrack</td></tr><tr><th>11</th><td>Track</td></tr></tbody></table>"
      ],
      "text/latex": [
       "\\begin{tabular}{r|c}\n",
       "\t& name\\\\\n",
       "\t\\hline\n",
       "\t& String⍰\\\\\n",
       "\t\\hline\n",
       "\t1 & Album \\\\\n",
       "\t2 & Artist \\\\\n",
       "\t3 & Customer \\\\\n",
       "\t4 & Employee \\\\\n",
       "\t5 & Genre \\\\\n",
       "\t6 & Invoice \\\\\n",
       "\t7 & InvoiceLine \\\\\n",
       "\t8 & MediaType \\\\\n",
       "\t9 & Playlist \\\\\n",
       "\t10 & PlaylistTrack \\\\\n",
       "\t11 & Track \\\\\n",
       "\\end{tabular}\n"
      ],
      "text/plain": [
       "11×1 DataFrame\n",
       "│ Row │ name          │\n",
       "│     │ \u001b[90mString⍰\u001b[39m       │\n",
       "├─────┼───────────────┤\n",
       "│ 1   │ Album         │\n",
       "│ 2   │ Artist        │\n",
       "│ 3   │ Customer      │\n",
       "│ 4   │ Employee      │\n",
       "│ 5   │ Genre         │\n",
       "│ 6   │ Invoice       │\n",
       "│ 7   │ InvoiceLine   │\n",
       "│ 8   │ MediaType     │\n",
       "│ 9   │ Playlist      │\n",
       "│ 10  │ PlaylistTrack │\n",
       "│ 11  │ Track         │"
      ]
     },
     "execution_count": 22,
     "metadata": {},
     "output_type": "execute_result"
    }
   ],
   "source": [
    "db = SQLite.DB(\"chinook.sqlite\")\n",
    "SQLite.tables(db)"
   ]
  },
  {
   "cell_type": "code",
   "execution_count": 26,
   "metadata": {},
   "outputs": [
    {
     "name": "stdout",
     "output_type": "stream",
     "text": [
      "Number of customers : 59\n"
     ]
    }
   ],
   "source": [
    "sql = \"select count(*) from Customer\";\n",
    "df = DataFrame(SQLite.Query(db,sql))\n",
    "println(\"Number of customers : $(df[1,1])\")"
   ]
  },
  {
   "cell_type": "code",
   "execution_count": 31,
   "metadata": {
    "collapsed": true
   },
   "outputs": [],
   "source": [
    "sql = \"select a.LastName, a.FirstName,\";\n",
    "sql *= \" count(b.InvoiceId) as Invs, sum(b.Total) as Amt\";\n",
    "sql *= \" from Customer a\";\n",
    "sql *= \" join Invoice b on a.CustomerId = b.CustomerId\";\n",
    "sql *= \" group by a.LastName having Amt >= 45.00\";\n",
    "sql *= \" order by Amt desc;\";\n",
    "\n",
    "df = DataFrame(SQLite.Query(db,sql));"
   ]
  },
  {
   "cell_type": "code",
   "execution_count": 33,
   "metadata": {},
   "outputs": [
    {
     "name": "stdout",
     "output_type": "stream",
     "text": [
      "      Holý     Helena      49.62\n",
      "Cunningham    Richard      47.62\n",
      "     Rojas       Luis      46.62\n",
      "    Kovács   Ladislav      45.62\n",
      "  O'Reilly       Hugh      45.62\n"
     ]
    }
   ],
   "source": [
    "using Printf\n",
    "for i in 1:size(df)[1]\n",
    "  LastName  = df[:LastName][i]\n",
    "  FirstName = df[:FirstName][i]\n",
    "  Amt       = df[:Amt][i]\n",
    "  @printf \"%10s %10s %10.2f\\n\" LastName FirstName Amt\n",
    " end"
   ]
  },
  {
   "cell_type": "code",
   "execution_count": 35,
   "metadata": {},
   "outputs": [],
   "source": [
    "sql = \"select a.LastName, a.FirstName, d.Name as TrackName\";\n",
    "sql *= \" from Customer a\";\n",
    "sql *= \" join Invoice b on a.CustomerId = b.CustomerId\";\n",
    "sql *= \" join InvoiceLine c on b.InvoiceId = c.InvoiceId\";\n",
    "sql *= \" join Track d on c.TrackId = d.TrackId\";\n",
    "sql *= \" where a.LastName = 'Cunningham' and a.FirstName = 'Richard'\";\n",
    "sql *= \" limit 5;\";\n",
    "\n",
    "df = DataFrame(SQLite.Query(db,sql));"
   ]
  },
  {
   "cell_type": "code",
   "execution_count": 37,
   "metadata": {},
   "outputs": [
    {
     "name": "stdout",
     "output_type": "stream",
     "text": [
      "Radio Free Aurope\n",
      "Perfect Circle\n",
      "Drowning Man\n",
      "Two Hearts Beat As One\n",
      "Surrender\n"
     ]
    }
   ],
   "source": [
    "for i in 1:size(df)[1]\n",
    "  TrackName = df[:TrackName][i]\n",
    "  @printf \"%s\\n\" TrackName\n",
    "end"
   ]
  },
  {
   "cell_type": "markdown",
   "metadata": {
    "collapsed": true
   },
   "source": [
    "---"
   ]
  },
  {
   "cell_type": "code",
   "execution_count": 38,
   "metadata": {},
   "outputs": [],
   "source": [
    "using MySQL, DataFrames"
   ]
  },
  {
   "cell_type": "code",
   "execution_count": 39,
   "metadata": {},
   "outputs": [
    {
     "data": {
      "text/plain": [
       "MySQL Connection\n",
       "------------\n",
       "Host: localhost\n",
       "Port: 3306\n",
       "User: root\n",
       "DB:   Chinook\n"
      ]
     },
     "execution_count": 39,
     "metadata": {},
     "output_type": "execute_result"
    }
   ],
   "source": [
    "# Use MAMP (on OSX) so need to specify where the mysql.sock is\n",
    "#\n",
    "conn = MySQL.connect(\"localhost\", \"root\", \"LQaLxxy6\", db=\"Chinook\", \n",
    "                     unix_socket=\"/Applications/MAMP/tmp/mysql/mysql.sock\")"
   ]
  },
  {
   "cell_type": "code",
   "execution_count": 56,
   "metadata": {},
   "outputs": [
    {
     "name": "stderr",
     "output_type": "stream",
     "text": [
      "┌ Warning: `MySQL.query(conn, sql)` will return a MySQL.Query in the future; to materialize the result, use `MySQL.query(conn, sql) |> columntable` or `MySQL.query(conn, sql) |> DataFrame` instead\n",
      "│   caller = ip:0x0\n",
      "└ @ Core :-1\n"
     ]
    },
    {
     "name": "stdout",
     "output_type": "stream",
     "text": [
      "Album Artist Customer Employee Genre Invoice InvoiceLine MediaType Playlist PlaylistTrack Track "
     ]
    }
   ],
   "source": [
    "df = DataFrame(MySQL.query(conn,\"show tables\"));\n",
    "tb = df[:,1]\n",
    "println(\"Tables in Chinook\")\n",
    "for i = 1:size(tb)[1]\n",
    "    print(tb[i],\" \")\n",
    "end\n"
   ]
  },
  {
   "cell_type": "code",
   "execution_count": 60,
   "metadata": {},
   "outputs": [
    {
     "name": "stderr",
     "output_type": "stream",
     "text": [
      "┌ Warning: `MySQL.query(conn, sql)` will return a MySQL.Query in the future; to materialize the result, use `MySQL.query(conn, sql) |> columntable` or `MySQL.query(conn, sql) |> DataFrame` instead\n",
      "│   caller = ip:0x0\n",
      "└ @ Core :-1\n"
     ]
    },
    {
     "data": {
      "text/html": [
       "<table class=\"data-frame\"><thead><tr><th></th><th>FirstName</th><th>LastName</th><th>Address</th><th>City</th><th>State</th></tr><tr><th></th><th>String</th><th>String</th><th>String⍰</th><th>String⍰</th><th>String⍰</th></tr></thead><tbody><p>2 rows × 5 columns</p><tr><th>1</th><td>Kathy</td><td>Chase</td><td>801 W 4th Street</td><td>Reno</td><td>NV</td></tr><tr><th>2</th><td>Richard</td><td>Cunningham</td><td>2211 W Berry Street</td><td>Fort Worth</td><td>TX</td></tr></tbody></table>"
      ],
      "text/latex": [
       "\\begin{tabular}{r|ccccc}\n",
       "\t& FirstName & LastName & Address & City & State\\\\\n",
       "\t\\hline\n",
       "\t& String & String & String⍰ & String⍰ & String⍰\\\\\n",
       "\t\\hline\n",
       "\t1 & Kathy & Chase & 801 W 4th Street & Reno & NV \\\\\n",
       "\t2 & Richard & Cunningham & 2211 W Berry Street & Fort Worth & TX \\\\\n",
       "\\end{tabular}\n"
      ],
      "text/plain": [
       "2×5 DataFrame\n",
       "│ Row │ FirstName │ LastName   │ Address             │ City       │ State   │\n",
       "│     │ \u001b[90mString\u001b[39m    │ \u001b[90mString\u001b[39m     │ \u001b[90mString⍰\u001b[39m             │ \u001b[90mString⍰\u001b[39m    │ \u001b[90mString⍰\u001b[39m │\n",
       "├─────┼───────────┼────────────┼─────────────────────┼────────────┼─────────┤\n",
       "│ 1   │ Kathy     │ Chase      │ 801 W 4th Street    │ Reno       │ NV      │\n",
       "│ 2   │ Richard   │ Cunningham │ 2211 W Berry Street │ Fort Worth │ TX      │"
      ]
     },
     "execution_count": 60,
     "metadata": {},
     "output_type": "execute_result"
    }
   ],
   "source": [
    "DataFrame(MySQL.query(conn,\"select FirstName, LastName,Address,City,State from Customer where LastName like 'C%'\"))"
   ]
  },
  {
   "cell_type": "code",
   "execution_count": 67,
   "metadata": {},
   "outputs": [
    {
     "name": "stderr",
     "output_type": "stream",
     "text": [
      "┌ Warning: `MySQL.query(conn, sql)` will return a MySQL.Query in the future; to materialize the result, use `MySQL.query(conn, sql) |> columntable` or `MySQL.query(conn, sql) |> DataFrame` instead\n",
      "│   caller = ip:0x0\n",
      "└ @ Core :-1\n"
     ]
    },
    {
     "data": {
      "text/html": [
       "<table class=\"data-frame\"><thead><tr><th></th><th>FirstName</th><th>LastName</th><th>Total spent</th></tr><tr><th></th><th>String</th><th>String</th><th>DecFP…⍰</th></tr></thead><tbody><p>2 rows × 3 columns</p><tr><th>1</th><td>Kathy</td><td>Chase</td><td>37.62</td></tr><tr><th>2</th><td>Richard</td><td>Cunningham</td><td>47.62</td></tr></tbody></table>"
      ],
      "text/latex": [
       "\\begin{tabular}{r|ccc}\n",
       "\t& FirstName & LastName & Total spent\\\\\n",
       "\t\\hline\n",
       "\t& String & String & DecFP…⍰\\\\\n",
       "\t\\hline\n",
       "\t1 & Kathy & Chase & 37.62 \\\\\n",
       "\t2 & Richard & Cunningham & 47.62 \\\\\n",
       "\\end{tabular}\n"
      ],
      "text/plain": [
       "2×3 DataFrame\n",
       "│ Row │ FirstName │ LastName   │ Total spent │\n",
       "│     │ \u001b[90mString\u001b[39m    │ \u001b[90mString\u001b[39m     │ \u001b[90mDecFP…⍰\u001b[39m     │\n",
       "├─────┼───────────┼────────────┼─────────────┤\n",
       "│ 1   │ Kathy     │ Chase      │ 37.62       │\n",
       "│ 2   │ Richard   │ Cunningham │ 47.62       │"
      ]
     },
     "execution_count": 67,
     "metadata": {},
     "output_type": "execute_result"
    }
   ],
   "source": [
    "sql = \"select a.FirstName,a.LastName, sum(b.Total) as 'Total spent'\";\n",
    "sql *= \" from Customer a\";\n",
    "sql *= \" join Invoice b on a.CustomerId = b.CustomerId\";\n",
    "sql *= \" group by a.FirstName, a.LastName\"\n",
    "sql *= \" having a.LastName like 'C%'\"\n",
    "MySQL.query(conn,sql) |> DataFrame"
   ]
  },
  {
   "cell_type": "code",
   "execution_count": 20,
   "metadata": {
    "collapsed": true
   },
   "outputs": [],
   "source": [
    "MySQL.disconnect(conn)"
   ]
  }
 ],
 "metadata": {
  "kernelspec": {
   "display_name": "Julia 1.0.2",
   "language": "julia",
   "name": "julia-1.0"
  },
  "language_info": {
   "file_extension": ".jl",
   "mimetype": "application/julia",
   "name": "julia",
   "version": "1.0.2"
  }
 },
 "nbformat": 4,
 "nbformat_minor": 2
}
