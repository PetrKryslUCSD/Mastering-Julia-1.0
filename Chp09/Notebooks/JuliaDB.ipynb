{
 "cells": [
  {
   "cell_type": "markdown",
   "metadata": {},
   "source": [
    "---\n",
    "\n",
    "# JuliaDB - Testing\n",
    "\n",
    "---\n"
   ]
  },
  {
   "cell_type": "code",
   "execution_count": 87,
   "metadata": {
    "collapsed": true
   },
   "outputs": [],
   "source": [
    "using JuliaDB, IndexedTables, OnlineStats"
   ]
  },
  {
   "cell_type": "code",
   "execution_count": 88,
   "metadata": {
    "collapsed": true
   },
   "outputs": [],
   "source": [
    "using StatsPlots, StaticArrays   # Note the name change from Stat[s]Plots"
   ]
  },
  {
   "cell_type": "markdown",
   "metadata": {},
   "source": [
    "## Flight statistics example"
   ]
  },
  {
   "cell_type": "code",
   "execution_count": 6,
   "metadata": {
    "collapsed": true
   },
   "outputs": [],
   "source": [
    "cd(\"/Users/malcolm/PacktPub/Chp09\")\n",
    "\n",
    "# Load the data\n",
    "flights = loadtable(\"Files/hhflights.csv\");"
   ]
  },
  {
   "cell_type": "code",
   "execution_count": 7,
   "metadata": {},
   "outputs": [
    {
     "data": {
      "text/plain": [
       "Table with 547 rows, 21 columns:\n",
       "Columns:\n",
       "\u001b[1m#   \u001b[22m\u001b[1mcolname            \u001b[22m\u001b[1mtype\u001b[22m\n",
       "──────────────────────────────\n",
       "1   Year               Int64\n",
       "2   Month              Int64\n",
       "3   DayofMonth         Int64\n",
       "4   DayOfWeek          Int64\n",
       "5   DepTime            Int64\n",
       "6   ArrTime            Int64\n",
       "7   UniqueCarrier      String\n",
       "8   FlightNum          Int64\n",
       "9   TailNum            String\n",
       "10  ActualElapsedTime  Int64\n",
       "11  AirTime            Int64\n",
       "12  ArrDelay           Int64\n",
       "13  DepDelay           Int64\n",
       "14  Origin             String\n",
       "15  Dest               String\n",
       "16  Distance           Int64\n",
       "17  TaxiIn             Int64\n",
       "18  TaxiOut            Int64\n",
       "19  Cancelled          Int64\n",
       "20  CancellationCode   Missing\n",
       "21  Diverted           Int64"
      ]
     },
     "execution_count": 7,
     "metadata": {},
     "output_type": "execute_result"
    }
   ],
   "source": [
    "# Define a filter (1st day os each month)\n",
    "\n",
    "filter(i -> (i.Month == 1) && (i.DayofMonth == 1), flights)"
   ]
  },
  {
   "cell_type": "code",
   "execution_count": 8,
   "metadata": {},
   "outputs": [
    {
     "data": {
      "text/plain": [
       "Table with 223874 rows, 3 columns:\n",
       "DepTime  ArrTime  FlightNum\n",
       "───────────────────────────\n",
       "1400     1500     428\n",
       "1401     1501     428\n",
       "1352     1502     428\n",
       "1403     1513     428\n",
       "1405     1507     428\n",
       "1359     1503     428\n",
       "1359     1509     428\n",
       "1355     1454     428\n",
       "1443     1554     428\n",
       "1443     1553     428\n",
       "1429     1539     428\n",
       "1419     1515     428\n",
       "⋮\n",
       "1939     2119     124\n",
       "556      745      280\n",
       "1026     1208     782\n",
       "1611     1746     1050\n",
       "758      1051     201\n",
       "1307     1600     471\n",
       "1818     2111     1191\n",
       "2047     2334     1674\n",
       "912      1031     127\n",
       "656      812      621\n",
       "1600     1713     1597"
      ]
     },
     "execution_count": 8,
     "metadata": {},
     "output_type": "execute_result"
    }
   ],
   "source": [
    "# Select all flights Departure/Arrival/FlightNum\n",
    "select(flights, (:DepTime, :ArrTime, :FlightNum))"
   ]
  },
  {
   "cell_type": "code",
   "execution_count": 9,
   "metadata": {},
   "outputs": [
    {
     "data": {
      "text/plain": [
       "Table with 10164 rows, 2 columns:\n",
       "UniqueCarrier  DepDelay\n",
       "───────────────────────\n",
       "\"AA\"           90\n",
       "\"AA\"           67\n",
       "\"AA\"           74\n",
       "\"AA\"           125\n",
       "\"AA\"           82\n",
       "\"AA\"           99\n",
       "\"AA\"           70\n",
       "\"AA\"           61\n",
       "\"AA\"           74\n",
       "\"AS\"           73\n",
       "\"B6\"           136\n",
       "\"B6\"           68\n",
       "⋮\n",
       "\"WN\"           129\n",
       "\"WN\"           61\n",
       "\"WN\"           70\n",
       "\"WN\"           76\n",
       "\"WN\"           63\n",
       "\"WN\"           144\n",
       "\"WN\"           117\n",
       "\"WN\"           124\n",
       "\"WN\"           72\n",
       "\"WN\"           70\n",
       "\"WN\"           78"
      ]
     },
     "execution_count": 9,
     "metadata": {},
     "output_type": "execute_result"
    }
   ],
   "source": [
    "filter(i -> i.DepDelay > 60, select(flights, (:UniqueCarrier, :DepDelay)))"
   ]
  },
  {
   "cell_type": "code",
   "execution_count": 157,
   "metadata": {},
   "outputs": [
    {
     "data": {
      "text/plain": [
       "223874-element Array{Float64,1}:\n",
       " 336.0   \n",
       " 298.6667\n",
       " 280.0   \n",
       " 344.6154\n",
       " 305.4545\n",
       " 298.6667\n",
       " 312.5581\n",
       " 336.0   \n",
       " 327.8049\n",
       " 298.6667\n",
       " 320.0   \n",
       " 327.8049\n",
       " 305.4545\n",
       "   ⋮     \n",
       " 261.8182\n",
       " 508.8889\n",
       " 473.7931\n",
       " 479.3023\n",
       " 496.6265\n",
       " 468.6   \n",
       " 478.1633\n",
       " 483.0928\n",
       " 498.5106\n",
       " 445.5738\n",
       " 424.6875\n",
       " 460.678 "
      ]
     },
     "execution_count": 157,
     "metadata": {},
     "output_type": "execute_result"
    }
   ],
   "source": [
    "# Apply function to each row, using 'map'\n",
    "\n",
    "speedy = round.(map(i -> i.Distance / i.AirTime * 60, flights), digits=4)"
   ]
  },
  {
   "cell_type": "code",
   "execution_count": 14,
   "metadata": {},
   "outputs": [
    {
     "data": {
      "text/plain": [
       "Table with 223874 rows, 23 columns:\n",
       "Columns:\n",
       "\u001b[1m#   \u001b[22m\u001b[1mcolname            \u001b[22m\u001b[1mtype\u001b[22m\n",
       "──────────────────────────────\n",
       "1   Year               Int64\n",
       "2   Month              Int64\n",
       "3   DayofMonth         Int64\n",
       "4   DayOfWeek          Int64\n",
       "5   DepTime            Int64\n",
       "6   ArrTime            Int64\n",
       "7   UniqueCarrier      String\n",
       "8   FlightNum          Int64\n",
       "9   TailNum            String\n",
       "10  ActualElapsedTime  Int64\n",
       "11  AirTime            Int64\n",
       "12  ArrDelay           Int64\n",
       "13  DepDelay           Int64\n",
       "14  Origin             String\n",
       "15  Dest               String\n",
       "16  Distance           Int64\n",
       "17  TaxiIn             Int64\n",
       "18  TaxiOut            Int64\n",
       "19  Cancelled          Int64\n",
       "20  CancellationCode   Missing\n",
       "21  Diverted           Int64\n",
       "22  Speed              Float64\n",
       "23  Speedy             Float64"
      ]
     },
     "execution_count": 14,
     "metadata": {},
     "output_type": "execute_result"
    }
   ],
   "source": [
    "# Add speed to the dataset\n",
    "flights = pushcol(flights, :Speedy, speedy)"
   ]
  },
  {
   "cell_type": "code",
   "execution_count": 15,
   "metadata": {},
   "outputs": [
    {
     "data": {
      "text/plain": [
       "Table with 12 rows, 3 columns:\n",
       "\u001b[1mMonth  \u001b[22mlength  change\n",
       "──────────────────────\n",
       "1      18665   missing\n",
       "2      15975   -2690\n",
       "3      19267   3292\n",
       "4      18266   -1001\n",
       "5      18830   564\n",
       "6      19360   530\n",
       "7      20312   952\n",
       "8      19927   -385\n",
       "9      17914   -2013\n",
       "10     18548   634\n",
       "11     17933   -615\n",
       "12     18877   944"
      ]
     },
     "execution_count": 15,
     "metadata": {},
     "output_type": "execute_result"
    }
   ],
   "source": [
    "using ShiftedArrays\n",
    "y = groupby(length, flights, :Month)\n",
    "lengths = columns(y, :length)\n",
    "pushcol(y, :change, lengths .- lag(lengths))"
   ]
  },
  {
   "cell_type": "code",
   "execution_count": 16,
   "metadata": {},
   "outputs": [
    {
     "data": {
      "text/plain": [
       "Table with 10164 rows, 2 columns:\n",
       "UniqueCarrier  DepDelay\n",
       "───────────────────────\n",
       "\"AA\"           90\n",
       "\"AA\"           67\n",
       "\"AA\"           74\n",
       "\"AA\"           125\n",
       "\"AA\"           82\n",
       "\"AA\"           99\n",
       "\"AA\"           70\n",
       "\"AA\"           61\n",
       "\"AA\"           74\n",
       "\"AS\"           73\n",
       "\"B6\"           136\n",
       "\"B6\"           68\n",
       "⋮\n",
       "\"WN\"           129\n",
       "\"WN\"           61\n",
       "\"WN\"           70\n",
       "\"WN\"           76\n",
       "\"WN\"           63\n",
       "\"WN\"           144\n",
       "\"WN\"           117\n",
       "\"WN\"           124\n",
       "\"WN\"           72\n",
       "\"WN\"           70\n",
       "\"WN\"           78"
      ]
     },
     "execution_count": 16,
     "metadata": {},
     "output_type": "execute_result"
    }
   ],
   "source": [
    "# Apply several operations\n",
    "import Lazy\n",
    "Lazy.@as x flights begin\n",
    "    select(x, (:UniqueCarrier, :DepDelay))\n",
    "    filter(i -> i.DepDelay > 60, x)\n",
    "end"
   ]
  },
  {
   "cell_type": "code",
   "execution_count": 17,
   "metadata": {},
   "outputs": [
    {
     "data": {
      "text/plain": [
       "Table with 223874 rows, 23 columns:\n",
       "Columns:\n",
       "\u001b[1m#   \u001b[22m\u001b[1mcolname            \u001b[22m\u001b[1mtype\u001b[22m\n",
       "──────────────────────────────\n",
       "1   Dest               String\n",
       "2   Year               Int64\n",
       "3   Month              Int64\n",
       "4   DayofMonth         Int64\n",
       "5   DayOfWeek          Int64\n",
       "6   DepTime            Int64\n",
       "7   ArrTime            Int64\n",
       "8   UniqueCarrier      String\n",
       "9   FlightNum          Int64\n",
       "10  TailNum            String\n",
       "11  ActualElapsedTime  Int64\n",
       "12  AirTime            Int64\n",
       "13  ArrDelay           Int64\n",
       "14  DepDelay           Int64\n",
       "15  Origin             String\n",
       "16  Distance           Int64\n",
       "17  TaxiIn             Int64\n",
       "18  TaxiOut            Int64\n",
       "19  Cancelled          Int64\n",
       "20  CancellationCode   Missing\n",
       "21  Diverted           Int64\n",
       "22  Speed              Float64\n",
       "23  Speedy             Float64"
      ]
     },
     "execution_count": 17,
     "metadata": {},
     "output_type": "execute_result"
    }
   ],
   "source": [
    "# Performance\n",
    "\n",
    "using BenchmarkTools\n",
    "sortedflights = reindex(flights, :Dest)"
   ]
  },
  {
   "cell_type": "code",
   "execution_count": 25,
   "metadata": {
    "collapsed": true
   },
   "outputs": [],
   "source": [
    "# println(\"Presorted timing:\")\n",
    "# @benchmark groupby(NamedTuple(avg_delay = mean.(dropmissing(sortedflights), sortedflights, select = :ArrDelay)))"
   ]
  },
  {
   "cell_type": "code",
   "execution_count": 26,
   "metadata": {},
   "outputs": [
    {
     "data": {
      "text/plain": [
       "Table with 223874 rows, 23 columns:\n",
       "Columns:\n",
       "\u001b[1m#   \u001b[22m\u001b[1mcolname            \u001b[22m\u001b[1mtype\u001b[22m\n",
       "──────────────────────────────\n",
       "1   Year               Int64\n",
       "2   Month              Int64\n",
       "3   DayofMonth         Int64\n",
       "4   DayOfWeek          Int64\n",
       "5   DepTime            Int64\n",
       "6   ArrTime            Int64\n",
       "7   UniqueCarrier      String\n",
       "8   FlightNum          Int64\n",
       "9   TailNum            String\n",
       "10  ActualElapsedTime  Int64\n",
       "11  AirTime            Int64\n",
       "12  ArrDelay           Int64\n",
       "13  DepDelay           Int64\n",
       "14  Origin             String\n",
       "15  Dest               String\n",
       "16  Distance           Int64\n",
       "17  TaxiIn             Int64\n",
       "18  TaxiOut            Int64\n",
       "19  Cancelled          Int64\n",
       "20  CancellationCode   Missing\n",
       "21  Diverted           Int64\n",
       "22  Speed              Float64\n",
       "23  Speedy             Float64"
      ]
     },
     "execution_count": 26,
     "metadata": {},
     "output_type": "execute_result"
    }
   ],
   "source": [
    "# Grouping\n",
    "\n",
    "using StatsBase, Nullables\n",
    "fc = filter(t->!isnull(t.DepDelay), flights)"
   ]
  },
  {
   "cell_type": "code",
   "execution_count": 27,
   "metadata": {},
   "outputs": [
    {
     "data": {
      "text/plain": [
       "Table with 30 rows, 4 columns:\n",
       "\u001b[1mUniqueCarrier  \u001b[22mMonth  DayofMonth  DepDelay\n",
       "──────────────────────────────────────────\n",
       "\"AA\"           12     12          970\n",
       "\"AA\"           11     19          677\n",
       "\"AS\"           2      28          172\n",
       "\"AS\"           7      6           138\n",
       "\"B6\"           10     29          310\n",
       "\"B6\"           8      19          283\n",
       "\"CO\"           8      1           981\n",
       "\"CO\"           1      20          780\n",
       "\"DL\"           10     25          730\n",
       "\"DL\"           4      5           497\n",
       "\"EV\"           6      25          479\n",
       "\"EV\"           1      5           465\n",
       "⋮\n",
       "\"OO\"           4      4           343\n",
       "\"UA\"           6      21          869\n",
       "\"UA\"           9      18          588\n",
       "\"US\"           4      19          425\n",
       "\"US\"           8      26          277\n",
       "\"WN\"           9      29          503\n",
       "\"WN\"           5      12          499\n",
       "\"XE\"           12     29          628\n",
       "\"XE\"           12     29          511\n",
       "\"YV\"           4      22          54\n",
       "\"YV\"           4      30          46"
      ]
     },
     "execution_count": 27,
     "metadata": {},
     "output_type": "execute_result"
    }
   ],
   "source": [
    "gfc = groupby(fc, :UniqueCarrier, select = (:Month, :DayofMonth, :DepDelay), flatten = true) do dd\n",
    "    rks = ordinalrank(column(dd, :DepDelay), rev = true)\n",
    "    sort(dd[rks .<= 2], by =  i -> i.DepDelay, rev = true)\n",
    "end"
   ]
  },
  {
   "cell_type": "code",
   "execution_count": 29,
   "metadata": {
    "collapsed": true
   },
   "outputs": [],
   "source": [
    "#=\n",
    "groupby(fc, :UniqueCarrier, select = (:Month, :DayofMonth, :DepDelay), flatten = true) do dd\n",
    "    select(dd, 1:2, by = i -> i.DepDelay, rev = true)\n",
    "end\n",
    "=#"
   ]
  },
  {
   "cell_type": "code",
   "execution_count": 30,
   "metadata": {},
   "outputs": [
    {
     "data": {
      "image/png": "[encoded data removed]"
     },
     "execution_count": 30,
     "metadata": {},
     "output_type": "execute_result"
    }
   ],
   "source": [
    "# Visualization\n",
    "\n",
    "using StatsPlots\n",
    "gr(fmt = :png) # choose the fast GR backend and set format to png: svg would probably crash with so many points\n",
    "@df flights scatter(:DepDelay, :ArrDelay, group = :Distance .> 1000,  fmt = :png, layout = 2, legend = :topleft)\n"
   ]
  },
  {
   "cell_type": "markdown",
   "metadata": {},
   "source": [
    "---"
   ]
  },
  {
   "cell_type": "markdown",
   "metadata": {},
   "source": [
    "## Financial Example"
   ]
  },
  {
   "cell_type": "code",
   "execution_count": 31,
   "metadata": {},
   "outputs": [
    {
     "data": {
      "text/plain": [
       "\"/Users/malcolm/PacktPub/Chp09/Files/Stocks\""
      ]
     },
     "execution_count": 31,
     "metadata": {},
     "output_type": "execute_result"
    }
   ],
   "source": [
    "# using Pkg\n",
    "\n",
    "# path = Pkg.dir(\"JuliaDB\", \"test\", \"sample\")\n",
    "# path = joinpath(dirname(pathof(JuliaDB)), \"..\",\"test\",\"sample\")\n",
    "path =  joinpath(homedir(), \"PacktPub\",\"Chp09\",\"Files\",\"Stocks\")"
   ]
  },
  {
   "cell_type": "code",
   "execution_count": 34,
   "metadata": {},
   "outputs": [
    {
     "data": {
      "text/plain": [
       "2-d NDSparse with 288 values (5 field named tuples):\n",
       "date        ticker  │ open     high     low      close   volume\n",
       "────────────────────┼─────────────────────────────────────────────\n",
       "2010-01-01  \"GOOGL\" │ 626.95   629.51   540.99   626.75  1.78022e8\n",
       "2010-01-01  \"GS\"    │ 170.05   178.75   154.88   173.08  2.81862e8\n",
       "2010-01-01  \"KO\"    │ 57.16    57.4301  54.94    57.04   1.92693e8\n",
       "2010-01-01  \"XRX\"   │ 8.54     9.48     8.91     8.63    3.00838e8\n",
       "2010-02-01  \"GOOGL\" │ 534.602  547.5    531.75   533.02  1.03964e8\n",
       "2010-02-01  \"GS\"    │ 149.82   160.21   156.99   153.13  2.3197e8\n",
       "2010-02-01  \"KO\"    │ 54.51    55.92    53.09    54.38   2.28993e8\n",
       "2010-02-01  \"XRX\"   │ 8.75     9.4      9.31     8.97    3.10746e8\n",
       "2010-03-01  \"GOOGL\" │ 529.2    588.275  569.74   532.69  1.67381e8\n",
       "2010-03-01  \"GS\"    │ 156.51   178.73   171.66   156.54  2.40365e8\n",
       "2010-03-01  \"KO\"    │ 53.22    55.36    55.29    53.27   2.67852e8\n",
       "2010-03-01  \"XRX\"   │ 9.38     10.17    9.78     9.55    2.84334e8\n",
       "                    ⋮\n",
       "2015-10-01  \"GS\"    │ 174.4    191.96   190.09   176.02  6.87162e7\n",
       "2015-10-01  \"KO\"    │ 40.22    43.85    42.86    39.8    3.66559e8\n",
       "2015-10-01  \"XRX\"   │ 9.71     10.64    9.49     9.64    3.21783e8\n",
       "2015-11-01  \"GOOGL\" │ 737.88   782.9    775.03   747.74  3.75742e7\n",
       "2015-11-01  \"GS\"    │ 188.32   199.9    191.08   189.68  5.06942e7\n",
       "2015-11-01  \"KO\"    │ 42.32    43.6     43.15    42.24   2.52117e8\n",
       "2015-11-01  \"XRX\"   │ 9.43     11.02    10.68    9.69    2.45964e8\n",
       "2015-12-01  \"GOOGL\" │ 766.94   798.69   788.33   783.79  4.36505e7\n",
       "2015-12-01  \"GS\"    │ 191.22   193.84   182.885  193.07  6.54523e7\n",
       "2015-12-01  \"KO\"    │ 42.73    43.91    43.34    42.89   2.86571e8\n",
       "2015-12-01  \"XRX\"   │ 10.58    10.93    10.7037  10.69   2.05488e8"
      ]
     },
     "execution_count": 34,
     "metadata": {},
     "output_type": "execute_result"
    }
   ],
   "source": [
    "### sampledata = loadfiles(path, indexcols=[\"date\", \"ticker\"])\n",
    "stockdata = loadndsparse(path, indexcols=[\"date\", \"ticker\"])"
   ]
  },
  {
   "cell_type": "code",
   "execution_count": 36,
   "metadata": {},
   "outputs": [
    {
     "data": {
      "text/plain": [
       "(open = 480.43, high = 509.25, low = 457.83, close = 482.37, volume = 1.196056e8)"
      ]
     },
     "execution_count": 36,
     "metadata": {},
     "output_type": "execute_result"
    }
   ],
   "source": [
    "using Dates\n",
    "stockdata[Date(\"2010-06-01\"), \"GOOGL\"] "
   ]
  },
  {
   "cell_type": "code",
   "execution_count": 37,
   "metadata": {},
   "outputs": [
    {
     "data": {
      "text/plain": [
       "2-d NDSparse with 72 values (5 field named tuples):\n",
       "date        ticker  │ open     high     low      close   volume\n",
       "────────────────────┼─────────────────────────────────────────────\n",
       "2012-01-01  \"GOOGL\" │ 652.94   670.25   584.0    665.41  1.47137e8\n",
       "2012-01-01  \"KO\"    │ 70.15    70.71    67.98    70.14   1.50116e8\n",
       "2012-02-01  \"GOOGL\" │ 584.94   625.6    619.77   580.83  9.46335e7\n",
       "2012-02-01  \"KO\"    │ 67.88    69.98    69.5     67.85   1.43833e8\n",
       "2012-03-01  \"GOOGL\" │ 622.26   658.589  653.49   622.4   9.45647e7\n",
       "2012-03-01  \"KO\"    │ 69.87    74.39    74.14    69.6    2.05125e8\n",
       "2012-04-01  \"GOOGL\" │ 640.77   653.14   616.082  646.92  1.17637e8\n",
       "2012-04-01  \"KO\"    │ 73.83    77.82    76.9     74.14   1.46185e8\n",
       "2012-05-01  \"GOOGL\" │ 603.79   637.85   590.0    604.43  1.17228e8\n",
       "2012-05-01  \"KO\"    │ 76.54    77.74    75.22    76.93   1.67695e8\n",
       "2012-06-01  \"GOOGL\" │ 571.79   587.89   580.13   570.98  9.29145e7\n",
       "2012-06-01  \"KO\"    │ 73.99    78.19    76.67    73.09   1.39787e8\n",
       "                    ⋮\n",
       "2014-07-01  \"KO\"    │ 42.39    42.57    39.73    42.29   2.82905e8\n",
       "2014-08-01  \"GOOGL\" │ 578.555  597.81   582.9    573.6   2.90466e7\n",
       "2014-08-01  \"KO\"    │ 39.41    41.75    41.71    39.4    2.47873e8\n",
       "2014-09-01  \"GOOGL\" │ 582.95   605.4    591.0    588.63  3.54137e7\n",
       "2014-09-01  \"KO\"    │ 41.52    42.81    42.345   41.64   3.14736e8\n",
       "2014-10-01  \"GOOGL\" │ 586.8    592.4    568.73   579.63  5.5503e7\n",
       "2014-10-01  \"KO\"    │ 42.55    44.87    41.89    42.74   5.2988e8\n",
       "2014-11-01  \"GOOGL\" │ 563.53   567.15   549.6    563.77  2.97753e7\n",
       "2014-11-01  \"KO\"    │ 41.79    45.0     44.78    41.81   2.54107e8\n",
       "2014-12-01  \"GOOGL\" │ 545.09   548.79   538.4    539.65  5.44696e7\n",
       "2014-12-01  \"KO\"    │ 44.18    44.765   42.94    44.55   3.26856e8"
      ]
     },
     "execution_count": 37,
     "metadata": {},
     "output_type": "execute_result"
    }
   ],
   "source": [
    "stockdata[Date(\"2012-01\"):Dates.Month(1):Date(\"2014-12\"), [\"GOOGL\", \"KO\"]]"
   ]
  },
  {
   "cell_type": "code",
   "execution_count": 133,
   "metadata": {},
   "outputs": [
    {
     "data": {
      "text/plain": [
       "1-d NDSparse with 17 values (5 field named tuples):\n",
       "date       │ open    high     low     close   volume\n",
       "───────────┼───────────────────────────────────────────\n",
       "2010-07-01 │ 131.69  153.41   153.15  131.14  2.2909e8\n",
       "2010-09-01 │ 139.01  154.7    146.98  139.74  1.402e8\n",
       "2011-06-01 │ 139.95  140.0    133.8   136.17  1.35784e8\n",
       "2011-07-01 │ 133.43  139.25   136.6   136.65  1.13317e8\n",
       "2011-08-01 │ 136.92  137.34   117.8   134.15  2.3048e8\n",
       "2011-09-01 │ 115.55  115.55   98.4    112.16  1.66764e8\n",
       "2011-11-01 │ 103.49  109.257  96.01   103.54  1.50194e8\n",
       "2012-02-01 │ 112.61  118.66   118.13  113.45  1.1445e8\n",
       "2012-03-01 │ 115.97  128.72   125.47  121.13  1.48683e8\n",
       "2012-04-01 │ 124.14  125.54   115.3   124.9   1.18237e8\n",
       "2012-05-01 │ 114.84  116.48   96.65   115.33  1.21117e8\n",
       "2012-08-01 │ 101.27  107.34   106.58  100.09  7.08954e7\n",
       "2012-09-01 │ 105.55  122.6    115.01  106.41  9.11556e7\n",
       "2012-10-01 │ 116.67  126.48   122.6   116.86  9.61152e7\n",
       "2012-11-01 │ 122.82  126.73   119.44  124.85  7.84732e7\n",
       "2012-12-01 │ 118.42  129.72   127.68  118.4   8.03803e7\n",
       "2013-01-01 │ 131.3   148.0    147.5   131.66  9.89127e7"
      ]
     },
     "execution_count": 133,
     "metadata": {},
     "output_type": "execute_result"
    }
   ],
   "source": [
    "filter(x ->  x.close >= 100.0 && x.close <= 140.0, stockdata[:, \"GS\"])"
   ]
  },
  {
   "cell_type": "code",
   "execution_count": 158,
   "metadata": {},
   "outputs": [
    {
     "data": {
      "text/plain": [
       "2-d NDSparse with 10 values (5 field named tuples):\n",
       "date        ticker │ open   high    low    close  volume\n",
       "───────────────────┼───────────────────────────────────────\n",
       "2010-01-01  \"XRX\"  │ 8.54   9.48    8.91   8.63   3.00838e8\n",
       "2010-10-01  \"XRX\"  │ 10.41  11.73   11.7   10.5   2.73763e8\n",
       "2011-04-01  \"XRX\"  │ 10.71  11.03   10.18  10.88  2.79543e8\n",
       "2011-07-01  \"XRX\"  │ 10.38  10.83   9.55   10.71  2.71723e8\n",
       "2012-06-01  \"XRX\"  │ 7.06   7.88    7.88   7.12   2.4474e8\n",
       "2013-02-01  \"XRX\"  │ 8.1    8.23    8.2    8.02   1.71174e8\n",
       "2013-03-01  \"XRX\"  │ 8.07   8.77    8.62   8.15   1.63994e8\n",
       "2013-11-01  \"XRX\"  │ 10.01  11.48   11.41  10.02  2.2431e8\n",
       "2014-08-01  \"XRX\"  │ 13.18  13.88   13.77  13.04  1.40391e8\n",
       "2015-05-01  \"XRX\"  │ 11.55  11.859  11.5   11.52  2.09801e8"
      ]
     },
     "execution_count": 158,
     "metadata": {},
     "output_type": "execute_result"
    }
   ],
   "source": [
    "### select(stockdata, 1=>Dates.ismonday, 2=>x->startswith(x, \"G\"))\n",
    "goFri = filter((1=>Dates.isfriday, 2=>x->startswith(x, \"X\")), stockdata)"
   ]
  },
  {
   "cell_type": "code",
   "execution_count": 146,
   "metadata": {},
   "outputs": [
    {
     "data": {
      "text/plain": [
       "32.7057"
      ]
     },
     "execution_count": 146,
     "metadata": {},
     "output_type": "execute_result"
    }
   ],
   "source": [
    "# Select just the GOOGLE stocks \n",
    "googl = stockdata[:, [\"GOOGL\"]]\n",
    "\n",
    "# Create a set of spread values (i.e High - Low)\n",
    "spread = map(x -> x.high - x.low, googl)\n",
    "\n",
    "# Compute the average spread\n",
    "round(reduce(+,(mean.(spread)))/length(spread), digits=4)"
   ]
  },
  {
   "cell_type": "code",
   "execution_count": 145,
   "metadata": {},
   "outputs": [
    {
     "data": {
      "text/plain": [
       "-0.3395"
      ]
     },
     "execution_count": 145,
     "metadata": {},
     "output_type": "execute_result"
    }
   ],
   "source": [
    "# More realistic is the average gain (i.e. Open - Close)\n",
    "gain = map(x -> x.open - x.close, googl)\n",
    "round(reduce(+,(mean.(gain)))/length(gain), digits=4)\n",
    "\n",
    "# Note that dataset is only the FIRST day in the month so the value is not necessarily "
   ]
  },
  {
   "cell_type": "code",
   "execution_count": 134,
   "metadata": {},
   "outputs": [],
   "source": [
    "# pushcol(googl, :gain, gain)"
   ]
  },
  {
   "cell_type": "code",
   "execution_count": 144,
   "metadata": {},
   "outputs": [
    {
     "data": {
      "text/plain": [
       "0.2758"
      ]
     },
     "execution_count": 144,
     "metadata": {},
     "output_type": "execute_result"
    }
   ],
   "source": [
    "# sratio = (Open - Close)/(High - Low ) ϵ [-1.0,1.0] \n",
    "ρ = map(x -> (x.open - x.close) / (x.high - x.low), googl)\n",
    "round(reduce(+,(mean.(ρ)))/length(ρ),digits=4)\n",
    "\n",
    "# If this is Weiner (Brownian) process the value should be about 0.5"
   ]
  },
  {
   "cell_type": "code",
   "execution_count": 100,
   "metadata": {
    "collapsed": true
   },
   "outputs": [],
   "source": [
    "using OnlineStats"
   ]
  },
  {
   "cell_type": "code",
   "execution_count": 116,
   "metadata": {},
   "outputs": [
    {
     "data": {
      "text/plain": [
       "Mean: n=72 | value=663.283"
      ]
     },
     "execution_count": 116,
     "metadata": {},
     "output_type": "execute_result"
    }
   ],
   "source": [
    "reduce(Mean(), googl; select = :close)"
   ]
  },
  {
   "cell_type": "code",
   "execution_count": 120,
   "metadata": {},
   "outputs": [
    {
     "data": {
      "text/plain": [
       "1-d NDSparse with 4 values (Mean{Float64,EqualWeight}):\n",
       "ticker  │\n",
       "────────┼───────────────────────────\n",
       "\"GOOGL\" │ Mean: n=72 | value=663.283\n",
       "\"GS\"    │ Mean: n=72 | value=152.9\n",
       "\"KO\"    │ Mean: n=72 | value=51.0185\n",
       "\"XRX\"   │ Mean: n=72 | value=9.99694"
      ]
     },
     "execution_count": 120,
     "metadata": {},
     "output_type": "execute_result"
    }
   ],
   "source": [
    "groupreduce(Mean(),stockdata,:ticker; select=:close)"
   ]
  },
  {
   "cell_type": "code",
   "execution_count": 89,
   "metadata": {
    "collapsed": true
   },
   "outputs": [],
   "source": [
    "using StatsPlots"
   ]
  },
  {
   "cell_type": "code",
   "execution_count": 126,
   "metadata": {},
   "outputs": [
    {
     "data": {
      "image/png": "[encoded data removed]"
     },
     "execution_count": 126,
     "metadata": {},
     "output_type": "execute_result"
    }
   ],
   "source": [
    "@df stockdata plot(:date, :close, group=:ticker, layout = 4, legend = :topleft)"
   ]
  },
  {
   "cell_type": "code",
   "execution_count": null,
   "metadata": {
    "collapsed": true
   },
   "outputs": [],
   "source": []
  }
 ],
 "metadata": {
  "kernelspec": {
   "display_name": "Julia 1.0.2",
   "language": "julia",
   "name": "julia-1.0"
  },
  "language_info": {
   "file_extension": ".jl",
   "mimetype": "application/julia",
   "name": "julia",
   "version": "1.0.2"
  }
 },
 "nbformat": 4,
 "nbformat_minor": 2
}
