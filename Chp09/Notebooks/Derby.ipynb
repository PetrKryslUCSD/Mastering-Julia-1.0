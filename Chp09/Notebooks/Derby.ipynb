{
 "cells": [
  {
   "cell_type": "code",
   "execution_count": 1,
   "metadata": {
    "collapsed": true
   },
   "outputs": [],
   "source": [
    "DH = \"/Users/malcolm/Derby\"; # Save some typing\n",
    "ENV[\"JAVA_HOME\"] = \"/usr/libexec/java_home\"\n",
    "ENV[\"DERBY_HOME\"] = DH;\n",
    "ENV[\"PATH\"] = ENV[\"PATH\"] * \":$(DH)/bin\";\n",
    "ENV[\"CLASSPATH\"] = \"$(DH)/lib/derbytools.jar:$(DH)/lib/derbynet.jar:.\";"
   ]
  },
  {
   "cell_type": "code",
   "execution_count": 2,
   "metadata": {
    "collapsed": true
   },
   "outputs": [],
   "source": [
    "using JavaCall, JDBC"
   ]
  },
  {
   "cell_type": "code",
   "execution_count": null,
   "metadata": {
    "collapsed": true
   },
   "outputs": [],
   "source": []
  }
 ],
 "metadata": {
  "kernelspec": {
   "display_name": "Julia 1.0.3",
   "language": "julia",
   "name": "julia-1.0"
  },
  "language_info": {
   "file_extension": ".jl",
   "mimetype": "application/julia",
   "name": "julia",
   "version": "1.0.3"
  }
 },
 "nbformat": 4,
 "nbformat_minor": 2
}
