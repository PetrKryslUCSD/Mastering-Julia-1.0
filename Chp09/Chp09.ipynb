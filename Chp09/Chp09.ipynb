{
 "cells": [
  {
   "cell_type": "markdown",
   "metadata": {},
   "source": [
    "# Chapter 9"
   ]
  },
  {
   "cell_type": "markdown",
   "metadata": {},
   "source": [
    "## SQLite"
   ]
  },
  {
   "cell_type": "code",
   "execution_count": 39,
   "metadata": {
    "collapsed": true
   },
   "outputs": [],
   "source": [
    "using SQLite"
   ]
  },
  {
   "cell_type": "code",
   "execution_count": 40,
   "metadata": {},
   "outputs": [
    {
     "data": {
      "text/plain": [
       "SQLite.DB(\"quotes.db\")"
      ]
     },
     "execution_count": 40,
     "metadata": {},
     "output_type": "execute_result"
    }
   ],
   "source": [
    "db = SQLite.DB(\"quotes.db\")   # SQLiteDB() etc., are not exported"
   ]
  },
  {
   "cell_type": "code",
   "execution_count": 45,
   "metadata": {},
   "outputs": [
    {
     "data": {
      "text/html": [
       "<table class=\"data-frame\"><thead><tr><th></th><th>name</th></tr><tr><th></th><th>String⍰</th></tr></thead><tbody><p>2 rows × 1 columns</p><tr><th>1</th><td>categories</td></tr><tr><th>2</th><td>quotes</td></tr></tbody></table>"
      ],
      "text/latex": [
       "\\begin{tabular}{r|c}\n",
       "\t& name\\\\\n",
       "\t\\hline\n",
       "\t& String⍰\\\\\n",
       "\t\\hline\n",
       "\t1 & categories \\\\\n",
       "\t2 & quotes \\\\\n",
       "\\end{tabular}\n"
      ],
      "text/plain": [
       "2×1 DataFrame\n",
       "│ Row │ name       │\n",
       "│     │ \u001b[90mString⍰\u001b[39m    │\n",
       "├─────┼────────────┤\n",
       "│ 1   │ categories │\n",
       "│ 2   │ quotes     │"
      ]
     },
     "execution_count": 45,
     "metadata": {},
     "output_type": "execute_result"
    }
   ],
   "source": [
    "SQLite.tables(db)"
   ]
  },
  {
   "cell_type": "code",
   "execution_count": 46,
   "metadata": {},
   "outputs": [
    {
     "data": {
      "text/html": [
       "<table class=\"data-frame\"><thead><tr><th></th><th>cid</th><th>name</th><th>type</th><th>notnull</th><th>dflt_value</th><th>pk</th></tr><tr><th></th><th>Int64⍰</th><th>String⍰</th><th>String⍰</th><th>Int64⍰</th><th>Any</th><th>Int64⍰</th></tr></thead><tbody><p>4 rows × 6 columns</p><tr><th>1</th><td>0</td><td>id</td><td>integer</td><td>1</td><td>missing</td><td>1</td></tr><tr><th>2</th><td>1</td><td>cid</td><td>integer</td><td>1</td><td>missing</td><td>0</td></tr><tr><th>3</th><td>2</td><td>author</td><td>varchar(100)</td><td>0</td><td>missing</td><td>0</td></tr><tr><th>4</th><td>3</td><td>quoname</td><td>varchar(250)</td><td>1</td><td>missing</td><td>0</td></tr></tbody></table>"
      ],
      "text/latex": [
       "\\begin{tabular}{r|cccccc}\n",
       "\t& cid & name & type & notnull & dflt\\_value & pk\\\\\n",
       "\t\\hline\n",
       "\t& Int64⍰ & String⍰ & String⍰ & Int64⍰ & Any & Int64⍰\\\\\n",
       "\t\\hline\n",
       "\t1 & 0 & id & integer & 1 &  & 1 \\\\\n",
       "\t2 & 1 & cid & integer & 1 &  & 0 \\\\\n",
       "\t3 & 2 & author & varchar(100) & 0 &  & 0 \\\\\n",
       "\t4 & 3 & quoname & varchar(250) & 1 &  & 0 \\\\\n",
       "\\end{tabular}\n"
      ],
      "text/plain": [
       "4×6 DataFrame\n",
       "│ Row │ cid    │ name    │ type         │ notnull │ dflt_value │ pk     │\n",
       "│     │ \u001b[90mInt64⍰\u001b[39m │ \u001b[90mString⍰\u001b[39m │ \u001b[90mString⍰\u001b[39m      │ \u001b[90mInt64⍰\u001b[39m  │ \u001b[90mAny\u001b[39m        │ \u001b[90mInt64⍰\u001b[39m │\n",
       "├─────┼────────┼─────────┼──────────────┼─────────┼────────────┼────────┤\n",
       "│ 1   │ 0      │ id      │ integer      │ 1       │ \u001b[90mmissing\u001b[39m    │ 1      │\n",
       "│ 2   │ 1      │ cid     │ integer      │ 1       │ \u001b[90mmissing\u001b[39m    │ 0      │\n",
       "│ 3   │ 2      │ author  │ varchar(100) │ 0       │ \u001b[90mmissing\u001b[39m    │ 0      │\n",
       "│ 4   │ 3      │ quoname │ varchar(250) │ 1       │ \u001b[90mmissing\u001b[39m    │ 0      │"
      ]
     },
     "execution_count": 46,
     "metadata": {},
     "output_type": "execute_result"
    }
   ],
   "source": [
    "SQLite.columns(db,\"quotes\")"
   ]
  },
  {
   "cell_type": "code",
   "execution_count": 41,
   "metadata": {},
   "outputs": [
    {
     "data": {
      "text/html": [
       "<table class=\"data-frame\"><thead><tr><th></th><th>N</th></tr><tr><th></th><th>Int64⍰</th></tr></thead><tbody><p>1 rows × 1 columns</p><tr><th>1</th><td>36</td></tr></tbody></table>"
      ],
      "text/latex": [
       "\\begin{tabular}{r|c}\n",
       "\t& N\\\\\n",
       "\t\\hline\n",
       "\t& Int64⍰\\\\\n",
       "\t\\hline\n",
       "\t1 & 36 \\\\\n",
       "\\end{tabular}\n"
      ],
      "text/plain": [
       "1×1 DataFrame\n",
       "│ Row │ N      │\n",
       "│     │ \u001b[90mInt64⍰\u001b[39m │\n",
       "├─────┼────────┤\n",
       "│ 1   │ 36     │"
      ]
     },
     "execution_count": 41,
     "metadata": {},
     "output_type": "execute_result"
    }
   ],
   "source": [
    "# New syntax, using dataframes\n",
    "\n",
    "df = DataFrame(SQLite.Query(db, \"select count(*) as N from quotes\"))"
   ]
  },
  {
   "cell_type": "code",
   "execution_count": 44,
   "metadata": {},
   "outputs": [
    {
     "data": {
      "text/plain": [
       "1-element Array{Union{Missing, Int64},1}:\n",
       " 36"
      ]
     },
     "execution_count": 44,
     "metadata": {},
     "output_type": "execute_result"
    }
   ],
   "source": [
    "df[1]"
   ]
  },
  {
   "cell_type": "code",
   "execution_count": 14,
   "metadata": {},
   "outputs": [
    {
     "data": {
      "text/html": [
       "<table class=\"data-frame\"><thead><tr><th></th><th>id</th><th>cid</th><th>author</th><th>quoname</th></tr><tr><th></th><th>Int64⍰</th><th>Int64⍰</th><th>String⍰</th><th>String⍰</th></tr></thead><tbody><p>10 rows × 4 columns</p><tr><th>1</th><td>1</td><td>1</td><td>Hofstadter's Law</td><td> It always takes longer than you expect, even when you take Hofstadter's Law into account.</td></tr><tr><th>2</th><td>2</td><td>2</td><td>Noelie Altito</td><td>The shortest distance between two points is under construction.</td></tr><tr><th>3</th><td>3</td><td>3</td><td>Scott's Law</td><td>Adding manpower to a late software project makes it later</td></tr><tr><th>4</th><td>4</td><td>2</td><td>Shaw's Principle</td><td>Build a system that even a fool can use, and only a fool will want to use it.</td></tr><tr><th>5</th><td>5</td><td>4</td><td>Adolf Hiltler</td><td>The great mass of the people  will more easily fall victims to a big lie than a small one</td></tr><tr><th>6</th><td>6</td><td>5</td><td>G. B. Shaw</td><td>There is no satisfaction in hanging a man who does not object to it</td></tr><tr><th>7</th><td>7</td><td>1</td><td>Heller's Law</td><td>The first myth of management is that it exists</td></tr><tr><th>8</th><td>8</td><td>3</td><td>missing</td><td>There are two ways to write error-free programs.  Only the third one works.</td></tr><tr><th>9</th><td>9</td><td>2</td><td>Fingle's Creed</td><td>Science is true.  Don't be misled by facts.</td></tr><tr><th>10</th><td>10</td><td>1</td><td>missing</td><td>Today is the tomorrow you worried about yesterday</td></tr></tbody></table>"
      ],
      "text/latex": [
       "\\begin{tabular}{r|cccc}\n",
       "\t& id & cid & author & quoname\\\\\n",
       "\t\\hline\n",
       "\t& Int64⍰ & Int64⍰ & String⍰ & String⍰\\\\\n",
       "\t\\hline\n",
       "\t1 & 1 & 1 & Hofstadter's Law &  It always takes longer than you expect, even when you take Hofstadter's Law into account. \\\\\n",
       "\t2 & 2 & 2 & Noelie Altito & The shortest distance between two points is under construction. \\\\\n",
       "\t3 & 3 & 3 & Scott's Law & Adding manpower to a late software project makes it later \\\\\n",
       "\t4 & 4 & 2 & Shaw's Principle & Build a system that even a fool can use, and only a fool will want to use it. \\\\\n",
       "\t5 & 5 & 4 & Adolf Hiltler & The great mass of the people  will more easily fall victims to a big lie than a small one \\\\\n",
       "\t6 & 6 & 5 & G. B. Shaw & There is no satisfaction in hanging a man who does not object to it \\\\\n",
       "\t7 & 7 & 1 & Heller's Law & The first myth of management is that it exists \\\\\n",
       "\t8 & 8 & 3 &  & There are two ways to write error-free programs.  Only the third one works. \\\\\n",
       "\t9 & 9 & 2 & Fingle's Creed & Science is true.  Don't be misled by facts. \\\\\n",
       "\t10 & 10 & 1 &  & Today is the tomorrow you worried about yesterday \\\\\n",
       "\\end{tabular}\n"
      ],
      "text/plain": [
       "10×4 DataFrame. Omitted printing of 1 columns\n",
       "│ Row │ id     │ cid    │ author           │\n",
       "│     │ \u001b[90mInt64⍰\u001b[39m │ \u001b[90mInt64⍰\u001b[39m │ \u001b[90mString⍰\u001b[39m          │\n",
       "├─────┼────────┼────────┼──────────────────┤\n",
       "│ 1   │ 1      │ 1      │ Hofstadter's Law │\n",
       "│ 2   │ 2      │ 2      │ Noelie Altito    │\n",
       "│ 3   │ 3      │ 3      │ Scott's Law      │\n",
       "│ 4   │ 4      │ 2      │ Shaw's Principle │\n",
       "│ 5   │ 5      │ 4      │ Adolf Hiltler    │\n",
       "│ 6   │ 6      │ 5      │ G. B. Shaw       │\n",
       "│ 7   │ 7      │ 1      │ Heller's Law     │\n",
       "│ 8   │ 8      │ 3      │ \u001b[90mmissing\u001b[39m          │\n",
       "│ 9   │ 9      │ 2      │ Fingle's Creed   │\n",
       "│ 10  │ 10     │ 1      │ \u001b[90mmissing\u001b[39m          │"
      ]
     },
     "execution_count": 14,
     "metadata": {},
     "output_type": "execute_result"
    }
   ],
   "source": [
    "df = DataFrame(SQLite.Query(db, \"select * from quotes limit 10\"))"
   ]
  },
  {
   "cell_type": "code",
   "execution_count": 64,
   "metadata": {},
   "outputs": [
    {
     "data": {
      "text/html": [
       "<table class=\"data-frame\"><thead><tr><th></th><th>quoname</th><th>author</th><th>catname</th></tr><tr><th></th><th>String⍰</th><th>String⍰</th><th>String⍰</th></tr></thead><tbody><p>5 rows × 3 columns</p><tr><th>1</th><td> It always takes longer than you expect, even when you take Hofstadter's Law into account.</td><td>Hofstadter's Law</td><td>Words of Wisdom</td></tr><tr><th>2</th><td>The shortest distance between two points is under construction.</td><td>Noelie Altito</td><td>Science</td></tr><tr><th>3</th><td>Build a system that even a fool can use, and only a fool will want to use it.</td><td>Shaw's Principle</td><td>Science</td></tr><tr><th>4</th><td>The great mass of the people  will more easily fall victims to a big lie than a small one</td><td>Adolf Hiltler</td><td>Politics</td></tr><tr><th>5</th><td>There is no satisfaction in hanging a man who does not object to it</td><td>G. B. Shaw</td><td>Books &amp; Plays</td></tr></tbody></table>"
      ],
      "text/latex": [
       "\\begin{tabular}{r|ccc}\n",
       "\t& quoname & author & catname\\\\\n",
       "\t\\hline\n",
       "\t& String⍰ & String⍰ & String⍰\\\\\n",
       "\t\\hline\n",
       "\t1 &  It always takes longer than you expect, even when you take Hofstadter's Law into account. & Hofstadter's Law & Words of Wisdom \\\\\n",
       "\t2 & The shortest distance between two points is under construction. & Noelie Altito & Science \\\\\n",
       "\t3 & Build a system that even a fool can use, and only a fool will want to use it. & Shaw's Principle & Science \\\\\n",
       "\t4 & The great mass of the people  will more easily fall victims to a big lie than a small one & Adolf Hiltler & Politics \\\\\n",
       "\t5 & There is no satisfaction in hanging a man who does not object to it & G. B. Shaw & Books \\& Plays \\\\\n",
       "\\end{tabular}\n"
      ],
      "text/plain": [
       "5×3 DataFrame. Omitted printing of 3 columns\n",
       "│ Row │ │     │ ├─────┼\n",
       "│ 1   │ │ 2   │ │ 3   │ │ 4   │ │ 5   │ "
      ]
     },
     "execution_count": 64,
     "metadata": {},
     "output_type": "execute_result"
    }
   ],
   "source": [
    "sql =  \"select q.quoname, q.author, c.catname from quotes q \";\n",
    "sql *= \"join categories c on q.cid = c.id limit 5\";\n",
    "\n",
    "df = DataFrame(SQLite.Query(db,sql))"
   ]
  },
  {
   "cell_type": "code",
   "execution_count": 66,
   "metadata": {},
   "outputs": [
    {
     "data": {
      "text/plain": [
       "\"QuoView01.feather\""
      ]
     },
     "execution_count": 66,
     "metadata": {},
     "output_type": "execute_result"
    }
   ],
   "source": [
    "# The feather package can be used to store snapshots of queries\n",
    "using Feather\n",
    "\n",
    "Feather.write(\"QuoView01.feather\", df)"
   ]
  },
  {
   "cell_type": "code",
   "execution_count": 67,
   "metadata": {},
   "outputs": [
    {
     "data": {
      "text/plain": [
       "(5, 3)"
      ]
     },
     "execution_count": 67,
     "metadata": {},
     "output_type": "execute_result"
    }
   ],
   "source": [
    "# Retrieving fro a feather file is \"lazy\"\n",
    "# That is the metadata is read but records are fetched when they are referenced\n",
    "# So feather files can hold very large datasets with little memory overhead.\n",
    "\n",
    "dfx = Feather.read(\"QuoView01.feather\");\n",
    "size(dfx)"
   ]
  },
  {
   "cell_type": "code",
   "execution_count": 70,
   "metadata": {},
   "outputs": [
    {
     "data": {
      "text/plain": [
       "\" It always takes longer than you expect, even when you take Hofstadter's Law into account.\""
      ]
     },
     "execution_count": 70,
     "metadata": {},
     "output_type": "execute_result"
    }
   ],
   "source": [
    "dfx[1,1]   # Get first quote"
   ]
  },
  {
   "cell_type": "markdown",
   "metadata": {},
   "source": [
    "---"
   ]
  },
  {
   "cell_type": "code",
   "execution_count": 31,
   "metadata": {},
   "outputs": [
    {
     "data": {
      "text/html": [
       "<table class=\"data-frame\"><thead><tr><th></th><th>quoname</th></tr><tr><th></th><th>String⍰</th></tr></thead><tbody><p>6 rows × 1 columns</p><tr><th>1</th><td>The only way to get rid of a temptation is to yield to it.</td></tr><tr><th>2</th><td>There is only one thing in the world worse than being talked about, and that is not being talked about</td></tr><tr><th>3</th><td>I am not at all cynical, I have merely got experience, which, however, is very much the same thing</td></tr><tr><th>4</th><td>To love oneself is the beginning of a lifelong romance</td></tr><tr><th>5</th><td>We are all in the gutter, but some of us are looking at the stars</td></tr><tr><th>6</th><td>London society is full of women of the very highest birth who have, of their own free choice, remained thirty-five for years</td></tr></tbody></table>"
      ],
      "text/latex": [
       "\\begin{tabular}{r|c}\n",
       "\t& quoname\\\\\n",
       "\t\\hline\n",
       "\t& String⍰\\\\\n",
       "\t\\hline\n",
       "\t1 & The only way to get rid of a temptation is to yield to it. \\\\\n",
       "\t2 & There is only one thing in the world worse than being talked about, and that is not being talked about \\\\\n",
       "\t3 & I am not at all cynical, I have merely got experience, which, however, is very much the same thing \\\\\n",
       "\t4 & To love oneself is the beginning of a lifelong romance \\\\\n",
       "\t5 & We are all in the gutter, but some of us are looking at the stars \\\\\n",
       "\t6 & London society is full of women of the very highest birth who have, of their own free choice, remained thirty-five for years \\\\\n",
       "\\end{tabular}\n"
      ],
      "text/plain": [
       "6×1 DataFrame. Omitted printing of 1 columns\n",
       "│ Row │ │     │ ├─────┼\n",
       "│ 1   │ │ 2   │ │ 3   │ │ 4   │ │ 5   │ │ 6   │ "
      ]
     },
     "execution_count": 31,
     "metadata": {},
     "output_type": "execute_result"
    }
   ],
   "source": [
    "sql =  \"select q.quoname from quotes q \";\n",
    "sql *= \" where q.author = 'Oscar Wilde'\";\n",
    "SQLite.Query(db,sql) |> DataFrame"
   ]
  },
  {
   "cell_type": "markdown",
   "metadata": {},
   "source": [
    "---"
   ]
  },
  {
   "cell_type": "code",
   "execution_count": 53,
   "metadata": {},
   "outputs": [
    {
     "name": "stdout",
     "output_type": "stream",
     "text": [
      "Number of rows: 31\n"
     ]
    }
   ],
   "source": [
    "sql =  \"select q.quoname, q.author, c.catname from quotes q \";\n",
    "sql *= \"join categories c on q.cid = c.id\";\n",
    "\n",
    "df = DataFrame(SQLite.Query(db,sql));\n",
    "nrows = size(df)[1];\n",
    "println(\"Number of rows: $nrows\" )"
   ]
  },
  {
   "cell_type": "markdown",
   "metadata": {},
   "source": [
    "---"
   ]
  },
  {
   "cell_type": "markdown",
   "metadata": {
    "collapsed": true
   },
   "source": [
    "## MySQL\n",
    "\n",
    "_See the **Chinook.ipynb** notebook_\n"
   ]
  },
  {
   "cell_type": "code",
   "execution_count": null,
   "metadata": {},
   "outputs": [],
   "source": []
  },
  {
   "cell_type": "markdown",
   "metadata": {},
   "source": [
    "---"
   ]
  },
  {
   "cell_type": "markdown",
   "metadata": {},
   "source": [
    "## Postgresql"
   ]
  },
  {
   "cell_type": "code",
   "execution_count": 1,
   "metadata": {
    "collapsed": true
   },
   "outputs": [],
   "source": [
    "# Assumes Postgres is running and the Chinook dataset loaded into a database 'chinnok'\n",
    "using LibPQ, DataStreams\n",
    "conn = LibPQ.Connection(\"dbname=chinook\");"
   ]
  },
  {
   "cell_type": "code",
   "execution_count": 2,
   "metadata": {},
   "outputs": [
    {
     "data": {
      "text/plain": [
       "(count = Union{Missing, Int64}[306],)"
      ]
     },
     "execution_count": 2,
     "metadata": {},
     "output_type": "execute_result"
    }
   ],
   "source": [
    "res = execute(conn, \"SELECT count(*) FROM \\\"Album\\\"\");  # Note escaping the quotes\n",
    "Data.stream!(res, NamedTuple)"
   ]
  },
  {
   "cell_type": "code",
   "execution_count": 10,
   "metadata": {},
   "outputs": [
    {
     "data": {
      "text/plain": [
       "306"
      ]
     },
     "execution_count": 10,
     "metadata": {},
     "output_type": "execute_result"
    }
   ],
   "source": [
    "qry = fetch!(NamedTuple, execute(conn, \"SELECT count(*) as NA FROM \\\"Album\\\"\"));\n",
    "qry[1][1]"
   ]
  },
  {
   "cell_type": "code",
   "execution_count": 5,
   "metadata": {},
   "outputs": [
    {
     "data": {
      "text/plain": [
       "(MediaTypeId = Union{Missing, Int32}[1, 2, 3, 4, 5], Name = Union{Missing, String}[\"MPEG audio file\", \"Protected AAC audio file\", \"Protected MPEG-4 video file\", \"Purchased AAC audio file\", \"AAC audio file\"])"
      ]
     },
     "execution_count": 5,
     "metadata": {},
     "output_type": "execute_result"
    }
   ],
   "source": [
    "qry = fetch!(NamedTuple, execute(conn, \"SELECT * FROM \\\"MediaType\\\"\"))"
   ]
  },
  {
   "cell_type": "code",
   "execution_count": 7,
   "metadata": {},
   "outputs": [
    {
     "data": {
      "text/plain": [
       "5-element Array{Union{Missing, String},1}:\n",
       " \"MPEG audio file\"            \n",
       " \"Protected AAC audio file\"   \n",
       " \"Protected MPEG-4 video file\"\n",
       " \"Purchased AAC audio file\"   \n",
       " \"AAC audio file\"             "
      ]
     },
     "execution_count": 7,
     "metadata": {},
     "output_type": "execute_result"
    }
   ],
   "source": [
    "qry[:Name]"
   ]
  },
  {
   "cell_type": "code",
   "execution_count": 49,
   "metadata": {},
   "outputs": [
    {
     "data": {
      "text/plain": [
       "\"Margaret\""
      ]
     },
     "execution_count": 49,
     "metadata": {},
     "output_type": "execute_result"
    }
   ],
   "source": [
    "qry.FirstName[1]"
   ]
  },
  {
   "cell_type": "code",
   "execution_count": 58,
   "metadata": {},
   "outputs": [],
   "source": [
    "sqlx = \"\"\"select e.\"FirstName\", e.\"LastName\", count(i.\"InvoiceId\") as \"Sales\"\n",
    " from \"Employee\" as e\n",
    " join \"Customer\" as c on e.\"EmployeeId\" = c.\"SupportRepId\"\n",
    " join \"Invoice\" as i on i.\"CustomerId\" = c.\"CustomerId\"\n",
    " group by e.\"EmployeeId\"\n",
    "\"\"\";"
   ]
  },
  {
   "cell_type": "code",
   "execution_count": 59,
   "metadata": {},
   "outputs": [
    {
     "data": {
      "text/plain": [
       "(FirstName = Union{Missing, String}[\"Margaret\", \"Jane\", \"Steve\"], LastName = Union{Missing, String}[\"Park\", \"Peacock\", \"Johnson\"], Sales = Union{Missing, Int64}[70, 97, 84])"
      ]
     },
     "execution_count": 59,
     "metadata": {},
     "output_type": "execute_result"
    }
   ],
   "source": [
    "qry = fetch!(NamedTuple, execute(conn, sqlx))"
   ]
  },
  {
   "cell_type": "code",
   "execution_count": 60,
   "metadata": {},
   "outputs": [
    {
     "name": "stdout",
     "output_type": "stream",
     "text": [
      "Margaret Park has 70 sales\n",
      "Jane Peacock has 97 sales\n",
      "Steve Johnson has 84 sales\n"
     ]
    }
   ],
   "source": [
    "using Printf\n",
    "for i in 1:length(qry)\n",
    "    @printf(\"%s %s has %d sales\\n\",\n",
    "        qry.FirstName[i],qry.LastName[i],qry.Sales[i])\n",
    "end"
   ]
  },
  {
   "cell_type": "code",
   "execution_count": null,
   "metadata": {
    "collapsed": true
   },
   "outputs": [],
   "source": []
  },
  {
   "cell_type": "markdown",
   "metadata": {},
   "source": [
    "---"
   ]
  }
 ],
 "metadata": {
  "kernelspec": {
   "display_name": "Julia 1.0.3",
   "language": "julia",
   "name": "julia-1.0"
  },
  "language_info": {
   "file_extension": ".jl",
   "mimetype": "application/julia",
   "name": "julia",
   "version": "1.0.3"
  }
 },
 "nbformat": 4,
 "nbformat_minor": 2
}
