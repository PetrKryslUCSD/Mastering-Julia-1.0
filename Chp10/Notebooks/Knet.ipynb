{
 "cells": [
  {
   "cell_type": "code",
   "execution_count": 1,
   "metadata": {},
   "outputs": [],
   "source": [
    "using Knet, Images"
   ]
  },
  {
   "cell_type": "code",
   "execution_count": 2,
   "metadata": {},
   "outputs": [],
   "source": [
    "cd(homedir()*\"/PacktPub/Chp10\")\n",
    "include(\"./KnetJL/mnist.jl\")"
   ]
  },
  {
   "cell_type": "code",
   "execution_count": 3,
   "metadata": {},
   "outputs": [
    {
     "name": "stderr",
     "output_type": "stream",
     "text": [
      "┌ Info: Loading MNIST...\n",
      "└ @ Main /Users/malcolm/PacktPub/Chp10/KnetJL/mnist.jl:33\n"
     ]
    },
    {
     "data": {
      "text/plain": [
       "(\"28×28×1×60000 Array{Float32,4}\", \"60000-element Array{UInt8,1}\", \"28×28×1×10000 Array{Float32,4}\", \"10000-element Array{UInt8,1}\")"
      ]
     },
     "execution_count": 3,
     "metadata": {},
     "output_type": "execute_result"
    }
   ],
   "source": [
    "xtrn,ytrn,xtst,ytst = mnist()\n",
    "map(summary,(xtrn,ytrn,xtst,ytst))"
   ]
  },
  {
   "cell_type": "code",
   "execution_count": 4,
   "metadata": {},
   "outputs": [
    {
     "data": {
      "image/png": "[encoded data removed]",
      "text/plain": [
       "28×140 Array{Gray{Float32},2} with eltype Gray{Float32}:\n",
       " Gray{Float32}(0.0)  Gray{Float32}(0.0)  …  Gray{Float32}(0.0)\n",
       " Gray{Float32}(0.0)  Gray{Float32}(0.0)     Gray{Float32}(0.0)\n",
       " Gray{Float32}(0.0)  Gray{Float32}(0.0)     Gray{Float32}(0.0)\n",
       " Gray{Float32}(0.0)  Gray{Float32}(0.0)     Gray{Float32}(0.0)\n",
       " Gray{Float32}(0.0)  Gray{Float32}(0.0)     Gray{Float32}(0.0)\n",
       " Gray{Float32}(0.0)  Gray{Float32}(0.0)  …  Gray{Float32}(0.0)\n",
       " Gray{Float32}(0.0)  Gray{Float32}(0.0)     Gray{Float32}(0.0)\n",
       " Gray{Float32}(0.0)  Gray{Float32}(0.0)     Gray{Float32}(0.0)\n",
       " Gray{Float32}(0.0)  Gray{Float32}(0.0)     Gray{Float32}(0.0)\n",
       " Gray{Float32}(0.0)  Gray{Float32}(0.0)     Gray{Float32}(0.0)\n",
       " Gray{Float32}(0.0)  Gray{Float32}(0.0)  …  Gray{Float32}(0.0)\n",
       " Gray{Float32}(0.0)  Gray{Float32}(0.0)     Gray{Float32}(0.0)\n",
       " Gray{Float32}(0.0)  Gray{Float32}(0.0)     Gray{Float32}(0.0)\n",
       " ⋮                                       ⋱                    \n",
       " Gray{Float32}(0.0)  Gray{Float32}(0.0)     Gray{Float32}(0.0)\n",
       " Gray{Float32}(0.0)  Gray{Float32}(0.0)     Gray{Float32}(0.0)\n",
       " Gray{Float32}(0.0)  Gray{Float32}(0.0)     Gray{Float32}(0.0)\n",
       " Gray{Float32}(0.0)  Gray{Float32}(0.0)     Gray{Float32}(0.0)\n",
       " Gray{Float32}(0.0)  Gray{Float32}(0.0)  …  Gray{Float32}(0.0)\n",
       " Gray{Float32}(0.0)  Gray{Float32}(0.0)     Gray{Float32}(0.0)\n",
       " Gray{Float32}(0.0)  Gray{Float32}(0.0)     Gray{Float32}(0.0)\n",
       " Gray{Float32}(0.0)  Gray{Float32}(0.0)     Gray{Float32}(0.0)\n",
       " Gray{Float32}(0.0)  Gray{Float32}(0.0)     Gray{Float32}(0.0)\n",
       " Gray{Float32}(0.0)  Gray{Float32}(0.0)  …  Gray{Float32}(0.0)\n",
       " Gray{Float32}(0.0)  Gray{Float32}(0.0)     Gray{Float32}(0.0)\n",
       " Gray{Float32}(0.0)  Gray{Float32}(0.0)     Gray{Float32}(0.0)"
      ]
     },
     "execution_count": 4,
     "metadata": {},
     "output_type": "execute_result"
    }
   ],
   "source": [
    "hcat([mnistview(xtst,i) for i=1:5]...)"
   ]
  },
  {
   "cell_type": "code",
   "execution_count": 5,
   "metadata": {},
   "outputs": [
    {
     "data": {
      "text/plain": [
       "1×5 LinearAlgebra.Adjoint{UInt8,Array{UInt8,1}}:\n",
       " 0x07  0x02  0x01  0x0a  0x04"
      ]
     },
     "execution_count": 5,
     "metadata": {},
     "output_type": "execute_result"
    }
   ],
   "source": [
    "ytst[1:5]'"
   ]
  },
  {
   "cell_type": "code",
   "execution_count": 6,
   "metadata": {},
   "outputs": [
    {
     "data": {
      "text/plain": [
       "(600, 100)"
      ]
     },
     "execution_count": 6,
     "metadata": {},
     "output_type": "execute_result"
    }
   ],
   "source": [
    "Atype = gpu() >= 0 ? KnetArray{Float32} : Array{Float32}\n",
    "dtst = minibatch(xtst,ytst,100;xtype=Atype) # [ (x1,y1), (x2,y2), ... ] where xi,yi are minibatches of 100\n",
    "dtrn = minibatch(xtrn,ytrn,100;xtype=Atype) # [ (x1,y1), (x2,y2), ... ] where xi,yi are minibatches of 100\n",
    "length(dtrn),length(dtst)"
   ]
  },
  {
   "cell_type": "code",
   "execution_count": 7,
   "metadata": {},
   "outputs": [
    {
     "data": {
      "text/plain": [
       "(\"28×28×1×100 Array{Float32,4}\", \"100-element Array{UInt8,1}\")"
      ]
     },
     "execution_count": 7,
     "metadata": {},
     "output_type": "execute_result"
    }
   ],
   "source": [
    "map(summary,first(dtst))"
   ]
  },
  {
   "cell_type": "code",
   "execution_count": 8,
   "metadata": {},
   "outputs": [
    {
     "data": {
      "text/plain": [
       "(::getfield(AutoGrad, Symbol(\"#gradfun#8\")){getfield(AutoGrad, Symbol(\"##gradfun#6#7\")){typeof(softmax),Int64,Bool}}) (generic function with 1 method)"
      ]
     },
     "execution_count": 8,
     "metadata": {},
     "output_type": "execute_result"
    }
   ],
   "source": [
    "# Loss functions\n",
    "zeroone(w,data,model) = 1 - accuracy(w,data,model)\n",
    "softmax(w,data,model) = mean(softmax(w,x,y,model) for (x,y) in data)\n",
    "softmax(w,x,y,model; o...) = nll(model(w,x;o...),y)\n",
    "softgrad = grad(softmax)"
   ]
  },
  {
   "cell_type": "code",
   "execution_count": 9,
   "metadata": {},
   "outputs": [
    {
     "data": {
      "text/plain": [
       "avgloss (generic function with 1 method)"
      ]
     },
     "execution_count": 9,
     "metadata": {},
     "output_type": "execute_result"
    }
   ],
   "source": [
    "# Calculate cross entropy loss of a model with weights w for one minibatch (x,p)\n",
    "# Use non-zero l1 or l2 for regularization\n",
    "\n",
    "function softloss(w,x,p,model;l1=0,l2=0,o...)  \n",
    "    y = model(w,x;o...)\n",
    "    y = y .- maximum(y,1) # for numerical stability\n",
    "    expy = exp(y)\n",
    "    logphat = y .- log(sum(expy,1))\n",
    "    J = -sum(p .* logphat) / size(x,2)  # dividing by number of instances for per-instance average\n",
    "    if l1 != 0; J += l1 * sum(sumabs(wi)  for wi in w[1:2:end]); end\n",
    "    if l2 != 0; J += l2 * sum(sumabs2(wi) for wi in w[1:2:end]); end\n",
    "    return J\n",
    "end\n",
    "\n",
    "function avgloss(w,data,model) # average loss for the whole dataset\n",
    "    sum = cnt = 0\n",
    "    for (x,y) in data\n",
    "        sum += softloss(w,x,y,model)\n",
    "        cnt += 1\n",
    "    end\n",
    "    return sum/cnt\n",
    "end"
   ]
  },
  {
   "cell_type": "code",
   "execution_count": 10,
   "metadata": {},
   "outputs": [
    {
     "data": {
      "text/plain": [
       "train (generic function with 1 method)"
      ]
     },
     "execution_count": 10,
     "metadata": {},
     "output_type": "execute_result"
    }
   ],
   "source": [
    "function train(w,data,predict; epochs=100,lr=0.1,o...)\n",
    "    weights = Any[deepcopy(w)]\n",
    "    for epoch in 1:epochs\n",
    "        for (x,y) in data\n",
    "            g = softgrad(w,x,y,predict;o...)\n",
    "            update!(w,g,lr=lr)  # w[i] = w[i] - lr * g[i]\n",
    "        end\n",
    "        push!(weights,deepcopy(w))\n",
    "    end\n",
    "    return weights\n",
    "end"
   ]
  },
  {
   "cell_type": "code",
   "execution_count": 11,
   "metadata": {},
   "outputs": [
    {
     "data": {
      "text/plain": [
       "predict (generic function with 1 method)"
      ]
     },
     "execution_count": 11,
     "metadata": {},
     "output_type": "execute_result"
    }
   ],
   "source": [
    "function predict(w,x)\n",
    "    for i=1:2:length(w)\n",
    "        x = w[i]*mat(x) .+ w[i+1]\n",
    "        if i<length(w)-1\n",
    "            x = relu.(x) # max(0,x)\n",
    "        end\n",
    "    end\n",
    "    return x\n",
    "end"
   ]
  },
  {
   "cell_type": "code",
   "execution_count": 12,
   "metadata": {},
   "outputs": [
    {
     "data": {
      "text/plain": [
       "weights (generic function with 1 method)"
      ]
     },
     "execution_count": 12,
     "metadata": {},
     "output_type": "execute_result"
    }
   ],
   "source": [
    "function weights(h...; atype=Array{Float32}, winit=0.1)\n",
    "    w = Any[]\n",
    "    x = 28*28\n",
    "    for y in [h..., 10]\n",
    "        push!(w, convert(atype, winit*randn(y,x)))\n",
    "        push!(w, convert(atype, zeros(y, 1)))\n",
    "        x = y\n",
    "    end\n",
    "    return w\n",
    "end"
   ]
  },
  {
   "cell_type": "code",
   "execution_count": 16,
   "metadata": {},
   "outputs": [
    {
     "data": {
      "text/plain": [
       "4-element Array{Any,1}:\n",
       " Float32[-0.10753 -0.0472574 … -0.0907104 -0.163334; -0.0867709 -0.0067605 … 0.00559417 -0.038552; … ; -0.0509496 0.167307 … -0.0857886 -0.0818476; -0.0958551 -0.000901727 … -0.00360426 -0.0648425]\n",
       " Float32[0.0; 0.0; … ; 0.0; 0.0]                                                                                                                                                                     \n",
       " Float32[-0.0268088 0.131074 … 0.0701756 0.0138926; 0.0908659 0.131562 … -0.0222316 -0.14402; … ; 0.0694073 0.132391 … 0.153836 -0.0986111; 0.165473 -0.0244121 … 0.260805 -0.201435]                \n",
       " Float32[0.0; 0.0; … ; 0.0; 0.0]                                                                                                                                                                     "
      ]
     },
     "execution_count": 16,
     "metadata": {},
     "output_type": "execute_result"
    }
   ],
   "source": [
    "w = weights(128)"
   ]
  },
  {
   "cell_type": "code",
   "execution_count": 18,
   "metadata": {},
   "outputs": [
    {
     "ename": "MethodError",
     "evalue": "MethodError: no method matching train(::Array{Any,1}, ::Knet.Data{Tuple{Array{Float32,4},Array{UInt8,1}}})\nClosest candidates are:\n  train(::Any, ::Any, !Matched::Any; epochs, lr, o...) at In[10]:2",
     "output_type": "error",
     "traceback": [
      "MethodError: no method matching train(::Array{Any,1}, ::Knet.Data{Tuple{Array{Float32,4},Array{UInt8,1}}})\nClosest candidates are:\n  train(::Any, ::Any, !Matched::Any; epochs, lr, o...) at In[10]:2",
      "",
      "Stacktrace:",
      " [1] top-level scope at In[18]:1"
     ]
    }
   ],
   "source": [
    "train(w,dtrn)"
   ]
  },
  {
   "cell_type": "markdown",
   "metadata": {},
   "source": [
    "---"
   ]
  },
  {
   "cell_type": "code",
   "execution_count": 21,
   "metadata": {},
   "outputs": [
    {
     "data": {
      "text/plain": [
       "\"/Users/malcolm/PacktPub/Chp10\""
      ]
     },
     "execution_count": 21,
     "metadata": {},
     "output_type": "execute_result"
    }
   ],
   "source": [
    "pwd()"
   ]
  },
  {
   "cell_type": "code",
   "execution_count": 23,
   "metadata": {},
   "outputs": [
    {
     "ename": "LoadError",
     "evalue": "MethodError: no method matching installed(::String)\nClosest candidates are:\n  installed() at /Users/osx/buildbot/slave/package_osx64/build/usr/share/julia/stdlib/v1.0/Pkg/src/API.jl:278",
     "output_type": "error",
     "traceback": [
      "MethodError: no method matching installed(::String)\nClosest candidates are:\n  installed() at /Users/osx/buildbot/slave/package_osx64/build/usr/share/julia/stdlib/v1.0/Pkg/src/API.jl:278",
      "",
      "Stacktrace:",
      " [1] top-level scope at /Users/malcolm/PacktPub/Chp10/KnetJL/mnist.jl:2 [inlined]",
      " [2] top-level scope at ./none:0",
      " [3] include at ./boot.jl:317 [inlined]",
      " [4] include_relative(::Module, ::String) at ./loading.jl:1044",
      " [5] include(::Module, ::String) at ./sysimg.jl:29",
      " [6] include(::String) at ./client.jl:392",
      " [7] top-level scope at In[23]:1"
     ]
    }
   ],
   "source": [
    "include(\"KnetJL/mnist.jl\")"
   ]
  },
  {
   "cell_type": "code",
   "execution_count": null,
   "metadata": {},
   "outputs": [],
   "source": []
  },
  {
   "cell_type": "markdown",
   "metadata": {},
   "source": [
    "---"
   ]
  },
  {
   "cell_type": "code",
   "execution_count": 22,
   "metadata": {},
   "outputs": [
    {
     "data": {
      "text/plain": [
       "Main.Housing"
      ]
     },
     "execution_count": 22,
     "metadata": {},
     "output_type": "execute_result"
    }
   ],
   "source": [
    "include(\"KnetJL/hs.jl\")"
   ]
  },
  {
   "cell_type": "code",
   "execution_count": null,
   "metadata": {},
   "outputs": [],
   "source": [
    "Housing.main(\"--epochs 20\")"
   ]
  },
  {
   "cell_type": "markdown",
   "metadata": {},
   "source": [
    "---"
   ]
  },
  {
   "cell_type": "code",
   "execution_count": 30,
   "metadata": {},
   "outputs": [
    {
     "data": {
      "text/plain": [
       "housing (generic function with 2 methods)"
      ]
     },
     "execution_count": 30,
     "metadata": {},
     "output_type": "execute_result"
    }
   ],
   "source": [
    "using DelimitedFiles, Statistics\n",
    "housefl = \"/Users/malcolm/PacktPub/Datasets/housing.data\"\n",
    "\n",
    "function housing(file, test=0)\n",
    "   data = readdlm(file)'\n",
    "    # @show size(data) # (14,506)\n",
    "    x = data[1:13,:]\n",
    "    y = data[14:14,:]\n",
    "    x = (x .- mean.(x) ./ std.(x)) # Data normalization\n",
    "    if test == 0\n",
    "        xtrn = xtst = x\n",
    "        ytrn = ytst = y\n",
    "    else\n",
    "        r = randperm(size(x,2))          # trn/tst split\n",
    "        n = round(Int, (1-test) * size(x,2))\n",
    "        xtrn=x[:,r[1:n]]\n",
    "        ytrn=y[:,r[1:n]]\n",
    "        xtst=x[:,r[n+1:end]]\n",
    "        ytst=y[:,r[n+1:end]]\n",
    "    end\n",
    "    return (xtrn, ytrn, xtst, ytst)\n",
    "end"
   ]
  },
  {
   "cell_type": "code",
   "execution_count": 31,
   "metadata": {},
   "outputs": [
    {
     "data": {
      "text/plain": [
       "train (generic function with 1 method)"
      ]
     },
     "execution_count": 31,
     "metadata": {},
     "output_type": "execute_result"
    }
   ],
   "source": [
    "predict(w,x) = (w[1]*x .+ w[2])\n",
    "loss(w,x,y)  = (sum(abs2, y-predict(w,x)) / size(x,2))\n",
    "lossgradient = grad(loss)\n",
    "\n",
    "function train(w, x, y; lr=.1, epochs=20)\n",
    "    for epoch=1:epochs\n",
    "        g = lossgradient(w, x, y)\n",
    "        update!(w, g; lr=lr)\n",
    "    end\n",
    "    return w\n",
    "end"
   ]
  },
  {
   "cell_type": "code",
   "execution_count": 32,
   "metadata": {},
   "outputs": [
    {
     "data": {
      "text/plain": [
       "([NaN NaN … NaN NaN; NaN NaN … NaN NaN; … ; NaN NaN … NaN NaN; NaN NaN … NaN NaN], [24.0 21.6 … 22.0 11.9], [NaN NaN … NaN NaN; NaN NaN … NaN NaN; … ; NaN NaN … NaN NaN; NaN NaN … NaN NaN], [24.0 21.6 … 22.0 11.9])"
      ]
     },
     "execution_count": 32,
     "metadata": {},
     "output_type": "execute_result"
    }
   ],
   "source": [
    "(xtrn, ytrn, xtst, ytst) = housing(housefl)"
   ]
  },
  {
   "cell_type": "code",
   "execution_count": 36,
   "metadata": {},
   "outputs": [
    {
     "data": {
      "text/plain": [
       "13×506 Array{Float64,2}:\n",
       " NaN  NaN  NaN  NaN  NaN  NaN  NaN  NaN  …  NaN  NaN  NaN  NaN  NaN  NaN  NaN\n",
       " NaN  NaN  NaN  NaN  NaN  NaN  NaN  NaN     NaN  NaN  NaN  NaN  NaN  NaN  NaN\n",
       " NaN  NaN  NaN  NaN  NaN  NaN  NaN  NaN     NaN  NaN  NaN  NaN  NaN  NaN  NaN\n",
       " NaN  NaN  NaN  NaN  NaN  NaN  NaN  NaN     NaN  NaN  NaN  NaN  NaN  NaN  NaN\n",
       " NaN  NaN  NaN  NaN  NaN  NaN  NaN  NaN     NaN  NaN  NaN  NaN  NaN  NaN  NaN\n",
       " NaN  NaN  NaN  NaN  NaN  NaN  NaN  NaN  …  NaN  NaN  NaN  NaN  NaN  NaN  NaN\n",
       " NaN  NaN  NaN  NaN  NaN  NaN  NaN  NaN     NaN  NaN  NaN  NaN  NaN  NaN  NaN\n",
       " NaN  NaN  NaN  NaN  NaN  NaN  NaN  NaN     NaN  NaN  NaN  NaN  NaN  NaN  NaN\n",
       " NaN  NaN  NaN  NaN  NaN  NaN  NaN  NaN     NaN  NaN  NaN  NaN  NaN  NaN  NaN\n",
       " NaN  NaN  NaN  NaN  NaN  NaN  NaN  NaN     NaN  NaN  NaN  NaN  NaN  NaN  NaN\n",
       " NaN  NaN  NaN  NaN  NaN  NaN  NaN  NaN  …  NaN  NaN  NaN  NaN  NaN  NaN  NaN\n",
       " NaN  NaN  NaN  NaN  NaN  NaN  NaN  NaN     NaN  NaN  NaN  NaN  NaN  NaN  NaN\n",
       " NaN  NaN  NaN  NaN  NaN  NaN  NaN  NaN     NaN  NaN  NaN  NaN  NaN  NaN  NaN"
      ]
     },
     "execution_count": 36,
     "metadata": {},
     "output_type": "execute_result"
    }
   ],
   "source": [
    "xtrn"
   ]
  },
  {
   "cell_type": "code",
   "execution_count": null,
   "metadata": {},
   "outputs": [],
   "source": []
  }
 ],
 "metadata": {
  "kernelspec": {
   "display_name": "Julia 1.0.3",
   "language": "julia",
   "name": "julia-1.0"
  },
  "language_info": {
   "file_extension": ".jl",
   "mimetype": "application/julia",
   "name": "julia",
   "version": "1.0.3"
  }
 },
 "nbformat": 4,
 "nbformat_minor": 2
}
