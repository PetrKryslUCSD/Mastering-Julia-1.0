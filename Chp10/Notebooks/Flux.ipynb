{
 "cells": [
  {
   "cell_type": "code",
   "execution_count": 1,
   "metadata": {},
   "outputs": [
    {
     "data": {
      "text/plain": [
       "20.0 (tracked)"
      ]
     },
     "execution_count": 1,
     "metadata": {},
     "output_type": "execute_result"
    }
   ],
   "source": [
    "using Flux\n",
    "using Flux.Tracker\n",
    "\n",
    "f(x) = 3x^2 + 2x + 1\n",
    "df(x) = Tracker.gradient(f, x; nest = true)[1]\n",
    "df(3)"
   ]
  },
  {
   "cell_type": "code",
   "execution_count": 2,
   "metadata": {},
   "outputs": [
    {
     "data": {
      "text/plain": [
       "6.0 (tracked)"
      ]
     },
     "execution_count": 2,
     "metadata": {},
     "output_type": "execute_result"
    }
   ],
   "source": [
    "d2f(x) = Tracker.gradient(df, x; nest = true)[1]\n",
    "d2f(3)"
   ]
  },
  {
   "cell_type": "code",
   "execution_count": 3,
   "metadata": {},
   "outputs": [
    {
     "data": {
      "text/plain": [
       "(4.0 (tracked), 1.0 (tracked), 2.0 (tracked))"
      ]
     },
     "execution_count": 3,
     "metadata": {},
     "output_type": "execute_result"
    }
   ],
   "source": [
    "f(W, b, x) = W*x + b\n",
    "Tracker.gradient(f, 2, 3, 4)"
   ]
  },
  {
   "cell_type": "code",
   "execution_count": 4,
   "metadata": {},
   "outputs": [
    {
     "data": {
      "text/plain": [
       "Grads(...)\n"
      ]
     },
     "execution_count": 4,
     "metadata": {},
     "output_type": "execute_result"
    }
   ],
   "source": [
    "W = param(2) # 2.0 (tracked)\n",
    "b = param(3) # 3.0 (tracked)\n",
    "\n",
    "f(x) = W * x + b\n",
    "\n",
    "grads = Tracker.gradient(() -> f(4), params(W, b))"
   ]
  },
  {
   "cell_type": "code",
   "execution_count": 5,
   "metadata": {},
   "outputs": [
    {
     "data": {
      "text/plain": [
       "(4.0, 1.0)"
      ]
     },
     "execution_count": 5,
     "metadata": {},
     "output_type": "execute_result"
    }
   ],
   "source": [
    "(grads[W] , grads[b]) "
   ]
  },
  {
   "cell_type": "markdown",
   "metadata": {},
   "source": [
    "---"
   ]
  },
  {
   "cell_type": "code",
   "execution_count": 6,
   "metadata": {},
   "outputs": [
    {
     "data": {
      "text/plain": [
       "0.19977367493419768"
      ]
     },
     "execution_count": 6,
     "metadata": {},
     "output_type": "execute_result"
    }
   ],
   "source": [
    "W = rand(2, 5)\n",
    "b = rand(2)\n",
    "\n",
    "predict(x) = W*x .+ b\n",
    "\n",
    "function loss(x, y)\n",
    "  ŷ = predict(x)\n",
    "  sum((y .- ŷ).^2)\n",
    "end\n",
    "\n",
    "x, y = rand(5), rand(2) # Dummy data\n",
    "loss(x, y) # ~ 3"
   ]
  },
  {
   "cell_type": "code",
   "execution_count": 7,
   "metadata": {},
   "outputs": [
    {
     "data": {
      "text/plain": [
       "Grads(...)\n"
      ]
     },
     "execution_count": 7,
     "metadata": {},
     "output_type": "execute_result"
    }
   ],
   "source": [
    "W = param(W)\n",
    "b = param(b)\n",
    "\n",
    "gs = Tracker.gradient(() -> loss(x, y), params(W, b))"
   ]
  },
  {
   "cell_type": "code",
   "execution_count": 8,
   "metadata": {},
   "outputs": [
    {
     "data": {
      "text/plain": [
       "Tracked 2×5 Array{Float64,2}:\n",
       " -0.0756615  -0.0282604  -0.245308  -0.0556396  -0.0927113\n",
       "  0.0701236   0.0261919   0.227353   0.0515672   0.0859255"
      ]
     },
     "execution_count": 8,
     "metadata": {},
     "output_type": "execute_result"
    }
   ],
   "source": [
    "gs[W]"
   ]
  },
  {
   "cell_type": "code",
   "execution_count": 9,
   "metadata": {},
   "outputs": [
    {
     "data": {
      "text/plain": [
       "Tracked 2-element Array{Float64,1}:\n",
       " -0.6556360697646515\n",
       "  0.6076479603852478"
      ]
     },
     "execution_count": 9,
     "metadata": {},
     "output_type": "execute_result"
    }
   ],
   "source": [
    "gs[b]"
   ]
  },
  {
   "cell_type": "code",
   "execution_count": 10,
   "metadata": {},
   "outputs": [
    {
     "data": {
      "text/plain": [
       "Tracked 2×5 Array{Float64,2}:\n",
       " 0.46683  0.0810045  0.829748  0.303616   0.778198\n",
       " 0.25735  0.821648   0.905199  0.0288757  0.868002"
      ]
     },
     "execution_count": 10,
     "metadata": {},
     "output_type": "execute_result"
    }
   ],
   "source": [
    "using Flux.Tracker: update!\n",
    "\n",
    "D = gs[W]\n",
    "update!(W, -0.1D)\n"
   ]
  },
  {
   "cell_type": "code",
   "execution_count": 11,
   "metadata": {},
   "outputs": [
    {
     "data": {
      "text/plain": [
       "0.1854668672151869 (tracked)"
      ]
     },
     "execution_count": 11,
     "metadata": {},
     "output_type": "execute_result"
    }
   ],
   "source": [
    "loss(x, y) "
   ]
  },
  {
   "cell_type": "markdown",
   "metadata": {},
   "source": [
    "---"
   ]
  },
  {
   "cell_type": "code",
   "execution_count": 18,
   "metadata": {},
   "outputs": [],
   "source": [
    "using Flux, Flux.Data.MNIST, Statistics\n",
    "using Flux: onehotbatch, onecold, crossentropy, throttle\n",
    "using Base.Iterators: repeated"
   ]
  },
  {
   "cell_type": "code",
   "execution_count": 19,
   "metadata": {},
   "outputs": [
    {
     "data": {
      "text/plain": [
       "784×60000 Array{Float64,2}:\n",
       " 0.0  0.0  0.0  0.0  0.0  0.0  0.0  0.0  …  0.0  0.0  0.0  0.0  0.0  0.0  0.0\n",
       " 0.0  0.0  0.0  0.0  0.0  0.0  0.0  0.0     0.0  0.0  0.0  0.0  0.0  0.0  0.0\n",
       " 0.0  0.0  0.0  0.0  0.0  0.0  0.0  0.0     0.0  0.0  0.0  0.0  0.0  0.0  0.0\n",
       " 0.0  0.0  0.0  0.0  0.0  0.0  0.0  0.0     0.0  0.0  0.0  0.0  0.0  0.0  0.0\n",
       " 0.0  0.0  0.0  0.0  0.0  0.0  0.0  0.0     0.0  0.0  0.0  0.0  0.0  0.0  0.0\n",
       " 0.0  0.0  0.0  0.0  0.0  0.0  0.0  0.0  …  0.0  0.0  0.0  0.0  0.0  0.0  0.0\n",
       " 0.0  0.0  0.0  0.0  0.0  0.0  0.0  0.0     0.0  0.0  0.0  0.0  0.0  0.0  0.0\n",
       " 0.0  0.0  0.0  0.0  0.0  0.0  0.0  0.0     0.0  0.0  0.0  0.0  0.0  0.0  0.0\n",
       " 0.0  0.0  0.0  0.0  0.0  0.0  0.0  0.0     0.0  0.0  0.0  0.0  0.0  0.0  0.0\n",
       " 0.0  0.0  0.0  0.0  0.0  0.0  0.0  0.0     0.0  0.0  0.0  0.0  0.0  0.0  0.0\n",
       " 0.0  0.0  0.0  0.0  0.0  0.0  0.0  0.0  …  0.0  0.0  0.0  0.0  0.0  0.0  0.0\n",
       " 0.0  0.0  0.0  0.0  0.0  0.0  0.0  0.0     0.0  0.0  0.0  0.0  0.0  0.0  0.0\n",
       " 0.0  0.0  0.0  0.0  0.0  0.0  0.0  0.0     0.0  0.0  0.0  0.0  0.0  0.0  0.0\n",
       " ⋮                        ⋮              ⋱            ⋮                      \n",
       " 0.0  0.0  0.0  0.0  0.0  0.0  0.0  0.0     0.0  0.0  0.0  0.0  0.0  0.0  0.0\n",
       " 0.0  0.0  0.0  0.0  0.0  0.0  0.0  0.0     0.0  0.0  0.0  0.0  0.0  0.0  0.0\n",
       " 0.0  0.0  0.0  0.0  0.0  0.0  0.0  0.0     0.0  0.0  0.0  0.0  0.0  0.0  0.0\n",
       " 0.0  0.0  0.0  0.0  0.0  0.0  0.0  0.0  …  0.0  0.0  0.0  0.0  0.0  0.0  0.0\n",
       " 0.0  0.0  0.0  0.0  0.0  0.0  0.0  0.0     0.0  0.0  0.0  0.0  0.0  0.0  0.0\n",
       " 0.0  0.0  0.0  0.0  0.0  0.0  0.0  0.0     0.0  0.0  0.0  0.0  0.0  0.0  0.0\n",
       " 0.0  0.0  0.0  0.0  0.0  0.0  0.0  0.0     0.0  0.0  0.0  0.0  0.0  0.0  0.0\n",
       " 0.0  0.0  0.0  0.0  0.0  0.0  0.0  0.0     0.0  0.0  0.0  0.0  0.0  0.0  0.0\n",
       " 0.0  0.0  0.0  0.0  0.0  0.0  0.0  0.0  …  0.0  0.0  0.0  0.0  0.0  0.0  0.0\n",
       " 0.0  0.0  0.0  0.0  0.0  0.0  0.0  0.0     0.0  0.0  0.0  0.0  0.0  0.0  0.0\n",
       " 0.0  0.0  0.0  0.0  0.0  0.0  0.0  0.0     0.0  0.0  0.0  0.0  0.0  0.0  0.0\n",
       " 0.0  0.0  0.0  0.0  0.0  0.0  0.0  0.0     0.0  0.0  0.0  0.0  0.0  0.0  0.0"
      ]
     },
     "execution_count": 19,
     "metadata": {},
     "output_type": "execute_result"
    }
   ],
   "source": [
    "# Classify MNIST digits with a simple multi-layer-perceptron\n",
    "\n",
    "imgs = MNIST.images()\n",
    "\n",
    "# Stack images into one large batch\n",
    "X = hcat(float.(reshape.(imgs, :))...)"
   ]
  },
  {
   "cell_type": "code",
   "execution_count": 20,
   "metadata": {},
   "outputs": [
    {
     "data": {
      "text/plain": [
       "10×60000 Flux.OneHotMatrix{Array{Flux.OneHotVector,1}}:\n",
       " false   true  false  false  false  …  false  false  false  false  false\n",
       " false  false  false   true  false     false  false  false  false  false\n",
       " false  false  false  false  false     false  false  false  false  false\n",
       " false  false  false  false  false     false   true  false  false  false\n",
       " false  false   true  false  false     false  false  false  false  false\n",
       "  true  false  false  false  false  …  false  false   true  false  false\n",
       " false  false  false  false  false     false  false  false   true  false\n",
       " false  false  false  false  false     false  false  false  false  false\n",
       " false  false  false  false  false      true  false  false  false   true\n",
       " false  false  false  false   true     false  false  false  false  false"
      ]
     },
     "execution_count": 20,
     "metadata": {},
     "output_type": "execute_result"
    }
   ],
   "source": [
    "labels = MNIST.labels()\n",
    "\n",
    "# One-hot-encode the labels\n",
    "Y = onehotbatch(labels, 0:9)"
   ]
  },
  {
   "cell_type": "code",
   "execution_count": 21,
   "metadata": {},
   "outputs": [
    {
     "data": {
      "text/plain": [
       "Chain(Dense(784, 32, NNlib.relu), Dense(32, 10), NNlib.softmax)"
      ]
     },
     "execution_count": 21,
     "metadata": {},
     "output_type": "execute_result"
    }
   ],
   "source": [
    "m = Chain(\n",
    "  Dense(28^2, 32, relu),\n",
    "  Dense(32, 10),\n",
    "  softmax)"
   ]
  },
  {
   "cell_type": "code",
   "execution_count": 22,
   "metadata": {},
   "outputs": [
    {
     "data": {
      "text/plain": [
       "accuracy (generic function with 1 method)"
      ]
     },
     "execution_count": 22,
     "metadata": {},
     "output_type": "execute_result"
    }
   ],
   "source": [
    "loss(x, y) = crossentropy(m(x), y)\n",
    "accuracy(x, y) = mean(onecold(m(x)) .== onecold(y))"
   ]
  },
  {
   "cell_type": "code",
   "execution_count": 23,
   "metadata": {},
   "outputs": [
    {
     "data": {
      "text/plain": [
       "ADAM(0.001, (0.9, 0.999), IdDict{Any,Any}())"
      ]
     },
     "execution_count": 23,
     "metadata": {},
     "output_type": "execute_result"
    }
   ],
   "source": [
    "dataset = repeated((X, Y), 200)\n",
    "evalcb = () -> @show(loss(X, Y))\n",
    "opt = ADAM()"
   ]
  },
  {
   "cell_type": "code",
   "execution_count": 24,
   "metadata": {},
   "outputs": [
    {
     "name": "stdout",
     "output_type": "stream",
     "text": [
      "loss(X, Y) = 2.3206537f0 (tracked)\n",
      "loss(X, Y) = 1.5341301f0 (tracked)\n",
      "loss(X, Y) = 0.9846691f0 (tracked)\n",
      "loss(X, Y) = 0.6895473f0 (tracked)\n",
      "loss(X, Y) = 0.5434194f0 (tracked)\n",
      "loss(X, Y) = 0.46452743f0 (tracked)\n",
      "loss(X, Y) = 0.4157685f0 (tracked)\n",
      "loss(X, Y) = 0.38233992f0 (tracked)\n",
      "loss(X, Y) = 0.35742676f0 (tracked)\n",
      "loss(X, Y) = 0.33777905f0 (tracked)\n",
      "loss(X, Y) = 0.32168952f0 (tracked)\n",
      "loss(X, Y) = 0.30813506f0 (tracked)\n",
      "loss(X, Y) = 0.2964321f0 (tracked)\n",
      "loss(X, Y) = 0.28611913f0 (tracked)\n",
      "loss(X, Y) = 0.27689523f0 (tracked)\n"
     ]
    },
    {
     "data": {
      "text/plain": [
       "0.92355"
      ]
     },
     "execution_count": 24,
     "metadata": {},
     "output_type": "execute_result"
    }
   ],
   "source": [
    "Flux.train!(loss, params(m), dataset, opt, cb = throttle(evalcb, 10))\n",
    "accuracy(X, Y)"
   ]
  },
  {
   "cell_type": "code",
   "execution_count": 25,
   "metadata": {},
   "outputs": [
    {
     "data": {
      "text/plain": [
       "0.9235"
      ]
     },
     "execution_count": 25,
     "metadata": {},
     "output_type": "execute_result"
    }
   ],
   "source": [
    "# Test set accuracy\n",
    "tX = hcat(float.(reshape.(MNIST.images(:test), :))...) |> gpu\n",
    "tY = onehotbatch(MNIST.labels(:test), 0:9) |> gpu\n",
    "\n",
    "accuracy(tX, tY)"
   ]
  },
  {
   "cell_type": "markdown",
   "metadata": {},
   "source": [
    "---"
   ]
  },
  {
   "cell_type": "code",
   "execution_count": 1,
   "metadata": {},
   "outputs": [
    {
     "name": "stderr",
     "output_type": "stream",
     "text": [
      "┌ Info: Recompiling stale cache file /Users/malcolm/.julia/compiled/v1.0/Metalhead/OYscp.ji for Metalhead [dbeba491-748d-5e0e-a39e-b530a07fa0cc]\n",
      "└ @ Base loading.jl:1190\n",
      "WARNING: Method definition _bcs1(Any, Any) in module Broadcast at broadcast.jl:439 overwritten in module ImageFiltering at /Users/malcolm/.julia/packages/ImageFiltering/LYYKd/src/ImageFiltering.jl:24.\n",
      "WARNING: Method definition _bcs1(Any, Any) in module Broadcast at broadcast.jl:439 overwritten in module ImageFiltering at /Users/malcolm/.julia/packages/ImageFiltering/LYYKd/src/ImageFiltering.jl:24.\n"
     ]
    }
   ],
   "source": [
    "using Metalhead\n",
    "using Metalhead: classify\n",
    "using Images"
   ]
  },
  {
   "cell_type": "code",
   "execution_count": 4,
   "metadata": {},
   "outputs": [
    {
     "data": {
      "text/plain": [
       "VGG19()"
      ]
     },
     "execution_count": 4,
     "metadata": {},
     "output_type": "execute_result"
    }
   ],
   "source": [
    "# Switch to dataset images and classify the known (1000) images\n",
    "cd(homedir()*\"/PacktPub/Datasets/Images\")\n",
    "vgg = VGG19()"
   ]
  },
  {
   "cell_type": "code",
   "execution_count": 5,
   "metadata": {},
   "outputs": [
    {
     "name": "stderr",
     "output_type": "stream",
     "text": [
      "┌ Warning: `argmax(...)` is deprecated, use `onecold(...)` instead.\n",
      "│   caller = classify(::VGG19, ::Array{RGB4{Normed{UInt8,8}},2}) at utils.jl:98\n",
      "└ @ Metalhead /Users/malcolm/.julia/packages/Metalhead/fYeSU/src/utils.jl:98\n"
     ]
    },
    {
     "data": {
      "text/plain": [
       "\"African elephant, Loxodonta africana\""
      ]
     },
     "execution_count": 5,
     "metadata": {},
     "output_type": "execute_result"
    }
   ],
   "source": [
    "img01 = load(\"elephant.jpg\")\n",
    "classify(vgg, img01)"
   ]
  },
  {
   "cell_type": "code",
   "execution_count": 6,
   "metadata": {},
   "outputs": [
    {
     "name": "stdout",
     "output_type": "stream",
     "text": [
      "Meow, I am a MINK perhaps ???'\n"
     ]
    }
   ],
   "source": [
    "using Unicode\n",
    "\n",
    "img02 = load(\"harry.jpg\")\n",
    "animal = uppercase(classify(vgg, img02))\n",
    "println(\"Meow, I am a $animal perhaps ???'\")"
   ]
  },
  {
   "cell_type": "code",
   "execution_count": 7,
   "metadata": {},
   "outputs": [
    {
     "data": {
      "text/plain": [
       "5-element Array{String,1}:\n",
       " \"tench, Tinca tinca\"                                                                 \n",
       " \"goldfish, Carassius auratus\"                                                        \n",
       " \"great white shark, white shark, man-eater, man-eating shark, Carcharodon carcharias\"\n",
       " \"tiger shark, Galeocerdo cuvieri\"                                                    \n",
       " \"hammerhead, hammerhead shark\"                                                       "
      ]
     },
     "execution_count": 7,
     "metadata": {},
     "output_type": "execute_result"
    }
   ],
   "source": [
    "animal_types = Metalhead.labels(vgg)\n",
    "animal_types[1:5]"
   ]
  },
  {
   "cell_type": "code",
   "execution_count": 8,
   "metadata": {},
   "outputs": [
    {
     "data": {
      "text/plain": [
       "5-element Array{Float32,1}:\n",
       " 0.00013183923\n",
       " 0.00014438889\n",
       " 0.0025139963 \n",
       " 0.012086336  \n",
       " 0.98500556   "
      ]
     },
     "execution_count": 8,
     "metadata": {},
     "output_type": "execute_result"
    }
   ],
   "source": [
    "# How sure are we?\n",
    "#\n",
    "probs = Metalhead.forward(vgg, img02)\n",
    "sort(probs)[996:1000]"
   ]
  },
  {
   "cell_type": "code",
   "execution_count": 33,
   "metadata": {},
   "outputs": [
    {
     "data": {
      "text/plain": [
       "\"mink\""
      ]
     },
     "execution_count": 33,
     "metadata": {},
     "output_type": "execute_result"
    }
   ],
   "source": [
    "perm = sortperm(probs)\n",
    "animal_types[perm[1000]]"
   ]
  },
  {
   "cell_type": "code",
   "execution_count": 34,
   "metadata": {},
   "outputs": [
    {
     "data": {
      "text/plain": [
       "\"schipperke\""
      ]
     },
     "execution_count": 34,
     "metadata": {},
     "output_type": "execute_result"
    }
   ],
   "source": [
    "animal_types[perm[999]]   # <= This is a breed of DOG. sorry Harry."
   ]
  },
  {
   "cell_type": "code",
   "execution_count": 35,
   "metadata": {},
   "outputs": [
    {
     "data": {
      "text/plain": [
       "2-element Array{String,1}:\n",
       " \"cougar, puma, catamount, mountain lion, painter, panther, Felis concolor\"\n",
       " \"lynx, catamount\"                                                         "
      ]
     },
     "execution_count": 35,
     "metadata": {},
     "output_type": "execute_result"
    }
   ],
   "source": [
    "animal_types[287:288]    # If not a cat -- why not one of these ?"
   ]
  },
  {
   "cell_type": "markdown",
   "metadata": {},
   "source": [
    "---"
   ]
  },
  {
   "cell_type": "code",
   "execution_count": 2,
   "metadata": {},
   "outputs": [
    {
     "data": {
      "text/plain": [
       "Main.MLP"
      ]
     },
     "execution_count": 2,
     "metadata": {},
     "output_type": "execute_result"
    }
   ],
   "source": [
    "pwd(); include(\"KnetJL/mnist-mlp/mlp.jl\")"
   ]
  },
  {
   "cell_type": "code",
   "execution_count": 3,
   "metadata": {},
   "outputs": [
    {
     "name": "stdout",
     "output_type": "stream",
     "text": [
      "mlp.jl (c) Deniz Yuret, 2016. Multi-layer perceptron model on the MNIST handwritten digit recognition problem from http://yann.lecun.com/exdb/mnist.\n",
      "opts=(:batchsize, 100)(:fast, false)(:atype, \"Array{Float32}\")(:epochs, 15)(:gcheck, 0)(:winit, 0.1)(:lr, 0.5)(:hidden, Int64[])(:seed, -1)\n"
     ]
    },
    {
     "name": "stderr",
     "output_type": "stream",
     "text": [
      "┌ Info: Loading MNIST...\n",
      "└ @ Main.MLP /Users/malcolm/.julia/packages/Knet/05UDD/data/mnist.jl:33\n"
     ]
    },
    {
     "name": "stdout",
     "output_type": "stream",
     "text": [
      "(:epoch, 0, :trn, 0.08636666666666666, :tst, 0.0875)\n",
      "(:epoch, 1, :trn, 0.8992666666666667, :tst, 0.9025)\n",
      "(:epoch, 2, :trn, 0.9079333333333334, :tst, 0.9101)\n",
      "(:epoch, 3, :trn, 0.9113333333333333, :tst, 0.9116)\n",
      "(:epoch, 4, :trn, 0.91355, :tst, 0.9128)\n",
      "(:epoch, 5, :trn, 0.9150333333333334, :tst, 0.9137)\n",
      "(:epoch, 6, :trn, 0.9167333333333333, :tst, 0.9145)\n",
      "(:epoch, 7, :trn, 0.9177666666666666, :tst, 0.9144)\n",
      "(:epoch, 8, :trn, 0.9184666666666667, :tst, 0.9143)\n",
      "(:epoch, 9, :trn, 0.91915, :tst, 0.9152)\n",
      "(:epoch, 10, :trn, 0.9195833333333333, :tst, 0.9155)\n",
      "(:epoch, 11, :trn, 0.9202333333333333, :tst, 0.9159)\n",
      "(:epoch, 12, :trn, 0.9204833333333333, :tst, 0.9161)\n",
      "(:epoch, 13, :trn, 0.92085, :tst, 0.9161)\n",
      "(:epoch, 14, :trn, 0.9211833333333334, :tst, 0.9162)\n",
      "(:epoch, 15, :trn, 0.9216, :tst, 0.9166)\n",
      " 13.801630 seconds (11.93 M allocations: 6.979 GiB, 6.39% gc time)\n"
     ]
    },
    {
     "data": {
      "text/plain": [
       "2-element Array{Any,1}:\n",
       " Float32[-0.145344 -0.0199002 … 0.110425 -0.0266048; -0.0876187 0.0865226 … 0.025035 0.0782428; … ; 0.100083 -0.0364283 … 0.0562371 -0.0669327; -0.0611903 -0.0816114 … 0.0908086 0.0837733]\n",
       " Float32[0.803058; 0.275694; … ; -0.503407; -1.09]                                                                                                                                          "
      ]
     },
     "execution_count": 3,
     "metadata": {},
     "output_type": "execute_result"
    }
   ],
   "source": [
    "MLP.main(\"--epochs 15\")"
   ]
  },
  {
   "cell_type": "markdown",
   "metadata": {},
   "source": [
    "---"
   ]
  },
  {
   "cell_type": "code",
   "execution_count": 66,
   "metadata": {},
   "outputs": [
    {
     "data": {
      "text/plain": [
       "\"/Users/malcolm/.julia/packages/Knet/05UDD/examples\""
      ]
     },
     "execution_count": 66,
     "metadata": {},
     "output_type": "execute_result"
    }
   ],
   "source": [
    "using Knet, Images\n",
    "cd(Knet.dir(\"examples\"))\n",
    "pwd()"
   ]
  },
  {
   "cell_type": "code",
   "execution_count": 68,
   "metadata": {},
   "outputs": [
    {
     "name": "stdout",
     "output_type": "stream",
     "text": [
      "usage: <PROGRAM> [--seed SEED] [--batchsize BATCHSIZE]\n",
      "                 [--epochs EPOCHS] [--hidden [HIDDEN...]] [--lr LR]\n",
      "                 [--winit WINIT] [--fast] [--atype ATYPE]\n",
      "                 [--gcheck GCHECK]\n",
      "\n",
      "mlp.jl (c) Deniz Yuret, 2016. Multi-layer perceptron model on the\n",
      "MNIST handwritten digit recognition problem from\n",
      "http://yann.lecun.com/exdb/mnist."
     ]
    },
    {
     "name": "stderr",
     "output_type": "stream",
     "text": [
      "WARNING: replacing module MLP.\n"
     ]
    },
    {
     "name": "stdout",
     "output_type": "stream",
     "text": [
      "\n",
      "\n",
      "optional arguments:\n",
      "  --seed SEED           random number seed: use a nonnegative int for\n",
      "                        repeatable results (type: Int64, default: -1)\n",
      "  --batchsize BATCHSIZE\n",
      "                        minibatch size (type: Int64, default: 100)\n",
      "  --epochs EPOCHS       number of epochs for training (type: Int64,\n",
      "                        default: 10)\n",
      "  --hidden [HIDDEN...]  sizes of hidden layers, e.g. --hidden 128 64\n",
      "                        for a net with two hidden layers (type: Int64)\n",
      "  --lr LR               learning rate (type: Float64, default: 0.5)\n",
      "  --winit WINIT         w initialized with winit*randn() (type:\n",
      "                        Float64, default: 0.1)\n",
      "  --fast                skip loss printing for faster run\n",
      "  --atype ATYPE         array type: Array for cpu, KnetArray for gpu\n",
      "                        (default: \"Array{Float32}\")\n",
      "  --gcheck GCHECK       check N random gradients per parameter (type:\n",
      "                        Int64, default: 0)\n",
      "\n"
     ]
    }
   ],
   "source": [
    "include(\"mnist-mlp/mlp.jl\")\n",
    "MLP.main(\"--help\")"
   ]
  },
  {
   "cell_type": "code",
   "execution_count": 14,
   "metadata": {
    "scrolled": true
   },
   "outputs": [
    {
     "name": "stdout",
     "output_type": "stream",
     "text": [
      "mlp.jl (c) Deniz Yuret, 2016. Multi-layer perceptron model on the MNIST handwritten digit recognition problem from http://yann.lecun.com/exdb/mnist.\n",
      "opts=("
     ]
    },
    {
     "name": "stderr",
     "output_type": "stream",
     "text": [
      "WARNING: replacing module MLP.\n"
     ]
    },
    {
     "name": "stdout",
     "output_type": "stream",
     "text": [
      ":batchsize, 100)(:fast, false)(:atype, \"Array{Float32}\")(:epochs, 15)(:gcheck, 0)(:winit, 0.1)(:lr, 0.5)(:hidden, Int64[])(:seed, -1)\n"
     ]
    },
    {
     "name": "stderr",
     "output_type": "stream",
     "text": [
      "┌ Info: Loading MNIST...\n",
      "└ @ Main.MLP /Users/malcolm/.julia/packages/Knet/05UDD/data/mnist.jl:33\n"
     ]
    },
    {
     "name": "stdout",
     "output_type": "stream",
     "text": [
      "(:epoch, 0, :trn, 0.10793333333333334, :tst, 0.1106)\n",
      "(:epoch, 1, :trn, 0.9002333333333333, :tst, 0.9033)\n",
      "(:epoch, 2, :trn, 0.9082, :tst, 0.9083)\n",
      "(:epoch, 3, :trn, 0.91145, :tst, 0.9112)\n",
      "(:epoch, 4, :trn, 0.9138833333333334, :tst, 0.9119)\n",
      "(:epoch, 5, :trn, 0.9153333333333333, :tst, 0.9133)\n",
      "(:epoch, 6, :trn, 0.9165833333333333, :tst, 0.914)\n",
      "(:epoch, 7, :trn, 0.9176333333333333, :tst, 0.9143)\n",
      "(:epoch, 8, :trn, 0.9186333333333333, :tst, 0.9151)\n",
      "(:epoch, 9, :trn, 0.91915, :tst, 0.915)\n",
      "(:epoch, 10, :trn, 0.9193833333333333, :tst, 0.9154)\n",
      "(:epoch, 11, :trn, 0.9199833333333334, :tst, 0.9159)\n",
      "(:epoch, 12, :trn, 0.9204333333333333, :tst, 0.9163)\n",
      "(:epoch, 13, :trn, 0.9208833333333334, :tst, 0.9163)\n",
      "(:epoch, 14, :trn, 0.9212333333333333, :tst, 0.9166)\n",
      "(:epoch, 15, :trn, 0.9215333333333333, :tst, 0.9171)\n",
      " 11.057204 seconds (3.81 M allocations: 6.581 GiB, 7.28% gc time)\n"
     ]
    },
    {
     "data": {
      "text/plain": [
       "2-element Array{Any,1}:\n",
       " Float32[-0.040173 0.0502318 … -0.0252322 0.00663949; -0.0339542 0.00167567 … -0.0112764 -0.0171711; … ; -0.0598872 -0.183495 … -0.0798405 -0.0879464; -0.0603893 0.149002 … 0.0149765 0.108677]\n",
       " Float32[0.826128; 0.272744; … ; -0.491796; -1.05748]                                                                                                                                           "
      ]
     },
     "execution_count": 14,
     "metadata": {},
     "output_type": "execute_result"
    }
   ],
   "source": [
    "\n",
    "MLP.main(\"--epochs 15\")"
   ]
  },
  {
   "cell_type": "code",
   "execution_count": 15,
   "metadata": {},
   "outputs": [
    {
     "data": {
      "text/plain": [
       "(\"28×28×1×60000 Array{Float32,4}\", \"60000-element Array{UInt8,1}\", \"28×28×1×10000 Array{Float32,4}\", \"10000-element Array{UInt8,1}\")"
      ]
     },
     "execution_count": 15,
     "metadata": {},
     "output_type": "execute_result"
    }
   ],
   "source": [
    "xtrn,ytrn,xtst,ytst = MLP.mnist()\n",
    "map(summary,(xtrn,ytrn,xtst,ytst))"
   ]
  },
  {
   "cell_type": "code",
   "execution_count": 20,
   "metadata": {},
   "outputs": [
    {
     "data": {
      "text/plain": [
       "mnistview (generic function with 1 method)"
      ]
     },
     "execution_count": 20,
     "metadata": {},
     "output_type": "execute_result"
    }
   ],
   "source": [
    "using Images\n",
    "mnistview(x,i) = Images.colorview(Gray,permutedims(x[:,:,1,i],(2,1)))"
   ]
  },
  {
   "cell_type": "code",
   "execution_count": 56,
   "metadata": {},
   "outputs": [
    {
     "data": {
      "image/png": "[encoded data removed]",
      "text/plain": [
       "28×280 Array{Gray{Float32},2} with eltype Gray{Float32}:\n",
       " Gray{Float32}(0.0)        …  Gray{Float32}(0.0)       \n",
       " Gray{Float32}(0.0)           Gray{Float32}(0.0)       \n",
       " Gray{Float32}(0.0)           Gray{Float32}(0.0)       \n",
       " Gray{Float32}(0.0)           Gray{Float32}(0.0)       \n",
       " Gray{Float32}(0.0)           Gray{Float32}(0.0)       \n",
       " Gray{Float32}(0.0)        …  Gray{Float32}(0.0)       \n",
       " Gray{Float32}(0.0)           Gray{Float32}(0.0)       \n",
       " Gray{Float32}(0.0)           Gray{Float32}(0.0)       \n",
       " Gray{Float32}(0.0)           Gray{Float32}(0.0)       \n",
       " Gray{Float32}(0.0)           Gray{Float32}(0.0470588) \n",
       " Gray{Float32}(0.0)        …  Gray{Float32}(0.203922)  \n",
       " Gray{Float32}(0.0)           Gray{Float32}(0.0980392) \n",
       " Gray{Float32}(0.0)           Gray{Float32}(0.152941)  \n",
       " ⋮                         ⋱                           \n",
       " Gray{Float32}(0.0117647)     Gray{Float32}(0.0705882) \n",
       " Gray{Float32}(0.0)           Gray{Float32}(0.184314)  \n",
       " Gray{Float32}(0.0)           Gray{Float32}(0.184314)  \n",
       " Gray{Float32}(0.27451)       Gray{Float32}(0.00392157)\n",
       " Gray{Float32}(0.0627451)  …  Gray{Float32}(0.0)       \n",
       " Gray{Float32}(0.0)           Gray{Float32}(0.0)       \n",
       " Gray{Float32}(0.0)           Gray{Float32}(0.0)       \n",
       " Gray{Float32}(0.0)           Gray{Float32}(0.0)       \n",
       " Gray{Float32}(0.0)           Gray{Float32}(0.0)       \n",
       " Gray{Float32}(0.0)        …  Gray{Float32}(0.0)       \n",
       " Gray{Float32}(0.0)           Gray{Float32}(0.0)       \n",
       " Gray{Float32}(0.0)           Gray{Float32}(0.0)       "
      ]
     },
     "execution_count": 56,
     "metadata": {},
     "output_type": "execute_result"
    }
   ],
   "source": [
    "hcat([mnistview(xtst,i) for i=1:10]...)"
   ]
  },
  {
   "cell_type": "code",
   "execution_count": 57,
   "metadata": {},
   "outputs": [
    {
     "data": {
      "text/plain": [
       "1×10 LinearAlgebra.Adjoint{UInt8,Array{UInt8,1}}:\n",
       " 0x0a  0x03  0x02  0x02  0x07  0x02  0x05  0x07  0x06  0x08"
      ]
     },
     "execution_count": 57,
     "metadata": {},
     "output_type": "execute_result"
    }
   ],
   "source": [
    "ytst[1:10]'"
   ]
  },
  {
   "cell_type": "markdown",
   "metadata": {},
   "source": [
    "---"
   ]
  },
  {
   "cell_type": "code",
   "execution_count": 30,
   "metadata": {},
   "outputs": [
    {
     "data": {
      "text/plain": [
       "Main.FashionMNIST"
      ]
     },
     "execution_count": 30,
     "metadata": {},
     "output_type": "execute_result"
    }
   ],
   "source": [
    "include(\"fashion-mnist/fashion-mnist.jl\")\n",
    "\n",
    "FashionMNIST.main(\"--epochs 15\")"
   ]
  },
  {
   "cell_type": "code",
   "execution_count": 51,
   "metadata": {},
   "outputs": [
    {
     "data": {
      "text/plain": [
       "(1.0f0, 0x0a, 1.0f0, 0x0a)"
      ]
     },
     "execution_count": 51,
     "metadata": {},
     "output_type": "execute_result"
    }
   ],
   "source": [
    "include(\"../data/fashion-mnist.jl\")\n",
    "\n",
    "xtrn,ytrn,xtst,ytst = fmnist()\n",
    "map(maximum,(xtrn,ytrn,xtst,ytst))"
   ]
  },
  {
   "cell_type": "code",
   "execution_count": 54,
   "metadata": {},
   "outputs": [
    {
     "data": {
      "image/png": "[encoded data removed]",
      "text/plain": [
       "28×280 Array{Gray{Float32},2} with eltype Gray{Float32}:\n",
       " Gray{Float32}(0.0)        …  Gray{Float32}(0.0)       \n",
       " Gray{Float32}(0.0)           Gray{Float32}(0.0)       \n",
       " Gray{Float32}(0.0)           Gray{Float32}(0.0)       \n",
       " Gray{Float32}(0.0)           Gray{Float32}(0.0)       \n",
       " Gray{Float32}(0.0)           Gray{Float32}(0.0)       \n",
       " Gray{Float32}(0.0)        …  Gray{Float32}(0.0)       \n",
       " Gray{Float32}(0.0)           Gray{Float32}(0.0)       \n",
       " Gray{Float32}(0.0)           Gray{Float32}(0.0)       \n",
       " Gray{Float32}(0.0)           Gray{Float32}(0.0)       \n",
       " Gray{Float32}(0.0)           Gray{Float32}(0.0470588) \n",
       " Gray{Float32}(0.0)        …  Gray{Float32}(0.203922)  \n",
       " Gray{Float32}(0.0)           Gray{Float32}(0.0980392) \n",
       " Gray{Float32}(0.0)           Gray{Float32}(0.152941)  \n",
       " ⋮                         ⋱                           \n",
       " Gray{Float32}(0.0117647)     Gray{Float32}(0.0705882) \n",
       " Gray{Float32}(0.0)           Gray{Float32}(0.184314)  \n",
       " Gray{Float32}(0.0)           Gray{Float32}(0.184314)  \n",
       " Gray{Float32}(0.27451)       Gray{Float32}(0.00392157)\n",
       " Gray{Float32}(0.0627451)  …  Gray{Float32}(0.0)       \n",
       " Gray{Float32}(0.0)           Gray{Float32}(0.0)       \n",
       " Gray{Float32}(0.0)           Gray{Float32}(0.0)       \n",
       " Gray{Float32}(0.0)           Gray{Float32}(0.0)       \n",
       " Gray{Float32}(0.0)           Gray{Float32}(0.0)       \n",
       " Gray{Float32}(0.0)        …  Gray{Float32}(0.0)       \n",
       " Gray{Float32}(0.0)           Gray{Float32}(0.0)       \n",
       " Gray{Float32}(0.0)           Gray{Float32}(0.0)       "
      ]
     },
     "execution_count": 54,
     "metadata": {},
     "output_type": "execute_result"
    }
   ],
   "source": [
    "fmnistview(x,i) = Images.colorview(Gray,permutedims(x[:,:,1,i],(2,1)))\n",
    "hcat([fmnistview(xtst,i) for i=1:10]...)"
   ]
  },
  {
   "cell_type": "code",
   "execution_count": 44,
   "metadata": {},
   "outputs": [
    {
     "data": {
      "text/plain": [
       "1×10 LinearAlgebra.Adjoint{UInt8,Array{UInt8,1}}:\n",
       " 0x0a  0x03  0x02  0x02  0x07  0x02  0x05  0x07  0x06  0x08"
      ]
     },
     "execution_count": 44,
     "metadata": {},
     "output_type": "execute_result"
    }
   ],
   "source": [
    "ytst[1:10]'"
   ]
  },
  {
   "cell_type": "markdown",
   "metadata": {},
   "source": [
    "---"
   ]
  },
  {
   "cell_type": "code",
   "execution_count": 65,
   "metadata": {},
   "outputs": [
    {
     "name": "stdout",
     "output_type": "stream",
     "text": [
      "fashion-mnist.jl (c) 2017 Adapted by Emre Unal based on Deniz Yuret’s MNIST example https://github.com/denizyuret/Knet.jl/tree/master/examples/mnist-mlp/mlp.jl.\n",
      "Multi-layer perceptron model on the Fashion-MNIST dataset from https://github.com/zalandoresearch/fashion-mnist.\n",
      "\n",
      "opts=(:batchsize, 100)(:fast, false)(:atype, \"Array{Float32}\")(:epochs, 20)(:gcheck, 0)(:winit, 0.1)(:dropout, 0.5)(:lr, 0.15)(:hidden, [32, 32])(:seed, -1)\n",
      "(:epoch, 0, :trn, 0.10636666666666666, :tst, 0.1054)\n",
      "(:epoch, 1, :trn, 0.8191166666666667, :tst, 0.8075)\n",
      "(:epoch, 2, :trn, 0.84475, :tst, 0.8313)\n",
      "(:epoch, 3, :trn, 0.8578, :tst, 0.8395)\n",
      "(:epoch, 4, :trn, 0.8648333333333333, :tst, 0.8453)\n",
      "(:epoch, 5, :trn, 0.8697833333333334, :tst, 0.8506)\n",
      "(:epoch, 6, :trn, 0.8736333333333334, :tst, 0.8523)\n",
      "(:epoch, 7, :trn, 0.8763333333333333, :tst, 0.8553)\n",
      "(:epoch, 8, :trn, 0.8774166666666666, :tst, 0.8573)\n",
      "(:epoch, 9, :trn, 0.8818, :tst, 0.8619)\n",
      "(:epoch, 10, :trn, 0.8827166666666667, :tst, 0.8617)\n",
      "(:epoch, 11, :trn, 0.88605, :tst, 0.8634)\n",
      "(:epoch, 12, :trn, 0.8884333333333333, :tst, 0.8654)\n",
      "(:epoch, 13, :trn, 0.8885666666666666, :tst, 0.8642)\n",
      "(:epoch, 14, :trn, 0.8909333333333334, :tst, 0.8664)\n",
      "(:epoch, 15, :trn, 0.8909166666666667, :tst, 0.8657)\n",
      "(:epoch, 16, :trn, 0.8919166666666667, :tst, 0.8673)\n",
      "(:epoch, 17, :trn, 0.8926, :tst, 0.8664)\n",
      "(:epoch, 18, :trn, 0.8935833333333333, :tst, 0.8675)\n",
      "(:epoch, 19, :trn, 0.8941, :tst, 0.867)\n",
      "(:epoch, 20, :trn, 0.8947333333333334, :tst, 0.8673)\n",
      " 18.232993 seconds (7.62 M allocations: 12.181 GiB, 8.78% gc time)\n"
     ]
    },
    {
     "data": {
      "text/plain": [
       "6-element Array{Any,1}:\n",
       " Float32[-0.0312892 0.0669809 … 0.160992 0.0619048; 0.192639 0.135134 … -0.0871503 0.00165933; … ; 0.0984376 -0.206092 … 0.0201828 -0.0537948; 0.122625 0.0826153 … -0.0891128 -0.071331]\n",
       " Float32[-0.0940021; 0.2726; … ; -0.135128; 0.62656]                                                                                                                                     \n",
       " Float32[0.20444 0.482465 … 0.0615954 -0.000367026; 0.759991 0.047565 … -0.137364 -0.209322; … ; -0.356647 0.0823732 … -0.721673 0.00137532; -0.0350939 -0.30446 … 0.257802 0.286187]    \n",
       " Float32[0.0487522; 0.474317; … ; 0.0818124; 0.400674]                                                                                                                                   \n",
       " Float32[0.377632 0.0417297 … 0.460254 -0.56439; 0.137855 0.165408 … -0.305564 -0.0494776; … ; 0.136445 -0.999339 … 0.416285 0.115632; -0.23831 0.0206515 … 0.53145 -0.173652]           \n",
       " Float32[-0.0384464; -0.162062; … ; 0.0447396; -0.686009]                                                                                                                                "
      ]
     },
     "execution_count": 65,
     "metadata": {},
     "output_type": "execute_result"
    }
   ],
   "source": [
    "FashionMNIST.main(\"--epochs 20 --hidden 32 32\" )"
   ]
  },
  {
   "cell_type": "code",
   "execution_count": 63,
   "metadata": {},
   "outputs": [
    {
     "name": "stdout",
     "output_type": "stream",
     "text": [
      "fashion-mnist.jl (c) 2017 Adapted by Emre Unal based on Deniz Yuret’s MNIST example https://github.com/denizyuret/Knet.jl/tree/master/examples/mnist-mlp/mlp.jl.\n",
      "Multi-layer perceptron model on the Fashion-MNIST dataset from https://github.com/zalandoresearch/fashion-mnist.\n",
      "\n",
      "opts=(:batchsize, 100)(:fast, false)(:atype, \"Array{Float32}\")(:epochs, 15)(:gcheck, 0)(:winit, 0.1)(:dropout, 0.5)(:lr, 0.15)(:hidden, [64, 32])(:seed, -1)\n",
      "(:epoch, 0, :trn, 0.07458333333333333, :tst, 0.0734)\n",
      "(:epoch, 1, :trn, 0.8111, :tst, 0.8035)\n",
      "(:epoch, 2, :trn, 0.8513833333333334, :tst, 0.8389)\n",
      "(:epoch, 3, :trn, 0.8654666666666667, :tst, 0.8506)\n",
      "(:epoch, 4, :trn, 0.8729166666666667, :tst, 0.8561)\n",
      "(:epoch, 5, :trn, 0.8778833333333333, :tst, 0.86)\n",
      "(:epoch, 6, :trn, 0.8824333333333333, :tst, 0.8654)\n",
      "(:epoch, 7, :trn, 0.8864833333333333, :tst, 0.8681)\n",
      "(:epoch, 8, :trn, 0.8893166666666666, :tst, 0.8697)\n",
      "(:epoch, 9, :trn, 0.89165, :tst, 0.871)\n",
      "(:epoch, 10, :trn, 0.8942166666666667, :tst, 0.8715)\n",
      "(:epoch, 11, :trn, 0.8931833333333333, :tst, 0.8708)\n",
      "(:epoch, 12, :trn, 0.8959833333333334, :tst, 0.8714)\n",
      "(:epoch, 13, :trn, 0.8964, :tst, 0.8724)\n",
      "(:epoch, 14, :trn, 0.8991333333333333, :tst, 0.8733)\n",
      "(:epoch, 15, :trn, 0.8998833333333334, :tst, 0.874)\n",
      " 22.338081 seconds (5.79 M allocations: 10.921 GiB, 8.05% gc time)\n"
     ]
    },
    {
     "data": {
      "text/plain": [
       "6-element Array{Any,1}:\n",
       " Float32[0.183958 -0.0487741 … -0.104594 0.131875; -0.00313371 0.18052 … -0.0130205 0.0644176; … ; 0.0745418 0.0331381 … -0.0168326 -0.0455298; -0.00536668 -0.04791 … -0.024419 -0.0324855]\n",
       " Float32[0.349275; 0.391539; … ; 0.537315; -0.0412937]                                                                                                                                      \n",
       " Float32[0.137981 -0.153488 … -0.0959689 0.10526; 0.29923 0.23181 … -0.266603 0.0374204; … ; 0.0811019 0.181284 … -0.15439 0.137748; 0.184086 0.15751 … 0.0963871 0.0997669]                \n",
       " Float32[0.251531; 0.469832; … ; 0.025972; 0.22661]                                                                                                                                         \n",
       " Float32[-0.148285 -0.271458 … -0.52118 -0.213137; 0.00327551 0.824657 … -0.0209717 -0.111145; … ; -0.32125 -0.29331 … 0.170673 -0.149753; -0.414008 -0.53713 … 0.584343 0.179393]          \n",
       " Float32[0.118426; -0.239309; … ; -0.224835; -0.797472]                                                                                                                                     "
      ]
     },
     "execution_count": 63,
     "metadata": {},
     "output_type": "execute_result"
    }
   ],
   "source": [
    "FashionMNIST.main(\"--epochs 15 --hidden 64 32\" )"
   ]
  },
  {
   "cell_type": "code",
   "execution_count": null,
   "metadata": {},
   "outputs": [],
   "source": []
  }
 ],
 "metadata": {
  "kernelspec": {
   "display_name": "Julia 1.0.3",
   "language": "julia",
   "name": "julia-1.0"
  },
  "language_info": {
   "file_extension": ".jl",
   "mimetype": "application/julia",
   "name": "julia",
   "version": "1.0.3"
  }
 },
 "nbformat": 4,
 "nbformat_minor": 2
}
