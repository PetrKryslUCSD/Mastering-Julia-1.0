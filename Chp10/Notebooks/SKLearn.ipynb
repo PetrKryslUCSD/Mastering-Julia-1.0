{
 "cells": [
  {
   "cell_type": "raw",
   "metadata": {},
   "source": [
    "ScikitLearn.jl implements the popular scikit-learn interface and algorithms in Julia. \n",
    "\n",
    "It supports both models from the Julia ecosystem and those of the scikit-learn library, via PyCall.jl.\n",
    " \n",
    "\n",
    "Main features:\n",
    "\n",
    "Around 150 Julia and Python models accessed through a uniform interface\n",
    "Pipelines and Feature Unions\n",
    "Cross-validation\n",
    "Hyperparameter tuning\n",
    "DataFrames support\n",
    "\n",
    "Manual:   http://scikitlearnjl.readthedocs.io/en/latest/\n",
    "Examples: https://github.com/cstjean/ScikitLearn.jl/docs/examples.md"
   ]
  },
  {
   "cell_type": "code",
   "execution_count": 9,
   "metadata": {},
   "outputs": [],
   "source": [
    "using RDatasets: dataset\n",
    "using ScikitLearn"
   ]
  },
  {
   "cell_type": "code",
   "execution_count": 10,
   "metadata": {},
   "outputs": [],
   "source": [
    "iris = dataset(\"datasets\", \"iris\");"
   ]
  },
  {
   "cell_type": "code",
   "execution_count": 14,
   "metadata": {},
   "outputs": [],
   "source": [
    "X = convert(Matrix, iris[[:SepalLength, :SepalWidth, :PetalLength, :PetalWidth]]);\n",
    "y = convert(Array, iris[:Species]);"
   ]
  },
  {
   "cell_type": "code",
   "execution_count": 17,
   "metadata": {},
   "outputs": [
    {
     "name": "stderr",
     "output_type": "stream",
     "text": [
      "┌ Warning: `getindex(o::PyObject, s::Symbol)` is deprecated in favor of dot overloading (`getproperty`) so elements should now be accessed as e.g. `o.s` instead of `o[:s]`.\n",
      "│   caller = top-level scope at Skcore.jl:158\n",
      "└ @ Core /Users/malcolm/.julia/packages/ScikitLearn/HK6Vs/src/Skcore.jl:158\n",
      "WARNING: redefining constant LogisticRegression\n"
     ]
    },
    {
     "data": {
      "text/plain": [
       "PyObject LogisticRegression(C=1.0, class_weight=None, dual=False, fit_intercept=True,\n",
       "          intercept_scaling=1, max_iter=100, multi_class='warn',\n",
       "          n_jobs=None, penalty='l2', random_state=None, solver='warn',\n",
       "          tol=0.0001, verbose=0, warm_start=False)"
      ]
     },
     "execution_count": 17,
     "metadata": {},
     "output_type": "execute_result"
    }
   ],
   "source": [
    "@sk_import linear_model: LogisticRegression\n",
    "model = LogisticRegression(fit_intercept=true)\n",
    "fit!(model, X, y)"
   ]
  },
  {
   "cell_type": "code",
   "execution_count": 16,
   "metadata": {},
   "outputs": [
    {
     "name": "stdout",
     "output_type": "stream",
     "text": [
      "Accuracy: 0.96\n"
     ]
    }
   ],
   "source": [
    "accuracy = sum(predict(model, X) .== y) / length(y)\n",
    "println(\"Accuracy: $accuracy\")"
   ]
  },
  {
   "cell_type": "markdown",
   "metadata": {},
   "source": [
    "---"
   ]
  },
  {
   "cell_type": "code",
   "execution_count": null,
   "metadata": {},
   "outputs": [],
   "source": []
  }
 ],
 "metadata": {
  "kernelspec": {
   "display_name": "Julia 1.0.3",
   "language": "julia",
   "name": "julia-1.0"
  },
  "language_info": {
   "file_extension": ".jl",
   "mimetype": "application/julia",
   "name": "julia",
   "version": "1.0.3"
  }
 },
 "nbformat": 4,
 "nbformat_minor": 2
}
