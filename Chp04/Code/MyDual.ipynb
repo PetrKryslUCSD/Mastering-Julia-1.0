{
 "cells": [
  {
   "cell_type": "code",
   "execution_count": 1,
   "metadata": {},
   "outputs": [
    {
     "data": {
      "text/plain": [
       "Main.MyDual"
      ]
     },
     "execution_count": 1,
     "metadata": {},
     "output_type": "execute_result"
    }
   ],
   "source": [
    "module MyDual\n",
    "\n",
    "import Base: +,-,*,/,==,!=,>,<,>=,<=\n",
    "import Base: abs,conj,inv,zero,one,show\n",
    "import LinearAlgebra: transpose,adjoint,norm\n",
    "\n",
    "export Dual\n",
    "\n",
    "struct Dual{T<:Number}\n",
    "    a::T\n",
    "    b::T\n",
    "end\n",
    "\n",
    "Dual(x::Number) = Dual(x, zero(T))\n",
    "\n",
    "value(u::Dual)   = u.a\n",
    "epsilon(u::Dual) = u.b\n",
    "\n",
    "zero(::Type{MyDual.Dual}) = Dual(zero(T),zero(T))\n",
    "one(::Type{MyDual.Dual})  = Dual(one(T),zero(T))\n",
    "\n",
    "abs(u::Dual)  = abs(value(u))\n",
    "norm(u::Dual) = norm(value(u))\n",
    "\n",
    "+(u::Dual, v::Dual) = Dual(value(u) + value(v), epsilon(u) + epsilon(v))\n",
    "-(u::Dual, v::Dual) = Dual(value(u) - value(v), epsilon(u) - epsilon(v))\n",
    "*(u::Dual, v::Dual) = Dual(value(u)*value(v), epsilon(u)*value(v) + value(u)*epsilon(v))\n",
    "/(u::Dual, v::Dual) = Dual(value(u)/value(v),(epsilon(u)*value(v) - value(u)*epsilon(v))/(value(v)*value(v)))\n",
    "\n",
    "==(u::Dual, v::Dual) = norm(u) == norm(v)\n",
    "!=(u::Dual, v::Dual) = norm(u) != norm(v)\n",
    ">(u::Dual, v::Dual)  = norm(u) > norm(v)\n",
    ">=(u::Dual, v::Dual) = norm(u) >= norm(v)\n",
    "<(u::Dual, v::Dual)  = norm(u) < norm(v)\n",
    "<=(u::Dual, v::Dual) = norm(u) <= norm(v)\n",
    "\n",
    "+(x::Number, u::Dual) = Dual(value(u) + x, epsilon(u))\n",
    "+(u::Dual, x::Number) = x + u\n",
    "\n",
    "-(x::Number, u::Dual) = Dual(x - value(u), epsilon(u))\n",
    "-(u::Dual, x::Number) = Dual(value(u) - x, epsilon(u))\n",
    "\n",
    "*(x::Number, u::Dual) = Dual(x*value(u), x*epsilon(u))\n",
    "*(u::Dual, x::Number) = x*u\n",
    "\n",
    "/(u::Dual, x::Number) = (1.0/x)*u\n",
    "\n",
    "conj(u::Dual)  = Dual(value(u),-epsilon(u))\n",
    "inv(u::Dual)   = one(Dual)/u\n",
    "\n",
    "transpose(u::Dual) = u\n",
    "transpose(uu::Array{MyDual.Dual,2}) = [uu[j,i] for i=1:size(uu)[1],j=1:size(uu)[2]]\n",
    "adjoint(u::MyDual.Dual) = u\n",
    "\n",
    "convert(::Type{Dual}, x::Number) = Dual(x,zero(x))\n",
    "promote_rule(::Type{Dual}, ::Type{<:Number}) = Dual\n",
    "\n",
    "## show(io::IO,u::Dual) = print(io,value(u),\" + (\",epsilon(u),\")ϵ\")\n",
    "\n",
    "function show(io::IO,u::Dual) \n",
    " op::String = (epsilon(u) < 0.0) ? \" - \" : \" + \";\n",
    " print(io,value(u),op,abs(epsilon(u)),\" ϵ\")\n",
    "end\n",
    "\n",
    "end"
   ]
  },
  {
   "cell_type": "code",
   "execution_count": 2,
   "metadata": {
    "collapsed": true
   },
   "outputs": [],
   "source": [
    "using Main.MyDual\n",
    "\n",
    "u1 = [Dual(randn(),randn()) for i = 1:25];\n",
    "u2 = [Dual(randn(),randn()) for i = 1:25];\n",
    "\n",
    "uu1 =  reshape(u1,5,5);\n",
    "uu2 =  reshape(u2,5,5);"
   ]
  },
  {
   "cell_type": "code",
   "execution_count": 3,
   "metadata": {},
   "outputs": [
    {
     "data": {
      "text/plain": [
       "5×5 Array{Dual{Float64},2}:\n",
       " -0.0986598 + (-0.14015)ϵ  …  -0.939963 + (-0.689693)ϵ \n",
       " 0.403035 + (-1.56359)ϵ       0.204738 + (1.04758)ϵ    \n",
       " 0.976677 + (1.73684)ϵ        -0.332949 + (-0.0354034)ϵ\n",
       " -1.75626 + (1.06143)ϵ        -1.2276 + (-2.59829)ϵ    \n",
       " -2.33537 + (-0.533074)ϵ      0.0632941 + (0.647912)ϵ  "
      ]
     },
     "execution_count": 3,
     "metadata": {},
     "output_type": "execute_result"
    }
   ],
   "source": [
    "uu3 = uu1.*uu2"
   ]
  },
  {
   "cell_type": "code",
   "execution_count": 4,
   "metadata": {},
   "outputs": [
    {
     "data": {
      "text/plain": [
       "5×5 Array{Dual{Float64},2}:\n",
       " 0.00973377 + (0.0276544)ϵ  …  0.88353 + (1.29657)ϵ     \n",
       " 0.162438 + (-1.26036)ϵ        0.0419176 + (0.428957)ϵ  \n",
       " 0.953898 + (3.39266)ϵ         0.110855 + (0.023575)ϵ   \n",
       " 3.08446 + (-3.7283)ϵ          1.50701 + (6.37934)ϵ     \n",
       " 5.45396 + (2.48985)ϵ          0.00400614 + (0.0820181)ϵ"
      ]
     },
     "execution_count": 4,
     "metadata": {},
     "output_type": "execute_result"
    }
   ],
   "source": [
    "uu4 = map((u)->u*u, uu3)"
   ]
  },
  {
   "cell_type": "raw",
   "metadata": {},
   "source": [
    "---"
   ]
  },
  {
   "cell_type": "code",
   "execution_count": null,
   "metadata": {
    "collapsed": true
   },
   "outputs": [],
   "source": []
  }
 ],
 "metadata": {
  "kernelspec": {
   "display_name": "Julia 1.0.0",
   "language": "julia",
   "name": "julia-1.0"
  },
  "language_info": {
   "file_extension": ".jl",
   "mimetype": "application/julia",
   "name": "julia",
   "version": "1.0.0"
  }
 },
 "nbformat": 4,
 "nbformat_minor": 2
}
