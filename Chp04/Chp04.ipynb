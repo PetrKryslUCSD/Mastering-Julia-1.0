{
 "cells": [
  {
   "cell_type": "code",
   "execution_count": 2,
   "metadata": {},
   "outputs": [],
   "source": [
    "# Packages used in this chapter\n",
    "# To check for installed packages in V1.0 we now need to use the PKG API\n",
    "\n",
    "using Pkg\n",
    "ipks = Pkg.installed()\n",
    "pkgs = [\"BenchmarkTools\",\"MacroTools\", \"Lazy\"]\n",
    "for p in pkgs\n",
    "    !haskey(ipks,p) && Pkg.add(p)\n",
    "end"
   ]
  },
  {
   "cell_type": "markdown",
   "metadata": {},
   "source": [
    "# Chapter 04"
   ]
  },
  {
   "cell_type": "code",
   "execution_count": 3,
   "metadata": {},
   "outputs": [],
   "source": [
    "# We can define these here or as required\n",
    "using BenchmarkTools, MacroTools, Lazy, PyPlot\n",
    "\n",
    "# We need these as some functions have moved from Base to Stdlib\n",
    "#\n",
    "using Printf, Statistics, SpecialFunctions"
   ]
  },
  {
   "cell_type": "code",
   "execution_count": 4,
   "metadata": {},
   "outputs": [],
   "source": [
    "# We can define these here or as required\n",
    "using BenchmarkTools, MacroTools, PyPlot\n",
    "\n",
    "# We need these as some functions have moved from Base to Stdlib\n",
    "#\n",
    "using Printf, Statistics\n"
   ]
  },
  {
   "cell_type": "markdown",
   "metadata": {},
   "source": [
    "## Multiple Dispatch"
   ]
  },
  {
   "cell_type": "code",
   "execution_count": 5,
   "metadata": {},
   "outputs": [
    {
     "data": {
      "text/plain": [
       "recip (generic function with 1 method)"
      ]
     },
     "execution_count": 5,
     "metadata": {},
     "output_type": "execute_result"
    }
   ],
   "source": [
    "recip(x::Number) = \n",
    "(x == zero(typeof(x))) ? error(\"Invalid reciprocal\") : one(typeof(x)) / x"
   ]
  },
  {
   "cell_type": "code",
   "execution_count": 6,
   "metadata": {},
   "outputs": [
    {
     "data": {
      "text/plain": [
       "0.5"
      ]
     },
     "execution_count": 6,
     "metadata": {},
     "output_type": "execute_result"
    }
   ],
   "source": [
    "recip(2)"
   ]
  },
  {
   "cell_type": "code",
   "execution_count": 7,
   "metadata": {},
   "outputs": [
    {
     "data": {
      "text/plain": [
       "2.0"
      ]
     },
     "execution_count": 7,
     "metadata": {},
     "output_type": "execute_result"
    }
   ],
   "source": [
    "recip(recip(2))"
   ]
  },
  {
   "cell_type": "code",
   "execution_count": 8,
   "metadata": {},
   "outputs": [
    {
     "data": {
      "text/plain": [
       "17//11"
      ]
     },
     "execution_count": 8,
     "metadata": {},
     "output_type": "execute_result"
    }
   ],
   "source": [
    "recip(11//17)"
   ]
  },
  {
   "cell_type": "code",
   "execution_count": 9,
   "metadata": {},
   "outputs": [
    {
     "data": {
      "text/plain": [
       "0.02682926829268293 - 0.041463414634146344im"
      ]
     },
     "execution_count": 9,
     "metadata": {},
     "output_type": "execute_result"
    }
   ],
   "source": [
    "recip(11 + 17im)"
   ]
  },
  {
   "cell_type": "code",
   "execution_count": 10,
   "metadata": {},
   "outputs": [
    {
     "ename": "MethodError",
     "evalue": "MethodError: no method matching recip(::Array{Float64,1})\nClosest candidates are:\n  recip(!Matched::Number) at In[5]:1",
     "output_type": "error",
     "traceback": [
      "MethodError: no method matching recip(::Array{Float64,1})\nClosest candidates are:\n  recip(!Matched::Number) at In[5]:1",
      "",
      "Stacktrace:",
      " [1] top-level scope at In[10]:2"
     ]
    }
   ],
   "source": [
    "aa = rand(3)\n",
    "recip(aa)"
   ]
  },
  {
   "cell_type": "code",
   "execution_count": 11,
   "metadata": {},
   "outputs": [
    {
     "data": {
      "text/plain": [
       "3-element Array{Float64,1}:\n",
       " 2.999184068736088 \n",
       " 1.0402102000736877\n",
       " 1.224737942184426 "
      ]
     },
     "execution_count": 11,
     "metadata": {},
     "output_type": "execute_result"
    }
   ],
   "source": [
    "## recip(a::Array) = [a[i] = recip(a[i]) for i = 1:length(a)]\n",
    "## OR\n",
    "\n",
    "recip(a::Array) = map(recip,a)\n",
    "recip(aa)"
   ]
  },
  {
   "cell_type": "code",
   "execution_count": 12,
   "metadata": {},
   "outputs": [
    {
     "data": {
      "text/plain": [
       "3-element Array{Float64,1}:\n",
       " 0.14192772682436977\n",
       " 0.8625106157256626 \n",
       " 0.9407169834288758 "
      ]
     },
     "execution_count": 12,
     "metadata": {},
     "output_type": "execute_result"
    }
   ],
   "source": [
    "map(sin,recip(aa)) # and can map functions to the array"
   ]
  },
  {
   "cell_type": "code",
   "execution_count": 13,
   "metadata": {},
   "outputs": [
    {
     "data": {
      "text/plain": [
       "2×3 Array{Float64,2}:\n",
       " 2.1  3.2  4.3\n",
       " 9.8  8.7  7.6"
      ]
     },
     "execution_count": 13,
     "metadata": {},
     "output_type": "execute_result"
    }
   ],
   "source": [
    "bb = [2.1 3.2 4.3; 9.8 8.7 7.6]"
   ]
  },
  {
   "cell_type": "code",
   "execution_count": 14,
   "metadata": {},
   "outputs": [
    {
     "data": {
      "text/plain": [
       "2×3 Array{Float64,2}:\n",
       " 0.47619   0.3125    0.232558\n",
       " 0.102041  0.114943  0.131579"
      ]
     },
     "execution_count": 14,
     "metadata": {},
     "output_type": "execute_result"
    }
   ],
   "source": [
    "recip(bb) # our definition works but returns a 2-D array"
   ]
  },
  {
   "cell_type": "code",
   "execution_count": 15,
   "metadata": {},
   "outputs": [
    {
     "data": {
      "text/plain": [
       "2×3 Array{Float64,2}:\n",
       " 1.42818   0.325066  0.284823\n",
       " 0.306039  0.119564  0.16115 "
      ]
     },
     "execution_count": 15,
     "metadata": {},
     "output_type": "execute_result"
    }
   ],
   "source": [
    "cc = recip(aa)'.*recip(bb)  # however we can do still do this."
   ]
  },
  {
   "cell_type": "markdown",
   "metadata": {},
   "source": [
    "### Code Generation"
   ]
  },
  {
   "cell_type": "code",
   "execution_count": 16,
   "metadata": {},
   "outputs": [
    {
     "data": {
      "text/plain": [
       "incr (generic function with 1 method)"
      ]
     },
     "execution_count": 16,
     "metadata": {},
     "output_type": "execute_result"
    }
   ],
   "source": [
    "incr(x) = x + 1"
   ]
  },
  {
   "cell_type": "code",
   "execution_count": 17,
   "metadata": {},
   "outputs": [
    {
     "name": "stdout",
     "output_type": "stream",
     "text": [
      "\t.section\t__TEXT,__text,regular,pure_instructions\n",
      "; Function incr {\n",
      "; Location: In[16]:1\n",
      "; Function +; {\n",
      "; Location: In[16]:1\n",
      "\tdecl\t%eax\n",
      "\tleal\t1(%edi), %eax\n",
      ";}\n",
      "\tretl\n",
      "\tnopw\t%cs:(%eax,%eax)\n",
      ";}\n"
     ]
    }
   ],
   "source": [
    "@code_native incr(2)"
   ]
  },
  {
   "cell_type": "code",
   "execution_count": 18,
   "metadata": {},
   "outputs": [
    {
     "name": "stdout",
     "output_type": "stream",
     "text": [
      "\t.section\t__TEXT,__text,regular,pure_instructions\n",
      "; Function incr {\n",
      "; Location: In[16]:1\n",
      "\tdecl\t%eax\n",
      "\tmovl\t$915870136, %eax        ## imm = 0x369711B8\n",
      "\taddl\t%eax, (%eax)\n",
      "\taddb\t%al, (%eax)\n",
      "; Function +; {\n",
      "; Location: promotion.jl:313\n",
      "; Function +; {\n",
      "; Location: float.jl:395\n",
      "\tvaddsd\t(%eax), %xmm0, %xmm0\n",
      ";}}\n",
      "\tretl\n",
      "\tnop\n",
      ";}\n"
     ]
    }
   ],
   "source": [
    "@code_native incr(2.7)"
   ]
  },
  {
   "cell_type": "code",
   "execution_count": 19,
   "metadata": {},
   "outputs": [
    {
     "name": "stdout",
     "output_type": "stream",
     "text": [
      "\t.section\t__TEXT,__text,regular,pure_instructions\n",
      "; Function incr {\n",
      "; Location: In[16]:1\n",
      "\tpushl\t%ebx\n",
      "\tdecl\t%eax\n",
      "\tsubl\t$16, %esp\n",
      "\tdecl\t%eax\n",
      "\tmovl\t%edi, %ebx\n",
      "\tdecl\t%eax\n",
      "\tmovl\t$549501584, %eax        ## imm = 0x20C0BA90\n",
      "\taddl\t%eax, (%eax)\n",
      "\taddb\t%al, (%eax)\n",
      "\tdecl\t%eax\n",
      "\tmovl\t%esp, %edi\n",
      "\tmovl\t$1, %edx\n",
      "\tcalll\t*%eax\n",
      "\tvmovups\t(%esp), %xmm0\n",
      "\tvmovups\t%xmm0, (%ebx)\n",
      "\tdecl\t%eax\n",
      "\tmovl\t%ebx, %eax\n",
      "\tdecl\t%eax\n",
      "\taddl\t$16, %esp\n",
      "\tpopl\t%ebx\n",
      "\tretl\n",
      "\tnop\n",
      ";}\n"
     ]
    }
   ],
   "source": [
    "@code_native incr(2//7)"
   ]
  },
  {
   "cell_type": "code",
   "execution_count": 20,
   "metadata": {},
   "outputs": [
    {
     "name": "stdout",
     "output_type": "stream",
     "text": [
      "\t.section\t__TEXT,__text,regular,pure_instructions\n",
      "; Function incr {\n",
      "; Location: In[16]:1\n",
      "; Function +; {\n",
      "; Location: complex.jl:304\n",
      "; Function +; {\n",
      "; Location: promotion.jl:313\n",
      "; Function +; {\n",
      "; Location: In[16]:1\n",
      "\tvmovsd\t(%esi), %xmm0           ## xmm0 = mem[0],zero\n",
      "\tdecl\t%eax\n",
      "\tmovl\t$915874032, %eax        ## imm = 0x369720F0\n",
      "\taddl\t%eax, (%eax)\n",
      "\taddb\t%al, (%eax)\n",
      "\tvaddsd\t(%eax), %xmm0, %xmm0\n",
      ";}}\n",
      "; Location: complex.jl:12\n",
      "\tdecl\t%eax\n",
      "\tmovl\t8(%esi), %eax\n",
      ";}\n",
      "\tvmovsd\t%xmm0, (%edi)\n",
      "\tdecl\t%eax\n",
      "\tmovl\t%eax, 8(%edi)\n",
      "\tdecl\t%eax\n",
      "\tmovl\t%edi, %eax\n",
      "\tretl\n",
      "\tnopw\t%cs:(%eax,%eax)\n",
      ";}\n"
     ]
    }
   ],
   "source": [
    "@code_native incr(2.0 + 7.0im)"
   ]
  },
  {
   "cell_type": "code",
   "execution_count": 21,
   "metadata": {},
   "outputs": [
    {
     "name": "stdout",
     "output_type": "stream",
     "text": [
      "Expr\n",
      "  head: Symbol call\n",
      "  args: Array{Any}((2,))\n",
      "    1: Symbol incr\n",
      "    2: Float64 2.7\n"
     ]
    }
   ],
   "source": [
    "# Look at some intermediate stages\n",
    "dump(:(incr(2.7)))"
   ]
  },
  {
   "cell_type": "code",
   "execution_count": 22,
   "metadata": {},
   "outputs": [
    {
     "data": {
      "text/plain": [
       "CodeInfo(\n",
       "\u001b[90m\u001b[77G│\u001b[1G\u001b[39m\u001b[90m1 \u001b[39m1 ─ %1 = x + 1\n",
       "\u001b[90m\u001b[77G│\u001b[1G\u001b[39m\u001b[90m  \u001b[39m└──      return %1\n",
       ")"
      ]
     },
     "execution_count": 22,
     "metadata": {},
     "output_type": "execute_result"
    }
   ],
   "source": [
    "@code_lowered incr(2.7)"
   ]
  },
  {
   "cell_type": "code",
   "execution_count": 23,
   "metadata": {},
   "outputs": [
    {
     "data": {
      "text/plain": [
       "CodeInfo(\n",
       "\u001b[90m\u001b[73G│╻╷ +\u001b[1G\u001b[39m\u001b[90m1 \u001b[39m1 ─ %1 = (Base.add_float)(x, 1.0)\u001b[36m::Float64\u001b[39m\n",
       "\u001b[90m\u001b[73G│  \u001b[1G\u001b[39m\u001b[90m  \u001b[39m└──      return %1\n",
       ") => Float64"
      ]
     },
     "execution_count": 23,
     "metadata": {},
     "output_type": "execute_result"
    }
   ],
   "source": [
    "@code_typed incr(2.7)"
   ]
  },
  {
   "cell_type": "code",
   "execution_count": 24,
   "metadata": {},
   "outputs": [
    {
     "name": "stdout",
     "output_type": "stream",
     "text": [
      "\n",
      "; Function incr\n",
      "; Location: In[16]:1\n",
      "define double @julia_incr_36859(double) {\n",
      "top:\n",
      "; Function +; {\n",
      "; Location: promotion.jl:313\n",
      "; Function +; {\n",
      "; Location: float.jl:395\n",
      "  %1 = fadd double %0, 1.000000e+00\n",
      ";}}\n",
      "  ret double %1\n",
      "}\n"
     ]
    }
   ],
   "source": [
    "@code_llvm(incr(2.7))"
   ]
  },
  {
   "cell_type": "markdown",
   "metadata": {},
   "source": [
    "## Metaprogramming"
   ]
  },
  {
   "cell_type": "markdown",
   "metadata": {},
   "source": [
    "### Symbols and Expressions"
   ]
  },
  {
   "cell_type": "code",
   "execution_count": 25,
   "metadata": {},
   "outputs": [
    {
     "data": {
      "text/plain": [
       ":(((x ^ 2 + y ^ 2) - 2 * x * y) ^ 0.5)"
      ]
     },
     "execution_count": 25,
     "metadata": {},
     "output_type": "execute_result"
    }
   ],
   "source": [
    "ex1 = :((x^2 + y^2 - 2*x*y)^0.5)"
   ]
  },
  {
   "cell_type": "code",
   "execution_count": 26,
   "metadata": {},
   "outputs": [
    {
     "data": {
      "text/plain": [
       "quote\n",
       "    #= In[26]:2 =#\n",
       "    ((x ^ 2 + y ^ 2) - 2 * x * y) ^ 0.5\n",
       "end"
      ]
     },
     "execution_count": 26,
     "metadata": {},
     "output_type": "execute_result"
    }
   ],
   "source": [
    "ex2 = quote\n",
    "    (x^2 + y^2 - 2*x*y)^0.5\n",
    "end"
   ]
  },
  {
   "cell_type": "code",
   "execution_count": 27,
   "metadata": {},
   "outputs": [
    {
     "data": {
      "text/plain": [
       "1.4"
      ]
     },
     "execution_count": 27,
     "metadata": {},
     "output_type": "execute_result"
    }
   ],
   "source": [
    "# If we instantiate the variables x,y,z then we can evaluate the expression\n",
    "# This is NOT a function call, so values need to be known before hand\n",
    "#\n",
    "x = 1.1; y = 2.5;\n",
    "eval(ex1)"
   ]
  },
  {
   "cell_type": "code",
   "execution_count": 28,
   "metadata": {},
   "outputs": [
    {
     "data": {
      "text/plain": [
       ":(((x ^ 2 + y ^ 2) - 2 * x * y) ^ 0.5)"
      ]
     },
     "execution_count": 28,
     "metadata": {},
     "output_type": "execute_result"
    }
   ],
   "source": [
    "# Note that the @eval macro does NOT behave as the function call\n",
    "@eval ex1"
   ]
  },
  {
   "cell_type": "code",
   "execution_count": 29,
   "metadata": {},
   "outputs": [
    {
     "data": {
      "text/plain": [
       "1.4"
      ]
     },
     "execution_count": 29,
     "metadata": {},
     "output_type": "execute_result"
    }
   ],
   "source": [
    "# Unless the expression is prefixed with '$'\n",
    "@eval $ex1\n",
    "\n",
    "# i.e.  @eval $(ex) === eval(ex)"
   ]
  },
  {
   "cell_type": "code",
   "execution_count": 30,
   "metadata": {},
   "outputs": [
    {
     "name": "stdout",
     "output_type": "stream",
     "text": [
      "Expr\n",
      "  head: Symbol call\n",
      "  args: Array{Any}((3,))\n",
      "    1: Symbol ^\n",
      "    2: Expr\n",
      "      head: Symbol call\n",
      "      args: Array{Any}((3,))\n",
      "        1: Symbol -\n",
      "        2: Expr\n",
      "          head: Symbol call\n",
      "          args: Array{Any}((3,))\n",
      "            1: Symbol +\n",
      "            2: Expr\n",
      "              head: Symbol call\n",
      "              args: Array{Any}((3,))\n",
      "                1: Symbol ^\n",
      "                2: Symbol x\n",
      "                3: Int64 2\n",
      "            3: Expr\n",
      "              head: Symbol call\n",
      "              args: Array{Any}((3,))\n",
      "                1: Symbol ^\n",
      "                2: Symbol y\n",
      "                3: Int64 2\n",
      "        3: Expr\n",
      "          head: Symbol call\n",
      "          args: Array{Any}((4,))\n",
      "            1: Symbol *\n",
      "            2: Int64 2\n",
      "            3: Symbol x\n",
      "            4: Symbol y\n",
      "    3: Float64 0.5\n"
     ]
    }
   ],
   "source": [
    "# Although ex1 and ex2 are equivalent the AST of the expression \n",
    "# is slightly different\n",
    "# Here it is for ex1, we leave ex2 to the reader\n",
    "#\n",
    "dump(ex1)"
   ]
  },
  {
   "cell_type": "code",
   "execution_count": 31,
   "metadata": {},
   "outputs": [
    {
     "name": "stdout",
     "output_type": "stream",
     "text": [
      "(:call, :^, (:call, :-, (:call, :+, (:call, :^, :x, 2), (:call, :^, :y, 2)), (:call, :*, 2, :x, :y)), 0.5)"
     ]
    }
   ],
   "source": [
    "# Dump is very verbose, so using show_expr creates an S-expression version\n",
    "#\n",
    "Meta.show_sexpr(ex1)"
   ]
  },
  {
   "cell_type": "code",
   "execution_count": 32,
   "metadata": {},
   "outputs": [
    {
     "data": {
      "text/plain": [
       "2-element Array{Symbol,1}:\n",
       " :x\n",
       " :y"
      ]
     },
     "execution_count": 32,
     "metadata": {},
     "output_type": "execute_result"
    }
   ],
   "source": [
    "# Traversing a tree\n",
    "#\n",
    "function traverse!(ex, symbols) end\n",
    "\n",
    "function traverse!(ex::Symbol, symbols) \n",
    "    push!(symbols, ex) \n",
    "end\n",
    "\n",
    "function traverse!(ex::Expr, symbols)\n",
    "    if ex.head == :call  # function call\n",
    "        for arg in ex.args[2:end]\n",
    "            traverse!(arg, symbols)  # recursive\n",
    "        end\n",
    "    else\n",
    "        for arg in ex.args\n",
    "            traverse!(arg, symbols)  # recursive\n",
    "        end\n",
    "    end\n",
    "end\n",
    "\n",
    "function traverse(ex::Expr) \n",
    "    symbols = Symbol[]\n",
    "    traverse!(ex, symbols) \n",
    "    return unique(symbols)  # Don't output duplicate\n",
    "end\n",
    "\n",
    "traverse(ex1)"
   ]
  },
  {
   "cell_type": "markdown",
   "metadata": {},
   "source": [
    "### Macros"
   ]
  },
  {
   "cell_type": "code",
   "execution_count": 33,
   "metadata": {},
   "outputs": [
    {
     "data": {
      "text/plain": [
       "@pout (macro with 1 method)"
      ]
     },
     "execution_count": 33,
     "metadata": {},
     "output_type": "execute_result"
    }
   ],
   "source": [
    "macro pout(n)\n",
    "    if typeof(n) == Expr \n",
    "       println(n.args)\n",
    "    end\n",
    "    return n\n",
    "end"
   ]
  },
  {
   "cell_type": "code",
   "execution_count": 34,
   "metadata": {},
   "outputs": [
    {
     "data": {
      "text/plain": [
       "1.1"
      ]
     },
     "execution_count": 34,
     "metadata": {},
     "output_type": "execute_result"
    }
   ],
   "source": [
    "@pout x"
   ]
  },
  {
   "cell_type": "code",
   "execution_count": 35,
   "metadata": {},
   "outputs": [
    {
     "name": "stdout",
     "output_type": "stream",
     "text": [
      "Any[:^, :((x ^ 2 + y ^ 2) - 2 * x * y), 0.5]\n"
     ]
    },
    {
     "data": {
      "text/plain": [
       "1.4"
      ]
     },
     "execution_count": 35,
     "metadata": {},
     "output_type": "execute_result"
    }
   ],
   "source": [
    "@pout (x^2 + y^2 - 2*x*y)^0.5"
   ]
  },
  {
   "cell_type": "code",
   "execution_count": 36,
   "metadata": {},
   "outputs": [
    {
     "name": "stdout",
     "output_type": "stream",
     "text": [
      "HiHiHi"
     ]
    }
   ],
   "source": [
    "macro dotimes(n, body)\n",
    "    quote\n",
    "        for i = 1:$(esc(n))\n",
    "            $(esc(body))\n",
    "        end\n",
    "    end\n",
    "end\n",
    "\n",
    "@dotimes 3 print(\"Hi\")"
   ]
  },
  {
   "cell_type": "code",
   "execution_count": 37,
   "metadata": {},
   "outputs": [
    {
     "name": "stdout",
     "output_type": "stream",
     "text": [
      "1\n",
      "4\n",
      "9\n"
     ]
    }
   ],
   "source": [
    "i = 0; @dotimes 3 [global i += 1; println(i*i)]"
   ]
  },
  {
   "cell_type": "markdown",
   "metadata": {},
   "source": [
    "### Macro Expansions"
   ]
  },
  {
   "cell_type": "code",
   "execution_count": 38,
   "metadata": {},
   "outputs": [
    {
     "data": {
      "text/plain": [
       ":(if n > 0\n",
       "      nothing\n",
       "  else\n",
       "      (Base.throw)((Base.AssertionError)(\"n > 0\"))\n",
       "  end)"
      ]
     },
     "execution_count": 38,
     "metadata": {},
     "output_type": "execute_result"
    }
   ],
   "source": [
    "# Expand the @assert function\n",
    "macroexpand(Main,:(@assert n > 0))"
   ]
  },
  {
   "cell_type": "code",
   "execution_count": 39,
   "metadata": {},
   "outputs": [
    {
     "data": {
      "text/plain": [
       "quote\n",
       "    #= In[36]:3 =#\n",
       "    for #10#i = 1:3\n",
       "        #= In[36]:4 =#\n",
       "        [global i += 1; println(i * i)]\n",
       "    end\n",
       "end"
      ]
     },
     "execution_count": 39,
     "metadata": {},
     "output_type": "execute_result"
    }
   ],
   "source": [
    "# Expand our @dotimes function, whic is somewhat simpler\n",
    "#\n",
    "macroexpand(Main,:(@dotimes 3 [global i += 1; println(i*i)]))"
   ]
  },
  {
   "cell_type": "code",
   "execution_count": 40,
   "metadata": {},
   "outputs": [
    {
     "name": "stdout",
     "output_type": "stream",
     "text": [
      "The average value is 0.501538.3 over 100000 trials"
     ]
    }
   ],
   "source": [
    "# Not all macro expansions produce short boiler plate\n",
    "#\n",
    "using Printf, Statistics\n",
    "aa = [rand() for i = 1:100000]\n",
    "@printf \"The average value is %f.3 over %d trials\"  mean(aa) length(aa)"
   ]
  },
  {
   "cell_type": "code",
   "execution_count": 41,
   "metadata": {},
   "outputs": [
    {
     "name": "stdout",
     "output_type": "stream",
     "text": [
      "1\n",
      "4\n",
      "9\n"
     ]
    }
   ],
   "source": [
    "# A more useful version of dotimes macro is until\n",
    "# Creates a loop and breaks out when a condition fails\n",
    "#\n",
    "macro until(condition, block)\n",
    "    quote\n",
    "        while true\n",
    "            $(esc(block))\n",
    "            if $(esc(condition))\n",
    "                break\n",
    "            end\n",
    "        end\n",
    "    end\n",
    "end\n",
    "\n",
    "i = 0; @until (i >= 3) [global i += 1; println(i*i)]"
   ]
  },
  {
   "cell_type": "code",
   "execution_count": 42,
   "metadata": {},
   "outputs": [
    {
     "data": {
      "text/plain": [
       "@iif (macro with 1 method)"
      ]
     },
     "execution_count": 42,
     "metadata": {},
     "output_type": "execute_result"
    }
   ],
   "source": [
    "# The until macro can be used to implement a simple if-then-else\n",
    "#\n",
    "macro iif(cond, body1, body2)\n",
    "    :(if !$cond\n",
    "        $(esc(body1))\n",
    "    else\n",
    "        $(esc(body2))\n",
    "    end)\n",
    "end\n"
   ]
  },
  {
   "cell_type": "code",
   "execution_count": 43,
   "metadata": {},
   "outputs": [
    {
     "data": {
      "text/plain": [
       "3628800"
      ]
     },
     "execution_count": 43,
     "metadata": {},
     "output_type": "execute_result"
    }
   ],
   "source": [
    "fac(n::Integer) = (n == 1) ? 1 : n*fac(n-1)\n",
    "\n",
    "n = 10\n",
    "@iif (n < 1) fac(n) ArgumentError(\"$n not positive\")"
   ]
  },
  {
   "cell_type": "code",
   "execution_count": 44,
   "metadata": {},
   "outputs": [
    {
     "data": {
      "text/plain": [
       "ArgumentError(\"-1 not positive\")"
      ]
     },
     "execution_count": 44,
     "metadata": {},
     "output_type": "execute_result"
    }
   ],
   "source": [
    "n = -1; @iif (n < 1) fac(n) ArgumentError(\"$n not positive\")"
   ]
  },
  {
   "cell_type": "markdown",
   "metadata": {},
   "source": [
    "---"
   ]
  },
  {
   "cell_type": "code",
   "execution_count": 45,
   "metadata": {},
   "outputs": [
    {
     "data": {
      "text/plain": [
       "quote\n",
       "    #= util.jl:154 =#\n",
       "    local #26#stats = (Base.gc_num)()\n",
       "    #= util.jl:155 =#\n",
       "    local #28#elapsedtime = (Base.time_ns)()\n",
       "    #= util.jl:156 =#\n",
       "    local #27#val = fac(big(402))\n",
       "    #= util.jl:157 =#\n",
       "    #28#elapsedtime = (Base.time_ns)() - #28#elapsedtime\n",
       "    #= util.jl:158 =#\n",
       "    local #29#diff = (Base.GC_Diff)((Base.gc_num)(), #26#stats)\n",
       "    #= util.jl:159 =#\n",
       "    (Base.time_print)(#28#elapsedtime, (#29#diff).allocd, (#29#diff).total_time, (Base.gc_alloc_count)(#29#diff))\n",
       "    #= util.jl:161 =#\n",
       "    (Base.println)()\n",
       "    #= util.jl:162 =#\n",
       "    #27#val\n",
       "end"
      ]
     },
     "execution_count": 45,
     "metadata": {},
     "output_type": "execute_result"
    }
   ],
   "source": [
    "function fib(n::Integer)\n",
    "  @assert n > 0\n",
    "  (n == 1 || n == 2) ? 1 : fib(n-1) + fib(n-2)\n",
    "end\n",
    "\n",
    "macroexpand(Main,:(@time(fac(big(402)))))"
   ]
  },
  {
   "cell_type": "code",
   "execution_count": 46,
   "metadata": {},
   "outputs": [
    {
     "data": {
      "text/plain": [
       "kempner (generic function with 1 method)"
      ]
     },
     "execution_count": 46,
     "metadata": {},
     "output_type": "execute_result"
    }
   ],
   "source": [
    "# A timing macro\n",
    "\n",
    "# First defined a modified Kempner function\n",
    "# This converts very slowly\n",
    "\n",
    "function kempner(n::Integer)\n",
    "  @assert n > 0\n",
    "  s = 0.0\n",
    "  r9  = r\"9\"\n",
    "  r9x = r\"9{2}\"\n",
    "  for i in 1:n\n",
    "    if (match(r9,string(i)) == nothing) || (match(r9x,string(i)) != nothing)\n",
    "      s += 1.0/float(i)\n",
    "    end\n",
    "  end\n",
    "  return s\n",
    "end"
   ]
  },
  {
   "cell_type": "code",
   "execution_count": 47,
   "metadata": {},
   "outputs": [
    {
     "data": {
      "text/plain": [
       "7-element Array{Float64,1}:\n",
       "  2.8178571428571426\n",
       "  4.79194977518307  \n",
       "  6.629220445102462 \n",
       "  8.310718044797644 \n",
       "  9.850071218741334 \n",
       " 11.262972084198324 \n",
       " 12.563882665247327 "
      ]
     },
     "execution_count": 47,
     "metadata": {},
     "output_type": "execute_result"
    }
   ],
   "source": [
    "[kempner(10^i) for i in 1:7]"
   ]
  },
  {
   "cell_type": "code",
   "execution_count": 48,
   "metadata": {},
   "outputs": [
    {
     "data": {
      "text/plain": [
       "@bmk (macro with 1 method)"
      ]
     },
     "execution_count": 48,
     "metadata": {},
     "output_type": "execute_result"
    }
   ],
   "source": [
    "macro bmk(fex, n::Integer)\n",
    "    quote \n",
    "      let s = 0.0\n",
    "      if $(esc(n)) > 0\n",
    "        val = $(esc(fex))\n",
    "        for i = 1:$(esc(n))\n",
    "          local t0 = Base.time_ns()\n",
    "          local val = $(esc(fex))\n",
    "          s += Base.time_ns() - t0\n",
    "        end\n",
    "        return s/($(esc(n)) * 10e9)\n",
    "      else\n",
    "        Base.error(\"Number of trials must be positive\")\n",
    "      end\n",
    "    end\n",
    "  end\n",
    "end"
   ]
  },
  {
   "cell_type": "code",
   "execution_count": 49,
   "metadata": {},
   "outputs": [
    {
     "data": {
      "text/plain": [
       "0.28757123785"
      ]
     },
     "execution_count": 49,
     "metadata": {},
     "output_type": "execute_result"
    }
   ],
   "source": [
    "@bmk kempner(10^7) 10"
   ]
  },
  {
   "cell_type": "markdown",
   "metadata": {},
   "source": [
    "### Horners method"
   ]
  },
  {
   "cell_type": "code",
   "execution_count": 50,
   "metadata": {},
   "outputs": [
    {
     "data": {
      "text/plain": [
       "152.71450000000004"
      ]
     },
     "execution_count": 50,
     "metadata": {},
     "output_type": "execute_result"
    }
   ],
   "source": [
    "# Evaluate a polynomial with a function\n",
    "# This is NOT a macro version\n",
    "\n",
    "function poly_native(x, a...)\n",
    "  p=zero(x)\n",
    "  for i = 1:length(a)\n",
    "    p = p + a[i] *  x^(i-1)\n",
    "  end\n",
    "  return p\n",
    "end\n",
    "\n",
    "f_native(x) = poly_native(x,1,2,3,4,5)\n",
    "f_native(2.1)"
   ]
  },
  {
   "cell_type": "code",
   "execution_count": 51,
   "metadata": {},
   "outputs": [
    {
     "data": {
      "text/plain": [
       "152.71450000000002"
      ]
     },
     "execution_count": 51,
     "metadata": {},
     "output_type": "execute_result"
    }
   ],
   "source": [
    "# Neither IS this!\n",
    "\n",
    "function poly_horner(x, a...)\n",
    "  b=zero(x)\n",
    "  for i = length(a):-1:1\n",
    "    b = a[i] + b * x\n",
    "  end\n",
    "  return b\n",
    "end\n",
    "\n",
    "# f -> (((5*x + 4)*x + 3)*x + 2)*x + 1\n",
    "#\n",
    "f_horner(x) = poly_horner(x,1,2,3,4,5)\n",
    "f_horner(2.1)"
   ]
  },
  {
   "cell_type": "code",
   "execution_count": 52,
   "metadata": {},
   "outputs": [
    {
     "data": {
      "text/plain": [
       "152.71450000000002"
      ]
     },
     "execution_count": 52,
     "metadata": {},
     "output_type": "execute_result"
    }
   ],
   "source": [
    "# for the macro version we need a help function\n",
    "# Define mad(x,a,b)\n",
    "# [Julia has this function too :- muladd(x,a,b)]\n",
    "\n",
    "mad(x,a,b) = a*x + b\n",
    "mad(2.1,5,4)\n",
    "\n",
    "# And NOW use Horner's method in a macro\n",
    "# [ p... is a variable list of arguments passed as an array]\n",
    "\n",
    "macro horner(x, p...)\n",
    "    ex = esc(p[end])\n",
    "    for i = length(p)-1:-1:1\n",
    "        ex = :(mad(t, $ex, $(esc(p[i]))))\n",
    "    end\n",
    "    Expr(:block, :(t = $(esc(x))), ex)\n",
    "end\n",
    "\n",
    "@horner 2.1 1 2 3 4 5"
   ]
  },
  {
   "cell_type": "code",
   "execution_count": 53,
   "metadata": {},
   "outputs": [
    {
     "data": {
      "text/plain": [
       "quote\n",
       "    #40#t = 2.1\n",
       "    (Main.mad)(#40#t, (Main.mad)(#40#t, (Main.mad)(#40#t, (Main.mad)(#40#t, 5, 4), 3), 2), 1)\n",
       "end"
      ]
     },
     "execution_count": 53,
     "metadata": {},
     "output_type": "execute_result"
    }
   ],
   "source": [
    "# The saving of eliminating the loop for a 5th order polynomial is not great\n",
    "# However for larger arrays and complex calculations this can be substantial\n",
    "#\n",
    "macroexpand(Main,:(@horner 2.1 1 2 3 4 5))\n"
   ]
  },
  {
   "cell_type": "markdown",
   "metadata": {},
   "source": [
    "### MacroTools and Lazy"
   ]
  },
  {
   "cell_type": "code",
   "execution_count": 54,
   "metadata": {},
   "outputs": [
    {
     "data": {
      "text/plain": [
       "-73//121"
      ]
     },
     "execution_count": 54,
     "metadata": {},
     "output_type": "execute_result"
    }
   ],
   "source": [
    "macro reverse(ex)\n",
    "    if isa(ex, Expr) && ex.head == :call\n",
    "        return Expr(:call, ex.args[1], reverse(ex.args[2:end])...)\n",
    "    else\n",
    "        return ex\n",
    "    end\n",
    "end\n",
    "\n",
    "@reverse  8//11 - 5//11 * 3//11"
   ]
  },
  {
   "cell_type": "code",
   "execution_count": 55,
   "metadata": {},
   "outputs": [
    {
     "data": {
      "text/plain": [
       "-73//121"
      ]
     },
     "execution_count": 55,
     "metadata": {},
     "output_type": "execute_result"
    }
   ],
   "source": [
    "# i.e evaluates as :\n",
    "3//11 * 5//11 - 8//11"
   ]
  },
  {
   "cell_type": "code",
   "execution_count": 56,
   "metadata": {},
   "outputs": [
    {
     "data": {
      "text/plain": [
       "@q (macro with 1 method)"
      ]
     },
     "execution_count": 56,
     "metadata": {},
     "output_type": "execute_result"
    }
   ],
   "source": [
    "macro q(s)     \n",
    "  s0 = eval(s)\n",
    "  try\n",
    "    if length(s0) > 0\n",
    "      ss = split(ss,'\\n')\n",
    "      for i = 1:length(ss)\n",
    "         println(reverse(ss[i]))\n",
    "      end\n",
    "    end\n",
    "  catch\n",
    "    return  \n",
    "  end\n",
    "end"
   ]
  },
  {
   "cell_type": "markdown",
   "metadata": {},
   "source": [
    "---"
   ]
  },
  {
   "cell_type": "code",
   "execution_count": 57,
   "metadata": {},
   "outputs": [
    {
     "data": {
      "text/plain": [
       ":(1 + (2 + 6) + 24)"
      ]
     },
     "execution_count": 57,
     "metadata": {},
     "output_type": "execute_result"
    }
   ],
   "source": [
    "# The postwalk function splits an expression into symbols and then \n",
    "# reconstructs it, so we can apply different operations to each symbol\n",
    "\n",
    "using MacroTools:postwalk\n",
    "\n",
    "ex = :(1 + (2 + 3) + 4)\n",
    "p = postwalk(ex) do x\n",
    "    x isa Integer ? fac(x) : x\n",
    "end"
   ]
  },
  {
   "cell_type": "code",
   "execution_count": 58,
   "metadata": {},
   "outputs": [
    {
     "data": {
      "text/plain": [
       "33"
      ]
     },
     "execution_count": 58,
     "metadata": {},
     "output_type": "execute_result"
    }
   ],
   "source": [
    "# Evaluate the expression\n",
    "eval(p)"
   ]
  },
  {
   "cell_type": "code",
   "execution_count": 59,
   "metadata": {},
   "outputs": [
    {
     "name": "stdout",
     "output_type": "stream",
     "text": [
      "x = 1\n",
      "x = 2\n",
      "x = 3\n",
      "x = 4\n"
     ]
    }
   ],
   "source": [
    "map(x -> @show(x), [1,2,3,4]);"
   ]
  },
  {
   "cell_type": "code",
   "execution_count": 60,
   "metadata": {},
   "outputs": [
    {
     "name": "stdout",
     "output_type": "stream",
     "text": [
      "x = :+\n",
      "x = 1\n",
      "x = :+\n",
      "x = 2\n",
      "x = 3\n",
      "x = :(2 + 3)\n",
      "x = 4\n",
      "x = :(1 + (2 + 3) + 4)\n"
     ]
    },
    {
     "data": {
      "text/plain": [
       ":(1 + (2 + 3) + 4)"
      ]
     },
     "execution_count": 60,
     "metadata": {},
     "output_type": "execute_result"
    }
   ],
   "source": [
    "postwalk(ex) do x\n",
    "         @show x\n",
    "end"
   ]
  },
  {
   "cell_type": "code",
   "execution_count": 61,
   "metadata": {},
   "outputs": [
    {
     "data": {
      "text/plain": [
       "true"
      ]
     },
     "execution_count": 61,
     "metadata": {},
     "output_type": "execute_result"
    }
   ],
   "source": [
    "@capture(ex, a_ + b_ + c_)"
   ]
  },
  {
   "cell_type": "code",
   "execution_count": 62,
   "metadata": {},
   "outputs": [
    {
     "data": {
      "text/plain": [
       ":(2 + 3)"
      ]
     },
     "execution_count": 62,
     "metadata": {},
     "output_type": "execute_result"
    }
   ],
   "source": [
    "b"
   ]
  },
  {
   "cell_type": "code",
   "execution_count": 63,
   "metadata": {},
   "outputs": [
    {
     "data": {
      "text/plain": [
       "9"
      ]
     },
     "execution_count": 63,
     "metadata": {},
     "output_type": "execute_result"
    }
   ],
   "source": [
    "a*eval(b) + c    # => 1*5 + 4"
   ]
  },
  {
   "cell_type": "code",
   "execution_count": 64,
   "metadata": {},
   "outputs": [
    {
     "data": {
      "text/plain": [
       "55"
      ]
     },
     "execution_count": 64,
     "metadata": {},
     "output_type": "execute_result"
    }
   ],
   "source": [
    "reduce(+, 1:10)"
   ]
  },
  {
   "cell_type": "code",
   "execution_count": 65,
   "metadata": {},
   "outputs": [
    {
     "data": {
      "text/plain": [
       ":(((((((((1 + 2) + 3) + 4) + 5) + 6) + 7) + 8) + 9) + 10)"
      ]
     },
     "execution_count": 65,
     "metadata": {},
     "output_type": "execute_result"
    }
   ],
   "source": [
    "plus(a, b) = :($a + $b)\n",
    "p = reduce(plus, 1:10)"
   ]
  },
  {
   "cell_type": "code",
   "execution_count": 66,
   "metadata": {},
   "outputs": [
    {
     "data": {
      "text/plain": [
       "55"
      ]
     },
     "execution_count": 66,
     "metadata": {},
     "output_type": "execute_result"
    }
   ],
   "source": [
    "eval(p)"
   ]
  },
  {
   "cell_type": "code",
   "execution_count": 67,
   "metadata": {},
   "outputs": [
    {
     "data": {
      "text/plain": [
       "6-element Array{Expr,1}:\n",
       " :((1 * x ^ 1) / 1)         \n",
       " :((-1 * x ^ 3) / 6)        \n",
       " :((1 * x ^ 5) / 120)       \n",
       " :((-1 * x ^ 7) / 5040)     \n",
       " :((1 * x ^ 9) / 362880)    \n",
       " :((-1 * x ^ 11) / 39916800)"
      ]
     },
     "execution_count": 67,
     "metadata": {},
     "output_type": "execute_result"
    }
   ],
   "source": [
    "# Do something useful\n",
    "# This is the series expansion for the SINE function\n",
    "# We need the factorial function and will use the version from the STDLIB\n",
    "#\n",
    "using SpecialFunctions\n",
    "k = 2\n",
    "pp = [:($((-1)^k) * x^$(1+2k) / $(factorial(1+2k))) for k = 0:5]\n"
   ]
  },
  {
   "cell_type": "code",
   "execution_count": 68,
   "metadata": {},
   "outputs": [
    {
     "data": {
      "text/plain": [
       ":((((((1 * x ^ 1) / 1 + (-1 * x ^ 3) / 6) + (1 * x ^ 5) / 120) + (-1 * x ^ 7) / 5040) + (1 * x ^ 9) / 362880) + (-1 * x ^ 11) / 39916800)"
      ]
     },
     "execution_count": 68,
     "metadata": {},
     "output_type": "execute_result"
    }
   ],
   "source": [
    "# We can reduce this to a single expression\n",
    "reduce(plus,pp)"
   ]
  },
  {
   "cell_type": "code",
   "execution_count": 69,
   "metadata": {},
   "outputs": [
    {
     "data": {
      "text/plain": [
       "0.8632069372306019"
      ]
     },
     "execution_count": 69,
     "metadata": {},
     "output_type": "execute_result"
    }
   ],
   "source": [
    "# ... and evaluate it for a specific value of x\n",
    "x = 2.1; eval(reduce(plus,pp))"
   ]
  },
  {
   "cell_type": "markdown",
   "metadata": {},
   "source": [
    "---"
   ]
  },
  {
   "cell_type": "code",
   "execution_count": 70,
   "metadata": {},
   "outputs": [],
   "source": [
    "using Lazy\n",
    "import Lazy: cycle, range, drop, take"
   ]
  },
  {
   "cell_type": "code",
   "execution_count": 71,
   "metadata": {},
   "outputs": [
    {
     "data": {
      "text/plain": [
       "(0 1 1 2 3 5 8 13 21 34 55 89 144 233 377 610 987 1597 2584 4181)"
      ]
     },
     "execution_count": 71,
     "metadata": {},
     "output_type": "execute_result"
    }
   ],
   "source": [
    "# Create a list of Fibonacci numbers and pick off first 20, using the @lazy macro.\n",
    "#\n",
    "fibs = @lazy 0:1:(fibs + drop(1, fibs));\n",
    "take(20, fibs)"
   ]
  },
  {
   "cell_type": "code",
   "execution_count": 72,
   "metadata": {},
   "outputs": [
    {
     "data": {
      "text/plain": [
       "1.6487212707001282"
      ]
     },
     "execution_count": 72,
     "metadata": {},
     "output_type": "execute_result"
    }
   ],
   "source": [
    "# Function style, pass the argument to a function\n",
    "#\n",
    "@> π/6 sin exp   # ==> exp(sin(π/6))"
   ]
  },
  {
   "cell_type": "code",
   "execution_count": 73,
   "metadata": {},
   "outputs": [
    {
     "data": {
      "text/plain": [
       "0.3139129389863363"
      ]
     },
     "execution_count": 73,
     "metadata": {},
     "output_type": "execute_result"
    }
   ],
   "source": [
    "# Currying: The @> can also have functional arguments\n",
    "#\n",
    "f(x,μ) = -(x - μ)^2\n",
    "@> π/6 f(1.6) exp"
   ]
  },
  {
   "cell_type": "code",
   "execution_count": 74,
   "metadata": {},
   "outputs": [
    {
     "data": {
      "text/plain": [
       "(4 16 36 64 100 144 196 256 324 400 484 576 676 784 900)"
      ]
     },
     "execution_count": 74,
     "metadata": {},
     "output_type": "execute_result"
    }
   ],
   "source": [
    "# The @>> macro reverse the order of the arguments\n",
    "# Use this toutput the first 15 EVEN squares\n",
    "#\n",
    "esquares = @>> range() map(x -> x^2) filter(iseven);\n",
    "take(15, esquares)"
   ]
  },
  {
   "cell_type": "code",
   "execution_count": 75,
   "metadata": {},
   "outputs": [],
   "source": [
    "# Next create a list of primes\n",
    "# The takewhile function is defined in Lazy\n",
    "#\n",
    "isprime(n) =\n",
    "  @>> primes begin\n",
    "    takewhile(x -> x<=sqrt(n))\n",
    "    map(x -> n % x == 0)\n",
    "    any; !\n",
    "  end;"
   ]
  },
  {
   "cell_type": "code",
   "execution_count": 76,
   "metadata": {},
   "outputs": [
    {
     "data": {
      "text/plain": [
       "(2 3 5 7 11 13 17 19 23 29 31 37 41 43 47 53 59 61 67 71)"
      ]
     },
     "execution_count": 76,
     "metadata": {},
     "output_type": "execute_result"
    }
   ],
   "source": [
    "# We need to initialise the primes list\n",
    "#\n",
    "primes = filter(isprime, range(2));\n",
    "take(20, primes)"
   ]
  },
  {
   "cell_type": "code",
   "execution_count": 77,
   "metadata": {},
   "outputs": [
    {
     "data": {
      "text/plain": [
       "true"
      ]
     },
     "execution_count": 77,
     "metadata": {},
     "output_type": "execute_result"
    }
   ],
   "source": [
    "isprime(113)"
   ]
  },
  {
   "cell_type": "markdown",
   "metadata": {},
   "source": [
    "## Generated Functions"
   ]
  },
  {
   "cell_type": "code",
   "execution_count": 78,
   "metadata": {},
   "outputs": [
    {
     "data": {
      "text/plain": [
       "mad (generic function with 1 method)"
      ]
     },
     "execution_count": 78,
     "metadata": {},
     "output_type": "execute_result"
    }
   ],
   "source": [
    "# A simple generated function to execute a multiply + add\n",
    "# The result returned is a symbol\n",
    "#\n",
    "@generated function mad(a,b,c)\n",
    "    Core.println(\"Calculating: a*b + c\")\n",
    "    return :(a * b + c)\n",
    "end"
   ]
  },
  {
   "cell_type": "code",
   "execution_count": 79,
   "metadata": {},
   "outputs": [
    {
     "name": "stdout",
     "output_type": "stream",
     "text": [
      "Calculating: a*b + c\n"
     ]
    },
    {
     "data": {
      "text/plain": [
       "5.01"
      ]
     },
     "execution_count": 79,
     "metadata": {},
     "output_type": "execute_result"
    }
   ],
   "source": [
    "# Call the function\n",
    "mad(2.3,1.7,1.1)"
   ]
  },
  {
   "cell_type": "code",
   "execution_count": 80,
   "metadata": {},
   "outputs": [
    {
     "data": {
      "text/plain": [
       "5.01"
      ]
     },
     "execution_count": 80,
     "metadata": {},
     "output_type": "execute_result"
    }
   ],
   "source": [
    "# ... and again\n",
    "# ... this time it is not re-evaluated\n",
    "mad(2.3,1.7,1.1)"
   ]
  },
  {
   "cell_type": "code",
   "execution_count": 81,
   "metadata": {},
   "outputs": [
    {
     "name": "stdout",
     "output_type": "stream",
     "text": [
      "Calculating: a*b + c\n"
     ]
    },
    {
     "data": {
      "text/plain": [
       "4.91"
      ]
     },
     "execution_count": 81,
     "metadata": {},
     "output_type": "execute_result"
    }
   ],
   "source": [
    "# With different types of arguments - the function is reevaluated\n",
    "mad(2.3,1.7,1)"
   ]
  },
  {
   "cell_type": "code",
   "execution_count": 82,
   "metadata": {},
   "outputs": [
    {
     "data": {
      "text/plain": [
       "pdims (generic function with 1 method)"
      ]
     },
     "execution_count": 82,
     "metadata": {},
     "output_type": "execute_result"
    }
   ],
   "source": [
    "# To illustrate the use consider the following function ...\n",
    "# ... which multiplies the size of dimensions of a n-D array\n",
    "#\n",
    "# First a 'normal' function definition\n",
    "\n",
    "function pdims(x::Array{T,N}) where {T,N}\n",
    "  s = 1\n",
    "  for i = 1:N\n",
    "    s = s * size(x, i)\n",
    "  end\n",
    "  return s\n",
    "end"
   ]
  },
  {
   "cell_type": "code",
   "execution_count": 83,
   "metadata": {},
   "outputs": [
    {
     "data": {
      "text/plain": [
       "gpdims (generic function with 1 method)"
      ]
     },
     "execution_count": 83,
     "metadata": {},
     "output_type": "execute_result"
    }
   ],
   "source": [
    "# And then a 'generated function' version\n",
    "@generated function gpdims(x::Array{T,N}) where {T,N}\n",
    "  ex = :(1)\n",
    "  for i = 1:N\n",
    "     ex = :(size(x, $i) * $ex)\n",
    "  end\n",
    "  return ex\n",
    "end"
   ]
  },
  {
   "cell_type": "code",
   "execution_count": 84,
   "metadata": {},
   "outputs": [
    {
     "data": {
      "text/plain": [
       "(10, 5, 5, 4)"
      ]
     },
     "execution_count": 84,
     "metadata": {},
     "output_type": "execute_result"
    }
   ],
   "source": [
    "# We need an array to test the function\n",
    "aa = reshape([rand() for i = 1:1000],10,5,5,4); size(aa)"
   ]
  },
  {
   "cell_type": "code",
   "execution_count": 85,
   "metadata": {},
   "outputs": [
    {
     "data": {
      "text/plain": [
       "true"
      ]
     },
     "execution_count": 85,
     "metadata": {},
     "output_type": "execute_result"
    }
   ],
   "source": [
    "# Both functions provide the same result\n",
    "#\n",
    "pdims(aa) == gpdims(aa)"
   ]
  },
  {
   "cell_type": "code",
   "execution_count": 86,
   "metadata": {},
   "outputs": [
    {
     "data": {
      "text/plain": [
       "CodeInfo(\n",
       "\u001b[90m\u001b[77G│\u001b[1G\u001b[39m\u001b[90m7  \u001b[39m1 ─       s = 1\n",
       "\u001b[90m\u001b[77G│\u001b[1G\u001b[39m\u001b[90m8  \u001b[39m│   %2  = 1:$(Expr(:static_parameter, 2))\n",
       "\u001b[90m\u001b[77G│\u001b[1G\u001b[39m\u001b[90m   \u001b[39m│         #temp# = (Base.iterate)(%2)\n",
       "\u001b[90m\u001b[77G│\u001b[1G\u001b[39m\u001b[90m   \u001b[39m│   %4  = #temp# === nothing\n",
       "\u001b[90m\u001b[77G│\u001b[1G\u001b[39m\u001b[90m   \u001b[39m│   %5  = (Base.not_int)(%4)\n",
       "\u001b[90m\u001b[77G│\u001b[1G\u001b[39m\u001b[90m   \u001b[39m└──       goto #4 if not %5\n",
       "\u001b[90m\u001b[77G│\u001b[1G\u001b[39m\u001b[90m   \u001b[39m2 ┄ %7  = #temp#\n",
       "\u001b[90m\u001b[77G│\u001b[1G\u001b[39m\u001b[90m   \u001b[39m│         i = (Core.getfield)(%7, 1)\n",
       "\u001b[90m\u001b[77G│\u001b[1G\u001b[39m\u001b[90m   \u001b[39m│   %9  = (Core.getfield)(%7, 2)\n",
       "\u001b[90m\u001b[77G│\u001b[1G\u001b[39m\u001b[90m9  \u001b[39m│   %10 = s\n",
       "\u001b[90m\u001b[77G│\u001b[1G\u001b[39m\u001b[90m   \u001b[39m│   %11 = (Main.size)(x, i)\n",
       "\u001b[90m\u001b[77G│\u001b[1G\u001b[39m\u001b[90m   \u001b[39m│         s = %10 * %11\n",
       "\u001b[90m\u001b[77G│\u001b[1G\u001b[39m\u001b[90m   \u001b[39m│         #temp# = (Base.iterate)(%2, %9)\n",
       "\u001b[90m\u001b[77G│\u001b[1G\u001b[39m\u001b[90m   \u001b[39m│   %14 = #temp# === nothing\n",
       "\u001b[90m\u001b[77G│\u001b[1G\u001b[39m\u001b[90m   \u001b[39m│   %15 = (Base.not_int)(%14)\n",
       "\u001b[90m\u001b[77G│\u001b[1G\u001b[39m\u001b[90m   \u001b[39m└──       goto #4 if not %15\n",
       "\u001b[90m\u001b[77G│\u001b[1G\u001b[39m\u001b[90m   \u001b[39m3 ─       goto #2\n",
       "\u001b[90m\u001b[77G│\u001b[1G\u001b[39m\u001b[90m11 \u001b[39m4 ─       return s\n",
       ")"
      ]
     },
     "execution_count": 86,
     "metadata": {},
     "output_type": "execute_result"
    }
   ],
   "source": [
    "# But if we look at the lowered code\n",
    "@code_lowered pdims(aa)"
   ]
  },
  {
   "cell_type": "code",
   "execution_count": 87,
   "metadata": {},
   "outputs": [
    {
     "data": {
      "text/plain": [
       "CodeInfo(\n",
       "\u001b[90m\u001b[60G│╻ macro expansion\u001b[1G\u001b[39m\u001b[90m3 \u001b[39m1 ─ %1 = (Main.size)(x, 4)\n",
       "\u001b[90m\u001b[60G││\u001b[1G\u001b[39m\u001b[90m  \u001b[39m│   %2 = (Main.size)(x, 3)\n",
       "\u001b[90m\u001b[60G││\u001b[1G\u001b[39m\u001b[90m  \u001b[39m│   %3 = (Main.size)(x, 2)\n",
       "\u001b[90m\u001b[60G││\u001b[1G\u001b[39m\u001b[90m  \u001b[39m│   %4 = (Main.size)(x, 1)\n",
       "\u001b[90m\u001b[60G││\u001b[1G\u001b[39m\u001b[90m  \u001b[39m│   %5 = %4 * 1\n",
       "\u001b[90m\u001b[60G││\u001b[1G\u001b[39m\u001b[90m  \u001b[39m│   %6 = %3 * %5\n",
       "\u001b[90m\u001b[60G││\u001b[1G\u001b[39m\u001b[90m  \u001b[39m│   %7 = %2 * %6\n",
       "\u001b[90m\u001b[60G││\u001b[1G\u001b[39m\u001b[90m  \u001b[39m│   %8 = %1 * %7\n",
       "\u001b[90m\u001b[60G││\u001b[1G\u001b[39m\u001b[90m  \u001b[39m└──      return %8\n",
       ")"
      ]
     },
     "execution_count": 87,
     "metadata": {},
     "output_type": "execute_result"
    }
   ],
   "source": [
    "# But if we look at the lowered code\n",
    "@code_lowered gpdims(aa)"
   ]
  },
  {
   "cell_type": "code",
   "execution_count": 88,
   "metadata": {},
   "outputs": [
    {
     "name": "stdout",
     "output_type": "stream",
     "text": [
      "\t.section\t__TEXT,__text,regular,pure_instructions\n",
      "; Function pdims {\n",
      "; Location: In[82]:7\n",
      "\tpushl\t%eax\n",
      "\tdecl\t%eax\n",
      "\tmovl\t$4294967293, %ecx       ## imm = 0xFFFFFFFD\n",
      "\tmovl\t$1, %eax\n",
      "\tnopl\t(%eax)\n",
      "; Location: In[82]:9\n",
      "; Function size; {\n",
      "; Location: array.jl:154\n",
      "L16:\n",
      "\tdecl\t%eax\n",
      "\tleal\t4(%ecx), %edx\n",
      "\tdecl\t%eax\n",
      "\tcmpl\t$4, %edx\n",
      "\tja\tL37\n",
      ";}\n",
      "; Function *; {\n",
      "; Location: int.jl:54\n",
      "\tdecl\t%eax\n",
      "\timull\t48(%edi,%ecx,8), %eax\n",
      ";}\n",
      "; Function iterate; {\n",
      "; Location: range.jl:575\n",
      "; Function ==; {\n",
      "; Location: promotion.jl:425\n",
      "\tdecl\t%eax\n",
      "\ttestl\t%ecx, %ecx\n",
      ";}}\n",
      "\tje\tL75\n",
      "; Function size; {\n",
      "; Location: array.jl:154\n",
      "L37:\n",
      "\tdecl\t%eax\n",
      "\tleal\t1(%ecx), %edx\n",
      "\tdecl\t%eax\n",
      "\taddl\t$5, %ecx\n",
      "\tdecl\t%eax\n",
      "\ttestl\t%ecx, %ecx\n",
      "\tdecl\t%eax\n",
      "\tmovl\t%edx, %ecx\n",
      "\tjg\tL16\n",
      "\tdecl\t%eax\n",
      "\tmovl\t$72430992, %eax         ## imm = 0x4513590\n",
      "\taddl\t%eax, (%eax)\n",
      "\taddb\t%al, (%eax)\n",
      "\tdecl\t%eax\n",
      "\tmovl\t$3399781936, %edi       ## imm = 0xCAA48E30\n",
      "\tsarb\t%cl, (%edi)\n",
      "\taddb\t%bh, %bh\n",
      "\trcrb\t-61(%ecx)\n",
      "\tnopl\t(%eax)\n",
      ";}}\n"
     ]
    }
   ],
   "source": [
    "# Which therefore results in very different generated native code\n",
    "@code_native pdims(aa)"
   ]
  },
  {
   "cell_type": "code",
   "execution_count": 89,
   "metadata": {},
   "outputs": [
    {
     "name": "stdout",
     "output_type": "stream",
     "text": [
      "\t.section\t__TEXT,__text,regular,pure_instructions\n",
      "; Function gpdims {\n",
      "; Location: In[83]:3\n",
      "; Function macro expansion; {\n",
      "; Location: In[83]\n",
      "; Function size; {\n",
      "; Location: In[83]:3\n",
      "\tdecl\t%eax\n",
      "\tmovl\t40(%edi), %eax\n",
      ";}}\n",
      "; Function macro expansion; {\n",
      "; Location: int.jl:54\n",
      "\tdecl\t%eax\n",
      "\timull\t48(%edi), %eax\n",
      "\tdecl\t%eax\n",
      "\timull\t32(%edi), %eax\n",
      "\tdecl\t%eax\n",
      "\timull\t24(%edi), %eax\n",
      ";}\n",
      "\tretl\n",
      "\tnopw\t%cs:(%eax,%eax)\n",
      ";}\n"
     ]
    }
   ],
   "source": [
    "# This version does not have the looping\n",
    "@code_native gpdims(aa)"
   ]
  },
  {
   "cell_type": "markdown",
   "metadata": {},
   "source": [
    "## Modularity"
   ]
  },
  {
   "cell_type": "code",
   "execution_count": 90,
   "metadata": {},
   "outputs": [
    {
     "data": {
      "text/plain": [
       "Main.ModInts"
      ]
     },
     "execution_count": 90,
     "metadata": {},
     "output_type": "execute_result"
    }
   ],
   "source": [
    "# Previous versions of Julia had an example section, absent in version v1.0\n",
    "# An interesting one was modular integer, which required a little re-editing\n",
    "#\n",
    "module ModInts\n",
    "export ModInt\n",
    "\n",
    "import Base: +, -, *, /, inv\n",
    "\n",
    "struct ModInt{n} <: Integer\n",
    "  k::Int\n",
    "  ModInt{n}(k) where n = new(mod(k,n))\n",
    "end\n",
    "\n",
    "Base.show(io::IO, k::ModInt{n}) where n =\n",
    "    print(io, get(io, :compact, false) ? k.k : \"$(k.k) mod $n\")\n",
    "\n",
    "(a::ModInt{n} + b::ModInt{n}) where n = ModInt{n}(a.k+b.k)\n",
    "(a::ModInt{n} - b::ModInt{n}) where n = ModInt{n}(a.k-b.k)\n",
    "(a::ModInt{n} * b::ModInt{n}) where n = ModInt{n}(a.k*b.k)\n",
    "-(a::ModInt{n}) where n = ModInt{n}(-a.k)\n",
    "\n",
    "inv(a::ModInt{n}) where n = ModInt{n}(invmod(a.k, n))\n",
    "(a::ModInt{n} / b::ModInt{n}) where n = a*inv(b) \n",
    "\n",
    "Base.promote_rule(::Type{ModInt{n}}, ::Type{Int}) where n = ModInt{n}\n",
    "Base.convert(::Type{ModInt{n}}, i::Int) where n = ModInt{n}(i)\n",
    "\n",
    "end"
   ]
  },
  {
   "cell_type": "code",
   "execution_count": 91,
   "metadata": {},
   "outputs": [
    {
     "data": {
      "text/plain": [
       "2 mod 11"
      ]
     },
     "execution_count": 91,
     "metadata": {},
     "output_type": "execute_result"
    }
   ],
   "source": [
    "# Test the module\n",
    "#\n",
    "using Main.ModInts\n",
    "m1 = ModInt{11}(2)\n",
    "m2 = ModInt{11}(7)\n",
    "m3 = 3*m1 + m2  # => mod(13,11) => 2 "
   ]
  },
  {
   "cell_type": "code",
   "execution_count": 92,
   "metadata": {},
   "outputs": [
    {
     "data": {
      "text/plain": [
       "10×10 Array{ModInt{11},2}:\n",
       " 10  2  0   2   0  4  2  8   8  2\n",
       "  5  6  9   0   9  4  6  6   9  2\n",
       "  0  4  3   4   3  4  0  9   2  9\n",
       " 10  1  0   0   7  1  0  9   7  6\n",
       "  1  5  7  10  10  4  3  4   0  9\n",
       "  6  8  1   9   5  7  0  3  10  7\n",
       "  3  0  0   3   8  4  1  7   9  7\n",
       "  7  9  7   9   7  3  4  5   3  9\n",
       "  9  3  8   4   5  0  4  2   2  3\n",
       "  6  7  3   9   0  8  6  7   6  1"
      ]
     },
     "execution_count": 92,
     "metadata": {},
     "output_type": "execute_result"
    }
   ],
   "source": [
    "# Because of multiple dispatch we can do the following\n",
    "#\n",
    "mm = reshape([ModInt{11}(rand(0:10)) for i = 1:100],10,10)\n",
    "ma = [ModInt{11}(rand(0:10)) for i = 1:10]\n",
    "\n",
    "mm.*ma'"
   ]
  },
  {
   "cell_type": "markdown",
   "metadata": {},
   "source": [
    "---\n",
    "\n",
    "### Ordered Pairs"
   ]
  },
  {
   "cell_type": "code",
   "execution_count": 93,
   "metadata": {},
   "outputs": [
    {
     "data": {
      "text/plain": [
       "Main.OrdPairs"
      ]
     },
     "execution_count": 93,
     "metadata": {},
     "output_type": "execute_result"
    }
   ],
   "source": [
    "## An Ordered Pair Module\n",
    "#\n",
    "module OrdPairs\n",
    "\n",
    "import Base: +,-,*,/,==,!=,>,<,>=,<=\n",
    "import Base: abs,conj,inv,zero,one,show\n",
    "import LinearAlgebra: transpose,adjoint,norm\n",
    "\n",
    "export OrdPair\n",
    "\n",
    "struct OrdPair{T<:Number}\n",
    "    a::T\n",
    "    b::T\n",
    "end\n",
    "\n",
    "OrdPair(x::Number) = OrdPair(x, zero(T))\n",
    "\n",
    "value(u::OrdPair)   = u.a\n",
    "epsilon(u::OrdPair) = u.b\n",
    "\n",
    "zero(::Type{OrdPairs.OrdPair}) = OrdPair(zero(T),zero(T))\n",
    "one(::Type{OrdPairs.OrdPair})  = OrdPair(one(T),zero(T))\n",
    "\n",
    "abs(u::OrdPair)  = abs(value(u))\n",
    "norm(u::OrdPair) = norm(value(u))\n",
    "\n",
    "+(u::OrdPair, v::OrdPair) = OrdPair(value(u) + value(v), epsilon(u) + epsilon(v))\n",
    "-(u::OrdPair, v::OrdPair) = OrdPair(value(u) - value(v), epsilon(u) - epsilon(v))\n",
    "*(u::OrdPair, v::OrdPair) = OrdPair(value(u)*value(v), epsilon(u)*value(v) + value(u)*epsilon(v))\n",
    "/(u::OrdPair, v::OrdPair) = OrdPair(value(u)/value(v),(epsilon(u)*value(v) - value(u)*epsilon(v))/(value(v)*value(v)))\n",
    "\n",
    "==(u::OrdPair, v::OrdPair) = norm(u) == norm(v)\n",
    "!=(u::OrdPair, v::OrdPair) = norm(u) != norm(v)\n",
    ">(u::OrdPair, v::OrdPair)  = norm(u) > norm(v)\n",
    ">=(u::OrdPair, v::OrdPair) = norm(u) >= norm(v)\n",
    "<(u::OrdPair, v::OrdPair)  = norm(u) < norm(v)\n",
    "<=(u::OrdPair, v::OrdPair) = norm(u) <= norm(v)\n",
    "\n",
    "+(x::Number, u::OrdPair) = OrdPair(value(u) + x, epsilon(u))\n",
    "+(u::OrdPair, x::Number) = x + u\n",
    "\n",
    "-(x::Number, u::OrdPair) = OrdPair(x - value(u), epsilon(u))\n",
    "-(u::OrdPair, x::Number) = OrdPair(value(u) - x, epsilon(u))\n",
    "\n",
    "*(x::Number, u::OrdPair) = OrdPair(x*value(u), x*epsilon(u))\n",
    "*(u::OrdPair, x::Number) = x*u\n",
    "\n",
    "/(u::OrdPair, x::Number) = (1.0/x)*u\n",
    "\n",
    "conj(u::OrdPair)  = OrdPair(value(u),-epsilon(u))\n",
    "inv(u::OrdPair)   = one(OrdPair)/u\n",
    "\n",
    "transpose(u::OrdPair) = u\n",
    "transpose(uu::Array{OrdPairs.OrdPair,2}) = [uu[j,i] for i=1:size(uu)[1],j=1:size(uu)[2]]\n",
    "adjoint(u::OrdPair) = u\n",
    "\n",
    "convert(::Type{OrdPair}, x::Number) = OrdPair(x,zero(x))\n",
    "promote_rule(::Type{OrdPair}, ::Type{<:Number}) = OrdPair\n",
    "\n",
    "## show(io::IO,u::OrdPair) = print(io,value(u),\" + (\",epsilon(u),\")ϵ\")\n",
    "\n",
    "function show(io::IO,u::OrdPair) \n",
    " op::String = (epsilon(u) < 0.0) ? \" - \" : \" + \";\n",
    " print(io,value(u),op,abs(epsilon(u)),\"ϵ\")\n",
    "end\n",
    "\n",
    "end"
   ]
  },
  {
   "cell_type": "code",
   "execution_count": 94,
   "metadata": {},
   "outputs": [
    {
     "data": {
      "text/plain": [
       "10.12 - 5.41ϵ"
      ]
     },
     "execution_count": 94,
     "metadata": {},
     "output_type": "execute_result"
    }
   ],
   "source": [
    "# Exercise the module\n",
    "# Notice how the show() routine provides pretty-print output\n",
    "\n",
    "using Main.OrdPairs\n",
    "p1 = OrdPair(2.3,-1.7)\n",
    "p2 = OrdPair(4.4,0.9)\n",
    "p1 * p2"
   ]
  },
  {
   "cell_type": "code",
   "execution_count": 95,
   "metadata": {},
   "outputs": [
    {
     "data": {
      "text/plain": [
       "1.9130434782608698 + 1.8052930056710779ϵ"
      ]
     },
     "execution_count": 95,
     "metadata": {},
     "output_type": "execute_result"
    }
   ],
   "source": [
    "p2/p1"
   ]
  },
  {
   "cell_type": "code",
   "execution_count": 96,
   "metadata": {},
   "outputs": [
    {
     "data": {
      "text/plain": [
       "0.5069118192655038 + 0.5217286636001186ϵ"
      ]
     },
     "execution_count": 96,
     "metadata": {},
     "output_type": "execute_result"
    }
   ],
   "source": [
    "# Again we can operate on array of Ordered Pairs\n",
    "\n",
    "using Statistics\n",
    "pp = [OrdPair(rand(),rand()) for i in 1:100]\n",
    "mean(pp)"
   ]
  },
  {
   "cell_type": "code",
   "execution_count": 97,
   "metadata": {},
   "outputs": [
    {
     "data": {
      "text/plain": [
       "2.3 + 1.5714285714285714ϵ"
      ]
     },
     "execution_count": 97,
     "metadata": {},
     "output_type": "execute_result"
    }
   ],
   "source": [
    "# And promote a rational in a mixed OP\n",
    "p3 = OrdPair(2.3, 11/7)"
   ]
  },
  {
   "cell_type": "code",
   "execution_count": 98,
   "metadata": {},
   "outputs": [
    {
     "ename": "MethodError",
     "evalue": "MethodError: no method matching OrdPair(::Float64, ::Complex{Float64})\nClosest candidates are:\n  OrdPair(::Number) at In[93]:16\n  OrdPair(::T<:Number, !Matched::T<:Number) where T<:Number at In[93]:12",
     "output_type": "error",
     "traceback": [
      "MethodError: no method matching OrdPair(::Float64, ::Complex{Float64})\nClosest candidates are:\n  OrdPair(::Number) at In[93]:16\n  OrdPair(::T<:Number, !Matched::T<:Number) where T<:Number at In[93]:12",
      "",
      "Stacktrace:",
      " [1] top-level scope at In[98]:1"
     ]
    }
   ],
   "source": [
    "# The module is not a full implementation\n",
    "# So this FAILS\n",
    "p4 = OrdPair(2.3, 11.0 + 7.2im)"
   ]
  },
  {
   "cell_type": "code",
   "execution_count": null,
   "metadata": {},
   "outputs": [],
   "source": [
    "# Also a number of other arithmetic functions need to be imported from Base\n",
    "std(p1)"
   ]
  },
  {
   "cell_type": "code",
   "execution_count": null,
   "metadata": {},
   "outputs": [],
   "source": []
  }
 ],
 "metadata": {
  "kernelspec": {
   "display_name": "Julia 1.0.3",
   "language": "julia",
   "name": "julia-1.0"
  },
  "language_info": {
   "file_extension": ".jl",
   "mimetype": "application/julia",
   "name": "julia",
   "version": "1.0.3"
  }
 },
 "nbformat": 4,
 "nbformat_minor": 2
}
