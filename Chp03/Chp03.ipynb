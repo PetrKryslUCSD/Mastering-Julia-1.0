{
 "cells": [
  {
   "cell_type": "code",
   "execution_count": null,
   "metadata": {
    "collapsed": true
   },
   "outputs": [],
   "source": [
    "# Packages used in this chapter\n",
    "# To check for installed packages in V1.0 we now need to use the PKG API\n",
    "\n",
    "using Pkg\n",
    "ipks = Pkg.installed()\n",
    "pkgs = [\"BenchmarkTools\",\"Match\",\"PyPlot\"]\n",
    "for p in pkgs\n",
    "    !haskey(ipks,p) && Pkg.add(p)\n",
    "end\n",
    "\n",
    "# We can define these here as as required\n",
    "using BenchmarkTools, Match, PyPlot\n",
    "\n",
    "# We need these as some functions have moved from Base to Stdlib\n",
    "#\n",
    "using Printf, LinearAlgebra, StaticArrays"
   ]
  },
  {
   "cell_type": "markdown",
   "metadata": {},
   "source": [
    "## Chapter 3"
   ]
  },
  {
   "cell_type": "markdown",
   "metadata": {},
   "source": [
    "### Collatz conjecture \n",
    "\n",
    "The Hailstone sequence of numbers can be generated from a starting positive integer, n by:\n",
    "\n",
    "- If n is 1 then the sequence ends.\n",
    "- If n is even then the next n of the sequence = n/2\n",
    "- If n is odd then the next n of the sequence = (3 * n) + 1\n",
    "\n",
    "The Collatz conjecture is that the hailstone sequence for any starting number always terminates."
   ]
  },
  {
   "cell_type": "code",
   "execution_count": 1,
   "metadata": {},
   "outputs": [
    {
     "data": {
      "text/plain": [
       "hailstone (generic function with 1 method)"
      ]
     },
     "execution_count": 1,
     "metadata": {},
     "output_type": "execute_result"
    }
   ],
   "source": [
    "function hailstone(n)\n",
    "   k = 1\n",
    "   a = [n]\n",
    "   while n > 1 \n",
    "      n = (n % 2 == 0) ? n >> 1 : 3n + 1 \n",
    "      push!(a,n)\n",
    "      k += 1\n",
    "   end\n",
    "   a\n",
    "end"
   ]
  },
  {
   "cell_type": "code",
   "execution_count": 2,
   "metadata": {},
   "outputs": [
    {
     "data": {
      "text/plain": [
       "13-element Array{Int64,1}:\n",
       " 17\n",
       " 52\n",
       " 26\n",
       " 13\n",
       " 40\n",
       " 20\n",
       " 10\n",
       "  5\n",
       " 16\n",
       "  8\n",
       "  4\n",
       "  2\n",
       "  1"
      ]
     },
     "execution_count": 2,
     "metadata": {},
     "output_type": "execute_result"
    }
   ],
   "source": [
    "hailstone(17)"
   ]
  },
  {
   "cell_type": "markdown",
   "metadata": {},
   "source": [
    "---"
   ]
  },
  {
   "cell_type": "code",
   "execution_count": 3,
   "metadata": {},
   "outputs": [
    {
     "data": {
      "image/png": "[encoded data removed]",
      "text/plain": [
       "Figure(PyObject <matplotlib.figure.Figure object at 0x13128bdd0>)"
      ]
     },
     "metadata": {},
     "output_type": "display_data"
    },
    {
     "data": {
      "text/plain": [
       "1-element Array{PyCall.PyObject,1}:\n",
       " PyObject <matplotlib.lines.Line2D object at 0x1318a0590>"
      ]
     },
     "execution_count": 3,
     "metadata": {},
     "output_type": "execute_result"
    }
   ],
   "source": [
    "using PyPlot\n",
    "\n",
    "f(x, p = 0.0) = exp(p*x)*sin(x);\n",
    "t = range(0.0,stop=8.0*π,length=101);\n",
    "w = zeros(length(t));\n",
    "for i = 1:length(w) w[i] = f(t[i], 0.1) end\n",
    "\n",
    "plot(t, w)"
   ]
  },
  {
   "cell_type": "markdown",
   "metadata": {},
   "source": [
    "---\n",
    "\n",
    "### Pattern Matching"
   ]
  },
  {
   "cell_type": "code",
   "execution_count": null,
   "metadata": {
    "collapsed": true
   },
   "outputs": [],
   "source": [
    "using Match"
   ]
  },
  {
   "cell_type": "code",
   "execution_count": null,
   "metadata": {
    "collapsed": true
   },
   "outputs": [],
   "source": [
    "allodds(x) = @match x begin\n",
    "    m::Int, if iseven(m) || (m < 3) end        => \"Not a valid choice\"\n",
    "    n::Int, if n == 3 || n == 5 || n == 7 end  => \"$x is prime\"\n",
    "    _  =>  \"By induction all numbers are prime\"\n",
    "end"
   ]
  },
  {
   "cell_type": "code",
   "execution_count": null,
   "metadata": {
    "collapsed": true
   },
   "outputs": [],
   "source": [
    "allodds(3)"
   ]
  },
  {
   "cell_type": "code",
   "execution_count": null,
   "metadata": {
    "collapsed": true
   },
   "outputs": [],
   "source": [
    "allodds(6)"
   ]
  },
  {
   "cell_type": "code",
   "execution_count": null,
   "metadata": {
    "collapsed": true
   },
   "outputs": [],
   "source": [
    "allodds(9)"
   ]
  },
  {
   "cell_type": "markdown",
   "metadata": {
    "collapsed": true
   },
   "source": [
    "## Solve Queens problem"
   ]
  },
  {
   "cell_type": "code",
   "execution_count": null,
   "metadata": {
    "collapsed": true
   },
   "outputs": [],
   "source": [
    "struct Queen\n",
    "    x::Int\n",
    "    y::Int\n",
    "end"
   ]
  },
  {
   "cell_type": "code",
   "execution_count": null,
   "metadata": {
    "collapsed": true
   },
   "outputs": [],
   "source": [
    "qhorz(qa, qb) = qa.x == qb.x;\n",
    "qvert(qa, qb) = qa.y == qb.y;\n",
    "qdiag(qa, qb) = abs(qa.x - qb.x) == abs(qa.y - qb.y);\n",
    "\n",
    "qhvd(qa, qb) = qhorz(qa, qb) || qvert(qa, qb) || qdiag(qa, qb);\n",
    "qany(testq, qs) = any(q -> qhvd(testq, q), qs);"
   ]
  },
  {
   "cell_type": "code",
   "execution_count": null,
   "metadata": {
    "collapsed": true
   },
   "outputs": [],
   "source": [
    "function qsolve(nsqsx, nsqsy, nqs, presqs = ())\n",
    "    nqs == 0 && return presqs\n",
    "    for xsq in 1:nsqsx\n",
    "        for ysq in 1:nsqsy\n",
    "            testq = Queen(xsq, ysq)\n",
    "            if !qany(testq, presqs)\n",
    "                tryqs = (presqs..., testq)\n",
    "                maybe = qsolve(nsqsx, nsqsy, nqs - 1, tryqs)\n",
    "                maybe !== nothing && return maybe\n",
    "            end\n",
    "        end\n",
    "    end\n",
    "    return nothing\n",
    "end\n",
    "\n",
    "qsolve(nqs) = qsolve(nqs, nqs, nqs)"
   ]
  },
  {
   "cell_type": "code",
   "execution_count": null,
   "metadata": {
    "collapsed": true
   },
   "outputs": [],
   "source": [
    "qsolve(8)"
   ]
  },
  {
   "cell_type": "markdown",
   "metadata": {},
   "source": [
    "---"
   ]
  },
  {
   "cell_type": "code",
   "execution_count": null,
   "metadata": {
    "collapsed": true
   },
   "outputs": [],
   "source": [
    "module Vehicles\n",
    "\n",
    "export Contact, Vehicle, Car, Bike, Yacht, Powerboat, Boat\n",
    "export Ford, BMW, VW, Scooter, MotorBike, Speedboat \n",
    "\n",
    "const KNOTS_TO_MPH = 1.151\n",
    "       \n",
    "struct Contact\n",
    "    name::String\n",
    "    email::String\n",
    "    phone::String\n",
    "end\n",
    "                             \n",
    "abstract type Vehicle end\n",
    "\n",
    "abstract type Car <: Vehicle end\n",
    "abstract type Bike <: Vehicle  end\n",
    "abstract type Boat <: Vehicle end\n",
    "\n",
    "abstract type Powerboat <: Boat end\n",
    "       \n",
    "struct Ford <: Car\n",
    "    owner::Contact\n",
    "    make::String\n",
    "    fuel::String\n",
    "    color::String\n",
    "    engine_cc::Int64\n",
    "    speed_mph::Float64\n",
    "    function Ford(owner, make, engine_cc,speed_mph)\n",
    "        new(owner,make,\"Petrol\",\"Black\",engine_cc,speed_mph)\n",
    "     end\n",
    "end\n",
    "       \n",
    "struct BMW <: Car\n",
    "    owner::Contact\n",
    "    make::String\n",
    "    fuel::String\n",
    "    color::String\n",
    "    engine_cc::Int64\n",
    "    speed_mph::Float64\n",
    "    function BMW(owner,make,engine_cc,speed_mph)\n",
    "        new(owner,make,\"Petrol\",\"Blue\",engine_cc,speed_mph)\n",
    "   end\n",
    "end\n",
    "       \n",
    "struct VW <: Car\n",
    "    owner::Contact\n",
    "    make::String\n",
    "    fuel::String\n",
    "    color::String\n",
    "    engine_cc::Int64\n",
    "    speed_mph::Float64\n",
    "end\n",
    "\n",
    "struct MotorBike <: Bike\n",
    "    owner::Contact\n",
    "    make::String\n",
    "    engine_cc::Int64\n",
    "    speed_mph::Float64\n",
    "end\n",
    "       \n",
    "struct Scooter <: Bike\n",
    "    owner::Contact\n",
    "    make::String\n",
    "    engine_cc::Int64\n",
    "    speed_mph::Float64\n",
    "end\n",
    "\n",
    "mutable struct Yacht <: Boat\n",
    "    owner::Contact\n",
    "    make::String\n",
    "    length_m::Float64\n",
    "end\n",
    "              \n",
    "mutable struct Speedboat <: Powerboat\n",
    "    owner::Contact\n",
    "    make::String\n",
    "    fuel::String\n",
    "    engine_cc::Int64\n",
    "    speed_knots::Float64\n",
    "    length_m::Float64\n",
    "end\n",
    "\n",
    "function is_quicker(a::VW, b::BMW)\n",
    "   if (a.speed_mph == b.speed_mph) \n",
    "      return nothing\n",
    "    else\n",
    "      return(a.speed_mph > b.speed_mph ? a : b)\n",
    "     end\n",
    "end\n",
    "\n",
    "function is_quicker(a::Speedboat, b::Scooter)\n",
    "   a_mph = KNOTS_TO_MPH * a.speed_knots\n",
    "   if (a_mph == b.speed_mph) \n",
    "       return nothing\n",
    "    else\n",
    "       return(a_mph > b.speed_mph ? a : b)\n",
    "    end\n",
    "end\n",
    "\n",
    "function is_longer(a::Yacht, b::Speedboat)\n",
    "   if (a.length_m == b.length_m) \n",
    "       return nothing\n",
    "    else\n",
    "       return(a.length > b.length_m ? a : b)\n",
    "    end\n",
    "end\n",
    "\n",
    "is_quicker(a::BMW, b::VW) = is_quicker(b,a)\n",
    "is_quicker(a::Scooter, b::Speedboat) = is_quicker(b,a)\n",
    "is_longer(a::Speedboat, b::Yacht) = is_longer(b,a)\n",
    "\n",
    "end"
   ]
  },
  {
   "cell_type": "code",
   "execution_count": null,
   "metadata": {
    "collapsed": true
   },
   "outputs": [],
   "source": [
    "using Main.Vehicles;\n",
    "\n",
    "malcolm = Contact(\"Malcolm\",\"malcolm@abc.net\",\"07777555999\");\n",
    "myCar = Ford(malcolm, \"Model T\", 1000, 50.0);\n",
    "myBike = Scooter(malcolm, \"Vespa\", 125, 35.0);\n",
    "\n",
    "james = Contact(\"James\",\"james@abc.net\",\"07777666888\");\n",
    "jmCar = BMW(james,\"Series 500\", 3200, 125.0);\n",
    "jmBoat = Yacht(james,\"Oceanis 44\",14.6);\n",
    "jmBike = MotorBike(james, \"Harley\", 850, 120.0);\n",
    "\n",
    "david = Contact(\"David\",\"dave@abc.net\",\"07777222444\");\n",
    "dvCar = VW(david,\"Golf\", \"diesel\", \"red\", 1800, 85.0);\n",
    "dvBoat = Speedboat(david,\"Sealine\",\"petrol\", 600, 45.0, 8.2);"
   ]
  },
  {
   "cell_type": "code",
   "execution_count": null,
   "metadata": {
    "collapsed": true
   },
   "outputs": [],
   "source": [
    "myCar.owner = david"
   ]
  },
  {
   "cell_type": "code",
   "execution_count": null,
   "metadata": {
    "collapsed": true
   },
   "outputs": [],
   "source": [
    "dvBoat.owner = malcolm"
   ]
  },
  {
   "cell_type": "code",
   "execution_count": null,
   "metadata": {
    "collapsed": true
   },
   "outputs": [],
   "source": [
    "s = [myCar, jmCar, dvCar]\n",
    "for c in s\n",
    "    who = c.owner.name\n",
    "    model = c.make\n",
    "    println(\"$who has a $model car\")\n",
    "end"
   ]
  },
  {
   "cell_type": "code",
   "execution_count": null,
   "metadata": {
    "collapsed": true
   },
   "outputs": [],
   "source": [
    "# Note that Malcolm now owns Dave's boat\n",
    "#\n",
    "s =[dvCar, dvBoat]  \n",
    "for c in s\n",
    "    who = c.owner.name\n",
    "    model = c.make\n",
    "    println(\"$who has a $model vehicle\")\n",
    "end"
   ]
  },
  {
   "cell_type": "code",
   "execution_count": null,
   "metadata": {
    "collapsed": true
   },
   "outputs": [],
   "source": [
    "println(\"James owns these vehicles: \")\n",
    "s = [jmCar, jmBike, jmBoat] \n",
    "for c in s\n",
    "    println(\"....\\t$(c.make)\")\n",
    "end"
   ]
  },
  {
   "cell_type": "code",
   "execution_count": null,
   "metadata": {
    "collapsed": true
   },
   "outputs": [],
   "source": [
    "# Make this mutable as I might change where I live\n",
    "#\n",
    "mutable struct Address\n",
    "  name::String\n",
    "  street::String\n",
    "  city::String\n",
    "  country::String\n",
    "  postcode::String\n",
    "end"
   ]
  },
  {
   "cell_type": "code",
   "execution_count": null,
   "metadata": {
    "collapsed": true
   },
   "outputs": [],
   "source": [
    "postal = Address(\"Malcolm Sherrington\",\"1 Main Street\", \"London\", \"UK\", \"WC2N 9ZZ\");"
   ]
  },
  {
   "cell_type": "code",
   "execution_count": null,
   "metadata": {
    "collapsed": true
   },
   "outputs": [],
   "source": [
    "const Owner = Union{Contact, Address}"
   ]
  },
  {
   "cell_type": "code",
   "execution_count": null,
   "metadata": {
    "collapsed": true
   },
   "outputs": [],
   "source": [
    "struct Skiff <: Boat\n",
    "   owner::Owner\n",
    "   make::String\n",
    "   length_m::Float64\n",
    "end\n"
   ]
  },
  {
   "cell_type": "code",
   "execution_count": null,
   "metadata": {
    "collapsed": true
   },
   "outputs": [],
   "source": [
    "y1 = Skiff(malcolm,\"Moody 36\", 11.02)"
   ]
  },
  {
   "cell_type": "code",
   "execution_count": null,
   "metadata": {
    "collapsed": true
   },
   "outputs": [],
   "source": [
    "y2 = Skiff(postal,\"Dufour 44\", 13.47)"
   ]
  },
  {
   "cell_type": "code",
   "execution_count": null,
   "metadata": {
    "collapsed": true
   },
   "outputs": [],
   "source": [
    "@assert y1.length_m < y2.length_m"
   ]
  },
  {
   "cell_type": "markdown",
   "metadata": {},
   "source": [
    "---"
   ]
  },
  {
   "cell_type": "markdown",
   "metadata": {},
   "source": [
    "---\n",
    "\n",
    "### 3D vectors\n",
    "\n",
    "---"
   ]
  },
  {
   "cell_type": "code",
   "execution_count": null,
   "metadata": {
    "collapsed": true
   },
   "outputs": [],
   "source": [
    "# This module uses Float64 components but could use a parameterised type {T}\n",
    "#\n",
    "module V3D\n",
    "\n",
    "# import Base.+, Base.*, Base./, Base.==, Base.<, Base.>\n",
    "#\n",
    "import Base: +, *, /, ==, <, >, zero, one\n",
    "import LinearAlgebra: norm, dot\n",
    "\n",
    "export Vec3, norm, dist, zero, one\n",
    "\n",
    "struct Vec3\n",
    "    x::Float64\n",
    "    y::Float64\n",
    "    z::Float64\n",
    "end\n",
    "\n",
    "(+)(a::Vec3, b::Vec3) = Vec3(a.x+b.x, a.y+b.y, a.z+b.z)\n",
    "(*)(p::Vec3, s::Real) = Vec3(p.x*s, p.y*s, p.z*s)\n",
    "(*)(s::Real, p::Vec3) = p*s\n",
    "(/)(p::Vec3, s::Real) = (1.0/s)*p\n",
    "\n",
    "(==)(a::Vec3, b::Vec3) = (a.x==b.x)&&(a.y==b.y)&&(a.z==b.z) ? true : false;\n",
    "\n",
    "dot(a::Vec3, b::Vec3) = a.x*b.x + a.y*b.y + a.z*b.z;\n",
    "norm(a::Vec3) = sqrt(dot(a,a));\n",
    "\n",
    "zero(a::Vec3) = Vec3(0.0,0.0,0.0);\n",
    "one(a::Vec3)  = Vec3(1.0,1.0,1.0);\n",
    "\n",
    "(<)(a::Vec3, b::Vec3) = norm(a) < norm(b) ? true : false;\n",
    "(>)(a::Vec3, b::Vec3) = norm(a) > norm(b) ? true : false;\n",
    "\n",
    "dist(a::Vec3, b::Vec3) = sqrt((a.x-b.x)*(a.x-b.x) + (a.y-b.y)*(a.y-b.y) + (a.z-b.z)*(a.z-b.z))\n",
    "\n",
    "end"
   ]
  },
  {
   "cell_type": "code",
   "execution_count": null,
   "metadata": {
    "collapsed": true
   },
   "outputs": [],
   "source": [
    "using Main.V3D\n",
    "using Printf\n",
    "\n",
    "v1 = Vec3(1.2,3.4,5.6);\n",
    "v2 = Vec3(2.1,4.3,6.5);\n",
    "@printf \"Distance between vectors is %.3f \\n\" dist(v1,v2)"
   ]
  },
  {
   "cell_type": "code",
   "execution_count": null,
   "metadata": {
    "collapsed": true
   },
   "outputs": [],
   "source": [
    "vv = [Vec3(rand(),rand(),rand()) for i = 1:1000000];\n",
    "vs = reshape(vv,1000,1000)"
   ]
  },
  {
   "cell_type": "code",
   "execution_count": null,
   "metadata": {
    "collapsed": true
   },
   "outputs": [],
   "source": [
    "using LinearAlgebra\n",
    "\n",
    "dv = map(v -> norm(v), vs)\n",
    "dw = dv'\n",
    "ee = eigen(dw)"
   ]
  },
  {
   "cell_type": "code",
   "execution_count": null,
   "metadata": {
    "collapsed": true
   },
   "outputs": [],
   "source": [
    "k = 0\n",
    "for i in 1:length(vv)\n",
    "  if norm(vv[i]) < 1.0 \n",
    "    global k +=1 \n",
    "  end\n",
    "end\n",
    "@printf \"Estimate of PI is %9.5f\\n\" 6.0*k/length(vv)"
   ]
  },
  {
   "cell_type": "code",
   "execution_count": null,
   "metadata": {
    "collapsed": true
   },
   "outputs": [],
   "source": [
    "#\n",
    "# Defining the Vec3 parameterically and the rest of the module is unchanged\n",
    "# i.e.\n",
    "#\n",
    "# immutable Vec3P{T}\n",
    "#    x::T\n",
    "#    y::T\n",
    "#    z::T\n",
    "# end\n",
    "#\n",
    "module V3P\n",
    "#\n",
    "# import Base.+, Base.*, Base./, Base.norm, Base.==, Base.<, Base.>\n",
    "#\n",
    "import Base: +, *, /, ==, <, >\n",
    "import LinearAlgebra: norm, dot\n",
    "export Vec3P, norm, distp\n",
    "\n",
    "struct Vec3P{T}\n",
    "    x::T\n",
    "    y::T\n",
    "    z::T\n",
    "end\n",
    "\n",
    "(+)(a::Vec3P, b::Vec3P) = Vec3P(a.x+b.x, a.y+b.y, a.z+b.z)\n",
    "(*)(p::Vec3P, s::Real) = Vec3P(p.x*s, p.y*s, p.z*s)\n",
    "(*)(s::Real, p::Vec3P) = p*s\n",
    "(/)(p::Vec3P, s::Real) = (1.0/s)*p\n",
    "\n",
    "(==)(a::Vec3P, b::Vec3P) = (a.x==b.x)&&(a.y==b.y)&&(a.z==b.z) ? true : false;\n",
    "\n",
    "dot(a::Vec3P, b::Vec3P) = a.x*b.x + a.y*b.y + a.z*b.z;\n",
    "norm(a::Vec3P) = sqrt(dot(a,a));\n",
    "\n",
    "(<)(a::Vec3P, b::Vec3P) = norm(a) < norm(b) ? true : false;\n",
    "(>)(a::Vec3P, b::Vec3P) = norm(a) > norm(b) ? true : false;\n",
    "\n",
    "distp(a::Vec3P, b::Vec3P) = sqrt((a.x-b.x)*(a.x-b.x) + (a.y-b.y)*(a.y-b.y) + (a.z-b.z)*(a.z-b.z))\n",
    "\n",
    "end"
   ]
  },
  {
   "cell_type": "code",
   "execution_count": null,
   "metadata": {
    "collapsed": true
   },
   "outputs": [],
   "source": [
    "using Main.V3P\n",
    "\n",
    "z1 = Vec3P{Complex}(1+2im,2+3im,3+4im);\n",
    "z2 = Vec3P{Complex}(3-2im,4-3im,5-4im);\n",
    "z1 + z2"
   ]
  },
  {
   "cell_type": "code",
   "execution_count": null,
   "metadata": {
    "collapsed": true
   },
   "outputs": [],
   "source": [
    "zn = norm(z1 + z2)        # => sqrt(116) but IS a complex number.\n",
    "@assert zn == sqrt(116)\n",
    "\n",
    "# Notice that the vaule is returned as a complex.\n",
    "zn"
   ]
  },
  {
   "cell_type": "code",
   "execution_count": null,
   "metadata": {
    "collapsed": true
   },
   "outputs": [],
   "source": [
    "r1 = Vec3P{Rational}(11//7,13//5,8//17)\n",
    "r2 = Vec3P{Rational}(17//9,23//15,28//17)\n",
    "r1 + r2"
   ]
  },
  {
   "cell_type": "code",
   "execution_count": null,
   "metadata": {
    "collapsed": true
   },
   "outputs": [],
   "source": [
    "# Norm is promoted to a Real as it can not be represented as a Rational\n",
    "#\n",
    "norm(r1 + r2)"
   ]
  },
  {
   "cell_type": "markdown",
   "metadata": {},
   "source": [
    "---\n",
    "\n",
    "### It is possible to extend the above to an *nD* vector simply using static arrays.\n",
    "\n",
    "---"
   ]
  },
  {
   "cell_type": "code",
   "execution_count": 4,
   "metadata": {},
   "outputs": [
    {
     "data": {
      "text/plain": [
       "Main.VNX"
      ]
     },
     "execution_count": 4,
     "metadata": {},
     "output_type": "execute_result"
    }
   ],
   "source": [
    "module VNX\n",
    "using StaticArrays\n",
    "\n",
    "import Base: +, *, /, ==, <, >\n",
    "import LinearAlgebra: norm, dot\n",
    "export VecN, norm, distx\n",
    "\n",
    "struct VecN\n",
    "    sv::SVector;\n",
    "end\n",
    "\n",
    "sizeof(a::VecN) = length(a.sv)\n",
    "sOK(a::VecN, b::VecN) = \n",
    " (sizeof(a) == sizeof(b)) ? true : throw(BoundsError(\"Vector of different lengths\"));\n",
    "\n",
    "(+)(a::VecN, b::VecN) = [a.sv[i] + b.sv[i] for i in 1:sizeof(a) if sOK(a,b)]\n",
    "(*)(x::Real, a::VecN) = [a.sv[i]*x for i in 1:sizeof(a)]\n",
    "(*)(a::VecN, x::Real) = x*a\n",
    "(/)(a::VecN, x::Real) = [a.sv[i]/x for i in 1:sizeof(a)]\n",
    "\n",
    "(==)(a::VecN, b::VecN) = any([(a.sv[i] == b.sv[i]) for i in 1:sizeof(a) if sOK(a,b)])\n",
    "                            \n",
    "dot(a::VecN, b::VecN) = sum([a.sv[i]*b.sv[i] for i in 1:sizeof(a) if sOK(a,b)])\n",
    "norm(a::VecN) = sqrt(dot(a,a));\n",
    "\n",
    "(<)(a::VecN, b::VecN) = norm(a) < norm(b) ? true : false;\n",
    "(>)(a::VecN, b::VecN) = norm(a) > norm(b) ? true : false;                                            \n",
    "                                            \n",
    "distx(a::VecN, b::VecN) = sum(map(x -> x*x,[a.sv[i]-b.sv[i] for i in 1:sizeof(a) if sOK(a,b)]))\n",
    "\n",
    "end"
   ]
  },
  {
   "cell_type": "code",
   "execution_count": 6,
   "metadata": {
    "collapsed": true
   },
   "outputs": [],
   "source": [
    "# Generate K 4-vectors\n",
    "#\n",
    "using Main.VNX, StaticArrays\n",
    "\n",
    "K = 10^5; \n",
    "vv = Array{VecN}(undef,K);\n",
    "\n",
    "for j = 1:K\n",
    "  vv[j] =  VecN(@SVector [rand() for i = 1:4])\n",
    "end"
   ]
  },
  {
   "cell_type": "code",
   "execution_count": 7,
   "metadata": {
    "collapsed": true
   },
   "outputs": [],
   "source": [
    "# Sum up the vectors which lie within the 4-ball\n",
    "#\n",
    "s = 0;\n",
    "for j = 1:K \n",
    "  if (norm(vv[j]) < 1.0) s += 1 end\n",
    "end"
   ]
  },
  {
   "cell_type": "code",
   "execution_count": 8,
   "metadata": {},
   "outputs": [
    {
     "data": {
      "text/plain": [
       "3.147011280564466"
      ]
     },
     "execution_count": 8,
     "metadata": {},
     "output_type": "execute_result"
    }
   ],
   "source": [
    "# Volume of the unit 4-ball is 2*π*π\n",
    "# The count is 1/16th of the volume\n",
    "# \n",
    "mypi = sqrt(32*s/K)"
   ]
  },
  {
   "cell_type": "code",
   "execution_count": null,
   "metadata": {
    "collapsed": true
   },
   "outputs": [],
   "source": []
  }
 ],
 "metadata": {
  "kernelspec": {
   "display_name": "Julia 1.0.3",
   "language": "julia",
   "name": "julia-1.0"
  },
  "language_info": {
   "file_extension": ".jl",
   "mimetype": "application/julia",
   "name": "julia",
   "version": "1.0.3"
  }
 },
 "nbformat": 4,
 "nbformat_minor": 2
}
