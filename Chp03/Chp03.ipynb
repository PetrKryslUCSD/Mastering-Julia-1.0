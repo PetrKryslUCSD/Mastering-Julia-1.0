{
 "cells": [
  {
   "cell_type": "code",
   "execution_count": 1,
   "metadata": {},
   "outputs": [],
   "source": [
    "# Packages used in this chapter\n",
    "# To check for installed packages in V1.0 we now need to use the PKG API\n",
    "\n",
    "using Pkg\n",
    "ipks = Pkg.installed()\n",
    "pkgs = [\"BenchmarkTools\",\"Match\",\"PyPlot\",\"StaticArrays\"]\n",
    "for p in pkgs\n",
    "    !haskey(ipks,p) && Pkg.add(p)\n",
    "end\n",
    "\n",
    "# We can define these here as as required\n",
    "using BenchmarkTools, Match, PyPlot, StaticArrays\n",
    "\n",
    "# We need these as some functions have moved from Base to Stdlib\n",
    "#\n",
    "using Printf, LinearAlgebra"
   ]
  },
  {
   "cell_type": "markdown",
   "metadata": {},
   "source": [
    "## Chapter 3"
   ]
  },
  {
   "cell_type": "markdown",
   "metadata": {},
   "source": [
    "### Collatz conjecture \n",
    "\n",
    "The Hailstone sequence of numbers can be generated from a starting positive integer, n by:\n",
    "\n",
    "- If n is 1 then the sequence ends.\n",
    "- If n is even then the next n of the sequence = n/2\n",
    "- If n is odd then the next n of the sequence = (3 * n) + 1\n",
    "\n",
    "The Collatz conjecture is that the hailstone sequence for any starting number always terminates."
   ]
  },
  {
   "cell_type": "code",
   "execution_count": 2,
   "metadata": {},
   "outputs": [
    {
     "data": {
      "text/plain": [
       "hailstone (generic function with 1 method)"
      ]
     },
     "execution_count": 2,
     "metadata": {},
     "output_type": "execute_result"
    }
   ],
   "source": [
    "function hailstone(n)\n",
    "   k = 1\n",
    "   a = [n]\n",
    "   while n > 1 \n",
    "      n = (n % 2 == 0) ? n >> 1 : 3n + 1 \n",
    "      push!(a,n)\n",
    "      k += 1\n",
    "   end\n",
    "   a\n",
    "end"
   ]
  },
  {
   "cell_type": "code",
   "execution_count": 3,
   "metadata": {},
   "outputs": [
    {
     "data": {
      "text/plain": [
       "13-element Array{Int64,1}:\n",
       " 17\n",
       " 52\n",
       " 26\n",
       " 13\n",
       " 40\n",
       " 20\n",
       " 10\n",
       "  5\n",
       " 16\n",
       "  8\n",
       "  4\n",
       "  2\n",
       "  1"
      ]
     },
     "execution_count": 3,
     "metadata": {},
     "output_type": "execute_result"
    }
   ],
   "source": [
    "hailstone(17)"
   ]
  },
  {
   "cell_type": "markdown",
   "metadata": {},
   "source": [
    "---"
   ]
  },
  {
   "cell_type": "code",
   "execution_count": 4,
   "metadata": {},
   "outputs": [
    {
     "data": {
      "image/png": "[encoded data removed]",
      "text/plain": [
       "Figure(PyObject <Figure size 640x480 with 1 Axes>)"
      ]
     },
     "metadata": {},
     "output_type": "display_data"
    },
    {
     "data": {
      "text/plain": [
       "1-element Array{PyCall.PyObject,1}:\n",
       " PyObject <matplotlib.lines.Line2D object at 0x131a78cf8>"
      ]
     },
     "execution_count": 4,
     "metadata": {},
     "output_type": "execute_result"
    }
   ],
   "source": [
    "using PyPlot\n",
    "\n",
    "f(x, p = 0.0) = exp(p*x)*sin(x);\n",
    "t = range(0.0,stop=8.0*π,length=101);\n",
    "w = zeros(length(t));\n",
    "for i = 1:length(w) w[i] = f(t[i], 0.1) end\n",
    "\n",
    "plot(t, w)"
   ]
  },
  {
   "cell_type": "markdown",
   "metadata": {},
   "source": [
    "---\n",
    "\n",
    "### Pattern Matching"
   ]
  },
  {
   "cell_type": "code",
   "execution_count": 5,
   "metadata": {},
   "outputs": [],
   "source": [
    "using Match"
   ]
  },
  {
   "cell_type": "code",
   "execution_count": 6,
   "metadata": {},
   "outputs": [
    {
     "data": {
      "text/plain": [
       "allodds (generic function with 1 method)"
      ]
     },
     "execution_count": 6,
     "metadata": {},
     "output_type": "execute_result"
    }
   ],
   "source": [
    "allodds(x) = @match x begin\n",
    "    m::Int, if iseven(m) || (m < 3) end        => \"Not a valid choice\"\n",
    "    n::Int, if n == 3 || n == 5 || n == 7 end  => \"$x is prime\"\n",
    "    _  =>  \"By induction all numbers are prime\"\n",
    "end"
   ]
  },
  {
   "cell_type": "code",
   "execution_count": 7,
   "metadata": {},
   "outputs": [
    {
     "data": {
      "text/plain": [
       "\"3 is prime\""
      ]
     },
     "execution_count": 7,
     "metadata": {},
     "output_type": "execute_result"
    }
   ],
   "source": [
    "allodds(3)"
   ]
  },
  {
   "cell_type": "code",
   "execution_count": 8,
   "metadata": {},
   "outputs": [
    {
     "data": {
      "text/plain": [
       "\"Not a valid choice\""
      ]
     },
     "execution_count": 8,
     "metadata": {},
     "output_type": "execute_result"
    }
   ],
   "source": [
    "allodds(6)"
   ]
  },
  {
   "cell_type": "code",
   "execution_count": 9,
   "metadata": {},
   "outputs": [
    {
     "data": {
      "text/plain": [
       "\"By induction all numbers are prime\""
      ]
     },
     "execution_count": 9,
     "metadata": {},
     "output_type": "execute_result"
    }
   ],
   "source": [
    "allodds(9)"
   ]
  },
  {
   "cell_type": "markdown",
   "metadata": {
    "collapsed": true
   },
   "source": [
    "## Solve Queens problem"
   ]
  },
  {
   "cell_type": "code",
   "execution_count": 10,
   "metadata": {},
   "outputs": [],
   "source": [
    "struct Queen\n",
    "    x::Int\n",
    "    y::Int\n",
    "end"
   ]
  },
  {
   "cell_type": "code",
   "execution_count": 11,
   "metadata": {},
   "outputs": [],
   "source": [
    "qhorz(qa, qb) = qa.x == qb.x;\n",
    "qvert(qa, qb) = qa.y == qb.y;\n",
    "qdiag(qa, qb) = abs(qa.x - qb.x) == abs(qa.y - qb.y);\n",
    "\n",
    "qhvd(qa, qb) = qhorz(qa, qb) || qvert(qa, qb) || qdiag(qa, qb);\n",
    "qany(testq, qs) = any(q -> qhvd(testq, q), qs);"
   ]
  },
  {
   "cell_type": "code",
   "execution_count": 12,
   "metadata": {},
   "outputs": [
    {
     "data": {
      "text/plain": [
       "qsolve (generic function with 3 methods)"
      ]
     },
     "execution_count": 12,
     "metadata": {},
     "output_type": "execute_result"
    }
   ],
   "source": [
    "function qsolve(nsqsx, nsqsy, nqs, presqs = ())\n",
    "    nqs == 0 && return presqs\n",
    "    for xsq in 1:nsqsx\n",
    "        for ysq in 1:nsqsy\n",
    "            testq = Queen(xsq, ysq)\n",
    "            if !qany(testq, presqs)\n",
    "                tryqs = (presqs..., testq)\n",
    "                maybe = qsolve(nsqsx, nsqsy, nqs - 1, tryqs)\n",
    "                maybe !== nothing && return maybe\n",
    "            end\n",
    "        end\n",
    "    end\n",
    "    return nothing\n",
    "end\n",
    "\n",
    "qsolve(nqs) = qsolve(nqs, nqs, nqs)"
   ]
  },
  {
   "cell_type": "code",
   "execution_count": 13,
   "metadata": {},
   "outputs": [
    {
     "data": {
      "text/plain": [
       "(Queen(1, 1), Queen(2, 5), Queen(3, 8), Queen(4, 6), Queen(5, 3), Queen(6, 7), Queen(7, 2), Queen(8, 4))"
      ]
     },
     "execution_count": 13,
     "metadata": {},
     "output_type": "execute_result"
    }
   ],
   "source": [
    "qsolve(8)"
   ]
  },
  {
   "cell_type": "markdown",
   "metadata": {},
   "source": [
    "---"
   ]
  },
  {
   "cell_type": "code",
   "execution_count": 14,
   "metadata": {},
   "outputs": [
    {
     "data": {
      "text/plain": [
       "Main.Vehicles"
      ]
     },
     "execution_count": 14,
     "metadata": {},
     "output_type": "execute_result"
    }
   ],
   "source": [
    "module Vehicles\n",
    "\n",
    "export Contact, Vehicle, Car, Bike, Yacht, Powerboat, Boat\n",
    "export Ford, BMW, VW, Scooter, MotorBike, Speedboat \n",
    "\n",
    "const KNOTS_TO_MPH = 1.151\n",
    "       \n",
    "struct Contact\n",
    "    name::String\n",
    "    email::String\n",
    "    phone::String\n",
    "end\n",
    "                             \n",
    "abstract type Vehicle end\n",
    "\n",
    "abstract type Car <: Vehicle end\n",
    "abstract type Bike <: Vehicle  end\n",
    "abstract type Boat <: Vehicle end\n",
    "\n",
    "abstract type Powerboat <: Boat end\n",
    "       \n",
    "struct Ford <: Car\n",
    "    owner::Contact\n",
    "    make::String\n",
    "    fuel::String\n",
    "    color::String\n",
    "    engine_cc::Int64\n",
    "    speed_mph::Float64\n",
    "    function Ford(owner, make, engine_cc,speed_mph)\n",
    "        new(owner,make,\"Petrol\",\"Black\",engine_cc,speed_mph)\n",
    "     end\n",
    "end\n",
    "       \n",
    "struct BMW <: Car\n",
    "    owner::Contact\n",
    "    make::String\n",
    "    fuel::String\n",
    "    color::String\n",
    "    engine_cc::Int64\n",
    "    speed_mph::Float64\n",
    "    function BMW(owner,make,engine_cc,speed_mph)\n",
    "        new(owner,make,\"Petrol\",\"Blue\",engine_cc,speed_mph)\n",
    "   end\n",
    "end\n",
    "       \n",
    "struct VW <: Car\n",
    "    owner::Contact\n",
    "    make::String\n",
    "    fuel::String\n",
    "    color::String\n",
    "    engine_cc::Int64\n",
    "    speed_mph::Float64\n",
    "end\n",
    "\n",
    "struct MotorBike <: Bike\n",
    "    owner::Contact\n",
    "    make::String\n",
    "    engine_cc::Int64\n",
    "    speed_mph::Float64\n",
    "end\n",
    "       \n",
    "struct Scooter <: Bike\n",
    "    owner::Contact\n",
    "    make::String\n",
    "    engine_cc::Int64\n",
    "    speed_mph::Float64\n",
    "end\n",
    "\n",
    "mutable struct Yacht <: Boat\n",
    "    owner::Contact\n",
    "    make::String\n",
    "    length_m::Float64\n",
    "end\n",
    "              \n",
    "mutable struct Speedboat <: Powerboat\n",
    "    owner::Contact\n",
    "    make::String\n",
    "    fuel::String\n",
    "    engine_cc::Int64\n",
    "    speed_knots::Float64\n",
    "    length_m::Float64\n",
    "end\n",
    "\n",
    "function is_quicker(a::VW, b::BMW)\n",
    "   if (a.speed_mph == b.speed_mph) \n",
    "      return nothing\n",
    "    else\n",
    "      return(a.speed_mph > b.speed_mph ? a : b)\n",
    "     end\n",
    "end\n",
    "\n",
    "function is_quicker(a::Speedboat, b::Scooter)\n",
    "   a_mph = KNOTS_TO_MPH * a.speed_knots\n",
    "   if (a_mph == b.speed_mph) \n",
    "       return nothing\n",
    "    else\n",
    "       return(a_mph > b.speed_mph ? a : b)\n",
    "    end\n",
    "end\n",
    "\n",
    "function is_longer(a::Yacht, b::Speedboat)\n",
    "   if (a.length_m == b.length_m) \n",
    "       return nothing\n",
    "    else\n",
    "       return(a.length > b.length_m ? a : b)\n",
    "    end\n",
    "end\n",
    "\n",
    "is_quicker(a::BMW, b::VW) = is_quicker(b,a)\n",
    "is_quicker(a::Scooter, b::Speedboat) = is_quicker(b,a)\n",
    "is_longer(a::Speedboat, b::Yacht) = is_longer(b,a)\n",
    "\n",
    "end"
   ]
  },
  {
   "cell_type": "code",
   "execution_count": 15,
   "metadata": {},
   "outputs": [],
   "source": [
    "using Main.Vehicles;\n",
    "\n",
    "malcolm = Contact(\"Malcolm\",\"malcolm@abc.net\",\"07777555999\");\n",
    "myCar = Ford(malcolm, \"Model T\", 1000, 50.0);\n",
    "myBike = Scooter(malcolm, \"Vespa\", 125, 35.0);\n",
    "\n",
    "james = Contact(\"James\",\"james@abc.net\",\"07777666888\");\n",
    "jmCar = BMW(james,\"Series 500\", 3200, 125.0);\n",
    "jmBoat = Yacht(james,\"Oceanis 44\",14.6);\n",
    "jmBike = MotorBike(james, \"Harley\", 850, 120.0);\n",
    "\n",
    "david = Contact(\"David\",\"dave@abc.net\",\"07777222444\");\n",
    "dvCar = VW(david,\"Golf\", \"diesel\", \"red\", 1800, 85.0);\n",
    "dvBoat = Speedboat(david,\"Sealine\",\"petrol\", 600, 45.0, 8.2);"
   ]
  },
  {
   "cell_type": "code",
   "execution_count": 16,
   "metadata": {},
   "outputs": [
    {
     "ename": "ErrorException",
     "evalue": "type Ford is immutable",
     "output_type": "error",
     "traceback": [
      "type Ford is immutable",
      "",
      "Stacktrace:",
      " [1] setproperty!(::Ford, ::Symbol, ::Contact) at ./sysimg.jl:19",
      " [2] top-level scope at In[16]:1"
     ]
    }
   ],
   "source": [
    "myCar.owner = david"
   ]
  },
  {
   "cell_type": "code",
   "execution_count": 17,
   "metadata": {},
   "outputs": [
    {
     "data": {
      "text/plain": [
       "Contact(\"Malcolm\", \"malcolm@abc.net\", \"07777555999\")"
      ]
     },
     "execution_count": 17,
     "metadata": {},
     "output_type": "execute_result"
    }
   ],
   "source": [
    "dvBoat.owner = malcolm"
   ]
  },
  {
   "cell_type": "code",
   "execution_count": 18,
   "metadata": {},
   "outputs": [
    {
     "name": "stdout",
     "output_type": "stream",
     "text": [
      "Malcolm has a Model T car\n",
      "James has a Series 500 car\n",
      "David has a Golf car\n"
     ]
    }
   ],
   "source": [
    "s = [myCar, jmCar, dvCar]\n",
    "for c in s\n",
    "    who = c.owner.name\n",
    "    model = c.make\n",
    "    println(\"$who has a $model car\")\n",
    "end"
   ]
  },
  {
   "cell_type": "code",
   "execution_count": 19,
   "metadata": {},
   "outputs": [
    {
     "name": "stdout",
     "output_type": "stream",
     "text": [
      "David has a Golf vehicle\n",
      "Malcolm has a Sealine vehicle\n"
     ]
    }
   ],
   "source": [
    "# Note that Malcolm now owns Dave's boat\n",
    "#\n",
    "s =[dvCar, dvBoat]  \n",
    "for c in s\n",
    "    who = c.owner.name\n",
    "    model = c.make\n",
    "    println(\"$who has a $model vehicle\")\n",
    "end"
   ]
  },
  {
   "cell_type": "code",
   "execution_count": 20,
   "metadata": {},
   "outputs": [
    {
     "name": "stdout",
     "output_type": "stream",
     "text": [
      "James owns these vehicles: \n",
      "....\tSeries 500\n",
      "....\tHarley\n",
      "....\tOceanis 44\n"
     ]
    }
   ],
   "source": [
    "println(\"James owns these vehicles: \")\n",
    "s = [jmCar, jmBike, jmBoat] \n",
    "for c in s\n",
    "    println(\"....\\t$(c.make)\")\n",
    "end"
   ]
  },
  {
   "cell_type": "code",
   "execution_count": 21,
   "metadata": {},
   "outputs": [],
   "source": [
    "# Make this mutable as I might change where I live\n",
    "#\n",
    "mutable struct Address\n",
    "  name::String\n",
    "  street::String\n",
    "  city::String\n",
    "  country::String\n",
    "  postcode::String\n",
    "end"
   ]
  },
  {
   "cell_type": "code",
   "execution_count": 22,
   "metadata": {},
   "outputs": [],
   "source": [
    "postal = Address(\"Malcolm Sherrington\",\"1 Main Street\", \"London\", \"UK\", \"WC2N 9ZZ\");"
   ]
  },
  {
   "cell_type": "code",
   "execution_count": 23,
   "metadata": {},
   "outputs": [
    {
     "data": {
      "text/plain": [
       "Union{Address, Contact}"
      ]
     },
     "execution_count": 23,
     "metadata": {},
     "output_type": "execute_result"
    }
   ],
   "source": [
    "const Owner = Union{Contact, Address}"
   ]
  },
  {
   "cell_type": "code",
   "execution_count": 24,
   "metadata": {},
   "outputs": [],
   "source": [
    "struct Skiff <: Boat\n",
    "   owner::Owner\n",
    "   make::String\n",
    "   length_m::Float64\n",
    "end\n"
   ]
  },
  {
   "cell_type": "code",
   "execution_count": 25,
   "metadata": {},
   "outputs": [
    {
     "data": {
      "text/plain": [
       "Skiff(Contact(\"Malcolm\", \"malcolm@abc.net\", \"07777555999\"), \"Moody 36\", 11.02)"
      ]
     },
     "execution_count": 25,
     "metadata": {},
     "output_type": "execute_result"
    }
   ],
   "source": [
    "y1 = Skiff(malcolm,\"Moody 36\", 11.02)"
   ]
  },
  {
   "cell_type": "code",
   "execution_count": 26,
   "metadata": {},
   "outputs": [
    {
     "data": {
      "text/plain": [
       "Skiff(Address(\"Malcolm Sherrington\", \"1 Main Street\", \"London\", \"UK\", \"WC2N 9ZZ\"), \"Dufour 44\", 13.47)"
      ]
     },
     "execution_count": 26,
     "metadata": {},
     "output_type": "execute_result"
    }
   ],
   "source": [
    "y2 = Skiff(postal,\"Dufour 44\", 13.47)"
   ]
  },
  {
   "cell_type": "code",
   "execution_count": 27,
   "metadata": {},
   "outputs": [],
   "source": [
    "@assert y1.length_m < y2.length_m"
   ]
  },
  {
   "cell_type": "markdown",
   "metadata": {},
   "source": [
    "---"
   ]
  },
  {
   "cell_type": "markdown",
   "metadata": {},
   "source": [
    "---\n",
    "\n",
    "### 3D vectors\n",
    "\n",
    "---"
   ]
  },
  {
   "cell_type": "code",
   "execution_count": 28,
   "metadata": {},
   "outputs": [
    {
     "data": {
      "text/plain": [
       "Main.V3D"
      ]
     },
     "execution_count": 28,
     "metadata": {},
     "output_type": "execute_result"
    }
   ],
   "source": [
    "# This module uses Float64 components but could use a parameterised type {T}\n",
    "#\n",
    "module V3D\n",
    "\n",
    "# import Base.+, Base.*, Base./, Base.==, Base.<, Base.>\n",
    "#\n",
    "import Base: +, *, /, ==, <, >, zero, one\n",
    "import LinearAlgebra: norm, dot\n",
    "\n",
    "export Vec3, norm, dist, zero, one\n",
    "\n",
    "struct Vec3\n",
    "    x::Float64\n",
    "    y::Float64\n",
    "    z::Float64\n",
    "end\n",
    "\n",
    "(+)(a::Vec3, b::Vec3) = Vec3(a.x+b.x, a.y+b.y, a.z+b.z)\n",
    "(*)(p::Vec3, s::Real) = Vec3(p.x*s, p.y*s, p.z*s)\n",
    "(*)(s::Real, p::Vec3) = p*s\n",
    "(/)(p::Vec3, s::Real) = (1.0/s)*p\n",
    "\n",
    "(==)(a::Vec3, b::Vec3) = (a.x==b.x)&&(a.y==b.y)&&(a.z==b.z) ? true : false;\n",
    "\n",
    "dot(a::Vec3, b::Vec3) = a.x*b.x + a.y*b.y + a.z*b.z;\n",
    "norm(a::Vec3) = sqrt(dot(a,a));\n",
    "\n",
    "zero(a::Vec3) = Vec3(0.0,0.0,0.0);\n",
    "one(a::Vec3)  = Vec3(1.0,1.0,1.0);\n",
    "\n",
    "(<)(a::Vec3, b::Vec3) = norm(a) < norm(b) ? true : false;\n",
    "(>)(a::Vec3, b::Vec3) = norm(a) > norm(b) ? true : false;\n",
    "\n",
    "dist(a::Vec3, b::Vec3) = sqrt((a.x-b.x)*(a.x-b.x) + (a.y-b.y)*(a.y-b.y) + (a.z-b.z)*(a.z-b.z))\n",
    "\n",
    "end"
   ]
  },
  {
   "cell_type": "code",
   "execution_count": 29,
   "metadata": {},
   "outputs": [
    {
     "name": "stdout",
     "output_type": "stream",
     "text": [
      "Distance between vectors is 1.559 \n"
     ]
    }
   ],
   "source": [
    "using Main.V3D\n",
    "using Printf\n",
    "\n",
    "v1 = Vec3(1.2,3.4,5.6);\n",
    "v2 = Vec3(2.1,4.3,6.5);\n",
    "@printf \"Distance between vectors is %.3f \\n\" dist(v1,v2)"
   ]
  },
  {
   "cell_type": "code",
   "execution_count": 30,
   "metadata": {},
   "outputs": [
    {
     "data": {
      "text/plain": [
       "1000×1000 Array{Vec3,2}:\n",
       " Vec3(0.329726, 0.827009, 0.987052)   …  Vec3(0.983236, 0.977154, 0.475714) \n",
       " Vec3(0.834576, 0.492874, 0.487436)      Vec3(0.906759, 0.45228, 0.970968)  \n",
       " Vec3(0.373724, 0.712094, 0.564007)      Vec3(0.08454, 0.970494, 0.180596)  \n",
       " Vec3(0.546068, 0.856788, 0.947615)      Vec3(0.203835, 0.836751, 0.171423) \n",
       " Vec3(0.30429, 0.789963, 0.136677)       Vec3(0.839233, 0.822886, 0.308092) \n",
       " Vec3(0.670098, 0.931434, 0.679397)   …  Vec3(0.151872, 0.762277, 0.258658) \n",
       " Vec3(0.686002, 0.972197, 0.583361)      Vec3(0.55273, 0.021291, 0.742191)  \n",
       " Vec3(0.222014, 0.513214, 0.415552)      Vec3(0.4655, 0.843148, 0.69735)    \n",
       " Vec3(0.349744, 0.306059, 0.161777)      Vec3(0.808637, 0.180557, 0.614316) \n",
       " Vec3(0.512669, 0.684472, 0.146259)      Vec3(0.454417, 0.544414, 0.722691) \n",
       " Vec3(0.8196, 0.692332, 0.360262)     …  Vec3(0.1536, 0.646303, 0.523763)   \n",
       " Vec3(0.0100476, 0.704757, 0.983053)     Vec3(0.155424, 0.905202, 0.604954) \n",
       " Vec3(0.0413745, 0.394388, 0.932473)     Vec3(0.940153, 0.801015, 0.0821499)\n",
       " ⋮                                    ⋱                                     \n",
       " Vec3(0.591302, 0.0201051, 0.888521)     Vec3(0.407608, 0.100218, 0.314595) \n",
       " Vec3(0.414215, 0.270036, 0.240214)      Vec3(0.442783, 0.423117, 0.837878) \n",
       " Vec3(0.923342, 0.363973, 0.230847)   …  Vec3(0.214486, 0.523581, 0.278093) \n",
       " Vec3(0.542973, 0.130347, 0.311467)      Vec3(0.103049, 0.956427, 0.920689) \n",
       " Vec3(0.387772, 0.322688, 0.739593)      Vec3(0.547405, 0.900221, 0.601343) \n",
       " Vec3(0.102114, 0.478248, 0.680215)      Vec3(0.632724, 0.37987, 0.693223)  \n",
       " Vec3(0.919508, 0.0394604, 0.872691)     Vec3(0.449356, 0.186009, 0.509164) \n",
       " Vec3(0.619627, 0.465668, 0.0226951)  …  Vec3(0.811792, 0.564948, 0.912396) \n",
       " Vec3(0.967514, 0.0795248, 0.423447)     Vec3(0.0738223, 0.23235, 0.648193) \n",
       " Vec3(0.69375, 0.197857, 0.448974)       Vec3(0.999811, 0.911731, 0.888592) \n",
       " Vec3(0.52799, 0.633294, 0.947413)       Vec3(0.251414, 0.859443, 0.528182) \n",
       " Vec3(0.810997, 0.157908, 0.994637)      Vec3(0.298521, 0.0326168, 0.685466)"
      ]
     },
     "execution_count": 30,
     "metadata": {},
     "output_type": "execute_result"
    }
   ],
   "source": [
    "vv = [Vec3(rand(),rand(),rand()) for i = 1:1000000];\n",
    "vs = reshape(vv,1000,1000)"
   ]
  },
  {
   "cell_type": "code",
   "execution_count": 41,
   "metadata": {},
   "outputs": [
    {
     "data": {
      "text/plain": [
       "1000-element Array{Complex{Float64},1}:\n",
       "    960.5944342388688 + 0.0im                \n",
       "   -8.452880216433888 + 2.7998641797613177im \n",
       "   -8.452880216433888 - 2.7998641797613177im \n",
       "   -5.879003610316429 + 6.450828456304457im  \n",
       "   -5.879003610316429 - 6.450828456304457im  \n",
       "   -6.125589956037343 + 6.1561133181741im    \n",
       "   -6.125589956037343 - 6.1561133181741im    \n",
       "   -7.823448275121651 + 4.066258182950929im  \n",
       "   -7.823448275121651 - 4.066258182950929im  \n",
       "   -8.643154604066687 + 0.9436576287143738im \n",
       "   -8.643154604066687 - 0.9436576287143738im \n",
       "   -8.417881648417145 + 2.172657319371074im  \n",
       "   -8.417881648417145 - 2.172657319371074im  \n",
       "                      ⋮                      \n",
       "   0.3157852659773927 - 0.7953344039849942im \n",
       "  -1.0050896440483494 + 0.0im                \n",
       "  -0.8566186659806354 + 0.36709175691730905im\n",
       "  -0.8566186659806354 - 0.36709175691730905im\n",
       "   0.5999703696457953 + 0.43550557282901536im\n",
       "   0.5999703696457953 - 0.43550557282901536im\n",
       "   0.8839950368360672 + 0.0im                \n",
       " -0.49390980918345095 + 0.0im                \n",
       " -0.24019428388569214 + 0.07373725563656347im\n",
       " -0.24019428388569214 - 0.07373725563656347im\n",
       "  0.20245896181705889 + 0.0im                \n",
       "  0.08936099597607325 + 0.0im                "
      ]
     },
     "execution_count": 41,
     "metadata": {},
     "output_type": "execute_result"
    }
   ],
   "source": [
    "using LinearAlgebra\n",
    "\n",
    "dv = map(v -> norm(v), vs)\n",
    "eigvals(dv)"
   ]
  },
  {
   "cell_type": "code",
   "execution_count": 40,
   "metadata": {},
   "outputs": [
    {
     "data": {
      "text/plain": [
       "1000×1000 Array{Complex{Float64},2}:\n",
       " -0.0315386+0.0im   0.00495974+0.0114375im    …   0.00709239+0.0im\n",
       "  -0.031393+0.0im   0.00252368+0.0155341im        0.00504143+0.0im\n",
       " -0.0315861+0.0im   -0.0294432-0.0520359im        -0.0137145+0.0im\n",
       "  -0.031885+0.0im   -0.0415497-0.049059im          0.0442914+0.0im\n",
       " -0.0315412+0.0im    0.0141975-0.0257485im         0.0528476+0.0im\n",
       " -0.0316107+0.0im    0.0291741+0.0533018im    …   0.00104803+0.0im\n",
       " -0.0318552+0.0im    0.0145642-0.0135261im        -0.0150183+0.0im\n",
       " -0.0320157+0.0im   0.00665442-0.00639123im       -0.0578708+0.0im\n",
       " -0.0319964+0.0im    0.0229303-0.0125962im        -0.0131945+0.0im\n",
       " -0.0323373+0.0im  0.000443073+0.0294077im        -0.0445502+0.0im\n",
       " -0.0316317+0.0im   0.00866448+0.00919052im   …   -0.0150446+0.0im\n",
       " -0.0316178+0.0im    0.0323809-0.0182003im        0.00849156+0.0im\n",
       " -0.0316665+0.0im    -0.068026+0.0114781im        -0.0638514+0.0im\n",
       "           ⋮                                  ⋱                   \n",
       " -0.0320119+0.0im    0.0168992-0.0046798im        -0.0537468+0.0im\n",
       " -0.0316516+0.0im   -0.0295659-0.0201331im        -0.0379651+0.0im\n",
       " -0.0318814+0.0im    0.0281707+0.0292831im    …    0.0211265+0.0im\n",
       " -0.0315017+0.0im    0.0285032+0.0267073im        -0.0530986+0.0im\n",
       " -0.0317422+0.0im   -0.0128429+0.00319401im       -0.0313772+0.0im\n",
       " -0.0314468+0.0im  0.000529623-0.0046766im        -0.0196984+0.0im\n",
       " -0.0311639+0.0im    0.0321732-0.0116828im        -0.0267913+0.0im\n",
       " -0.0316346+0.0im   0.00118658-0.0119441im    …    0.0361037+0.0im\n",
       " -0.0317052+0.0im   -0.0264198+0.0110047im       -0.00152742+0.0im\n",
       "  -0.031652+0.0im    0.0281178-0.016664im         -0.0189956+0.0im\n",
       " -0.0312181+0.0im   0.00582376-0.000456144im      -0.0483139+0.0im\n",
       " -0.0314502+0.0im    0.0062147+0.0213029im        -0.0452973+0.0im"
      ]
     },
     "execution_count": 40,
     "metadata": {},
     "output_type": "execute_result"
    }
   ],
   "source": [
    "eigvecs(dv)"
   ]
  },
  {
   "cell_type": "code",
   "execution_count": 33,
   "metadata": {},
   "outputs": [
    {
     "name": "stdout",
     "output_type": "stream",
     "text": [
      "Estimate of PI is   3.13989\n"
     ]
    }
   ],
   "source": [
    "k = 0\n",
    "for i in 1:length(vv)\n",
    "  if norm(vv[i]) < 1.0 \n",
    "    global k +=1 \n",
    "  end\n",
    "end\n",
    "@printf \"Estimate of PI is %9.5f\\n\" 6.0*k/length(vv)"
   ]
  },
  {
   "cell_type": "code",
   "execution_count": 42,
   "metadata": {},
   "outputs": [
    {
     "data": {
      "text/plain": [
       "Main.V3P"
      ]
     },
     "execution_count": 42,
     "metadata": {},
     "output_type": "execute_result"
    }
   ],
   "source": [
    "#\n",
    "# Defining the Vec3 parameterically and the rest of the module is unchanged\n",
    "# i.e.\n",
    "#\n",
    "# immutable Vec3P{T}\n",
    "#    x::T\n",
    "#    y::T\n",
    "#    z::T\n",
    "# end\n",
    "#\n",
    "module V3P\n",
    "#\n",
    "# import Base.+, Base.*, Base./, Base.norm, Base.==, Base.<, Base.>\n",
    "#\n",
    "import Base: +, *, /, ==, <, >\n",
    "import LinearAlgebra: norm, dot\n",
    "export Vec3P, norm, distp\n",
    "\n",
    "struct Vec3P{T}\n",
    "    x::T\n",
    "    y::T\n",
    "    z::T\n",
    "end\n",
    "\n",
    "(+)(a::Vec3P, b::Vec3P) = Vec3P(a.x+b.x, a.y+b.y, a.z+b.z)\n",
    "(*)(p::Vec3P, s::Real) = Vec3P(p.x*s, p.y*s, p.z*s)\n",
    "(*)(s::Real, p::Vec3P) = p*s\n",
    "(/)(p::Vec3P, s::Real) = (1.0/s)*p\n",
    "\n",
    "(==)(a::Vec3P, b::Vec3P) = (a.x==b.x)&&(a.y==b.y)&&(a.z==b.z) ? true : false;\n",
    "\n",
    "dot(a::Vec3P, b::Vec3P) = a.x*b.x + a.y*b.y + a.z*b.z;\n",
    "norm(a::Vec3P) = sqrt(dot(a,a));\n",
    "\n",
    "(<)(a::Vec3P, b::Vec3P) = norm(a) < norm(b) ? true : false;\n",
    "(>)(a::Vec3P, b::Vec3P) = norm(a) > norm(b) ? true : false;\n",
    "\n",
    "distp(a::Vec3P, b::Vec3P) = sqrt((a.x-b.x)*(a.x-b.x) + (a.y-b.y)*(a.y-b.y) + (a.z-b.z)*(a.z-b.z))\n",
    "\n",
    "end"
   ]
  },
  {
   "cell_type": "code",
   "execution_count": 43,
   "metadata": {},
   "outputs": [
    {
     "data": {
      "text/plain": [
       "Vec3P{Complex{Int64}}(4 + 0im, 6 + 0im, 8 + 0im)"
      ]
     },
     "execution_count": 43,
     "metadata": {},
     "output_type": "execute_result"
    }
   ],
   "source": [
    "using Main.V3P\n",
    "\n",
    "z1 = Vec3P{Complex}(1+2im,2+3im,3+4im);\n",
    "z2 = Vec3P{Complex}(3-2im,4-3im,5-4im);\n",
    "z1 + z2"
   ]
  },
  {
   "cell_type": "code",
   "execution_count": 44,
   "metadata": {},
   "outputs": [
    {
     "data": {
      "text/plain": [
       "10.770329614269007 + 0.0im"
      ]
     },
     "execution_count": 44,
     "metadata": {},
     "output_type": "execute_result"
    }
   ],
   "source": [
    "zn = norm(z1 + z2)        # => sqrt(116) but IS a complex number.\n",
    "@assert zn == sqrt(116)\n",
    "\n",
    "# Notice that the vaule is returned as a complex.\n",
    "zn"
   ]
  },
  {
   "cell_type": "code",
   "execution_count": 45,
   "metadata": {},
   "outputs": [
    {
     "data": {
      "text/plain": [
       "Vec3P{Rational{Int64}}(218//63, 62//15, 36//17)"
      ]
     },
     "execution_count": 45,
     "metadata": {},
     "output_type": "execute_result"
    }
   ],
   "source": [
    "r1 = Vec3P{Rational}(11//7,13//5,8//17)\n",
    "r2 = Vec3P{Rational}(17//9,23//15,28//17)\n",
    "r1 + r2"
   ]
  },
  {
   "cell_type": "code",
   "execution_count": 46,
   "metadata": {},
   "outputs": [
    {
     "data": {
      "text/plain": [
       "5.791603442602598"
      ]
     },
     "execution_count": 46,
     "metadata": {},
     "output_type": "execute_result"
    }
   ],
   "source": [
    "# Norm is promoted to a Real as it can not be represented as a Rational\n",
    "#\n",
    "norm(r1 + r2)"
   ]
  },
  {
   "cell_type": "markdown",
   "metadata": {},
   "source": [
    "---\n",
    "\n",
    "### It is possible to extend the above to an *nD* vector simply using static arrays.\n",
    "\n",
    "---"
   ]
  },
  {
   "cell_type": "code",
   "execution_count": 47,
   "metadata": {},
   "outputs": [
    {
     "data": {
      "text/plain": [
       "Main.VNX"
      ]
     },
     "execution_count": 47,
     "metadata": {},
     "output_type": "execute_result"
    }
   ],
   "source": [
    "module VNX\n",
    "using StaticArrays\n",
    "\n",
    "import Base: +, *, /, ==, <, >\n",
    "import LinearAlgebra: norm, dot\n",
    "export VecN, norm, distx\n",
    "\n",
    "struct VecN\n",
    "    sv::SVector;\n",
    "end\n",
    "\n",
    "sizeof(a::VecN) = length(a.sv)\n",
    "sOK(a::VecN, b::VecN) = \n",
    " (sizeof(a) == sizeof(b)) ? true : throw(BoundsError(\"Vector of different lengths\"));\n",
    "\n",
    "(+)(a::VecN, b::VecN) = [a.sv[i] + b.sv[i] for i in 1:sizeof(a) if sOK(a,b)]\n",
    "(*)(x::Real, a::VecN) = [a.sv[i]*x for i in 1:sizeof(a)]\n",
    "(*)(a::VecN, x::Real) = x*a\n",
    "(/)(a::VecN, x::Real) = [a.sv[i]/x for i in 1:sizeof(a)]\n",
    "\n",
    "(==)(a::VecN, b::VecN) = any([(a.sv[i] == b.sv[i]) for i in 1:sizeof(a) if sOK(a,b)])\n",
    "                            \n",
    "dot(a::VecN, b::VecN) = sum([a.sv[i]*b.sv[i] for i in 1:sizeof(a) if sOK(a,b)])\n",
    "norm(a::VecN) = sqrt(dot(a,a));\n",
    "\n",
    "(<)(a::VecN, b::VecN) = norm(a) < norm(b) ? true : false;\n",
    "(>)(a::VecN, b::VecN) = norm(a) > norm(b) ? true : false;                                            \n",
    "                                            \n",
    "distx(a::VecN, b::VecN) = sum(map(x -> x*x,[a.sv[i]-b.sv[i] for i in 1:sizeof(a) if sOK(a,b)]))\n",
    "\n",
    "end"
   ]
  },
  {
   "cell_type": "code",
   "execution_count": 48,
   "metadata": {},
   "outputs": [],
   "source": [
    "# Generate K 4-vectors\n",
    "#\n",
    "using Main.VNX, StaticArrays\n",
    "\n",
    "K = 10^5; \n",
    "vv = Array{VecN}(undef,K);\n",
    "\n",
    "for j = 1:K\n",
    "  vv[j] =  VecN(@SVector [rand() for i = 1:4])\n",
    "end"
   ]
  },
  {
   "cell_type": "code",
   "execution_count": 49,
   "metadata": {},
   "outputs": [],
   "source": [
    "# Sum up the vectors which lie within the 4-ball\n",
    "#\n",
    "s = 0;\n",
    "for j = 1:K \n",
    "  if (norm(vv[j]) < 1.0) s += 1 end\n",
    "end"
   ]
  },
  {
   "cell_type": "code",
   "execution_count": 50,
   "metadata": {},
   "outputs": [
    {
     "data": {
      "text/plain": [
       "3.142788570680503"
      ]
     },
     "execution_count": 50,
     "metadata": {},
     "output_type": "execute_result"
    }
   ],
   "source": [
    "# Volume of the unit 4-ball is 2*π*π\n",
    "# The count is 1/16th of the volume\n",
    "# \n",
    "mypi = sqrt(32*s/K)"
   ]
  },
  {
   "cell_type": "code",
   "execution_count": null,
   "metadata": {},
   "outputs": [],
   "source": []
  }
 ],
 "metadata": {
  "kernelspec": {
   "display_name": "Julia 1.0.3",
   "language": "julia",
   "name": "julia-1.0"
  },
  "language_info": {
   "file_extension": ".jl",
   "mimetype": "application/julia",
   "name": "julia",
   "version": "1.0.3"
  }
 },
 "nbformat": 4,
 "nbformat_minor": 2
}
