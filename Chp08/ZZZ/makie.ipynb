{
 "cells": [
  {
   "cell_type": "code",
   "execution_count": 5,
   "metadata": {},
   "outputs": [
    {
     "name": "stderr",
     "output_type": "stream",
     "text": [
      "  % Total    % Received % Xferd  Average Speed   Time    Time     Time  Current\n",
      "                                 Dload  Upload   Total   Spent    Left  Speed\n",
      "100 1475k  100 1475k    0     0   882k      0  0:00:01  0:00:01 --:--:--  882k\n",
      "┌ Info: Precompiling QuartzImageIO [dca85d43-d64c-5e67-8c65-017450d5d020]\n",
      "└ @ Base loading.jl:1192\n"
     ]
    }
   ],
   "source": [
    "using FileIO\n",
    "# helper\n",
    "function xy_data(x, y)\n",
    "    r = sqrt(x*x + y*y)\n",
    "    r == 0.0 ? 1f0 : (sin(r)/r)\n",
    "end\n",
    "r = collect(range(-2, stop=2, length=40))\n",
    "surf_func(i) = [Float32(xy_data(x*i, y*i)) for x = r, y = r]\n",
    "earth = load(download(\"https://svs.gsfc.nasa.gov/vis/a000000/a002900/a002915/bluemarble-2048.png\"));"
   ]
  },
  {
   "cell_type": "code",
   "execution_count": 7,
   "metadata": {},
   "outputs": [
    {
     "name": "stderr",
     "output_type": "stream",
     "text": [
      "┌ Info: Precompiling Makie [ee78f7c6-11fb-53f2-987a-cfe4a2b5a57a]\n",
      "└ @ Base loading.jl:1192\n"
     ]
    },
    {
     "ename": "ArgumentError",
     "evalue": "ArgumentError: Package GeometryTypes not found in current path:\n- Run `import Pkg; Pkg.add(\"GeometryTypes\")` to install the GeometryTypes package.\n",
     "output_type": "error",
     "traceback": [
      "ArgumentError: Package GeometryTypes not found in current path:\n- Run `import Pkg; Pkg.add(\"GeometryTypes\")` to install the GeometryTypes package.\n",
      "",
      "Stacktrace:",
      " [1] require(::Module, ::Symbol) at ./loading.jl:823",
      " [2] top-level scope at In[7]:1"
     ]
    }
   ],
   "source": [
    "#julia\n",
    "using Makie, GeometryTypes, Colors, Interact\n",
    "scene = Scene(resolution = (500, 500))\n",
    "large_sphere = HyperSphere(Point3f0(0), 1f0)\n",
    "positions = decompose(Point3f0, large_sphere)\n",
    "linepos = view(positions, rand(1:length(positions), 1000))\n",
    "lines(linepos, linewidth = 0.1, color = :black)\n",
    "scatter(positions, strokewidth = 0.02, strokecolor = :white, color = RGBA(0.9, 0.2, 0.4, 0.6))\n",
    "r = linspace(-1.5, 1.5, 5)\n",
    "axis(r, r, r)\n",
    "center!(scene)"
   ]
  },
  {
   "cell_type": "code",
   "execution_count": null,
   "metadata": {},
   "outputs": [],
   "source": [
    "using MakiE, GeometryTypes, Colors, Interact\n",
    "scene = Scene(resolution = (500, 500))\n",
    "large_sphere = HyperSphere(Point3f0(0), 1f0)\n",
    "positions = decompose(Point3f0, large_sphere)\n",
    "meshscatter(positions, color = RGBA(0.9, 0.2, 0.4, 1))\n",
    "scene"
   ]
  },
  {
   "cell_type": "code",
   "execution_count": null,
   "metadata": {},
   "outputs": [],
   "source": [
    "using MakiE, GeometryTypes, GLVisualize, GLWindow\n",
    "scene = Sscene = Scene(resolution = (500, 500))\n",
    "large_sphere = HyperSphere(Point3f0(0), 1f0)\n",
    "positions = decompose(Point3f0, large_sphere)\n",
    "meshscatter(positions, color = RGBA(0.9, 0.2, 0.4, 1))\n",
    "scenecene(resolution = (500, 500))\n",
    "N = 40\n",
    "surface(\n",
    "    r, r, surf_func(10),\n",
    "    color = GLVisualize.loadasset(\"doge.png\")\n",
    ")\n",
    "ar = linspace(-2.1, 2.1, 4)\n",
    "axis(ar, ar, ar)\n",
    "center!(scene)"
   ]
  },
  {
   "cell_type": "code",
   "execution_count": null,
   "metadata": {},
   "outputs": [],
   "source": [
    "using MakiE, GeometryTypes\n",
    "scene = Scene(resolution = (500, 500))\n",
    "x = GLVisualize.loadasset(\"cat.obj\")\n",
    "MakiE.mesh(x.vertices, x.faces, color = :black)\n",
    "pos = map(x.vertices, x.normals) do p, n\n",
    "    p => p .+ (normalize(n) .* 0.05f0)\n",
    "end\n",
    "linesegment(pos)\n",
    "center!(scene)"
   ]
  },
  {
   "cell_type": "code",
   "execution_count": null,
   "metadata": {},
   "outputs": [],
   "source": [
    "using MakiE\n",
    "scene = Scene(resolution = (500, 500))\n",
    "x = [0, 1, 2, 0]\n",
    "y = [0, 0, 1, 2]\n",
    "z = [0, 2, 0, 1]\n",
    "color = [:red, :green, :blue, :yellow]\n",
    "i = [0, 0, 0, 1]\n",
    "j = [1, 2, 3, 2]\n",
    "k = [2, 3, 1, 3]\n",
    "\n",
    "indices = [1, 2, 3, 1, 3, 4, 1, 4, 2, 2, 3, 4]\n",
    "m = mesh(x, y, z, indices, color = color)\n",
    "wireframe(m[:mesh], color = :black, linewidth = 2)\n",
    "r = linspace(-0.5, 2.5, 4)\n",
    "axis(r, r, r)\n",
    "center!(scene)"
   ]
  },
  {
   "cell_type": "code",
   "execution_count": null,
   "metadata": {},
   "outputs": [],
   "source": [
    "using MakiE, GeometryTypes, FileIO\n",
    "using GLVisualize: loadasset, assetpath\n",
    "scene = Scene(resolution = (500, 500))\n",
    "cat = load(assetpath(\"cat.obj\"), GLNormalUVMesh)\n",
    "mesh(cat, color = loadasset(\"diffusemap.tga\"))\n",
    "center!(scene)"
   ]
  },
  {
   "cell_type": "code",
   "execution_count": null,
   "metadata": {},
   "outputs": [],
   "source": [
    "using MakiE, GeometryTypes\n",
    "scene = Scene(resolution = (500, 500))\n",
    "MakiE.mesh(Sphere(Point3f0(0), 1f0))\n",
    "center!(scene)"
   ]
  },
  {
   "cell_type": "code",
   "execution_count": null,
   "metadata": {},
   "outputs": [],
   "source": [
    "using MakiE, GeometryTypes\n",
    "scene = Scene(resolution = (500, 500))\n",
    "wireframe(GLVisualize.loadasset(\"cat.obj\"))\n",
    "center!(scene)"
   ]
  },
  {
   "cell_type": "code",
   "execution_count": null,
   "metadata": {},
   "outputs": [],
   "source": [
    "using MakiE, GeometryTypes\n",
    "scene = Scene(resolution = (500, 500))\n",
    "wireframe(Sphere(Point3f0(0), 1f0))\n",
    "center!(scene)"
   ]
  },
  {
   "cell_type": "code",
   "execution_count": null,
   "metadata": {},
   "outputs": [],
   "source": [
    "using MakiE\n",
    "scene = Scene(resolution = (500, 500))\n",
    "heatmap(rand(32, 32))\n",
    "center!(scene)"
   ]
  },
  {
   "cell_type": "code",
   "execution_count": null,
   "metadata": {},
   "outputs": [],
   "source": [
    "using MakiE, GeometryTypes\n",
    "scene = Scene(resolution = (500, 500), color = :black)\n",
    "r = linspace(-10, 10, 512)\n",
    "z = ((x, y)-> sin(x) + cos(y)).(r, r')\n",
    "MakiE.contour(r, r, z, levels = 5, color = ColorBrewer.palette(\"RdYlBu\", 5))\n",
    "center!(scene)"
   ]
  },
  {
   "cell_type": "code",
   "execution_count": null,
   "metadata": {},
   "outputs": [],
   "source": [
    "using MakiE, FileIO, GeometryTypes, Colors\n",
    "scene = Scene(resolution = (500, 500), color = :black)\n",
    "image(earth)\n",
    "center!(scene)"
   ]
  },
  {
   "cell_type": "code",
   "execution_count": null,
   "metadata": {},
   "outputs": [],
   "source": [
    "using MakiE, FileIO, GeometryTypes, Colors\n",
    "scene = Scene(resolution = (500, 500), color = :black)\n",
    "m = GLNormalUVMesh(Sphere(Point3f0(0), 1f0), 60)\n",
    "MakiE.mesh(m, color = earth)\n",
    "stars = 100_000\n",
    "scatter((rand(Point3f0, stars) .- 0.5) .* 10,\n",
    "    glowwidth = 0.005, glow_color = :white, color = RGBA(0.8, 0.9, 0.95, 0.4),\n",
    "    markersize = rand(linspace(0.0001, 0.01, 100), stars)\n",
    ")\n",
    "scene"
   ]
  },
  {
   "cell_type": "code",
   "execution_count": null,
   "metadata": {},
   "outputs": [],
   "source": [
    "using MakiE\n",
    "scene = Scene(resolution = (500, 500))\n",
    "MakiE.volume(rand(32, 32, 32), algorithm = :iso)\n",
    "ar = linspace(-0.1, 1.1, 4)\n",
    "axis(ar, ar, ar)\n",
    "# center!(scene)\n",
    "scene"
   ]
  },
  {
   "cell_type": "code",
   "execution_count": null,
   "metadata": {
    "scrolled": true
   },
   "outputs": [],
   "source": [
    "using MakiE\n",
    "scene = Scene(resolution = (500, 500))\n",
    "lines(linspace(0, 3, 10), rand(10))\n",
    "lines(linspace(0, 3, 10), rand(10))\n",
    "center!(scene)"
   ]
  },
  {
   "cell_type": "code",
   "execution_count": null,
   "metadata": {},
   "outputs": [],
   "source": [
    "using MakiE, GeometryTypes, Colors\n",
    "scene = Scene(resolution = (500, 500))\n",
    "function xy_data(x, y)\n",
    "    r = sqrt(x*x + y*y)\n",
    "    r == 0.0 ? 1f0 : (sin(r)/r)\n",
    "end\n",
    "r = linspace(-2, 2, 40)\n",
    "surf_func(i) = [Float32(xy_data(x*i, y*i)) for x = r, y = r]\n",
    "z = surf_func(20)\n",
    "surf = surface(r, r, z)\n",
    "\n",
    "wf = wireframe(r, r, surf[:z] .+ 1.0,\n",
    "    linewidth = 2f0, color = lift_node(x-> x[5], surf[:colormap])\n",
    ")\n",
    "xy = linspace(-2.1, 2.1, 4)\n",
    "axis(xy, xy, linspace(0, 2, 4))\n",
    "center!(scene)\n",
    "io = VideoStream(scene)\n",
    "for i in linspace(0, 60, 100)\n",
    "    surf[:z] = surf_func(i)\n",
    "    recordframe!(io)\n",
    "end\n",
    "io"
   ]
  },
  {
   "cell_type": "code",
   "execution_count": null,
   "metadata": {},
   "outputs": [],
   "source": [
    "using MakiE, GeometryTypes, Colors\n",
    "\n",
    "scene = Scene(resolution = (500, 500))\n",
    "# this is just a work around that will be gone immediatly after I figure out how to best\n",
    "# insert default cameras into the scene\n",
    "r = linspace(0, 3, 4)\n",
    "a = axis(r, r)\n",
    "center!(scene, 0.2)\n",
    "\n",
    "pos = lift_node(getindex.(scene, (:mouseposition, :time, :camera))...) do mpos, t, cam\n",
    "    map(linspace(0, 2pi, 60)) do i\n",
    "        circle = Point2f0(sin(i), cos(i))\n",
    "        mouse = to_world(Point2f0(mpos), cam)\n",
    "        secondary = (sin((i * 10f0) + t) * 0.09) * normalize(circle)\n",
    "        (secondary .+ circle) .+ mouse\n",
    "    end\n",
    "end\n",
    "\n",
    "\n",
    "p1 = lines(pos)\n",
    "p2 = scatter(\n",
    "    pos, markersize = 0.1f0,\n",
    "    marker = :star5,\n",
    "    color = lift_node(x-> x .+ 0.2, p1[:color])\n",
    ")\n",
    "\n",
    "p1[:color] = RGBA(1, 0, 0, 0.1)\n",
    "p2[:marker] = 'π'\n",
    "p2[:markersize] = 0.2\n",
    "p2[:marker] = 'o'\n",
    "\n",
    "for i = linspace(0.01, 0.4, 100)\n",
    "    p2[:markersize] = i\n",
    "    yield()\n",
    "    sleep(0.01)\n",
    "end\n",
    "center!(scene)"
   ]
  }
 ],
 "metadata": {
  "kernelspec": {
   "display_name": "Julia 1.0.2",
   "language": "julia",
   "name": "julia-1.0"
  },
  "language_info": {
   "file_extension": ".jl",
   "mimetype": "application/julia",
   "name": "julia",
   "version": "1.0.2"
  }
 },
 "nbformat": 4,
 "nbformat_minor": 2
}
