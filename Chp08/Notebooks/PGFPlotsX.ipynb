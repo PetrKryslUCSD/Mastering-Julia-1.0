{
 "cells": [
  {
   "cell_type": "code",
   "execution_count": 4,
   "metadata": {
    "collapsed": true
   },
   "outputs": [],
   "source": [
    "using PGFPlotsX, TikzPictures"
   ]
  },
  {
   "cell_type": "code",
   "execution_count": 7,
   "metadata": {},
   "outputs": [
    {
     "data": {
      "text/plain": [
       "Plot(false, false, PGFPlotsX.Options(OrderedCollections.OrderedDict{Any,Any}(), false), Table(PGFPlotsX.Options(OrderedCollections.OrderedDict{Any,Any}(), false), TableData([0.0 0.0; 0.0634665 0.0634239; … ; 6.21972 -0.0634239; 6.28319 -2.44929e-16], nothing, Int64[], true)), Any[])"
      ]
     },
     "execution_count": 7,
     "metadata": {},
     "output_type": "execute_result"
    }
   ],
   "source": [
    "x = range(0; stop = 2*pi, length = 100)\n",
    "y = sin.(x)\n",
    "p = Plot(Table([x, y]))\n",
    "#save(\"test01a.pdf\", tp)"
   ]
  },
  {
   "cell_type": "code",
   "execution_count": 8,
   "metadata": {},
   "outputs": [
    {
     "data": {
      "text/plain": [
       "Process(`\u001b[4mopen\u001b[24m \u001b[4m/var/folders/ns/9qt1mg2j7ldgnp5b1qt0fszr0000gn/T/julia2XCdVq.pdf\u001b[24m`, ProcessRunning)"
      ]
     },
     "execution_count": 8,
     "metadata": {},
     "output_type": "execute_result"
    }
   ],
   "source": [
    "display(p)"
   ]
  },
  {
   "cell_type": "markdown",
   "metadata": {},
   "source": [
    "---"
   ]
  },
  {
   "cell_type": "code",
   "execution_count": 10,
   "metadata": {},
   "outputs": [],
   "source": [
    "x = range(-1; stop = 1, length = 20)\n",
    "z = @. 1 - √(abs2(x) + abs2(x'))\n",
    "z[z .≤ 0] .= -Inf;"
   ]
  },
  {
   "cell_type": "code",
   "execution_count": 11,
   "metadata": {},
   "outputs": [
    {
     "data": {
      "text/plain": [
       "Axis(PGFPlotsX.Options(OrderedCollections.OrderedDict{Any,Any}(\"colorbar\"=>nothing,\"colormap/jet\"=>nothing,\"unbounded coords\"=>\"jump\"), true), Any[Plot(true, false, Options(OrderedCollections.OrderedDict{Any,Any}(\"surf\"=>nothing,\"shader\"=>\"flat\"), true), Table(Options(OrderedCollections.OrderedDict{Any,Any}(), false), TableData([-1.0 -1.0 -Inf; -0.894737 -1.0 -Inf; … ; 0.894737 1.0 -Inf; 1.0 1.0 -Inf], [\"x\", \"y\", \"z\"], 20:20:400, true)), Any[])])"
      ]
     },
     "execution_count": 11,
     "metadata": {},
     "output_type": "execute_result"
    }
   ],
   "source": [
    "p = @pgf Axis(\n",
    "    {\n",
    "        colorbar,\n",
    "        \"colormap/jet\",\n",
    "        \"unbounded coords\" = \"jump\"\n",
    "    },\n",
    "    Plot3(\n",
    "        {\n",
    "            surf,\n",
    "            shader = \"flat\",\n",
    "        },\n",
    "        Table(x, x, z)\n",
    "    )\n",
    ")"
   ]
  },
  {
   "cell_type": "code",
   "execution_count": 12,
   "metadata": {},
   "outputs": [
    {
     "data": {
      "text/plain": [
       "Process(`\u001b[4mopen\u001b[24m \u001b[4m/var/folders/ns/9qt1mg2j7ldgnp5b1qt0fszr0000gn/T/juliaXFOOXJ.pdf\u001b[24m`, ProcessRunning)"
      ]
     },
     "execution_count": 12,
     "metadata": {},
     "output_type": "execute_result"
    }
   ],
   "source": [
    "display(p)"
   ]
  },
  {
   "cell_type": "markdown",
   "metadata": {},
   "source": [
    "---"
   ]
  },
  {
   "cell_type": "code",
   "execution_count": 13,
   "metadata": {},
   "outputs": [
    {
     "data": {
      "text/plain": [
       "Axis(PGFPlotsX.Options(OrderedCollections.OrderedDict{Any,Any}(\"xlabel\"=>L\"$x$\",\"ylabel\"=>L\"$f(x) = x^2 - x + 4$\"), true), Any[Plot(false, false, Options(OrderedCollections.OrderedDict{Any,Any}(), false), Expression([\"x^2 - x + 4\"]), Any[])])"
      ]
     },
     "execution_count": 13,
     "metadata": {},
     "output_type": "execute_result"
    }
   ],
   "source": [
    "using LaTeXStrings\n",
    "\n",
    "p = @pgf Axis(\n",
    "    {\n",
    "        xlabel = L\"x\",\n",
    "        ylabel = L\"f(x) = x^2 - x + 4\"\n",
    "    },\n",
    "    Plot(\n",
    "        Expression(\"x^2 - x + 4\")\n",
    "    )\n",
    ")"
   ]
  },
  {
   "cell_type": "code",
   "execution_count": 14,
   "metadata": {},
   "outputs": [
    {
     "data": {
      "text/plain": [
       "Process(`\u001b[4mopen\u001b[24m \u001b[4m/var/folders/ns/9qt1mg2j7ldgnp5b1qt0fszr0000gn/T/juliatcuijT.pdf\u001b[24m`, ProcessRunning)"
      ]
     },
     "execution_count": 14,
     "metadata": {},
     "output_type": "execute_result"
    }
   ],
   "source": [
    "display(p)"
   ]
  },
  {
   "cell_type": "code",
   "execution_count": null,
   "metadata": {
    "collapsed": true
   },
   "outputs": [],
   "source": []
  }
 ],
 "metadata": {
  "kernelspec": {
   "display_name": "Julia 1.0.2",
   "language": "julia",
   "name": "julia-1.0"
  },
  "language_info": {
   "file_extension": ".jl",
   "mimetype": "application/julia",
   "name": "julia",
   "version": "1.0.2"
  }
 },
 "nbformat": 4,
 "nbformat_minor": 2
}
