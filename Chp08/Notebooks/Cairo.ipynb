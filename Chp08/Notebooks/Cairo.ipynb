{
 "cells": [
  {
   "cell_type": "code",
   "execution_count": 1,
   "metadata": {
    "collapsed": true
   },
   "outputs": [],
   "source": [
    "using Cairo"
   ]
  },
  {
   "cell_type": "code",
   "execution_count": 2,
   "metadata": {
    "collapsed": true
   },
   "outputs": [],
   "source": [
    "c = CairoRGBSurface(256,256);\n",
    "cr = CairoContext(c);"
   ]
  },
  {
   "cell_type": "code",
   "execution_count": 3,
   "metadata": {
    "collapsed": true
   },
   "outputs": [],
   "source": [
    "save(cr);\n",
    "set_source_rgb(cr,0.8,0.8,0.8);    # light gray\n",
    "rectangle(cr,0.0,0.0,256.0,256.0); # background\n",
    "fill(cr);\n",
    "restore(cr);"
   ]
  },
  {
   "cell_type": "code",
   "execution_count": 4,
   "metadata": {
    "collapsed": true
   },
   "outputs": [],
   "source": [
    "save(cr);\n",
    "## original example, following here\n",
    "move_to(cr, 128.0, 25.6);\n",
    "line_to(cr, 230.4, 230.4);\n",
    "rel_line_to(cr, -102.4, 0.0);\n",
    "curve_to(cr, 51.2, 230.4, 51.2, 128.0, 128.0, 128.0);\n",
    "close_path(cr);"
   ]
  },
  {
   "cell_type": "code",
   "execution_count": 5,
   "metadata": {
    "collapsed": true
   },
   "outputs": [],
   "source": [
    "move_to(cr, 64.0, 25.6);\n",
    "rel_line_to(cr, 51.2, 51.2);\n",
    "rel_line_to(cr, -51.2, 51.2);\n",
    "rel_line_to(cr, -51.2, -51.2);\n",
    "close_path(cr);"
   ]
  },
  {
   "cell_type": "code",
   "execution_count": 6,
   "metadata": {
    "collapsed": true
   },
   "outputs": [],
   "source": [
    "set_line_width(cr, 10.0);\n",
    "set_source_rgb(cr, 0, 0, 1);\n",
    "fill_preserve(cr);\n",
    "set_source_rgb(cr, 0, 0, 0);\n",
    "stroke(cr);"
   ]
  },
  {
   "cell_type": "code",
   "execution_count": 7,
   "metadata": {
    "collapsed": true
   },
   "outputs": [],
   "source": [
    "## mark picture with current date\n",
    "restore(cr);\n",
    "move_to(cr,0.0,12.0);\n",
    "set_source_rgb(cr, 0,0,0);\n",
    "show_text(cr,Libc.strftime(time()));\n",
    "write_to_png(c,\"fill_stroke.png\");"
   ]
  },
  {
   "cell_type": "markdown",
   "metadata": {},
   "source": [
    "---"
   ]
  },
  {
   "cell_type": "code",
   "execution_count": 8,
   "metadata": {
    "collapsed": true
   },
   "outputs": [],
   "source": [
    "# c = CairoRGBSurface(256,256);\n",
    "cs = CairoContext(c);"
   ]
  },
  {
   "cell_type": "code",
   "execution_count": 9,
   "metadata": {
    "collapsed": true
   },
   "outputs": [],
   "source": [
    "save(cs);\n",
    "set_source_rgb(cs,0.8,0.8,0.8);    # light gray\n",
    "rectangle(cs,0.0,0.0,256.0,256.0); # background\n",
    "fill(cr);\n",
    "restore(cr);"
   ]
  },
  {
   "cell_type": "code",
   "execution_count": 10,
   "metadata": {
    "collapsed": true
   },
   "outputs": [],
   "source": [
    "save(cs);\n",
    "## original example, following here\n",
    "image = read_from_png(\"mulberry.png\");\n",
    "w = image.width; \n",
    "h = image.height;"
   ]
  },
  {
   "cell_type": "code",
   "execution_count": 11,
   "metadata": {
    "collapsed": true
   },
   "outputs": [],
   "source": [
    "translate(cs, 128.0, 128.0);\n",
    "rotate(cs, 45* pi/180);\n",
    "scale(cs, 256.0/w, 256.0/h);\n",
    "translate(cs, -0.5*w, -0.5*h);"
   ]
  },
  {
   "cell_type": "code",
   "execution_count": 12,
   "metadata": {
    "collapsed": true
   },
   "outputs": [],
   "source": [
    "set_source_surface(cs, image, 0, 0);\n",
    "paint(cs);\n",
    "#surface_destroy (image);"
   ]
  },
  {
   "cell_type": "code",
   "execution_count": 13,
   "metadata": {
    "collapsed": true
   },
   "outputs": [],
   "source": [
    "## mark picture with current date\n",
    "restore(cs);\n",
    "move_to(cs,0.0,12.0);\n",
    "set_source_rgb(cs, 0,0,0);\n",
    "show_text(cs,Libc.strftime(time()));\n",
    "write_to_png(c,\"mulberry2.png\");"
   ]
  },
  {
   "cell_type": "code",
   "execution_count": null,
   "metadata": {
    "collapsed": true
   },
   "outputs": [],
   "source": []
  }
 ],
 "metadata": {
  "kernelspec": {
   "display_name": "Julia 1.0.2",
   "language": "julia",
   "name": "julia-1.0"
  },
  "language_info": {
   "file_extension": ".jl",
   "mimetype": "application/julia",
   "name": "julia",
   "version": "1.0.2"
  }
 },
 "nbformat": 4,
 "nbformat_minor": 2
}
