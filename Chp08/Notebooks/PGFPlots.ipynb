{
 "cells": [
  {
   "cell_type": "code",
   "execution_count": 1,
   "metadata": {
    "collapsed": true
   },
   "outputs": [],
   "source": [
    "using PGFPlots, TikzPictures"
   ]
  },
  {
   "cell_type": "code",
   "execution_count": 2,
   "metadata": {},
   "outputs": [
    {
     "data": {
      "text/plain": [
       "PGFPlots.Plots.Linear(Real[0.0 0.2 … 9.8 10.0; 0.0 0.831125 … 4.06071 3.92811], \"none\", nothing, nothing, nothing, nothing, nothing)"
      ]
     },
     "metadata": {},
     "output_type": "display_data"
    }
   ],
   "source": [
    "p = Plots.Linear(x->sqrt(2*x) + sin(x), (0,10), xbins=51);"
   ]
  },
  {
   "cell_type": "code",
   "execution_count": 10,
   "metadata": {
    "collapsed": true
   },
   "outputs": [],
   "source": [
    "tp = plot(p)\n",
    "save(\"test01.pdf\", tp)\n",
    "\n",
    "# file:///Users/Malcolm/PacktPub/Chp08/NBs/test01.pdf"
   ]
  },
  {
   "cell_type": "markdown",
   "metadata": {},
   "source": [
    "---"
   ]
  },
  {
   "cell_type": "code",
   "execution_count": 4,
   "metadata": {
    "collapsed": true
   },
   "outputs": [],
   "source": [
    "using Random\n",
    "discretizations = \n",
    "           [:default, # use PGFPlots for small data sizes and :auto for large\n",
    "            :pgfplots, # use the PGFPlots histogram function (uses nbins, which defaults to 10)\n",
    "            :specified, # use Discretizers.jl but with the specified number of bins (which defaults to 10)\n",
    "            :auto, # max between :fd and :sturges. Good all-round performance\n",
    "            :fd, # Freedman Diaconis Estimator, robust\n",
    "            :sturges, # R's default method, only good for near-Gaussian data\n",
    "            :sqrt, # used by Excel and others for its simplicity and speed\n",
    "            :doane, # improves Sturges’ for non-normal datasets.\n",
    "            :scott, # less robust estimator that that takes into account data variability and data size.\n",
    "            ]\n",
    "\n",
    "Random.seed!(0)\n",
    "data = [randn(500).*1.8 .+ -5;\n",
    "        randn(2000).*0.8 .+ -4;\n",
    "        randn(500).*0.3 .+ -1;\n",
    "        randn(1000).*0.8 .+ 2;\n",
    "        randn(500).*1.5 .+ 4;\n",
    "       ]\n",
    "data = filter!(x->-15.0 <= x <= 15.0, data)\n",
    "\n",
    "g = GroupPlot(3, 3, groupStyle = \"horizontal sep = 1.75cm, vertical sep = 1.5cm\")\n",
    "for discretization in discretizations\n",
    "    push!(g, Axis(Plots.Histogram(data, discretization=discretization), ymin=0, title=string(discretization)))\n",
    "end"
   ]
  },
  {
   "cell_type": "code",
   "execution_count": 6,
   "metadata": {
    "collapsed": true
   },
   "outputs": [],
   "source": [
    "tg = plot(g)\n",
    "save(\"test02.pdf\", tg)\n",
    "\n",
    "# file:///Users/Malcolm/PacktPub/Chp08/NBs/test02.pdf"
   ]
  },
  {
   "cell_type": "markdown",
   "metadata": {},
   "source": [
    "![](test02.pdf)"
   ]
  },
  {
   "cell_type": "markdown",
   "metadata": {},
   "source": [
    "![](test02.pdf)"
   ]
  },
  {
   "cell_type": "markdown",
   "metadata": {},
   "source": [
    "![](file:///Users/Malcolm/PacktPub/Chp08/NBs/test02.pdf)"
   ]
  },
  {
   "cell_type": "markdown",
   "metadata": {},
   "source": [
    "<!-- file:///Users/Malcolm/PacktPub/Chp08/NBs/test02.pdf -->\n",
    "\n",
    "<object data=\"file:///Users/Malcolm/PacktPub/Chp08/NBs/test02.pdf\" \n",
    "         type=\"application/pdf\" width=\"700px\" height=\"700px\">\n",
    "    <embed src=\"file:///Users/Malcolm/PacktPub/Chp08/NBs/test02.pdf\">\n",
    "        <p>This browser does not support PDFs, look at the file on disk.</p>\n",
    "    </embed>\n",
    "</object>"
   ]
  },
  {
   "cell_type": "raw",
   "metadata": {},
   "source": []
  }
 ],
 "metadata": {
  "kernelspec": {
   "display_name": "Julia 1.0.2",
   "language": "julia",
   "name": "julia-1.0"
  },
  "language_info": {
   "file_extension": ".jl",
   "mimetype": "application/julia",
   "name": "julia",
   "version": "1.0.2"
  }
 },
 "nbformat": 4,
 "nbformat_minor": 2
}
