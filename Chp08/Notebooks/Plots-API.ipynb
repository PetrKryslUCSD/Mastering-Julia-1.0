{
 "cells": [
  {
   "cell_type": "markdown",
   "metadata": {},
   "source": [
    "# Plots API"
   ]
  },
  {
   "cell_type": "code",
   "execution_count": null,
   "metadata": {},
   "outputs": [],
   "source": [
    "using Plots"
   ]
  },
  {
   "cell_type": "code",
   "execution_count": null,
   "metadata": {},
   "outputs": [],
   "source": [
    "gr()   # Use GR as a backend; don't load it as it will cause name clashes"
   ]
  },
  {
   "cell_type": "code",
   "execution_count": null,
   "metadata": {},
   "outputs": [],
   "source": [
    "# 25 data points in 3 series\n",
    "xs = 0 : 2π/25 : 2π\n",
    "data = [sin.(xs) cos.(xs) 0.5.*xs.*sin.(xs).*cos.(xs)]\n",
    "\n",
    "# We put labels in a row vector: applies to each series\n",
    "# A few bridges over the Thames in London\n",
    "labels = [\"Lambeth\" \"Westminster\" \"Blackfriars\"]\n",
    "\n",
    "# Marker shapes in a column vector: applies to data points\n",
    "markershapes = [:diamond, :circle, :star5]\n",
    "\n",
    "# Marker colors in a matrix: applies to series and data points\n",
    "markercolors = [:orange :red :blue]\n",
    "\n",
    "p = plot(xs, data, label = labels, shape = markershapes, color = markercolors, markersize = 5)"
   ]
  },
  {
   "cell_type": "code",
   "execution_count": null,
   "metadata": {
    "collapsed": true
   },
   "outputs": [],
   "source": [
    "savefig(p,\"gr-curves\")\n"
   ]
  },
  {
   "cell_type": "markdown",
   "metadata": {
    "collapsed": true
   },
   "source": [
    "---\n",
    "\n",
    "## Layouts"
   ]
  },
  {
   "cell_type": "code",
   "execution_count": null,
   "metadata": {},
   "outputs": [],
   "source": [
    "yy = 2.0 * randn(100,3) \n",
    "plot(yy, layout = grid(3, 1, heights=[0.3,0.3,0.3]))"
   ]
  },
  {
   "cell_type": "markdown",
   "metadata": {},
   "source": [
    "---\n",
    "\n",
    "## Recipes"
   ]
  },
  {
   "cell_type": "code",
   "execution_count": null,
   "metadata": {
    "collapsed": true
   },
   "outputs": [],
   "source": [
    "mutable struct MyRecipe end"
   ]
  },
  {
   "cell_type": "code",
   "execution_count": null,
   "metadata": {
    "collapsed": true
   },
   "outputs": [],
   "source": [
    "@recipe function f(::MyRecipe, n::Integer = 10; add_marker = false)\n",
    "    linecolor   --> :blue\n",
    "    seriestype  :=  :path\n",
    "    markershape --> (add_marker ? :circle : :none)\n",
    "    delete!(plotattributes, :add_marker)\n",
    "    rand(n)\n",
    "end"
   ]
  },
  {
   "cell_type": "code",
   "execution_count": null,
   "metadata": {},
   "outputs": [],
   "source": [
    "mt = MyRecipe()\n",
    "plot(\n",
    "    plot(mt, 20, linecolor = :black),\n",
    "    plot(mt, 100, linecolor = :red),\n",
    "    plot(mt, marker = (:star5,5)),\n",
    "    plot(mt, add_marker = true)\n",
    ")"
   ]
  },
  {
   "cell_type": "markdown",
   "metadata": {},
   "source": [
    "---"
   ]
  },
  {
   "cell_type": "markdown",
   "metadata": {},
   "source": [
    "## StatPlots"
   ]
  },
  {
   "cell_type": "code",
   "execution_count": null,
   "metadata": {
    "collapsed": true
   },
   "outputs": [],
   "source": [
    "using StatsPlots, RDatasets, Query"
   ]
  },
  {
   "cell_type": "markdown",
   "metadata": {},
   "source": [
    "###  Schools Datasets"
   ]
  },
  {
   "cell_type": "code",
   "execution_count": null,
   "metadata": {},
   "outputs": [],
   "source": [
    "mlmf = dataset(\"mlmRev\",\"Gcsemv\");\n",
    "mlmf[1:5,:]\n",
    "describe(mlmf)"
   ]
  },
  {
   "cell_type": "code",
   "execution_count": null,
   "metadata": {
    "collapsed": true
   },
   "outputs": [],
   "source": [
    "wF = collect(skipmissing(mlmf[mlmf.Gender .== \"F\", :Written]));\n",
    "wM = collect(skipmissing(mlmf[mlmf.Gender .== \"M\", :Written]));\n",
    "cF = collect(skipmissing(mlmf[mlmf.Gender .== \"F\", :Course]));\n",
    "cM = collect(skipmissing(mlmf[mlmf.Gender .== \"M\", :Course]));"
   ]
  },
  {
   "cell_type": "code",
   "execution_count": null,
   "metadata": {},
   "outputs": [],
   "source": [
    "labs = [\"Exam (Girls)\", \"Exam (Boys)\", \"Course (Girls)\", \"Course (Boys)\"]\n",
    "@df mlmf density([wF, wM, cF, cM], labels=labs, legend = :topleft)"
   ]
  },
  {
   "cell_type": "markdown",
   "metadata": {},
   "source": [
    "### Iris Dataset"
   ]
  },
  {
   "cell_type": "code",
   "execution_count": null,
   "metadata": {},
   "outputs": [],
   "source": [
    "iris = RDatasets.dataset(\"datasets\", \"iris\")\n",
    "iris[1:6,:]"
   ]
  },
  {
   "cell_type": "code",
   "execution_count": null,
   "metadata": {
    "collapsed": true
   },
   "outputs": [],
   "source": [
    "## using Blink, Interact"
   ]
  },
  {
   "cell_type": "code",
   "execution_count": null,
   "metadata": {
    "collapsed": true
   },
   "outputs": [],
   "source": [
    "## w = Window()\n",
    "## body!(w, dataviewer(iris))"
   ]
  },
  {
   "cell_type": "code",
   "execution_count": null,
   "metadata": {},
   "outputs": [],
   "source": [
    "@df iris corrplot([:SepalLength :SepalWidth :PetalLength :PetalWidth], grid = false)"
   ]
  },
  {
   "cell_type": "code",
   "execution_count": null,
   "metadata": {},
   "outputs": [],
   "source": [
    "@df iris andrewsplot(:Species, cols(1:4), legend = :topleft)"
   ]
  },
  {
   "cell_type": "markdown",
   "metadata": {},
   "source": [
    "---\n",
    "\n",
    "## InspectDR"
   ]
  },
  {
   "cell_type": "code",
   "execution_count": 4,
   "metadata": {},
   "outputs": [],
   "source": [
    "# Change the backend to InspectDR\n",
    "using InspectDR, Colors"
   ]
  },
  {
   "cell_type": "code",
   "execution_count": 5,
   "metadata": {},
   "outputs": [],
   "source": [
    "black  = RGB24(0, 0, 0)\n",
    "gray50 = RGB24(.5, .5, .5)\n",
    "x=collect(-10:0.1:10)\n",
    "\n",
    "titles = [\"Linear\", \"Quadratic\", \"Cubic\", \"Quartic\"]\n",
    "linetypes = []\n",
    "\n",
    "for lstyle in [:solid, :dash, :dot, :dashdot]\n",
    "   push!(linetypes, line(color=black, width=3, style=lstyle))\n",
    "   push!(linetypes, line(color=gray50, width=3, style=lstyle))\n",
    "end\n",
    "\n",
    "mplot = InspectDR.Multiplot(title=\"Powers of X\")\n",
    "mplot.layout[:ncolumns] = 2\n",
    "\n",
    "xlabel = \"X-Axis (X-Unit)\"\n",
    "ylabel = \"Y-Axis (Y-Unit)\"\n",
    "plotlist = InspectDR.Plot\n",
    "\n",
    "for i in 1:4\n",
    "   plot = add(mplot, InspectDR.Plot2D) #Generate empty plot\n",
    "   plot.layout[:enable_legend] = true\n",
    "   plot.layout[:halloc_legend] = 80\n",
    "   a = plot.annotation\n",
    "   a.xlabel = xlabel\n",
    "   a.ylabels = [ylabel]\n",
    "   a.title = titles[i]\n",
    "\n",
    "   for scalei in 1:8\n",
    "###   id = \"$scalei(x/10)^$i\"\n",
    "      id = \"ref×$scalei\"\n",
    "      wfrm = add(plot, x, scalei*((x/10).^i), id=id)\n",
    "      wfrm.line = linetypes[scalei]\n",
    "   end\n",
    "end\n"
   ]
  },
  {
   "cell_type": "code",
   "execution_count": 6,
   "metadata": {},
   "outputs": [],
   "source": [
    "InspectDR.write_png(\"export.png\", mplot)"
   ]
  },
  {
   "cell_type": "code",
   "execution_count": 1,
   "metadata": {},
   "outputs": [],
   "source": [
    "# display(InspectDR.GtkDisplay(), mplot) \n",
    "# This will not work in a notebook, so display it using Markdown"
   ]
  },
  {
   "cell_type": "markdown",
   "metadata": {},
   "source": [
    "![](export.png)"
   ]
  },
  {
   "cell_type": "code",
   "execution_count": null,
   "metadata": {
    "collapsed": true
   },
   "outputs": [],
   "source": []
  }
 ],
 "metadata": {
  "kernelspec": {
   "display_name": "Julia 1.0.2",
   "language": "julia",
   "name": "julia-1.0"
  },
  "language_info": {
   "file_extension": ".jl",
   "mimetype": "application/julia",
   "name": "julia",
   "version": "1.0.2"
  }
 },
 "nbformat": 4,
 "nbformat_minor": 2
}
